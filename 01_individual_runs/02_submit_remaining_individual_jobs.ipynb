{
 "cells": [
  {
   "cell_type": "markdown",
   "id": "80a8cf45",
   "metadata": {},
   "source": [
    "<a id='home'></a>\n",
    "### purpose \n",
    "\n",
    "check on currently submitted jobs for genotype runs and resubmit any jobs that failed\n",
    "\n",
    "### outline\n",
    "\n",
    "1. [get data directories](#get)\n",
    "\n",
    "1. [get the seffs for job usage](#seffs)\n",
    "\n",
    "    get the job usage reports from the slurm seff command\n",
    "\n",
    "1. [plot memory requirements](#mem)\n",
    "\n",
    "1. [update mem and time requests for failed jobs](#update)\n",
    "\n",
    "1. [look at status and resource use of submitted fitting jobs](#fit)\n",
    "\n",
    "1. [see which datasets did not complete](#comp)"
   ]
  },
  {
   "cell_type": "code",
   "execution_count": 1,
   "id": "580bf218",
   "metadata": {},
   "outputs": [
    {
     "name": "stdout",
     "output_type": "stream",
     "text": [
      "36 36\n",
      "##################################################################\n",
      "Today:\tMarch 11, 2024 - 09:22:58 EDT\n",
      "python version: 3.8.5\n",
      "conda env: mvp_env\n",
      "\n",
      "Current commit of pythonimports:\n",
      "\u001b[33mcommit 6a767410e7b569adbf9df526de108f22ef50aad8\u001b[m  \n",
      "Author: Brandon Lind <lind.brandon.m@gmail.com>  \n",
      "Date:   Wed Mar 6 13:42:13 2024 -0700\n",
      "##################################################################\n",
      "\n"
     ]
    }
   ],
   "source": [
    "from pythonimports import *\n",
    "\n",
    "import runtime_API as rt\n",
    "\n",
    "lview, dview = get_client(cluster_id='1710163341-95wp', profile='lotterhos')\n",
    "\n",
    "outerdir = '/work/lotterhos/brandon/ind_runtimes'\n",
    "\n",
    "latest_commit()"
   ]
  },
  {
   "cell_type": "markdown",
   "id": "12207194",
   "metadata": {},
   "source": [
    "<a id='get'></a>\n",
    "# get data directories\n",
    "\n",
    "[top](#home)"
   ]
  },
  {
   "cell_type": "code",
   "execution_count": 2,
   "id": "ba2b294b",
   "metadata": {},
   "outputs": [
    {
     "data": {
      "text/plain": [
       "{'run_20220919_0-225': ['/work/lotterhos/brandon/ind_runtimes/run_20220919_0-225/00500',\n",
       "  '/work/lotterhos/brandon/ind_runtimes/run_20220919_0-225/05000',\n",
       "  '/work/lotterhos/brandon/ind_runtimes/run_20220919_0-225/10000',\n",
       "  '/work/lotterhos/brandon/ind_runtimes/run_20220919_0-225/20000'],\n",
       " 'run_20220919_225-450': ['/work/lotterhos/brandon/ind_runtimes/run_20220919_225-450/00500',\n",
       "  '/work/lotterhos/brandon/ind_runtimes/run_20220919_225-450/05000',\n",
       "  '/work/lotterhos/brandon/ind_runtimes/run_20220919_225-450/10000',\n",
       "  '/work/lotterhos/brandon/ind_runtimes/run_20220919_225-450/20000'],\n",
       " 'run_20220919_450-675': ['/work/lotterhos/brandon/ind_runtimes/run_20220919_450-675/00500',\n",
       "  '/work/lotterhos/brandon/ind_runtimes/run_20220919_450-675/05000',\n",
       "  '/work/lotterhos/brandon/ind_runtimes/run_20220919_450-675/10000',\n",
       "  '/work/lotterhos/brandon/ind_runtimes/run_20220919_450-675/20000']}"
      ]
     },
     "execution_count": 2,
     "metadata": {},
     "output_type": "execute_result"
    }
   ],
   "source": [
    "ind_dirs = rt.dirs['ind']\n",
    "\n",
    "ind_dirs"
   ]
  },
  {
   "cell_type": "markdown",
   "id": "e7820f70",
   "metadata": {},
   "source": [
    "<a id='seffs'></a>\n",
    "# get the seffs for job usage\n",
    "\n",
    "get the job usage reports from the slurm seff command\n",
    "\n",
    "some 20k loci jobs failed because of mem (>250GB) and time (>1 day), I won't resubmit these\n",
    "\n",
    "[top](#home)"
   ]
  },
  {
   "cell_type": "code",
   "execution_count": 3,
   "id": "7b2c2ede",
   "metadata": {
    "scrolled": true
   },
   "outputs": [
    {
     "name": "stdout",
     "output_type": "stream",
     "text": [
      "\u001b[1m\n",
      "Watching 227 parallel Seffs jobs ...\u001b[0m\n"
     ]
    },
    {
     "name": "stderr",
     "output_type": "stream",
     "text": [
      "requesting seffs: 100%|███████████████| 227/227 [00:07<00:00, 29.21it/s]\n",
      "retrieving seffs: 100%|███████████████| 227/227 [00:01<00:00, 126.36it/s]\n",
      "/home/b.lind/pythonimports/myslurm.py:560: UserWarning: There are multiple shfiles associated with outfiles. len=227 luni=225\n",
      "  warnings.warn(text)\n"
     ]
    },
    {
     "name": "stdout",
     "output_type": "stream",
     "text": [
      "run_20220919_0-225 00500 225 \n",
      " Counter({'State: COMPLETED (exit code 0)': 225}) \n",
      "\n",
      "\n",
      "\u001b[1m\n",
      "Watching 227 parallel Seffs jobs ...\u001b[0m\n"
     ]
    },
    {
     "name": "stderr",
     "output_type": "stream",
     "text": [
      "requesting seffs: 100%|███████████████| 227/227 [00:01<00:00, 131.12it/s] \n",
      "retrieving seffs: 100%|███████████████| 227/227 [00:01<00:00, 122.96it/s]\n"
     ]
    },
    {
     "name": "stdout",
     "output_type": "stream",
     "text": [
      "run_20220919_0-225 05000 225 \n",
      " Counter({'State: COMPLETED (exit code 0)': 225}) \n",
      "\n",
      "\n",
      "\u001b[1m\n",
      "Watching 244 parallel Seffs jobs ...\u001b[0m\n"
     ]
    },
    {
     "name": "stderr",
     "output_type": "stream",
     "text": [
      "requesting seffs: 100%|███████████████| 244/244 [00:01<00:00, 196.07it/s] \n",
      "retrieving seffs: 100%|███████████████| 244/244 [00:01<00:00, 135.57it/s]\n",
      "/home/b.lind/pythonimports/myslurm.py:560: UserWarning: There are multiple shfiles associated with outfiles. len=244 luni=225\n",
      "  warnings.warn(text)\n"
     ]
    },
    {
     "name": "stdout",
     "output_type": "stream",
     "text": [
      "run_20220919_0-225 10000 225 \n",
      " Counter({'State: COMPLETED (exit code 0)': 225}) \n",
      "\n",
      "\n",
      "\u001b[1m\n",
      "Watching 345 parallel Seffs jobs ...\u001b[0m\n"
     ]
    },
    {
     "name": "stderr",
     "output_type": "stream",
     "text": [
      "requesting seffs: 100%|███████████████| 345/345 [00:03<00:00, 99.23it/s]  \n",
      "retrieving seffs: 100%|███████████████| 345/345 [00:02<00:00, 125.74it/s]\n",
      "/home/b.lind/pythonimports/myslurm.py:560: UserWarning: There are multiple shfiles associated with outfiles. len=345 luni=225\n",
      "  warnings.warn(text)\n"
     ]
    },
    {
     "name": "stdout",
     "output_type": "stream",
     "text": [
      "run_20220919_0-225 20000 225 \n",
      " Counter({'State: COMPLETED (exit code 0)': 121, 'State: FAILED (exit code 137)': 91, 'State: FAILED (exit code 1)': 7, 'State: TIMEOUT (exit code 0)': 6}) \n",
      "\n",
      "\n",
      "\u001b[1m\n",
      "Watching 225 parallel Seffs jobs ...\u001b[0m\n"
     ]
    },
    {
     "name": "stderr",
     "output_type": "stream",
     "text": [
      "requesting seffs: 100%|███████████████| 225/225 [00:01<00:00, 168.55it/s] \n",
      "retrieving seffs: 100%|███████████████| 225/225 [00:01<00:00, 134.93it/s]\n"
     ]
    },
    {
     "name": "stdout",
     "output_type": "stream",
     "text": [
      "run_20220919_225-450 00500 225 \n",
      " Counter({'State: COMPLETED (exit code 0)': 225}) \n",
      "\n",
      "\n",
      "\u001b[1m\n",
      "Watching 282 parallel Seffs jobs ...\u001b[0m\n"
     ]
    },
    {
     "name": "stderr",
     "output_type": "stream",
     "text": [
      "requesting seffs: 100%|███████████████| 282/282 [00:02<00:00, 116.52it/s] \n",
      "retrieving seffs: 100%|███████████████| 282/282 [00:02<00:00, 133.99it/s]\n",
      "/home/b.lind/pythonimports/myslurm.py:560: UserWarning: There are multiple shfiles associated with outfiles. len=282 luni=225\n",
      "  warnings.warn(text)\n"
     ]
    },
    {
     "name": "stdout",
     "output_type": "stream",
     "text": [
      "run_20220919_225-450 05000 225 \n",
      " Counter({'State: COMPLETED (exit code 0)': 225}) \n",
      "\n",
      "\n",
      "\u001b[1m\n",
      "Watching 281 parallel Seffs jobs ...\u001b[0m\n"
     ]
    },
    {
     "name": "stderr",
     "output_type": "stream",
     "text": [
      "requesting seffs: 100%|███████████████| 281/281 [00:02<00:00, 107.64it/s] \n",
      "retrieving seffs: 100%|███████████████| 281/281 [00:02<00:00, 130.01it/s]\n",
      "/home/b.lind/pythonimports/myslurm.py:560: UserWarning: There are multiple shfiles associated with outfiles. len=281 luni=225\n",
      "  warnings.warn(text)\n"
     ]
    },
    {
     "name": "stdout",
     "output_type": "stream",
     "text": [
      "run_20220919_225-450 10000 225 \n",
      " Counter({'State: COMPLETED (exit code 0)': 225}) \n",
      "\n",
      "\n",
      "\u001b[1m\n",
      "Watching 239 parallel Seffs jobs ...\u001b[0m\n"
     ]
    },
    {
     "name": "stderr",
     "output_type": "stream",
     "text": [
      "requesting seffs: 100%|███████████████| 239/239 [00:01<00:00, 143.51it/s] \n",
      "retrieving seffs: 100%|███████████████| 239/239 [00:01<00:00, 136.19it/s]\n",
      "/home/b.lind/pythonimports/myslurm.py:560: UserWarning: There are multiple shfiles associated with outfiles. len=239 luni=225\n",
      "  warnings.warn(text)\n"
     ]
    },
    {
     "name": "stdout",
     "output_type": "stream",
     "text": [
      "run_20220919_225-450 20000 225 \n",
      " Counter({'State: COMPLETED (exit code 0)': 113, 'State: FAILED (exit code 137)': 99, 'State: FAILED (exit code 1)': 8, 'State: TIMEOUT (exit code 0)': 5}) \n",
      "\n",
      "\n",
      "\u001b[1m\n",
      "Watching 225 parallel Seffs jobs ...\u001b[0m\n"
     ]
    },
    {
     "name": "stderr",
     "output_type": "stream",
     "text": [
      "requesting seffs: 100%|███████████████| 225/225 [00:01<00:00, 160.33it/s] \n",
      "retrieving seffs: 100%|███████████████| 225/225 [00:01<00:00, 137.44it/s]\n"
     ]
    },
    {
     "name": "stdout",
     "output_type": "stream",
     "text": [
      "run_20220919_450-675 00500 225 \n",
      " Counter({'State: COMPLETED (exit code 0)': 225}) \n",
      "\n",
      "\n",
      "\u001b[1m\n",
      "Watching 264 parallel Seffs jobs ...\u001b[0m\n"
     ]
    },
    {
     "name": "stderr",
     "output_type": "stream",
     "text": [
      "requesting seffs: 100%|███████████████| 264/264 [00:02<00:00, 125.65it/s] \n",
      "retrieving seffs: 100%|███████████████| 264/264 [00:02<00:00, 126.09it/s]\n",
      "/home/b.lind/pythonimports/myslurm.py:560: UserWarning: There are multiple shfiles associated with outfiles. len=264 luni=225\n",
      "  warnings.warn(text)\n"
     ]
    },
    {
     "name": "stdout",
     "output_type": "stream",
     "text": [
      "run_20220919_450-675 05000 225 \n",
      " Counter({'State: COMPLETED (exit code 0)': 225}) \n",
      "\n",
      "\n",
      "\u001b[1m\n",
      "Watching 330 parallel Seffs jobs ...\u001b[0m\n"
     ]
    },
    {
     "name": "stderr",
     "output_type": "stream",
     "text": [
      "requesting seffs: 100%|███████████████| 330/330 [00:02<00:00, 114.47it/s] \n",
      "retrieving seffs: 100%|███████████████| 330/330 [00:02<00:00, 122.38it/s]\n",
      "/home/b.lind/pythonimports/myslurm.py:560: UserWarning: There are multiple shfiles associated with outfiles. len=330 luni=225\n",
      "  warnings.warn(text)\n"
     ]
    },
    {
     "name": "stdout",
     "output_type": "stream",
     "text": [
      "run_20220919_450-675 10000 225 \n",
      " Counter({'State: COMPLETED (exit code 0)': 225}) \n",
      "\n",
      "\n",
      "\u001b[1m\n",
      "Watching 234 parallel Seffs jobs ...\u001b[0m\n"
     ]
    },
    {
     "name": "stderr",
     "output_type": "stream",
     "text": [
      "requesting seffs: 100%|███████████████| 234/234 [00:01<00:00, 150.35it/s] \n",
      "retrieving seffs: 100%|███████████████| 234/234 [00:01<00:00, 137.44it/s]\n",
      "/home/b.lind/pythonimports/myslurm.py:560: UserWarning: There are multiple shfiles associated with outfiles. len=234 luni=225\n",
      "  warnings.warn(text)\n"
     ]
    },
    {
     "name": "stdout",
     "output_type": "stream",
     "text": [
      "run_20220919_450-675 20000 225 \n",
      " Counter({'State: COMPLETED (exit code 0)': 109, 'State: FAILED (exit code 137)': 106, 'State: FAILED (exit code 1)': 6, 'State: TIMEOUT (exit code 0)': 4}) \n",
      "\n",
      "\n"
     ]
    }
   ],
   "source": [
    "# training seffs\n",
    "seffs = defaultdict(dict)\n",
    "for rep, dirs in ind_dirs.items():\n",
    "    \n",
    "    for d in dirs:\n",
    "        num_loci = d.split(\"/\")[6]\n",
    "\n",
    "        training_dir = f'{d}/gradient_forests/training/training_shfiles'\n",
    "        outs = fs(training_dir, endswith='.out')\n",
    "        \n",
    "        if len(outs) == 0:\n",
    "            continue            \n",
    "        \n",
    "        seffs[rep][num_loci] = Seffs.parallel(lview, outs=outs).most_recent()\n",
    "        \n",
    "        print(\n",
    "            rep, num_loci, len(seffs[rep][num_loci]), '\\n',\n",
    "            seffs[rep][num_loci].states.counter(), '\\n\\n'\n",
    "        )"
   ]
  },
  {
   "cell_type": "code",
   "execution_count": null,
   "id": "085cf28d",
   "metadata": {},
   "outputs": [],
   "source": []
  },
  {
   "cell_type": "code",
   "execution_count": null,
   "id": "dadd2bd4",
   "metadata": {},
   "outputs": [],
   "source": []
  },
  {
   "cell_type": "markdown",
   "id": "e70d8f04",
   "metadata": {},
   "source": [
    "<a id='mem'></a>\n",
    "### plot memory requirements\n",
    "\n",
    "[top](#home)"
   ]
  },
  {
   "cell_type": "code",
   "execution_count": 4,
   "id": "a34d985b",
   "metadata": {
    "scrolled": true
   },
   "outputs": [
    {
     "data": {
      "image/png": "[encoded data removed]",
      "text/plain": [
       "<Figure size 432x288 with 2 Axes>"
      ]
     },
     "metadata": {
      "needs_background": "light"
     },
     "output_type": "display_data"
    },
    {
     "name": "stdout",
     "output_type": "stream",
     "text": [
      "225\n"
     ]
    },
    {
     "data": {
      "image/png": "[encoded data removed]",
      "text/plain": [
       "<Figure size 432x288 with 2 Axes>"
      ]
     },
     "metadata": {
      "needs_background": "light"
     },
     "output_type": "display_data"
    },
    {
     "name": "stdout",
     "output_type": "stream",
     "text": [
      "225\n"
     ]
    },
    {
     "data": {
      "image/png": "[encoded data removed]",
      "text/plain": [
       "<Figure size 432x288 with 2 Axes>"
      ]
     },
     "metadata": {
      "needs_background": "light"
     },
     "output_type": "display_data"
    },
    {
     "name": "stdout",
     "output_type": "stream",
     "text": [
      "225\n"
     ]
    },
    {
     "data": {
      "image/png": "[encoded data removed]",
      "text/plain": [
       "<Figure size 432x288 with 2 Axes>"
      ]
     },
     "metadata": {
      "needs_background": "light"
     },
     "output_type": "display_data"
    },
    {
     "name": "stdout",
     "output_type": "stream",
     "text": [
      "205\n"
     ]
    },
    {
     "data": {
      "image/png": "[encoded data removed]",
      "text/plain": [
       "<Figure size 432x288 with 2 Axes>"
      ]
     },
     "metadata": {
      "needs_background": "light"
     },
     "output_type": "display_data"
    },
    {
     "name": "stdout",
     "output_type": "stream",
     "text": [
      "225\n"
     ]
    },
    {
     "data": {
      "image/png": "[encoded data removed]",
      "text/plain": [
       "<Figure size 432x288 with 2 Axes>"
      ]
     },
     "metadata": {
      "needs_background": "light"
     },
     "output_type": "display_data"
    },
    {
     "name": "stdout",
     "output_type": "stream",
     "text": [
      "225\n"
     ]
    },
    {
     "data": {
      "image/png": "[encoded data removed]",
      "text/plain": [
       "<Figure size 432x288 with 2 Axes>"
      ]
     },
     "metadata": {
      "needs_background": "light"
     },
     "output_type": "display_data"
    },
    {
     "name": "stdout",
     "output_type": "stream",
     "text": [
      "225\n"
     ]
    },
    {
     "data": {
      "image/png": "[encoded data removed]",
      "text/plain": [
       "<Figure size 432x288 with 2 Axes>"
      ]
     },
     "metadata": {
      "needs_background": "light"
     },
     "output_type": "display_data"
    },
    {
     "name": "stdout",
     "output_type": "stream",
     "text": [
      "216\n"
     ]
    },
    {
     "data": {
      "image/png": "[encoded data removed]",
      "text/plain": [
       "<Figure size 432x288 with 2 Axes>"
      ]
     },
     "metadata": {
      "needs_background": "light"
     },
     "output_type": "display_data"
    },
    {
     "name": "stdout",
     "output_type": "stream",
     "text": [
      "225\n"
     ]
    },
    {
     "data": {
      "image/png": "[encoded data removed]",
      "text/plain": [
       "<Figure size 432x288 with 2 Axes>"
      ]
     },
     "metadata": {
      "needs_background": "light"
     },
     "output_type": "display_data"
    },
    {
     "name": "stdout",
     "output_type": "stream",
     "text": [
      "225\n"
     ]
    },
    {
     "data": {
      "image/png": "[encoded data removed]",
      "text/plain": [
       "<Figure size 432x288 with 2 Axes>"
      ]
     },
     "metadata": {
      "needs_background": "light"
     },
     "output_type": "display_data"
    },
    {
     "name": "stdout",
     "output_type": "stream",
     "text": [
      "225\n"
     ]
    },
    {
     "data": {
      "image/png": "[encoded data removed]",
      "text/plain": [
       "<Figure size 432x288 with 2 Axes>"
      ]
     },
     "metadata": {
      "needs_background": "light"
     },
     "output_type": "display_data"
    },
    {
     "name": "stdout",
     "output_type": "stream",
     "text": [
      "220\n"
     ]
    }
   ],
   "source": [
    "for (rep, numloci), repseffs in unwrap_dictionary(seffs):\n",
    "    repseffs.plot_mems()\n",
    "    print(sum(repseffs.mems < 250000))"
   ]
  },
  {
   "cell_type": "code",
   "execution_count": null,
   "id": "8f058a0d",
   "metadata": {},
   "outputs": [],
   "source": []
  },
  {
   "cell_type": "code",
   "execution_count": null,
   "id": "d3a1adf1",
   "metadata": {},
   "outputs": [],
   "source": []
  },
  {
   "cell_type": "code",
   "execution_count": 5,
   "id": "858c4df3",
   "metadata": {
    "scrolled": true
   },
   "outputs": [
    {
     "name": "stdout",
     "output_type": "stream",
     "text": [
      "\u001b[1m\n",
      "run_20220919_0-225 20000\u001b[0m\n",
      "40889397 Memory Efficiency: 99.56% of 244.14 GB\n",
      "40889398 Memory Efficiency: 99.58% of 244.14 GB\n",
      "40889399 Memory Efficiency: 99.58% of 244.14 GB\n",
      "40889400 Memory Efficiency: 99.59% of 244.14 GB\n",
      "40889619 Memory Efficiency: 99.59% of 244.14 GB\n",
      "40889620 Memory Efficiency: 99.58% of 244.14 GB\n",
      "40889615 Memory Efficiency: 99.48% of 244.14 GB\n",
      "40889609 Memory Efficiency: 99.56% of 244.14 GB\n",
      "40889618 Memory Efficiency: 99.48% of 244.14 GB\n",
      "40889403 Memory Efficiency: 99.60% of 244.14 GB\n",
      "40889603 Memory Efficiency: 96.73% of 244.14 GB\n",
      "40889405 Memory Efficiency: 99.60% of 244.14 GB\n",
      "40889406 Memory Efficiency: 99.48% of 244.14 GB\n",
      "40889408 Memory Efficiency: 99.06% of 244.14 GB\n",
      "40889409 Memory Efficiency: 99.52% of 244.14 GB\n",
      "40889410 Memory Efficiency: 99.60% of 244.14 GB\n",
      "40889412 Memory Efficiency: 99.60% of 244.14 GB\n",
      "40889413 Memory Efficiency: 99.42% of 244.14 GB\n",
      "40889414 Memory Efficiency: 98.66% of 244.14 GB\n",
      "40889612 Memory Efficiency: 99.54% of 244.14 GB\n",
      "40889416 Memory Efficiency: 99.61% of 244.14 GB\n",
      "40889417 Memory Efficiency: 99.60% of 244.14 GB\n",
      "40889418 Memory Efficiency: 99.57% of 244.14 GB\n",
      "40889419 Memory Efficiency: 99.59% of 244.14 GB\n",
      "40889421 Memory Efficiency: 99.60% of 244.14 GB\n",
      "40889422 Memory Efficiency: 99.57% of 244.14 GB\n",
      "40889423 Memory Efficiency: 99.61% of 244.14 GB\n",
      "40889425 Memory Efficiency: 99.61% of 244.14 GB\n",
      "40889611 Memory Efficiency: 99.40% of 244.14 GB\n",
      "40889426 Memory Efficiency: 99.58% of 244.14 GB\n",
      "40889608 Memory Efficiency: 99.52% of 244.14 GB\n",
      "40889427 Memory Efficiency: 99.61% of 244.14 GB\n",
      "40889428 Memory Efficiency: 99.51% of 244.14 GB\n",
      "40889430 Memory Efficiency: 99.61% of 244.14 GB\n",
      "40889432 Memory Efficiency: 99.59% of 244.14 GB\n",
      "40889433 Memory Efficiency: 99.58% of 244.14 GB\n",
      "40889437 Memory Efficiency: 99.59% of 244.14 GB\n",
      "40889438 Memory Efficiency: 99.59% of 244.14 GB\n",
      "40889439 Memory Efficiency: 99.58% of 244.14 GB\n",
      "40889621 Memory Efficiency: 99.41% of 244.14 GB\n",
      "40889440 Memory Efficiency: 99.60% of 244.14 GB\n",
      "40889606 Memory Efficiency: 99.47% of 244.14 GB\n",
      "40889442 Memory Efficiency: 99.60% of 244.14 GB\n",
      "40889443 Memory Efficiency: 99.60% of 244.14 GB\n",
      "40889444 Memory Efficiency: 99.58% of 244.14 GB\n",
      "40889445 Memory Efficiency: 99.60% of 244.14 GB\n",
      "40889610 Memory Efficiency: 99.56% of 244.14 GB\n",
      "40889446 Memory Efficiency: 99.56% of 244.14 GB\n",
      "40889447 Memory Efficiency: 99.59% of 244.14 GB\n",
      "40889449 Memory Efficiency: 99.40% of 244.14 GB\n",
      "40889450 Memory Efficiency: 99.58% of 244.14 GB\n",
      "40889451 Memory Efficiency: 99.59% of 244.14 GB\n",
      "40889452 Memory Efficiency: 99.59% of 244.14 GB\n",
      "40889453 Memory Efficiency: 99.60% of 244.14 GB\n",
      "40889454 Memory Efficiency: 99.61% of 244.14 GB\n",
      "40889456 Memory Efficiency: 99.50% of 244.14 GB\n",
      "40889457 Memory Efficiency: 99.57% of 244.14 GB\n",
      "40889458 Memory Efficiency: 99.60% of 244.14 GB\n",
      "40889459 Memory Efficiency: 99.28% of 244.14 GB\n",
      "40889460 Memory Efficiency: 99.45% of 244.14 GB\n",
      "40889461 Memory Efficiency: 99.61% of 244.14 GB\n",
      "40889462 Memory Efficiency: 99.59% of 244.14 GB\n",
      "40889464 Memory Efficiency: 99.59% of 244.14 GB\n",
      "40889465 Memory Efficiency: 99.59% of 244.14 GB\n",
      "40889466 Memory Efficiency: 99.47% of 244.14 GB\n",
      "40889467 Memory Efficiency: 99.59% of 244.14 GB\n",
      "40889468 Memory Efficiency: 99.55% of 244.14 GB\n",
      "40889617 Memory Efficiency: 99.59% of 244.14 GB\n",
      "40889469 Memory Efficiency: 99.57% of 244.14 GB\n",
      "40889471 Memory Efficiency: 99.61% of 244.14 GB\n",
      "40889472 Memory Efficiency: 99.60% of 244.14 GB\n",
      "40889473 Memory Efficiency: 99.60% of 244.14 GB\n",
      "40889475 Memory Efficiency: 99.61% of 244.14 GB\n",
      "40889613 Memory Efficiency: 99.38% of 244.14 GB\n",
      "40889476 Memory Efficiency: 99.61% of 244.14 GB\n",
      "40889477 Memory Efficiency: 99.59% of 244.14 GB\n",
      "40889614 Memory Efficiency: 96.73% of 244.14 GB\n",
      "40889478 Memory Efficiency: 99.61% of 244.14 GB\n",
      "40889604 Memory Efficiency: 99.60% of 244.14 GB\n",
      "40889479 Memory Efficiency: 99.61% of 244.14 GB\n",
      "40889480 Memory Efficiency: 99.60% of 244.14 GB\n",
      "40889481 Memory Efficiency: 101.45% of 244.14 GB\n",
      "40889482 Memory Efficiency: 99.60% of 244.14 GB\n",
      "40889607 Memory Efficiency: 99.50% of 244.14 GB\n",
      "40889483 Memory Efficiency: 99.61% of 244.14 GB\n",
      "40889485 Memory Efficiency: 99.61% of 244.14 GB\n",
      "40889486 Memory Efficiency: 99.57% of 244.14 GB\n",
      "40889488 Memory Efficiency: 99.60% of 244.14 GB\n",
      "40889489 Memory Efficiency: 99.58% of 244.14 GB\n",
      "40889490 Memory Efficiency: 99.59% of 244.14 GB\n",
      "40889491 Memory Efficiency: 99.59% of 244.14 GB\n",
      "40889492 Memory Efficiency: 99.59% of 244.14 GB\n",
      "40889493 Memory Efficiency: 99.26% of 244.14 GB\n",
      "40889494 Memory Efficiency: 99.60% of 244.14 GB\n",
      "40889495 Memory Efficiency: 99.43% of 244.14 GB\n",
      "40889496 Memory Efficiency: 99.50% of 244.14 GB\n",
      "40889498 Memory Efficiency: 99.60% of 244.14 GB\n",
      "40889499 Memory Efficiency: 99.60% of 244.14 GB\n",
      "40889605 CPU Efficiency: 99.99% of 1-00:00:05 core-walltime\n",
      "40889431 CPU Efficiency: 99.99% of 1-00:00:19 core-walltime\n",
      "40889441 CPU Efficiency: 99.99% of 1-00:00:01 core-walltime\n",
      "40889455 CPU Efficiency: 99.99% of 1-00:00:20 core-walltime\n",
      "40889484 CPU Efficiency: 50.80% of 1-00:00:13 core-walltime\n",
      "40889487 CPU Efficiency: 99.99% of 1-00:00:09 core-walltime\n",
      "\u001b[1m\n",
      "run_20220919_225-450 20000\u001b[0m\n",
      "40889821 Memory Efficiency: 99.53% of 244.14 GB\n",
      "40889810 Memory Efficiency: 99.52% of 244.14 GB\n",
      "40889698 Memory Efficiency: 94.84% of 244.14 GB\n",
      "40889500 Memory Efficiency: 99.59% of 244.14 GB\n",
      "40889773 Memory Efficiency: 99.59% of 244.14 GB\n",
      "40889681 Memory Efficiency: 99.36% of 244.14 GB\n",
      "40889635 Memory Efficiency: 98.51% of 244.14 GB\n",
      "40889501 Memory Efficiency: 99.53% of 244.14 GB\n",
      "40889818 Memory Efficiency: 99.56% of 244.14 GB\n",
      "40889811 Memory Efficiency: 99.59% of 244.14 GB\n",
      "40889683 Memory Efficiency: 99.60% of 244.14 GB\n",
      "40889622 Memory Efficiency: 99.39% of 244.14 GB\n",
      "40889645 Memory Efficiency: 99.61% of 244.14 GB\n",
      "40889640 Memory Efficiency: 99.59% of 244.14 GB\n",
      "40889641 Memory Efficiency: 99.60% of 244.14 GB\n",
      "40889767 Memory Efficiency: 99.59% of 244.14 GB\n",
      "40889769 Memory Efficiency: 99.59% of 244.14 GB\n",
      "40889796 Memory Efficiency: 99.43% of 244.14 GB\n",
      "40889712 Memory Efficiency: 99.55% of 244.14 GB\n",
      "40889719 Memory Efficiency: 99.61% of 244.14 GB\n",
      "40889669 Memory Efficiency: 99.59% of 244.14 GB\n",
      "40889781 Memory Efficiency: 99.58% of 244.14 GB\n",
      "40889624 Memory Efficiency: 99.55% of 244.14 GB\n",
      "40889825 Memory Efficiency: 99.59% of 244.14 GB\n",
      "40889664 Memory Efficiency: 99.61% of 244.14 GB\n",
      "40889822 Memory Efficiency: 99.59% of 244.14 GB\n",
      "40889658 Memory Efficiency: 99.61% of 244.14 GB\n",
      "40889764 Memory Efficiency: 99.57% of 244.14 GB\n",
      "40889805 Memory Efficiency: 99.38% of 244.14 GB\n",
      "40889694 Memory Efficiency: 99.59% of 244.14 GB\n",
      "40889736 Memory Efficiency: 99.59% of 244.14 GB\n",
      "40889687 Memory Efficiency: 99.24% of 244.14 GB\n",
      "40889716 Memory Efficiency: 99.61% of 244.14 GB\n",
      "40889780 Memory Efficiency: 99.50% of 244.14 GB\n",
      "40889790 Memory Efficiency: 99.58% of 244.14 GB\n",
      "40889838 Memory Efficiency: 99.58% of 244.14 GB\n",
      "40889789 Memory Efficiency: 99.58% of 244.14 GB\n",
      "40889820 Memory Efficiency: 99.38% of 244.14 GB\n",
      "40889831 Memory Efficiency: 99.49% of 244.14 GB\n",
      "40889761 Memory Efficiency: 99.59% of 244.14 GB\n",
      "40889665 Memory Efficiency: 99.61% of 244.14 GB\n",
      "40889674 Memory Efficiency: 99.60% of 244.14 GB\n",
      "40889766 Memory Efficiency: 99.59% of 244.14 GB\n",
      "40889686 Memory Efficiency: 99.59% of 244.14 GB\n",
      "40889839 Memory Efficiency: 99.45% of 244.14 GB\n",
      "40889644 Memory Efficiency: 99.61% of 244.14 GB\n",
      "40889660 Memory Efficiency: 99.55% of 244.14 GB\n",
      "40889812 Memory Efficiency: 99.36% of 244.14 GB\n",
      "40889661 Memory Efficiency: 99.60% of 244.14 GB\n",
      "40889655 Memory Efficiency: 99.60% of 244.14 GB\n",
      "40889625 Memory Efficiency: 99.54% of 244.14 GB\n",
      "40889803 Memory Efficiency: 99.03% of 244.14 GB\n",
      "40889763 Memory Efficiency: 99.31% of 244.14 GB\n",
      "40889707 Memory Efficiency: 99.39% of 244.14 GB\n",
      "40889691 Memory Efficiency: 99.49% of 244.14 GB\n",
      "40889676 Memory Efficiency: 99.36% of 244.14 GB\n",
      "40889695 Memory Efficiency: 99.34% of 244.14 GB\n",
      "40889630 Memory Efficiency: 99.41% of 244.14 GB\n",
      "40889826 Memory Efficiency: 99.59% of 244.14 GB\n",
      "40889692 Memory Efficiency: 99.60% of 244.14 GB\n",
      "40889827 Memory Efficiency: 99.56% of 244.14 GB\n",
      "40889677 Memory Efficiency: 99.44% of 244.14 GB\n",
      "40889836 Memory Efficiency: 99.59% of 244.14 GB\n",
      "40889832 Memory Efficiency: 99.54% of 244.14 GB\n",
      "40889710 Memory Efficiency: 99.60% of 244.14 GB\n",
      "40889806 Memory Efficiency: 99.37% of 244.14 GB\n",
      "40889642 Memory Efficiency: 99.55% of 244.14 GB\n",
      "40889771 Memory Efficiency: 99.56% of 244.14 GB\n",
      "40889777 Memory Efficiency: 99.56% of 244.14 GB\n",
      "40889759 Memory Efficiency: 99.60% of 244.14 GB\n",
      "40889689 Memory Efficiency: 99.55% of 244.14 GB\n",
      "40889754 Memory Efficiency: 99.59% of 244.14 GB\n",
      "40889779 Memory Efficiency: 99.57% of 244.14 GB\n",
      "40889650 Memory Efficiency: 99.60% of 244.14 GB\n",
      "40889798 Memory Efficiency: 99.59% of 244.14 GB\n",
      "40889631 Memory Efficiency: 99.35% of 244.14 GB\n",
      "40889734 Memory Efficiency: 99.59% of 244.14 GB\n",
      "40889717 Memory Efficiency: 99.60% of 244.14 GB\n",
      "40889809 Memory Efficiency: 99.44% of 244.14 GB\n",
      "40889833 Memory Efficiency: 99.58% of 244.14 GB\n",
      "40889697 Memory Efficiency: 99.59% of 244.14 GB\n",
      "40889656 Memory Efficiency: 99.59% of 244.14 GB\n",
      "40889772 Memory Efficiency: 99.59% of 244.14 GB\n",
      "40889823 Memory Efficiency: 99.58% of 244.14 GB\n",
      "40889705 Memory Efficiency: 99.61% of 244.14 GB\n",
      "40889760 Memory Efficiency: 99.58% of 244.14 GB\n",
      "40889653 Memory Efficiency: 99.60% of 244.14 GB\n",
      "40889792 Memory Efficiency: 99.47% of 244.14 GB\n",
      "40889633 Memory Efficiency: 99.58% of 244.14 GB\n",
      "40889638 Memory Efficiency: 99.59% of 244.14 GB\n",
      "40889801 Memory Efficiency: 99.54% of 244.14 GB\n",
      "40889647 Memory Efficiency: 99.61% of 244.14 GB\n",
      "40889699 Memory Efficiency: 99.58% of 244.14 GB\n",
      "40889824 Memory Efficiency: 99.42% of 244.14 GB\n",
      "40889782 Memory Efficiency: 99.58% of 244.14 GB\n",
      "40889720 Memory Efficiency: 99.48% of 244.14 GB\n",
      "40889776 Memory Efficiency: 99.56% of 244.14 GB\n",
      "40889829 Memory Efficiency: 99.59% of 244.14 GB\n",
      "40889651 Memory Efficiency: 99.41% of 244.14 GB\n",
      "40889634 Memory Efficiency: 99.58% of 244.14 GB\n",
      "40889816 Memory Efficiency: 99.48% of 244.14 GB\n",
      "40889652 Memory Efficiency: 99.59% of 244.14 GB\n",
      "40889778 Memory Efficiency: 101.43% of 244.14 GB\n",
      "40889715 Memory Efficiency: 99.61% of 244.14 GB\n",
      "40889741 Memory Efficiency: 99.59% of 244.14 GB\n",
      "40889628 Memory Efficiency: 99.55% of 244.14 GB\n",
      "40889711 Memory Efficiency: 99.60% of 244.14 GB\n",
      "40889685 CPU Efficiency: 99.98% of 1-00:00:29 core-walltime\n",
      "40889730 CPU Efficiency: 94.39% of 1-00:00:15 core-walltime\n",
      "40889670 CPU Efficiency: 99.98% of 1-00:00:06 core-walltime\n",
      "40889735 CPU Efficiency: 99.99% of 1-00:00:21 core-walltime\n",
      "40889739 CPU Efficiency: 51.70% of 1-00:00:19 core-walltime\n"
     ]
    },
    {
     "name": "stdout",
     "output_type": "stream",
     "text": [
      "\u001b[1m\n",
      "run_20220919_450-675 20000\u001b[0m\n",
      "40889945 Memory Efficiency: 99.56% of 244.14 GB\n",
      "40890020 Memory Efficiency: 92.41% of 244.14 GB\n",
      "40889905 Memory Efficiency: 99.60% of 244.14 GB\n",
      "40889892 Memory Efficiency: 98.23% of 244.14 GB\n",
      "40889889 Memory Efficiency: 99.59% of 244.14 GB\n",
      "40889930 Memory Efficiency: 99.59% of 244.14 GB\n",
      "40890030 Memory Efficiency: 99.60% of 244.14 GB\n",
      "40889990 Memory Efficiency: 99.59% of 244.14 GB\n",
      "40889876 Memory Efficiency: 99.61% of 244.14 GB\n",
      "40890031 Memory Efficiency: 99.60% of 244.14 GB\n",
      "40889937 Memory Efficiency: 99.59% of 244.14 GB\n",
      "40889865 Memory Efficiency: 99.50% of 244.14 GB\n",
      "40889923 Memory Efficiency: 99.60% of 244.14 GB\n",
      "40889984 Memory Efficiency: 99.58% of 244.14 GB\n",
      "40889974 Memory Efficiency: 99.60% of 244.14 GB\n",
      "40889915 Memory Efficiency: 99.60% of 244.14 GB\n",
      "40889855 Memory Efficiency: 99.59% of 244.14 GB\n",
      "40889929 Memory Efficiency: 99.56% of 244.14 GB\n",
      "40889992 Memory Efficiency: 99.60% of 244.14 GB\n",
      "40889973 Memory Efficiency: 99.59% of 244.14 GB\n",
      "40889995 Memory Efficiency: 99.48% of 244.14 GB\n",
      "40889986 Memory Efficiency: 99.61% of 244.14 GB\n",
      "40890048 Memory Efficiency: 99.59% of 244.14 GB\n",
      "40889900 Memory Efficiency: 99.59% of 244.14 GB\n",
      "40889908 Memory Efficiency: 99.55% of 244.14 GB\n",
      "40890028 Memory Efficiency: 99.58% of 244.14 GB\n",
      "40890015 Memory Efficiency: 99.60% of 244.14 GB\n",
      "40889947 Memory Efficiency: 99.57% of 244.14 GB\n",
      "40889844 Memory Efficiency: 99.51% of 244.14 GB\n",
      "40889919 Memory Efficiency: 99.57% of 244.14 GB\n",
      "40890055 Memory Efficiency: 99.58% of 244.14 GB\n",
      "40889931 Memory Efficiency: 99.58% of 244.14 GB\n",
      "40889896 Memory Efficiency: 99.59% of 244.14 GB\n",
      "40889859 Memory Efficiency: 99.33% of 244.14 GB\n",
      "40889878 Memory Efficiency: 99.59% of 244.14 GB\n",
      "40889998 Memory Efficiency: 99.60% of 244.14 GB\n",
      "40889983 Memory Efficiency: 99.61% of 244.14 GB\n",
      "40889502 Memory Efficiency: 99.59% of 244.14 GB\n",
      "40889503 Memory Efficiency: 99.60% of 244.14 GB\n",
      "40890024 Memory Efficiency: 99.60% of 244.14 GB\n",
      "40889504 Memory Efficiency: 99.58% of 244.14 GB\n",
      "40889842 Memory Efficiency: 99.60% of 244.14 GB\n",
      "40889987 Memory Efficiency: 99.59% of 244.14 GB\n",
      "40889944 Memory Efficiency: 99.59% of 244.14 GB\n",
      "40890038 Memory Efficiency: 99.60% of 244.14 GB\n",
      "40889904 Memory Efficiency: 99.60% of 244.14 GB\n",
      "40889901 Memory Efficiency: 99.55% of 244.14 GB\n",
      "40889861 Memory Efficiency: 99.59% of 244.14 GB\n",
      "40889920 Memory Efficiency: 99.59% of 244.14 GB\n",
      "40889850 Memory Efficiency: 98.77% of 244.14 GB\n",
      "40889957 Memory Efficiency: 99.58% of 244.14 GB\n",
      "40889845 Memory Efficiency: 99.41% of 244.14 GB\n",
      "40889851 Memory Efficiency: 99.47% of 244.14 GB\n",
      "40889963 Memory Efficiency: 99.59% of 244.14 GB\n",
      "40890026 Memory Efficiency: 99.60% of 244.14 GB\n",
      "40889871 Memory Efficiency: 99.59% of 244.14 GB\n",
      "40889902 Memory Efficiency: 101.33% of 244.14 GB\n",
      "40889926 Memory Efficiency: 98.99% of 244.14 GB\n",
      "40889882 Memory Efficiency: 99.60% of 244.14 GB\n",
      "40889879 Memory Efficiency: 99.61% of 244.14 GB\n",
      "40889853 Memory Efficiency: 99.59% of 244.14 GB\n",
      "40889856 Memory Efficiency: 99.59% of 244.14 GB\n",
      "40890009 Memory Efficiency: 99.58% of 244.14 GB\n",
      "40889917 Memory Efficiency: 99.60% of 244.14 GB\n",
      "40889966 Memory Efficiency: 99.58% of 244.14 GB\n",
      "40889927 Memory Efficiency: 95.99% of 244.14 GB\n",
      "40890023 Memory Efficiency: 99.60% of 244.14 GB\n",
      "40889971 Memory Efficiency: 99.58% of 244.14 GB\n",
      "40889910 Memory Efficiency: 99.60% of 244.14 GB\n",
      "40889988 Memory Efficiency: 99.56% of 244.14 GB\n",
      "40889934 Memory Efficiency: 99.57% of 244.14 GB\n",
      "40890037 Memory Efficiency: 99.52% of 244.14 GB\n",
      "40889907 Memory Efficiency: 99.60% of 244.14 GB\n",
      "40889880 Memory Efficiency: 99.60% of 244.14 GB\n",
      "40889939 Memory Efficiency: 99.59% of 244.14 GB\n",
      "40889935 Memory Efficiency: 99.59% of 244.14 GB\n",
      "40889946 Memory Efficiency: 99.56% of 244.14 GB\n",
      "40889841 Memory Efficiency: 99.58% of 244.14 GB\n",
      "40889867 Memory Efficiency: 99.59% of 244.14 GB\n",
      "40890010 Memory Efficiency: 99.59% of 244.14 GB\n",
      "40889924 Memory Efficiency: 99.60% of 244.14 GB\n",
      "40889941 Memory Efficiency: 95.94% of 244.14 GB\n",
      "40889951 Memory Efficiency: 99.59% of 244.14 GB\n",
      "40889925 Memory Efficiency: 99.30% of 244.14 GB\n",
      "40889936 Memory Efficiency: 99.59% of 244.14 GB\n",
      "40889846 Memory Efficiency: 99.58% of 244.14 GB\n",
      "40890029 Memory Efficiency: 99.60% of 244.14 GB\n",
      "40889970 Memory Efficiency: 99.56% of 244.14 GB\n",
      "40889883 Memory Efficiency: 99.59% of 244.14 GB\n",
      "40890019 Memory Efficiency: 99.61% of 244.14 GB\n",
      "40889857 Memory Efficiency: 99.60% of 244.14 GB\n",
      "40889928 Memory Efficiency: 99.59% of 244.14 GB\n",
      "40889921 Memory Efficiency: 99.60% of 244.14 GB\n",
      "40890034 Memory Efficiency: 99.61% of 244.14 GB\n",
      "40889854 Memory Efficiency: 99.34% of 244.14 GB\n",
      "40889909 Memory Efficiency: 99.59% of 244.14 GB\n",
      "40889914 Memory Efficiency: 99.58% of 244.14 GB\n",
      "40889942 Memory Efficiency: 99.59% of 244.14 GB\n",
      "40889918 Memory Efficiency: 99.57% of 244.14 GB\n",
      "40890039 Memory Efficiency: 99.57% of 244.14 GB\n",
      "40889933 Memory Efficiency: 99.56% of 244.14 GB\n",
      "40890016 Memory Efficiency: 99.59% of 244.14 GB\n",
      "40889868 Memory Efficiency: 99.58% of 244.14 GB\n",
      "40890013 Memory Efficiency: 99.58% of 244.14 GB\n",
      "40890045 Memory Efficiency: 99.59% of 244.14 GB\n",
      "40889950 Memory Efficiency: 99.24% of 244.14 GB\n",
      "40890002 Memory Efficiency: 99.59% of 244.14 GB\n",
      "40889964 Memory Efficiency: 99.58% of 244.14 GB\n",
      "40889967 Memory Efficiency: 99.59% of 244.14 GB\n",
      "40889999 Memory Efficiency: 99.60% of 244.14 GB\n",
      "40889913 Memory Efficiency: 99.60% of 244.14 GB\n",
      "40889972 Memory Efficiency: 99.55% of 244.14 GB\n",
      "40890042 CPU Efficiency: 99.96% of 1-00:00:24 core-walltime\n",
      "40889848 CPU Efficiency: 99.99% of 1-00:00:00 core-walltime\n",
      "40889969 CPU Efficiency: 99.98% of 1-00:00:19 core-walltime\n",
      "40890011 CPU Efficiency: 99.96% of 1-00:00:05 core-walltime\n"
     ]
    }
   ],
   "source": [
    "# training jobs that failed all failed because of insufficient memory or time\n",
    "\n",
    "# note i think timeouts might be nested within failed jobs (and might print for mem and time)\n",
    "\n",
    "jobs = Squeue().jobs().tolist()\n",
    "\n",
    "for (rep, numloci), repseffs in unwrap_dictionary(seffs):\n",
    "    if len(repseffs.failed()) > 0:\n",
    "        print(ColorText(f'\\n{rep} {numloci}').bold())\n",
    "        for pid, seff in repseffs.failed().items():\n",
    "            if seff.job in jobs:\n",
    "                continue\n",
    "            \n",
    "            print(pid, seff.info[-1])\n",
    "            \n",
    "    if len(repseffs.timeouts()) > 0:\n",
    "        for pid, seff in repseffs.timeouts().items():\n",
    "            if seff.job in jobs:\n",
    "                continue\n",
    "            \n",
    "            print(pid, seff.info[-4])"
   ]
  },
  {
   "cell_type": "code",
   "execution_count": null,
   "id": "468be919",
   "metadata": {},
   "outputs": [],
   "source": []
  },
  {
   "cell_type": "code",
   "execution_count": null,
   "id": "581cc7a0",
   "metadata": {},
   "outputs": [],
   "source": []
  },
  {
   "cell_type": "code",
   "execution_count": null,
   "id": "bbd7f4ef",
   "metadata": {},
   "outputs": [],
   "source": [
    "params = rt.mvp.read_params_file()"
   ]
  },
  {
   "cell_type": "code",
   "execution_count": 21,
   "id": "72a6d6f4",
   "metadata": {},
   "outputs": [
    {
     "data": {
      "text/plain": [
       "Est-Clines    160\n",
       "SS-Clines     157\n",
       "dtype: int64"
      ]
     },
     "execution_count": 21,
     "metadata": {},
     "output_type": "execute_result"
    }
   ],
   "source": [
    "# what type of simulation landscapes are failing?\n",
    "failed_seeds = []\n",
    "for (rep, numloci), repseffs in unwrap_dictionary(seffs):\n",
    "    if len(repseffs.failed()) > 0:\n",
    "        failed_seeds.extend(\n",
    "            [op.basename(sh).split(\"_\")[0] for sh in repseffs.failed().shfiles]\n",
    "        )\n",
    "\n",
    "pd.Series(failed_seeds).map(params.landscape).value_counts()"
   ]
  },
  {
   "cell_type": "code",
   "execution_count": null,
   "id": "13d5f394",
   "metadata": {},
   "outputs": [],
   "source": []
  },
  {
   "cell_type": "code",
   "execution_count": null,
   "id": "36a21e03",
   "metadata": {},
   "outputs": [],
   "source": []
  },
  {
   "cell_type": "markdown",
   "id": "47aa186b",
   "metadata": {},
   "source": [
    "<a id='update'></a>\n",
    "\n",
    "# update mem and time requests for failed jobs\n",
    "\n",
    "[top](#home)"
   ]
  },
  {
   "cell_type": "code",
   "execution_count": 23,
   "id": "11940186",
   "metadata": {
    "scrolled": true
   },
   "outputs": [
    {
     "name": "stdout",
     "output_type": "stream",
     "text": [
      "\u001b[1m\n",
      "run_20220919_0-225 20000\u001b[0m\n"
     ]
    },
    {
     "name": "stderr",
     "output_type": "stream",
     "text": [
      "sbatching: 100%|███████████████| 98/98 [00:14<00:00,  6.69it/s]\n"
     ]
    },
    {
     "name": "stdout",
     "output_type": "stream",
     "text": [
      "\u001b[1m\n",
      "run_20220919_225-450 20000\u001b[0m\n"
     ]
    },
    {
     "name": "stderr",
     "output_type": "stream",
     "text": [
      "sbatching: 100%|███████████████| 107/107 [00:16<00:00,  6.38it/s]\n"
     ]
    },
    {
     "name": "stdout",
     "output_type": "stream",
     "text": [
      "\u001b[1m\n",
      "run_20220919_450-675 20000\u001b[0m\n"
     ]
    },
    {
     "name": "stderr",
     "output_type": "stream",
     "text": [
      "sbatching: 100%|███████████████| 112/112 [00:19<00:00,  5.85it/s]\n"
     ]
    },
    {
     "data": {
      "text/plain": [
       "['#!/bin/bash',\n",
       " '#SBATCH --job-name=1231762_GF_training_ind_all',\n",
       " '#SBATCH --time=5-00:00:00',\n",
       " '#SBATCH --mem=400000M',\n",
       " '#SBATCH --partition=long',\n",
       " '#SBATCH --output=1231762_GF_training_ind_all_%j.out',\n",
       " '#SBATCH --mail-user=dummy_email@gmail.com',\n",
       " '#SBATCH --mail-type=FAIL',\n",
       " '',\n",
       " 'source $HOME/.bashrc  # assumed that conda init is within .bashrc',\n",
       " 'conda deactivate',\n",
       " 'conda activate r35',\n",
       " '',\n",
       " 'cd /work/lotterhos/brandon/ind_runtimes/run_20220919_450-675/20000/gradient_forests/training/training_files',\n",
       " '',\n",
       " '/home/b.lind/anaconda3/envs/r35/lib/R/bin/Rscript \\\\',\n",
       " '/home/b.lind/code/MVP-offsets/01_src/MVP_gf_training_script.R \\\\',\n",
       " '1231762_Rout_Gmat_sample_maf-gt-p01_GFready_ind_all.txt \\\\',\n",
       " '1231762_envfile_GFready_ind.txt \\\\',\n",
       " '1231762_rangefile_GFready_ind.txt \\\\',\n",
       " '1231762_GF_training_ind_all \\\\',\n",
       " '/work/lotterhos/brandon/ind_runtimes/run_20220919_450-675/20000/gradient_forests/training/training_outfiles',\n",
       " '',\n",
       " '']"
      ]
     },
     "execution_count": 23,
     "metadata": {},
     "output_type": "execute_result"
    }
   ],
   "source": [
    "# update mem and time requests of submitted jobs\n",
    "for (rep, numloci), repseffs in unwrap_dictionary(seffs):\n",
    "    if len(repseffs.failed()) > 0:\n",
    "        print(ColorText(f'\\n{rep} {numloci}').bold())\n",
    "        \n",
    "        for sh in repseffs.failed().shfiles:\n",
    "            text = read(sh, lines=True)\n",
    "            assert 'time=' in text[2]\n",
    "            text[2] = '#SBATCH --time=5-00:00:00'\n",
    "            \n",
    "            assert 'mem=' in text[3]\n",
    "            text[3] = '#SBATCH --mem=400000M'\n",
    "            \n",
    "            assert 'partition' in text[4]\n",
    "            text[4] = '#SBATCH --partition=long'\n",
    "            \n",
    "            with open(sh, 'w') as o:\n",
    "                o.write(\"\\n\".join(text))\n",
    "        \n",
    "        sbatch(repseffs.failed().shfiles)\n",
    "\n",
    "text"
   ]
  },
  {
   "cell_type": "code",
   "execution_count": null,
   "id": "f496cbc5",
   "metadata": {},
   "outputs": [],
   "source": []
  },
  {
   "cell_type": "code",
   "execution_count": null,
   "id": "dec9bc42",
   "metadata": {},
   "outputs": [],
   "source": []
  },
  {
   "cell_type": "code",
   "execution_count": null,
   "id": "0424d623",
   "metadata": {},
   "outputs": [],
   "source": []
  },
  {
   "cell_type": "code",
   "execution_count": null,
   "id": "a73a00fb",
   "metadata": {},
   "outputs": [],
   "source": []
  },
  {
   "cell_type": "code",
   "execution_count": null,
   "id": "3b7a50e4",
   "metadata": {},
   "outputs": [],
   "source": []
  },
  {
   "cell_type": "code",
   "execution_count": null,
   "id": "a4f22581",
   "metadata": {},
   "outputs": [],
   "source": []
  },
  {
   "cell_type": "code",
   "execution_count": null,
   "id": "e6e7166e",
   "metadata": {},
   "outputs": [],
   "source": []
  },
  {
   "cell_type": "markdown",
   "id": "4ec11910",
   "metadata": {},
   "source": [
    "<a id='fit'></a>\n",
    "### look at status and resource use of submitted fitting jobs\n",
    "\n",
    "[top](#home)"
   ]
  },
  {
   "cell_type": "code",
   "execution_count": 6,
   "id": "b3fb6dfd",
   "metadata": {
    "scrolled": true
   },
   "outputs": [
    {
     "name": "stdout",
     "output_type": "stream",
     "text": [
      "\u001b[1m\n",
      "Watching 226 parallel Seffs jobs ...\u001b[0m\n"
     ]
    },
    {
     "name": "stderr",
     "output_type": "stream",
     "text": [
      "requesting seffs: 100%|███████████████| 226/226 [00:01<00:00, 191.51it/s] \n",
      "retrieving seffs: 100%|███████████████| 226/226 [00:01<00:00, 121.28it/s]\n",
      "/home/b.lind/pythonimports/myslurm.py:560: UserWarning: There are multiple shfiles associated with outfiles. len=226 luni=225\n",
      "  warnings.warn(text)\n"
     ]
    },
    {
     "name": "stdout",
     "output_type": "stream",
     "text": [
      "run_20220919_0-225 00500 225 expected = 225 \n",
      " Counter({'State: FAILED (exit code 1)': 225}) \n",
      "\n",
      "\n",
      "\u001b[1m\n",
      "Watching 228 parallel Seffs jobs ...\u001b[0m\n"
     ]
    },
    {
     "name": "stderr",
     "output_type": "stream",
     "text": [
      "requesting seffs: 100%|███████████████| 228/228 [00:01<00:00, 141.37it/s] \n",
      "retrieving seffs: 100%|███████████████| 228/228 [00:01<00:00, 132.99it/s]\n",
      "/home/b.lind/pythonimports/myslurm.py:560: UserWarning: There are multiple shfiles associated with outfiles. len=228 luni=225\n",
      "  warnings.warn(text)\n"
     ]
    },
    {
     "name": "stdout",
     "output_type": "stream",
     "text": [
      "run_20220919_0-225 05000 225 expected = 225 \n",
      " Counter({'State: FAILED (exit code 1)': 225}) \n",
      "\n",
      "\n",
      "\u001b[1m\n",
      "Watching 230 parallel Seffs jobs ...\u001b[0m\n"
     ]
    },
    {
     "name": "stderr",
     "output_type": "stream",
     "text": [
      "requesting seffs: 100%|███████████████| 230/230 [00:01<00:00, 203.40it/s] \n",
      "retrieving seffs: 100%|███████████████| 230/230 [00:02<00:00, 111.95it/s]\n",
      "/home/b.lind/pythonimports/myslurm.py:560: UserWarning: There are multiple shfiles associated with outfiles. len=230 luni=225\n",
      "  warnings.warn(text)\n"
     ]
    },
    {
     "name": "stdout",
     "output_type": "stream",
     "text": [
      "run_20220919_0-225 10000 225 expected = 225 \n",
      " Counter({'State: FAILED (exit code 1)': 225}) \n",
      "\n",
      "\n",
      "\u001b[1m\n",
      "Watching 227 parallel Seffs jobs ...\u001b[0m\n"
     ]
    },
    {
     "name": "stderr",
     "output_type": "stream",
     "text": [
      "requesting seffs: 100%|███████████████| 227/227 [00:01<00:00, 154.61it/s] \n",
      "retrieving seffs: 100%|███████████████| 227/227 [00:01<00:00, 132.88it/s]\n",
      "/home/b.lind/pythonimports/myslurm.py:560: UserWarning: There are multiple shfiles associated with outfiles. len=227 luni=224\n",
      "  warnings.warn(text)\n"
     ]
    },
    {
     "name": "stdout",
     "output_type": "stream",
     "text": [
      "run_20220919_0-225 20000 224 expected = 121 \n",
      " Counter({'State: FAILED (exit code 1)': 224}) \n",
      "\n",
      "\n",
      "\u001b[1m\n",
      "Watching 225 parallel Seffs jobs ...\u001b[0m\n"
     ]
    },
    {
     "name": "stderr",
     "output_type": "stream",
     "text": [
      "requesting seffs: 100%|███████████████| 225/225 [00:01<00:00, 188.71it/s] \n",
      "retrieving seffs: 100%|███████████████| 225/225 [00:01<00:00, 115.92it/s]\n"
     ]
    },
    {
     "name": "stdout",
     "output_type": "stream",
     "text": [
      "run_20220919_225-450 00500 225 expected = 225 \n",
      " Counter({'State: FAILED (exit code 1)': 225}) \n",
      "\n",
      "\n",
      "\u001b[1m\n",
      "Watching 234 parallel Seffs jobs ...\u001b[0m\n"
     ]
    },
    {
     "name": "stderr",
     "output_type": "stream",
     "text": [
      "requesting seffs: 100%|███████████████| 234/234 [00:02<00:00, 113.76it/s] \n",
      "retrieving seffs: 100%|███████████████| 234/234 [00:01<00:00, 132.29it/s]\n",
      "/home/b.lind/pythonimports/myslurm.py:560: UserWarning: There are multiple shfiles associated with outfiles. len=234 luni=225\n",
      "  warnings.warn(text)\n"
     ]
    },
    {
     "name": "stdout",
     "output_type": "stream",
     "text": [
      "run_20220919_225-450 05000 225 expected = 225 \n",
      " Counter({'State: FAILED (exit code 1)': 225}) \n",
      "\n",
      "\n",
      "\u001b[1m\n",
      "Watching 226 parallel Seffs jobs ...\u001b[0m\n"
     ]
    },
    {
     "name": "stderr",
     "output_type": "stream",
     "text": [
      "requesting seffs: 100%|███████████████| 226/226 [00:01<00:00, 151.43it/s] \n",
      "retrieving seffs: 100%|███████████████| 226/226 [00:01<00:00, 132.81it/s]\n"
     ]
    },
    {
     "name": "stdout",
     "output_type": "stream",
     "text": [
      "run_20220919_225-450 10000 225 expected = 225 \n",
      " Counter({'State: FAILED (exit code 1)': 225}) \n",
      "\n",
      "\n",
      "\u001b[1m\n",
      "Watching 224 parallel Seffs jobs ...\u001b[0m\n"
     ]
    },
    {
     "name": "stderr",
     "output_type": "stream",
     "text": [
      "requesting seffs: 100%|███████████████| 224/224 [00:02<00:00, 91.48it/s] \n",
      "retrieving seffs: 100%|███████████████| 224/224 [00:01<00:00, 120.80it/s]\n"
     ]
    },
    {
     "name": "stdout",
     "output_type": "stream",
     "text": [
      "run_20220919_225-450 20000 224 expected = 113 \n",
      " Counter({'State: FAILED (exit code 1)': 224}) \n",
      "\n",
      "\n",
      "\u001b[1m\n",
      "Watching 226 parallel Seffs jobs ...\u001b[0m\n"
     ]
    },
    {
     "name": "stderr",
     "output_type": "stream",
     "text": [
      "requesting seffs: 100%|███████████████| 226/226 [00:09<00:00, 22.97it/s]\n",
      "retrieving seffs: 100%|███████████████| 226/226 [00:01<00:00, 133.46it/s]\n"
     ]
    },
    {
     "name": "stdout",
     "output_type": "stream",
     "text": [
      "run_20220919_450-675 00500 225 expected = 225 \n",
      " Counter({'State: FAILED (exit code 1)': 225}) \n",
      "\n",
      "\n",
      "\u001b[1m\n",
      "Watching 245 parallel Seffs jobs ...\u001b[0m\n"
     ]
    },
    {
     "name": "stderr",
     "output_type": "stream",
     "text": [
      "requesting seffs: 100%|███████████████| 245/245 [00:02<00:00, 97.10it/s] \n",
      "retrieving seffs: 100%|███████████████| 245/245 [00:01<00:00, 132.97it/s]\n",
      "/home/b.lind/pythonimports/myslurm.py:560: UserWarning: There are multiple shfiles associated with outfiles. len=245 luni=225\n",
      "  warnings.warn(text)\n"
     ]
    },
    {
     "name": "stdout",
     "output_type": "stream",
     "text": [
      "run_20220919_450-675 05000 225 expected = 225 \n",
      " Counter({'State: FAILED (exit code 1)': 225}) \n",
      "\n",
      "\n",
      "\u001b[1m\n",
      "Watching 232 parallel Seffs jobs ...\u001b[0m\n"
     ]
    },
    {
     "name": "stderr",
     "output_type": "stream",
     "text": [
      "requesting seffs: 100%|███████████████| 232/232 [00:01<00:00, 133.01it/s] \n",
      "retrieving seffs: 100%|███████████████| 232/232 [00:01<00:00, 132.78it/s]\n",
      "/home/b.lind/pythonimports/myslurm.py:560: UserWarning: There are multiple shfiles associated with outfiles. len=232 luni=225\n",
      "  warnings.warn(text)\n"
     ]
    },
    {
     "name": "stdout",
     "output_type": "stream",
     "text": [
      "run_20220919_450-675 10000 225 expected = 225 \n",
      " Counter({'State: FAILED (exit code 1)': 225}) \n",
      "\n",
      "\n",
      "\u001b[1m\n",
      "Watching 225 parallel Seffs jobs ...\u001b[0m\n"
     ]
    },
    {
     "name": "stderr",
     "output_type": "stream",
     "text": [
      "requesting seffs: 100%|███████████████| 225/225 [00:01<00:00, 117.61it/s] \n",
      "retrieving seffs: 100%|███████████████| 225/225 [00:01<00:00, 126.68it/s]"
     ]
    },
    {
     "name": "stdout",
     "output_type": "stream",
     "text": [
      "run_20220919_450-675 20000 224 expected = 109 \n",
      " Counter({'State: FAILED (exit code 1)': 224}) \n",
      "\n",
      "\n"
     ]
    },
    {
     "name": "stderr",
     "output_type": "stream",
     "text": [
      "\n",
      "/home/b.lind/pythonimports/myslurm.py:560: UserWarning: There are multiple shfiles associated with outfiles. len=225 luni=224\n",
      "  warnings.warn(text)\n"
     ]
    }
   ],
   "source": [
    "# !!! failed states are expected because of KeyError (after performance is calculated)\n",
    "fitseffs = defaultdict(dict)\n",
    "for rep, dirs in ind_dirs.items():\n",
    "    for d in dirs:\n",
    "        num_loci = op.basename(d)\n",
    "        \n",
    "        fitting_dir = f'{d}/gradient_forests/fitting/fitting_shfiles'\n",
    "\n",
    "        outs = fs(fitting_dir, endswith='.out')\n",
    "        \n",
    "        if len(outs) == 0:\n",
    "            print(ColorText(f'{rep} {num_loci} 0').fail().bold())\n",
    "            continue\n",
    "            \n",
    "        fitseffs[rep][num_loci] = Seffs.parallel(lview, outs=outs).most_recent()\n",
    "        \n",
    "        print(\n",
    "            rep, num_loci, len(fitseffs[rep][op.basename(d)]), f'expected = %s' % len(seffs[rep][num_loci].completed()), '\\n',\n",
    "            fitseffs[rep][num_loci].states.counter(), '\\n\\n'\n",
    "        )"
   ]
  },
  {
   "cell_type": "code",
   "execution_count": null,
   "id": "39b1b20b",
   "metadata": {},
   "outputs": [],
   "source": []
  },
  {
   "cell_type": "code",
   "execution_count": null,
   "id": "6c0d92d8",
   "metadata": {},
   "outputs": [],
   "source": []
  },
  {
   "cell_type": "code",
   "execution_count": 12,
   "id": "1672bae3",
   "metadata": {},
   "outputs": [
    {
     "name": "stdout",
     "output_type": "stream",
     "text": [
      "run_20220919_0-225 00500\n"
     ]
    },
    {
     "data": {
      "image/png": "[encoded data removed]",
      "text/plain": [
       "<Figure size 432x288 with 2 Axes>"
      ]
     },
     "metadata": {
      "needs_background": "light"
     },
     "output_type": "display_data"
    },
    {
     "data": {
      "image/png": "[encoded data removed]",
      "text/plain": [
       "<Figure size 432x288 with 2 Axes>"
      ]
     },
     "metadata": {
      "needs_background": "light"
     },
     "output_type": "display_data"
    },
    {
     "name": "stdout",
     "output_type": "stream",
     "text": [
      "run_20220919_0-225 05000\n"
     ]
    },
    {
     "data": {
      "image/png": "[encoded data removed]",
      "text/plain": [
       "<Figure size 432x288 with 2 Axes>"
      ]
     },
     "metadata": {
      "needs_background": "light"
     },
     "output_type": "display_data"
    },
    {
     "data": {
      "image/png": "[encoded data removed]",
      "text/plain": [
       "<Figure size 432x288 with 2 Axes>"
      ]
     },
     "metadata": {
      "needs_background": "light"
     },
     "output_type": "display_data"
    },
    {
     "name": "stdout",
     "output_type": "stream",
     "text": [
      "run_20220919_0-225 10000\n"
     ]
    },
    {
     "data": {
      "image/png": "[encoded data removed]",
      "text/plain": [
       "<Figure size 432x288 with 2 Axes>"
      ]
     },
     "metadata": {
      "needs_background": "light"
     },
     "output_type": "display_data"
    },
    {
     "data": {
      "image/png": "[encoded data removed]",
      "text/plain": [
       "<Figure size 432x288 with 2 Axes>"
      ]
     },
     "metadata": {
      "needs_background": "light"
     },
     "output_type": "display_data"
    },
    {
     "name": "stdout",
     "output_type": "stream",
     "text": [
      "run_20220919_0-225 20000\n"
     ]
    },
    {
     "data": {
      "image/png": "[encoded data removed]",
      "text/plain": [
       "<Figure size 432x288 with 2 Axes>"
      ]
     },
     "metadata": {
      "needs_background": "light"
     },
     "output_type": "display_data"
    },
    {
     "data": {
      "image/png": "[encoded data removed]",
      "text/plain": [
       "<Figure size 432x288 with 2 Axes>"
      ]
     },
     "metadata": {
      "needs_background": "light"
     },
     "output_type": "display_data"
    },
    {
     "name": "stdout",
     "output_type": "stream",
     "text": [
      "run_20220919_225-450 00500\n"
     ]
    },
    {
     "data": {
      "image/png": "[encoded data removed]",
      "text/plain": [
       "<Figure size 432x288 with 2 Axes>"
      ]
     },
     "metadata": {
      "needs_background": "light"
     },
     "output_type": "display_data"
    },
    {
     "data": {
      "image/png": "[encoded data removed]",
      "text/plain": [
       "<Figure size 432x288 with 2 Axes>"
      ]
     },
     "metadata": {
      "needs_background": "light"
     },
     "output_type": "display_data"
    },
    {
     "name": "stdout",
     "output_type": "stream",
     "text": [
      "run_20220919_225-450 05000\n"
     ]
    },
    {
     "data": {
      "image/png": "[encoded data removed]",
      "text/plain": [
       "<Figure size 432x288 with 2 Axes>"
      ]
     },
     "metadata": {
      "needs_background": "light"
     },
     "output_type": "display_data"
    },
    {
     "data": {
      "image/png": "[encoded data removed]",
      "text/plain": [
       "<Figure size 432x288 with 2 Axes>"
      ]
     },
     "metadata": {
      "needs_background": "light"
     },
     "output_type": "display_data"
    },
    {
     "name": "stdout",
     "output_type": "stream",
     "text": [
      "run_20220919_225-450 10000\n"
     ]
    },
    {
     "data": {
      "image/png": "[encoded data removed]",
      "text/plain": [
       "<Figure size 432x288 with 2 Axes>"
      ]
     },
     "metadata": {
      "needs_background": "light"
     },
     "output_type": "display_data"
    },
    {
     "data": {
      "image/png": "[encoded data removed]",
      "text/plain": [
       "<Figure size 432x288 with 2 Axes>"
      ]
     },
     "metadata": {
      "needs_background": "light"
     },
     "output_type": "display_data"
    },
    {
     "name": "stdout",
     "output_type": "stream",
     "text": [
      "run_20220919_225-450 20000\n"
     ]
    },
    {
     "data": {
      "image/png": "[encoded data removed]",
      "text/plain": [
       "<Figure size 432x288 with 2 Axes>"
      ]
     },
     "metadata": {
      "needs_background": "light"
     },
     "output_type": "display_data"
    },
    {
     "data": {
      "image/png": "[encoded data removed]",
      "text/plain": [
       "<Figure size 432x288 with 2 Axes>"
      ]
     },
     "metadata": {
      "needs_background": "light"
     },
     "output_type": "display_data"
    },
    {
     "name": "stdout",
     "output_type": "stream",
     "text": [
      "run_20220919_450-675 00500\n"
     ]
    },
    {
     "data": {
      "image/png": "[encoded data removed]",
      "text/plain": [
       "<Figure size 432x288 with 2 Axes>"
      ]
     },
     "metadata": {
      "needs_background": "light"
     },
     "output_type": "display_data"
    },
    {
     "data": {
      "image/png": "[encoded data removed]",
      "text/plain": [
       "<Figure size 432x288 with 2 Axes>"
      ]
     },
     "metadata": {
      "needs_background": "light"
     },
     "output_type": "display_data"
    },
    {
     "name": "stdout",
     "output_type": "stream",
     "text": [
      "run_20220919_450-675 05000\n"
     ]
    },
    {
     "data": {
      "image/png": "[encoded data removed]",
      "text/plain": [
       "<Figure size 432x288 with 2 Axes>"
      ]
     },
     "metadata": {
      "needs_background": "light"
     },
     "output_type": "display_data"
    },
    {
     "data": {
      "image/png": "[encoded data removed]",
      "text/plain": [
       "<Figure size 432x288 with 2 Axes>"
      ]
     },
     "metadata": {
      "needs_background": "light"
     },
     "output_type": "display_data"
    },
    {
     "name": "stdout",
     "output_type": "stream",
     "text": [
      "run_20220919_450-675 10000\n"
     ]
    },
    {
     "data": {
      "image/png": "[encoded data removed]",
      "text/plain": [
       "<Figure size 432x288 with 2 Axes>"
      ]
     },
     "metadata": {
      "needs_background": "light"
     },
     "output_type": "display_data"
    },
    {
     "data": {
      "image/png": "[encoded data removed]",
      "text/plain": [
       "<Figure size 432x288 with 2 Axes>"
      ]
     },
     "metadata": {
      "needs_background": "light"
     },
     "output_type": "display_data"
    },
    {
     "name": "stdout",
     "output_type": "stream",
     "text": [
      "run_20220919_450-675 20000\n"
     ]
    },
    {
     "data": {
      "image/png": "[encoded data removed]",
      "text/plain": [
       "<Figure size 432x288 with 2 Axes>"
      ]
     },
     "metadata": {
      "needs_background": "light"
     },
     "output_type": "display_data"
    },
    {
     "data": {
      "image/png": "[encoded data removed]",
      "text/plain": [
       "<Figure size 432x288 with 2 Axes>"
      ]
     },
     "metadata": {
      "needs_background": "light"
     },
     "output_type": "display_data"
    }
   ],
   "source": [
    "for (rep, num_loci), repseffs in unwrap_dictionary(fitseffs):\n",
    "    print(rep, num_loci)\n",
    "    repseffs.plot_times()\n",
    "    repseffs.plot_mems()"
   ]
  },
  {
   "cell_type": "markdown",
   "id": "061392ce",
   "metadata": {},
   "source": [
    "<a id='comp'></a>\n",
    "# see which datasets did not complete\n",
    "\n",
    "[top](#home)"
   ]
  },
  {
   "cell_type": "code",
   "execution_count": 13,
   "id": "b92a7bee",
   "metadata": {},
   "outputs": [
    {
     "name": "stderr",
     "output_type": "stream",
     "text": [
      "100%|███████████████| 2250/2250 [00:02<00:00, 750.32it/s]\n"
     ]
    }
   ],
   "source": [
    "# get a list of the 180 2-trait seeds from each 225-seed group of replicates\n",
    "params = rt.mvp.read_params_file()\n",
    "\n",
    "rep_seeds = {}\n",
    "for i in range(3):\n",
    "    if i == 0:\n",
    "        rows = range(225)\n",
    "        rep = 'run_20220919_0-225'\n",
    "    elif i ==1:\n",
    "        rows = range(225, 450)\n",
    "        rep = 'run_20220919_225-450'\n",
    "    else:\n",
    "        rows = range(450, 675)\n",
    "        rep = 'run_20220919_450-675'\n",
    "        \n",
    "    df = params.iloc[rows]\n",
    "    \n",
    "    assert nrow(df) == 225\n",
    "    \n",
    "    df2 = df[df.plevel == '2-trait']\n",
    "    \n",
    "    rep_seeds[rep] = df2.seed.astype(str).tolist()"
   ]
  },
  {
   "cell_type": "code",
   "execution_count": 14,
   "id": "77666b01",
   "metadata": {},
   "outputs": [
    {
     "data": {
      "text/plain": [
       "3"
      ]
     },
     "execution_count": 14,
     "metadata": {},
     "output_type": "execute_result"
    }
   ],
   "source": [
    "# get groups of replication IDs (seeds) identified\n",
    "seeds = wrap_defaultdict(list, 2)\n",
    "shseeds = wrap_defaultdict(dict, 2)\n",
    "for rep, dirs in ind_dirs.items():\n",
    "    for d in dirs:\n",
    "        num_loci = d.split(\"/\")[6]\n",
    "        \n",
    "        training_dir = f'{d}/gradient_forests/training/training_shfiles'\n",
    "\n",
    "        if op.exists(training_dir):\n",
    "            shfiles = fs(training_dir, endswith='.sh', exclude='watcher')\n",
    "            assert len(shfiles) == 225\n",
    "\n",
    "            for sh in shfiles:\n",
    "                seed = op.basename(sh).split(\"_\")[0]\n",
    "                if seed in rep_seeds[rep]:\n",
    "                \n",
    "                    seeds[rep][num_loci].append(seed)\n",
    "                    shseeds[rep][num_loci][seed] = sh\n",
    "        else:\n",
    "            print(ColorText(training_dir).fail())\n",
    "\n",
    "luni(seeds)"
   ]
  },
  {
   "cell_type": "code",
   "execution_count": 15,
   "id": "5b72f74c",
   "metadata": {},
   "outputs": [],
   "source": [
    "fitting_needed = defaultdict(dict)\n",
    "training_needed = defaultdict(dict)\n",
    "for rep, repdirs in ind_dirs.items():\n",
    "    for repdir in repdirs:\n",
    "        gf_dir = f'{repdir}/gradient_forests'\n",
    "        num_loci = repdir.split(\"/\")[6]\n",
    "        \n",
    "        training_dir = f'{gf_dir}/training/training_shfiles'\n",
    "        \n",
    "        \n",
    "        if len(fs(training_dir, endswith='.out')) > 0:\n",
    "            # get needed fitting jobs\n",
    "            validation_dir = f'{gf_dir}/validation/corrs'\n",
    "            needed = set(seeds[rep][num_loci])\n",
    "            \n",
    "            if op.exists(validation_dir):\n",
    "                pkls = fs(validation_dir, endswith='.pkl')\n",
    "                \n",
    "#                 if len(pkls) > 0:\n",
    "#                     print(rep, num_loci, len(pkls))\n",
    "\n",
    "                for pkl in pkls:\n",
    "                    needed -= set([op.basename(pkl).split(\"_\")[0]])\n",
    "        \n",
    "            fitting_needed[rep][num_loci] = needed\n",
    "            \n",
    "            # get needed training jobs\n",
    "            outfile_dir = f'{gf_dir}/training/training_outfiles'\n",
    "            outfiles = fs(outfile_dir, endswith='predOut.RDS')\n",
    "            \n",
    "            needed = set(seeds[rep][num_loci])\n",
    "            \n",
    "            for outfile in outfiles:\n",
    "                seed = op.basename(outfile).split(\"_\")[0]\n",
    "                needed -= set([seed])\n",
    "            \n",
    "            training_needed[rep][num_loci] = needed"
   ]
  },
  {
   "cell_type": "code",
   "execution_count": 16,
   "id": "6518bd7b",
   "metadata": {
    "scrolled": false
   },
   "outputs": [
    {
     "name": "stdout",
     "output_type": "stream",
     "text": [
      "run_20220919_0-225 00500 0 0\n",
      "\n",
      "\n",
      "run_20220919_0-225 05000 0 0\n",
      "\n",
      "\n",
      "run_20220919_0-225 10000 0 0\n",
      "\n",
      "\n",
      "run_20220919_0-225 20000 85 85\n",
      "\n",
      "\n",
      "run_20220919_225-450 00500 0 0\n",
      "\n",
      "\n",
      "run_20220919_225-450 05000 0 0\n",
      "\n",
      "\n",
      "run_20220919_225-450 10000 0 0\n",
      "\n",
      "\n",
      "run_20220919_225-450 20000 90 90\n",
      "\n",
      "\n",
      "run_20220919_450-675 00500 0 0\n",
      "\n",
      "\n",
      "run_20220919_450-675 05000 0 0\n",
      "\n",
      "\n",
      "run_20220919_450-675 10000 0 0\n",
      "\n",
      "\n",
      "run_20220919_450-675 20000 94 94\n",
      "\n",
      "\n"
     ]
    }
   ],
   "source": [
    "# how many training and fitting are needed - the two numbers should be the same\n",
    "for rep in fitting_needed:\n",
    "    for num_loci, needs in fitting_needed[rep].items():\n",
    "        print(rep, num_loci, len(training_needed[rep][num_loci]), len(needs))\n",
    "        print('\\n')"
   ]
  },
  {
   "cell_type": "code",
   "execution_count": null,
   "id": "e50e7557",
   "metadata": {},
   "outputs": [],
   "source": []
  },
  {
   "cell_type": "markdown",
   "id": "7e922776",
   "metadata": {},
   "source": [
    "### everything below here was from a previous run of the noteook\n",
    "\n",
    "saving for notes"
   ]
  },
  {
   "cell_type": "code",
   "execution_count": null,
   "id": "e1c664bf",
   "metadata": {},
   "outputs": [],
   "source": []
  },
  {
   "cell_type": "code",
   "execution_count": null,
   "id": "bffaea30",
   "metadata": {},
   "outputs": [],
   "source": []
  },
  {
   "cell_type": "code",
   "execution_count": null,
   "id": "e9940bc6",
   "metadata": {},
   "outputs": [],
   "source": []
  },
  {
   "cell_type": "code",
   "execution_count": 13,
   "id": "755dba3f",
   "metadata": {},
   "outputs": [
    {
     "data": {
      "text/plain": [
       "2"
      ]
     },
     "execution_count": 13,
     "metadata": {},
     "output_type": "execute_result"
    }
   ],
   "source": [
    "# since the trainined and fitting needed are not the same,\n",
    "    # get seeds of fitting jobs that have completed training jobs\n",
    "    \n",
    "truly_needed = []\n",
    "for (rep, num_loci), needed in unwrap_dictionary(fitting_needed):\n",
    "    gf_dir = f'/work/lotterhos/brandon/ind_runtimes/{rep}/{num_loci}/gradient_forests'\n",
    "    \n",
    "    needed_here = needed - training_needed[rep][num_loci]\n",
    "    for seed in needed_here:\n",
    "        sh = f'{gf_dir}/fitting/fitting_shfiles/{seed}_gf_fitting.sh'\n",
    "        \n",
    "        text = read(sh, lines=True)\n",
    "        \n",
    "        # remove dependency flag\n",
    "        if '--dependency' in text[6]:\n",
    "            text.remove(text[6])\n",
    "            \n",
    "            with open(sh, 'w') as o:\n",
    "                o.write('\\n'.join(text))\n",
    "            \n",
    "        truly_needed.append(sh)\n",
    "        \n",
    "\n",
    "len(truly_needed)"
   ]
  },
  {
   "cell_type": "code",
   "execution_count": 14,
   "id": "dd546b63",
   "metadata": {},
   "outputs": [
    {
     "data": {
      "text/plain": [
       "['/work/lotterhos/brandon/ind_runtimes/run_20220919_0-225/20000/gradient_forests/fitting/fitting_shfiles/1231294_gf_fitting.sh',\n",
       " '/work/lotterhos/brandon/ind_runtimes/run_20220919_0-225/20000/gradient_forests/fitting/fitting_shfiles/1231172_gf_fitting.sh']"
      ]
     },
     "execution_count": 14,
     "metadata": {},
     "output_type": "execute_result"
    }
   ],
   "source": [
    "truly_needed"
   ]
  },
  {
   "cell_type": "code",
   "execution_count": null,
   "id": "6ecab9c7",
   "metadata": {},
   "outputs": [],
   "source": []
  },
  {
   "cell_type": "code",
   "execution_count": null,
   "id": "de7af569",
   "metadata": {},
   "outputs": [],
   "source": []
  },
  {
   "cell_type": "code",
   "execution_count": null,
   "id": "2d58db35",
   "metadata": {},
   "outputs": [],
   "source": []
  },
  {
   "cell_type": "code",
   "execution_count": 20,
   "id": "ad6aaf16",
   "metadata": {},
   "outputs": [
    {
     "data": {
      "text/plain": [
       "'/work/lotterhos/brandon/ind_runtimes/run_20220919_450-675/20000/gradient_forests/fitting/fitting_shfiles/1231763_gf_fitting.sh'"
      ]
     },
     "execution_count": 20,
     "metadata": {},
     "output_type": "execute_result"
    }
   ],
   "source": [
    "for sh in truly_needed:\n",
    "    rep, num_loci = sh.split('/')[5:7]\n",
    "    seed = op.basename(sh).split(\"_\")[0]\n",
    "    training_file = f'/work/lotterhos/brandon/ind_runtimes/{rep}/{num_loci}/gradient_forests/training/training_outfiles/{seed}_GF_training_ind_all_gradient_forest_training.RDS'\n",
    "    assert op.exists(training_file), sh\n",
    "    \n",
    "sh"
   ]
  },
  {
   "cell_type": "code",
   "execution_count": 21,
   "id": "c4c5cde4",
   "metadata": {},
   "outputs": [
    {
     "name": "stderr",
     "output_type": "stream",
     "text": [
      "sbatching: 100%|███████████████| 9/9 [00:01<00:00,  7.56it/s]\n"
     ]
    },
    {
     "data": {
      "text/plain": [
       "['41087596',\n",
       " '41087598',\n",
       " '41087600',\n",
       " '41087601',\n",
       " '41087602',\n",
       " '41087603',\n",
       " '41087604',\n",
       " '41087605',\n",
       " '41087606']"
      ]
     },
     "execution_count": 21,
     "metadata": {},
     "output_type": "execute_result"
    }
   ],
   "source": [
    "sbatch(truly_needed)"
   ]
  },
  {
   "cell_type": "code",
   "execution_count": 22,
   "id": "18429f62",
   "metadata": {},
   "outputs": [
    {
     "data": {
      "text/plain": [
       "\u001b[1m\u001b[38;2;128;128;128m🗒️  Queue Summary:\n",
       "\u001b[0m\u001b[0m\n",
       "{'\u001b[4m\u001b[1mlotterhos\u001b[0m\u001b[0m': {'R': 1},\n",
       " '\u001b[4m\u001b[1mshort\u001b[0m\u001b[0m': {'PD': 9}}"
      ]
     },
     "execution_count": 22,
     "metadata": {},
     "output_type": "execute_result"
    }
   ],
   "source": [
    "Squeue()"
   ]
  },
  {
   "cell_type": "code",
   "execution_count": 23,
   "id": "760fa9aa",
   "metadata": {},
   "outputs": [
    {
     "name": "stderr",
     "output_type": "stream",
     "text": [
      "update: 100%|███████████████| 5/5 [00:00<00:00, 14.39it/s]\n"
     ]
    }
   ],
   "source": [
    "Squeue(partition='short').update(to_partition='long', num_jobs=0.5)"
   ]
  },
  {
   "cell_type": "code",
   "execution_count": null,
   "id": "b001c480",
   "metadata": {},
   "outputs": [],
   "source": []
  },
  {
   "cell_type": "code",
   "execution_count": null,
   "id": "f468e123",
   "metadata": {},
   "outputs": [],
   "source": []
  },
  {
   "cell_type": "code",
   "execution_count": 24,
   "id": "c74d8458",
   "metadata": {},
   "outputs": [
    {
     "name": "stdout",
     "output_type": "stream",
     "text": [
      "run_20220919_0-225 00500 225 0\n",
      "run_20220919_0-225 05000 225 0\n",
      "run_20220919_0-225 10000 225 0\n",
      "run_20220919_0-225 20000 120 105\n",
      "run_20220919_225-450 00500 225 0\n",
      "run_20220919_225-450 05000 225 0\n",
      "run_20220919_225-450 10000 225 0\n",
      "run_20220919_225-450 20000 113 112\n",
      "run_20220919_450-675 00500 225 0\n",
      "run_20220919_450-675 05000 222 3\n",
      "run_20220919_450-675 10000 225 0\n",
      "run_20220919_450-675 20000 106 119\n"
     ]
    }
   ],
   "source": [
    "for rep, repdirs in ind_dirs.items():\n",
    "    for repdir in repdirs:\n",
    "        num_loci = repdir.split(\"/\")[6]\n",
    "        corrdir = f'{repdir}/gradient_forests/validation/corrs'\n",
    "        \n",
    "        if op.exists(corrdir):\n",
    "            pkls = fs(corrdir, endswith='.pkl')\n",
    "            print(rep, num_loci, len(pkls), 225-len(pkls))\n",
    "        else:\n",
    "            print(ColorText(f'{rep=} {num_loci=}').bold())"
   ]
  },
  {
   "cell_type": "code",
   "execution_count": null,
   "id": "b4af9c84",
   "metadata": {},
   "outputs": [],
   "source": []
  },
  {
   "cell_type": "code",
   "execution_count": null,
   "id": "ee616cc8",
   "metadata": {},
   "outputs": [],
   "source": []
  },
  {
   "cell_type": "code",
   "execution_count": null,
   "id": "50d2905c",
   "metadata": {},
   "outputs": [],
   "source": []
  },
  {
   "cell_type": "code",
   "execution_count": null,
   "id": "9825752b",
   "metadata": {},
   "outputs": [],
   "source": []
  },
  {
   "cell_type": "code",
   "execution_count": 70,
   "id": "d541c5a3",
   "metadata": {},
   "outputs": [
    {
     "data": {
      "text/plain": [
       "'/work/lotterhos/brandon/ind_runtimes/run_20220919_0-225/20000/gradient_forests/training/training_shfiles/1231260_GF_training_pooled_all.sh'"
      ]
     },
     "execution_count": 70,
     "metadata": {},
     "output_type": "execute_result"
    }
   ],
   "source": [
    "sh"
   ]
  },
  {
   "cell_type": "code",
   "execution_count": 95,
   "id": "b738f4a0",
   "metadata": {
    "scrolled": true
   },
   "outputs": [
    {
     "name": "stderr",
     "output_type": "stream",
     "text": [
      "run_20220919_0-225 00500: |               | 0/0 [00:00<?, ?it/s]\n",
      "run_20220919_0-225 05000: |               | 0/0 [00:00<?, ?it/s]\n",
      "run_20220919_0-225 10000: |               | 0/0 [00:00<?, ?it/s]\n",
      "run_20220919_0-225 20000: 100%|███████████████| 120/120 [00:03<00:00, 32.80it/s]\n",
      "run_20220919_225-450 00500: |               | 0/0 [00:00<?, ?it/s]\n",
      "run_20220919_225-450 05000: |               | 0/0 [00:00<?, ?it/s]\n",
      "run_20220919_225-450 10000: |               | 0/0 [00:00<?, ?it/s]\n",
      "run_20220919_225-450 20000: 100%|███████████████| 217/217 [00:44<00:00,  4.93it/s]\n",
      "run_20220919_450-675 00500: |               | 0/0 [00:00<?, ?it/s]\n",
      "run_20220919_450-675 05000: |               | 0/0 [00:00<?, ?it/s]\n",
      "run_20220919_450-675 10000: |               | 0/0 [00:00<?, ?it/s]\n",
      "run_20220919_450-675 20000: 100%|███████████████| 217/217 [00:47<00:00,  4.57it/s]\n"
     ]
    }
   ],
   "source": [
    "# submit training jobs\n",
    "jobs = Squeue().jobs().tolist()\n",
    "\n",
    "broke = False\n",
    "training_pids = wrap_defaultdict(dict, 2)  # dict[rep][d][seed]\n",
    "for (rep, numloci), needs in unwrap_dictionary(training_needed):\n",
    "    for seed in pbar(needs, desc=f'{rep} {numloci}'):\n",
    "        sh = shseeds[rep][numloci][seed].replace('fitting', 'training')\\\n",
    "                                    .replace('.sh', '_ind_all.sh')\\\n",
    "                                    .replace('gf', 'GF')\n",
    "        \n",
    "        job = op.basename(sh).rstrip('.sh')\n",
    "        if job not in jobs:\n",
    "            training_pids[rep][numloci][seed] = sbatch(sh, progress_bar=False)[0]"
   ]
  },
  {
   "cell_type": "code",
   "execution_count": null,
   "id": "544370f1",
   "metadata": {},
   "outputs": [],
   "source": []
  },
  {
   "cell_type": "code",
   "execution_count": 19,
   "id": "cb3270ed",
   "metadata": {},
   "outputs": [
    {
     "name": "stderr",
     "output_type": "stream",
     "text": [
      "run_20220919_0-225 00500: |               | 0/0 [00:00<?, ?it/s]\n",
      "run_20220919_0-225 05000: 100%|███████████████| 1/1 [00:00<00:00,  4.82it/s]\n",
      "run_20220919_0-225 10000: 100%|███████████████| 4/4 [00:00<00:00,  6.71it/s]\n",
      "run_20220919_225-450 00500: |               | 0/0 [00:00<?, ?it/s]\n",
      "run_20220919_225-450 05000:   0%|               | 0/2 [00:00<?, ?it/s]sbatch: error: Batch job submission failed: Job dependency problem\n",
      "sbatch: error: Batch job submission failed: Job dependency problem\n",
      "sbatch: error: Batch job submission failed: Job dependency problem\n",
      "sbatch: error: Batch job submission failed: Job dependency problem\n",
      "sbatch: error: Batch job submission failed: Job dependency problem\n",
      "sbatch: error: Batch job submission failed: Job dependency problem\n",
      "sbatch: error: Batch job submission failed: Job dependency problem\n",
      "sbatch: error: Batch job submission failed: Job dependency problem\n",
      "sbatch: error: Batch job submission failed: Job dependency problem\n",
      "sbatch: error: Batch job submission failed: Job dependency problem\n",
      "run_20220919_225-450 05000:  50%|███████▌       | 1/2 [00:01<00:01,  1.18s/it]sbatch: error: Batch job submission failed: Job dependency problem\n",
      "sbatch: error: Batch job submission failed: Job dependency problem\n"
     ]
    },
    {
     "name": "stdout",
     "output_type": "stream",
     "text": [
      "!!!REACHED FAILCOUNT LIMIT OF 10!!!\n"
     ]
    },
    {
     "name": "stderr",
     "output_type": "stream",
     "text": [
      "sbatch: error: Batch job submission failed: Job dependency problem\n",
      "sbatch: error: Batch job submission failed: Job dependency problem\n",
      "sbatch: error: Batch job submission failed: Job dependency problem\n",
      "sbatch: error: Batch job submission failed: Job dependency problem\n",
      "sbatch: error: Batch job submission failed: Job dependency problem\n",
      "sbatch: error: Batch job submission failed: Job dependency problem\n",
      "sbatch: error: Batch job submission failed: Job dependency problem\n",
      "sbatch: error: Batch job submission failed: Job dependency problem\n",
      "run_20220919_225-450 05000: 100%|███████████████| 2/2 [00:02<00:00,  1.23s/it]\n"
     ]
    },
    {
     "name": "stdout",
     "output_type": "stream",
     "text": [
      "!!!REACHED FAILCOUNT LIMIT OF 10!!!\n"
     ]
    },
    {
     "name": "stderr",
     "output_type": "stream",
     "text": [
      "run_20220919_225-450 10000: |               | 0/0 [00:00<?, ?it/s]\n",
      "run_20220919_450-675 00500: |               | 0/0 [00:00<?, ?it/s]\n",
      "run_20220919_450-675 05000:   0%|               | 0/10 [00:00<?, ?it/s]sbatch: error: Batch job submission failed: Job dependency problem\n",
      "sbatch: error: Batch job submission failed: Job dependency problem\n",
      "sbatch: error: Batch job submission failed: Job dependency problem\n",
      "sbatch: error: Batch job submission failed: Job dependency problem\n",
      "sbatch: error: Batch job submission failed: Job dependency problem\n",
      "sbatch: error: Batch job submission failed: Job dependency problem\n",
      "sbatch: error: Batch job submission failed: Job dependency problem\n",
      "sbatch: error: Batch job submission failed: Job dependency problem\n",
      "sbatch: error: Batch job submission failed: Job dependency problem\n",
      "sbatch: error: Batch job submission failed: Job dependency problem\n",
      "run_20220919_450-675 05000:  10%|█▌             | 1/10 [00:01<00:11,  1.23s/it]sbatch: error: Batch job submission failed: Job dependency problem\n",
      "sbatch: error: Batch job submission failed: Job dependency problem\n"
     ]
    },
    {
     "name": "stdout",
     "output_type": "stream",
     "text": [
      "!!!REACHED FAILCOUNT LIMIT OF 10!!!\n"
     ]
    },
    {
     "name": "stderr",
     "output_type": "stream",
     "text": [
      "sbatch: error: Batch job submission failed: Job dependency problem\n",
      "sbatch: error: Batch job submission failed: Job dependency problem\n",
      "sbatch: error: Batch job submission failed: Job dependency problem\n",
      "sbatch: error: Batch job submission failed: Job dependency problem\n",
      "sbatch: error: Batch job submission failed: Job dependency problem\n",
      "sbatch: error: Batch job submission failed: Job dependency problem\n",
      "sbatch: error: Batch job submission failed: Job dependency problem\n",
      "sbatch: error: Batch job submission failed: Job dependency problem\n",
      "run_20220919_450-675 05000:  20%|███            | 2/10 [00:02<00:08,  1.00s/it]sbatch: error: Batch job submission failed: Job dependency problem\n",
      "sbatch: error: Batch job submission failed: Job dependency problem\n"
     ]
    },
    {
     "name": "stdout",
     "output_type": "stream",
     "text": [
      "!!!REACHED FAILCOUNT LIMIT OF 10!!!\n"
     ]
    },
    {
     "name": "stderr",
     "output_type": "stream",
     "text": [
      "sbatch: error: Batch job submission failed: Job dependency problem\n",
      "sbatch: error: Batch job submission failed: Job dependency problem\n",
      "sbatch: error: Batch job submission failed: Job dependency problem\n",
      "sbatch: error: Batch job submission failed: Job dependency problem\n",
      "sbatch: error: Batch job submission failed: Job dependency problem\n",
      "sbatch: error: Batch job submission failed: Job dependency problem\n",
      "sbatch: error: Batch job submission failed: Job dependency problem\n",
      "sbatch: error: Batch job submission failed: Job dependency problem\n",
      "run_20220919_450-675 05000:  30%|████▌          | 3/10 [00:03<00:07,  1.09s/it]sbatch: error: Batch job submission failed: Job dependency problem\n",
      "sbatch: error: Batch job submission failed: Job dependency problem\n"
     ]
    },
    {
     "name": "stdout",
     "output_type": "stream",
     "text": [
      "!!!REACHED FAILCOUNT LIMIT OF 10!!!\n"
     ]
    },
    {
     "name": "stderr",
     "output_type": "stream",
     "text": [
      "sbatch: error: Batch job submission failed: Job dependency problem\n",
      "sbatch: error: Batch job submission failed: Job dependency problem\n",
      "sbatch: error: Batch job submission failed: Job dependency problem\n",
      "sbatch: error: Batch job submission failed: Job dependency problem\n",
      "sbatch: error: Batch job submission failed: Job dependency problem\n",
      "sbatch: error: Batch job submission failed: Job dependency problem\n",
      "sbatch: error: Batch job submission failed: Job dependency problem\n",
      "sbatch: error: Batch job submission failed: Job dependency problem\n",
      "run_20220919_450-675 05000:  40%|██████         | 4/10 [00:04<00:06,  1.01s/it]sbatch: error: Batch job submission failed: Job dependency problem\n"
     ]
    },
    {
     "name": "stdout",
     "output_type": "stream",
     "text": [
      "!!!REACHED FAILCOUNT LIMIT OF 10!!!\n"
     ]
    },
    {
     "name": "stderr",
     "output_type": "stream",
     "text": [
      "sbatch: error: Batch job submission failed: Job dependency problem\n",
      "sbatch: error: Batch job submission failed: Job dependency problem\n",
      "sbatch: error: Batch job submission failed: Job dependency problem\n",
      "sbatch: error: Batch job submission failed: Job dependency problem\n",
      "sbatch: error: Batch job submission failed: Job dependency problem\n",
      "sbatch: error: Batch job submission failed: Job dependency problem\n",
      "sbatch: error: Batch job submission failed: Job dependency problem\n",
      "sbatch: error: Batch job submission failed: Job dependency problem\n",
      "sbatch: error: Batch job submission failed: Job dependency problem\n",
      "run_20220919_450-675 05000:  50%|███████▌       | 5/10 [00:05<00:05,  1.03s/it]sbatch: error: Batch job submission failed: Job dependency problem\n"
     ]
    },
    {
     "name": "stdout",
     "output_type": "stream",
     "text": [
      "!!!REACHED FAILCOUNT LIMIT OF 10!!!\n"
     ]
    },
    {
     "name": "stderr",
     "output_type": "stream",
     "text": [
      "sbatch: error: Batch job submission failed: Job dependency problem\n",
      "sbatch: error: Batch job submission failed: Job dependency problem\n",
      "sbatch: error: Batch job submission failed: Job dependency problem\n",
      "sbatch: error: Batch job submission failed: Job dependency problem\n",
      "sbatch: error: Batch job submission failed: Job dependency problem\n",
      "sbatch: error: Batch job submission failed: Job dependency problem\n",
      "sbatch: error: Batch job submission failed: Job dependency problem\n",
      "sbatch: error: Batch job submission failed: Job dependency problem\n",
      "sbatch: error: Batch job submission failed: Job dependency problem\n",
      "run_20220919_450-675 05000:  60%|█████████      | 6/10 [00:06<00:04,  1.11s/it]"
     ]
    },
    {
     "name": "stdout",
     "output_type": "stream",
     "text": [
      "!!!REACHED FAILCOUNT LIMIT OF 10!!!\n"
     ]
    },
    {
     "name": "stderr",
     "output_type": "stream",
     "text": [
      "sbatch: error: Batch job submission failed: Job dependency problem\n",
      "sbatch: error: Batch job submission failed: Job dependency problem\n",
      "sbatch: error: Batch job submission failed: Job dependency problem\n",
      "sbatch: error: Batch job submission failed: Job dependency problem\n",
      "sbatch: error: Batch job submission failed: Job dependency problem\n",
      "sbatch: error: Batch job submission failed: Job dependency problem\n",
      "sbatch: error: Batch job submission failed: Job dependency problem\n",
      "sbatch: error: Batch job submission failed: Job dependency problem\n",
      "sbatch: error: Batch job submission failed: Job dependency problem\n",
      "sbatch: error: Batch job submission failed: Job dependency problem\n",
      "run_20220919_450-675 05000:  70%|██████████▌    | 7/10 [00:07<00:03,  1.14s/it]"
     ]
    },
    {
     "name": "stdout",
     "output_type": "stream",
     "text": [
      "!!!REACHED FAILCOUNT LIMIT OF 10!!!\n"
     ]
    },
    {
     "name": "stderr",
     "output_type": "stream",
     "text": [
      "sbatch: error: Batch job submission failed: Job dependency problem\n",
      "sbatch: error: Batch job submission failed: Job dependency problem\n",
      "sbatch: error: Batch job submission failed: Job dependency problem\n",
      "sbatch: error: Batch job submission failed: Job dependency problem\n",
      "sbatch: error: Batch job submission failed: Job dependency problem\n",
      "sbatch: error: Batch job submission failed: Job dependency problem\n",
      "sbatch: error: Batch job submission failed: Job dependency problem\n",
      "sbatch: error: Batch job submission failed: Job dependency problem\n",
      "sbatch: error: Batch job submission failed: Job dependency problem\n",
      "sbatch: error: Batch job submission failed: Job dependency problem\n",
      "run_20220919_450-675 05000:  80%|████████████   | 8/10 [00:08<00:02,  1.12s/it]sbatch: error: Batch job submission failed: Job dependency problem\n",
      "sbatch: error: Batch job submission failed: Job dependency problem\n"
     ]
    },
    {
     "name": "stdout",
     "output_type": "stream",
     "text": [
      "!!!REACHED FAILCOUNT LIMIT OF 10!!!\n"
     ]
    },
    {
     "name": "stderr",
     "output_type": "stream",
     "text": [
      "sbatch: error: Batch job submission failed: Job dependency problem\n",
      "sbatch: error: Batch job submission failed: Job dependency problem\n",
      "sbatch: error: Batch job submission failed: Job dependency problem\n",
      "sbatch: error: Batch job submission failed: Job dependency problem\n",
      "sbatch: error: Batch job submission failed: Job dependency problem\n",
      "sbatch: error: Batch job submission failed: Job dependency problem\n",
      "sbatch: error: Batch job submission failed: Job dependency problem\n",
      "sbatch: error: Batch job submission failed: Job dependency problem\n",
      "run_20220919_450-675 05000:  90%|█████████████▌ | 9/10 [00:09<00:01,  1.12s/it]sbatch: error: Batch job submission failed: Job dependency problem\n"
     ]
    },
    {
     "name": "stdout",
     "output_type": "stream",
     "text": [
      "!!!REACHED FAILCOUNT LIMIT OF 10!!!\n"
     ]
    },
    {
     "name": "stderr",
     "output_type": "stream",
     "text": [
      "sbatch: error: Batch job submission failed: Job dependency problem\n",
      "sbatch: error: Batch job submission failed: Job dependency problem\n",
      "sbatch: error: Batch job submission failed: Job dependency problem\n",
      "sbatch: error: Batch job submission failed: Job dependency problem\n",
      "sbatch: error: Batch job submission failed: Job dependency problem\n",
      "sbatch: error: Batch job submission failed: Job dependency problem\n",
      "sbatch: error: Batch job submission failed: Job dependency problem\n",
      "sbatch: error: Batch job submission failed: Job dependency problem\n",
      "sbatch: error: Batch job submission failed: Job dependency problem\n",
      "run_20220919_450-675 05000: 100%|███████████████| 10/10 [00:11<00:00,  1.12s/it]\n"
     ]
    },
    {
     "name": "stdout",
     "output_type": "stream",
     "text": [
      "!!!REACHED FAILCOUNT LIMIT OF 10!!!\n"
     ]
    },
    {
     "name": "stderr",
     "output_type": "stream",
     "text": [
      "run_20220919_450-675 10000: 100%|███████████████| 10/10 [00:01<00:00,  7.34it/s]\n"
     ]
    }
   ],
   "source": [
    "# submit fitting jobs\n",
    "jobs = Squeue().jobs().tolist()\n",
    "for (rep, d), needs in unwrap_dictionary(fitting_needed):\n",
    "    for seed in pbar(needs, desc=f'{rep} {d}'):\n",
    "        fitsh = shseeds[rep][d][seed]\n",
    "        \n",
    "        job = op.basename(fitsh).rstrip('.sh')\n",
    "        \n",
    "        if job in jobs:\n",
    "            continue        \n",
    "        \n",
    "        text = read(fitsh, lines=True)\n",
    "        \n",
    "        # edit dependency if needed\n",
    "        if seed in keys(training_pids[rep][d]):\n",
    "            pid = training_pids[rep][d][seed]\n",
    "\n",
    "            deptext = f'#SBATCH --dependency=afterok:{pid}'\n",
    "            \n",
    "            if 'dependency' in text[6]:\n",
    "                text[6] = deptext\n",
    "            else:\n",
    "                text.insert(6, deptext)\n",
    "\n",
    "        else:\n",
    "            if 'dependency' in text[6]:\n",
    "                text.remove(text[6])\n",
    "                \n",
    "        with open(fitsh, 'w') as o:\n",
    "            o.write('\\n'.join(text))\n",
    "\n",
    "        \n",
    "        sbatch(fitsh, progress_bar=False)"
   ]
  },
  {
   "cell_type": "code",
   "execution_count": null,
   "id": "90a7fe80",
   "metadata": {},
   "outputs": [],
   "source": []
  },
  {
   "cell_type": "code",
   "execution_count": 97,
   "id": "262bb4c1",
   "metadata": {},
   "outputs": [
    {
     "data": {
      "text/plain": [
       "\u001b[1m\u001b[38;2;128;128;128m🗒️  Queue Summary:\n",
       "\u001b[0m\u001b[0m\n",
       "{'\u001b[4m\u001b[1mlong\u001b[0m\u001b[0m': {'PD': 209, 'R': 5},\n",
       " '\u001b[4m\u001b[1mshort\u001b[0m\u001b[0m': {'PD': 219, 'R': 6}}"
      ]
     },
     "execution_count": 97,
     "metadata": {},
     "output_type": "execute_result"
    }
   ],
   "source": [
    "Squeue(grepping='fit')"
   ]
  },
  {
   "cell_type": "code",
   "execution_count": 99,
   "id": "05b74f57",
   "metadata": {},
   "outputs": [
    {
     "name": "stderr",
     "output_type": "stream",
     "text": [
      "update: 100%|███████████████| 277/277 [00:18<00:00, 14.71it/s]\n"
     ]
    }
   ],
   "source": [
    "Squeue(grepping='train', partition='long').update(to_partition='short', num_jobs=0.5)"
   ]
  },
  {
   "cell_type": "code",
   "execution_count": 101,
   "id": "0463cdca",
   "metadata": {},
   "outputs": [
    {
     "data": {
      "text/plain": [
       "\u001b[1m\u001b[38;2;128;128;128m🗒️  Queue Summary:\n",
       "\u001b[0m\u001b[0m\n",
       "{'\u001b[4m\u001b[1mlong\u001b[0m\u001b[0m': {'PD': 277},\n",
       " '\u001b[4m\u001b[1mshort\u001b[0m\u001b[0m': {'PD': 277, 'R': 3}}"
      ]
     },
     "execution_count": 101,
     "metadata": {},
     "output_type": "execute_result"
    }
   ],
   "source": [
    "Squeue(grepping='train')"
   ]
  },
  {
   "cell_type": "code",
   "execution_count": 102,
   "id": "23a8e5da",
   "metadata": {},
   "outputs": [
    {
     "name": "stderr",
     "output_type": "stream",
     "text": [
      "100%|███████████████| 106/106 [00:05<00:00, 18.43it/s]\n"
     ]
    }
   ],
   "source": [
    "Squeue(grepping='Held').release()"
   ]
  },
  {
   "cell_type": "code",
   "execution_count": 27,
   "id": "01e56e29",
   "metadata": {},
   "outputs": [
    {
     "data": {
      "text/plain": [
       "\u001b[1m\u001b[38;2;128;128;128m🗒️  Queue Summary:\n",
       "\u001b[0m\u001b[0m\n",
       "{'\u001b[4m\u001b[1mlong\u001b[0m\u001b[0m': {'PD': 5},\n",
       " '\u001b[4m\u001b[1mlotterhos\u001b[0m\u001b[0m': {'R': 1},\n",
       " '\u001b[4m\u001b[1mshort\u001b[0m\u001b[0m': {'PD': 4}}"
      ]
     },
     "execution_count": 27,
     "metadata": {},
     "output_type": "execute_result"
    }
   ],
   "source": [
    "Squeue()"
   ]
  },
  {
   "cell_type": "code",
   "execution_count": null,
   "id": "c0cb6247",
   "metadata": {},
   "outputs": [],
   "source": []
  },
  {
   "cell_type": "code",
   "execution_count": 26,
   "id": "caa5b205",
   "metadata": {},
   "outputs": [
    {
     "data": {
      "text/plain": [
       "['/work/lotterhos/brandon/ind_runtimes/run_20220919_0-225/20000/gradient_forests/fitting/fitting_shfiles/1231288_gf_fitting.sh',\n",
       " '/work/lotterhos/brandon/ind_runtimes/run_20220919_0-225/20000/gradient_forests/fitting/fitting_shfiles/1231172_gf_fitting.sh',\n",
       " '/work/lotterhos/brandon/ind_runtimes/run_20220919_0-225/20000/gradient_forests/fitting/fitting_shfiles/1231294_gf_fitting.sh',\n",
       " '/work/lotterhos/brandon/ind_runtimes/run_20220919_450-675/05000/gradient_forests/fitting/fitting_shfiles/1231665_gf_fitting.sh',\n",
       " '/work/lotterhos/brandon/ind_runtimes/run_20220919_450-675/05000/gradient_forests/fitting/fitting_shfiles/1231650_gf_fitting.sh',\n",
       " '/work/lotterhos/brandon/ind_runtimes/run_20220919_450-675/05000/gradient_forests/fitting/fitting_shfiles/1231620_gf_fitting.sh',\n",
       " '/work/lotterhos/brandon/ind_runtimes/run_20220919_450-675/20000/gradient_forests/fitting/fitting_shfiles/1231743_gf_fitting.sh',\n",
       " '/work/lotterhos/brandon/ind_runtimes/run_20220919_450-675/20000/gradient_forests/fitting/fitting_shfiles/1231623_gf_fitting.sh',\n",
       " '/work/lotterhos/brandon/ind_runtimes/run_20220919_450-675/20000/gradient_forests/fitting/fitting_shfiles/1231763_gf_fitting.sh']"
      ]
     },
     "execution_count": 26,
     "metadata": {},
     "output_type": "execute_result"
    }
   ],
   "source": [
    "truly_needed"
   ]
  },
  {
   "cell_type": "code",
   "execution_count": null,
   "id": "f981d6bc",
   "metadata": {},
   "outputs": [],
   "source": []
  },
  {
   "cell_type": "code",
   "execution_count": null,
   "id": "7985e07d",
   "metadata": {},
   "outputs": [],
   "source": []
  },
  {
   "cell_type": "code",
   "execution_count": null,
   "id": "151d0466",
   "metadata": {},
   "outputs": [],
   "source": []
  },
  {
   "cell_type": "code",
   "execution_count": null,
   "id": "26dc4241",
   "metadata": {},
   "outputs": [],
   "source": []
  },
  {
   "cell_type": "code",
   "execution_count": null,
   "id": "cc51a3d1",
   "metadata": {},
   "outputs": [],
   "source": []
  },
  {
   "cell_type": "code",
   "execution_count": null,
   "id": "a7e7a18d",
   "metadata": {},
   "outputs": [],
   "source": []
  },
  {
   "cell_type": "code",
   "execution_count": null,
   "id": "3126ef19",
   "metadata": {},
   "outputs": [],
   "source": []
  },
  {
   "cell_type": "code",
   "execution_count": null,
   "id": "4db4958c",
   "metadata": {},
   "outputs": [],
   "source": []
  }
 ],
 "metadata": {
  "kernelspec": {
   "display_name": "Python 3 (ipykernel)",
   "language": "python",
   "name": "python3"
  },
  "language_info": {
   "codemirror_mode": {
    "name": "ipython",
    "version": 3
   },
   "file_extension": ".py",
   "mimetype": "text/x-python",
   "name": "python",
   "nbconvert_exporter": "python",
   "pygments_lexer": "ipython3",
   "version": "3.8.5"
  }
 },
 "nbformat": 4,
 "nbformat_minor": 5
}
