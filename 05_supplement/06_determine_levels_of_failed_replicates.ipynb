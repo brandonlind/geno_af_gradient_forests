{
 "cells": [
  {
   "cell_type": "markdown",
   "id": "ba1f632d",
   "metadata": {},
   "source": [
    "### purpose\n",
    "\n",
    "figure out if there is any commonality regarding the simulation levels for the 269 replicates that died when using 20k loci encoded as individual genotypes\n",
    "\n",
    "### conclusion\n",
    "\n",
    "all MTN landscapes completed, compared to ~25% of SS and EST landscapes. Additionally, the only popsize-migration level that completed 100% was N-variable-m-variable; the others each completed about 37%."
   ]
  },
  {
   "cell_type": "code",
   "execution_count": 1,
   "id": "9966d900",
   "metadata": {},
   "outputs": [
    {
     "name": "stdout",
     "output_type": "stream",
     "text": [
      "#########################################################\n",
      "Today:\tAugust 12, 2024 - 15:14:12 EDT\n",
      "python version: 3.8.5\n",
      "conda env: mvp_env\n",
      "\n",
      "Current commit of \u001b[1mpythonimports\u001b[0m:\n",
      "\u001b[33mcommit 6a767410e7b569adbf9df526de108f22ef50aad8\u001b[m  \n",
      "Author: Brandon Lind <lind.brandon.m@gmail.com>  \n",
      "Date:   Wed Mar 6 13:42:13 2024 -0700\n",
      "\n",
      "Current commit of \u001b[94m\u001b[1mMVP_offsets\u001b[0m\u001b[0m:\n",
      "\u001b[33mcommit 5ce82f4d655645237a0f4026fa32e220226dc373\u001b[m  \n",
      "Author: Brandon Lind <lind.brandon.m@gmail.com>  \n",
      "Date:   Thu May 16 13:02:58 2024 -0400\n",
      "\n",
      "Current commit of \u001b[38;2;128;0;128m\u001b[1mMVP_runtime\u001b[0m\u001b[0m:\n",
      "\u001b[33mcommit df87dd2c708ac0fdeebcfaaca239473ca2c487af\u001b[m  \n",
      "Author: Brandon Lind <lind.brandon.m@gmail.com>  \n",
      "Date:   Tue Mar 19 16:17:46 2024 -0400\n",
      "#########################################################\n",
      "\n"
     ]
    },
    {
     "data": {
      "text/html": [
       "<details>\n",
       "<summary>Click to view session information</summary>\n",
       "<pre>\n",
       "-----\n",
       "MVP_summary_functions       NA\n",
       "balance_queue               NA\n",
       "cartopy                     0.20.2\n",
       "ipyparallel                 7.1.0\n",
       "matplotlib                  3.5.2\n",
       "myclasses                   NA\n",
       "myfigs                      NA\n",
       "mymaps                      NA\n",
       "myslurm                     NA\n",
       "numpy                       1.22.1\n",
       "pandas                      1.3.5\n",
       "pythonimports               NA\n",
       "runtime_API                 NA\n",
       "session_info                1.0.0\n",
       "tqdm                        4.62.1\n",
       "-----\n",
       "</pre>\n",
       "<details>\n",
       "<summary>Click to view modules imported as dependencies</summary>\n",
       "<pre>\n",
       "MVP_01_train_gradient_forests       NA\n",
       "MVP_10_train_lfmm2_offset           NA\n",
       "PIL                                 8.4.0\n",
       "attr                                21.4.0\n",
       "backcall                            0.2.0\n",
       "beta_ufunc                          NA\n",
       "binom_ufunc                         NA\n",
       "bottleneck                          1.3.2\n",
       "certifi                             2023.05.07\n",
       "cffi                                1.15.0\n",
       "cycler                              0.10.0\n",
       "cython_runtime                      NA\n",
       "dateutil                            2.8.2\n",
       "debugpy                             1.5.1\n",
       "decorator                           5.1.1\n",
       "defusedxml                          0.7.1\n",
       "entrypoints                         0.4\n",
       "fiona                               1.9.5\n",
       "fontTools                           4.29.1\n",
       "ipykernel                           6.8.0\n",
       "ipython_genutils                    0.2.0\n",
       "ipywidgets                          7.6.5\n",
       "jedi                                0.18.1\n",
       "kiwisolver                          1.3.2\n",
       "matplotlib_venn                     0.11.6\n",
       "mpl_toolkits                        NA\n",
       "nbinom_ufunc                        NA\n",
       "numexpr                             2.8.1\n",
       "packaging                           21.3\n",
       "parso                               0.8.3\n",
       "patsy                               0.5.2\n",
       "pdf2image                           NA\n",
       "pexpect                             4.8.0\n",
       "pickleshare                         0.7.5\n",
       "pkg_resources                       NA\n",
       "prompt_toolkit                      3.0.26\n",
       "psutil                              5.9.0\n",
       "ptyprocess                          0.7.0\n",
       "pydev_ipython                       NA\n",
       "pydevconsole                        NA\n",
       "pydevd                              2.6.0\n",
       "pydevd_concurrency_analyser         NA\n",
       "pydevd_file_utils                   NA\n",
       "pydevd_plugins                      NA\n",
       "pydevd_tracing                      NA\n",
       "pygments                            2.11.2\n",
       "pyparsing                           3.0.7\n",
       "pyproj                              3.3.0\n",
       "pytz                                2021.3\n",
       "scipy                               1.7.3\n",
       "seaborn                             0.11.2\n",
       "setuptools                          60.7.1\n",
       "shapefile                           2.2.0\n",
       "shapely                             1.8.0\n",
       "six                                 1.16.0\n",
       "statsmodels                         0.14.0\n",
       "storemagic                          NA\n",
       "tornado                             6.1\n",
       "traitlets                           5.1.1\n",
       "wcwidth                             0.2.5\n",
       "zmq                                 22.3.0\n",
       "</pre>\n",
       "</details> <!-- seems like this ends pre, so might as well be explicit -->\n",
       "<pre>\n",
       "-----\n",
       "IPython             7.31.1\n",
       "jupyter_client      7.1.2\n",
       "jupyter_core        4.9.1\n",
       "notebook            6.4.8\n",
       "-----\n",
       "Python 3.8.5 (default, Sep  4 2020, 07:30:14) [GCC 7.3.0]\n",
       "Linux-3.10.0-1160.25.1.el7.x86_64-x86_64-with-glibc2.10\n",
       "-----\n",
       "Session information updated at 2024-08-12 15:14\n",
       "</pre>\n",
       "</details>"
      ],
      "text/plain": [
       "<IPython.core.display.HTML object>"
      ]
     },
     "execution_count": 1,
     "metadata": {},
     "output_type": "execute_result"
    }
   ],
   "source": [
    "from pythonimports import *\n",
    "\n",
    "import runtime_API as rt\n",
    "import MVP_summary_functions as mvp\n",
    "\n",
    "t0 = dt.now()  # notebook timer\n",
    "\n",
    "rt.latest_commit()\n",
    "session_info.show()"
   ]
  },
  {
   "cell_type": "markdown",
   "id": "189ba7bc",
   "metadata": {},
   "source": [
    "# get data "
   ]
  },
  {
   "cell_type": "markdown",
   "id": "5dbcf757",
   "metadata": {},
   "source": [
    "### get simulation parameters"
   ]
  },
  {
   "cell_type": "code",
   "execution_count": 2,
   "id": "71e52b49",
   "metadata": {},
   "outputs": [
    {
     "name": "stderr",
     "output_type": "stream",
     "text": [
      "100%|███████████████| 2250/2250 [00:02<00:00, 841.13it/s]\n"
     ]
    },
    {
     "data": {
      "text/plain": [
       "(540, 36)"
      ]
     },
     "execution_count": 2,
     "metadata": {},
     "output_type": "execute_result"
    }
   ],
   "source": [
    "params = mvp.read_params_file()\n",
    "\n",
    "sub_params = params[params.seed.astype(str).isin(rt.seeds)]\n",
    "\n",
    "sub_params.shape"
   ]
  },
  {
   "cell_type": "markdown",
   "id": "71ebb652",
   "metadata": {},
   "source": [
    "### get results"
   ]
  },
  {
   "cell_type": "code",
   "execution_count": 3,
   "id": "dd2d8415",
   "metadata": {},
   "outputs": [
    {
     "name": "stdout",
     "output_type": "stream",
     "text": [
      "\u001b[93mkeeping records for models using 20k loci\u001b[0m\n",
      "ind shape = (189100, 17)\n",
      "Function `load_results` completed after : 0-00:00:18\n"
     ]
    },
    {
     "data": {
      "text/plain": [
       "(189100, 19)"
      ]
     },
     "execution_count": 3,
     "metadata": {},
     "output_type": "execute_result"
    }
   ],
   "source": [
    "ind_results = rt.load_results(source='ind', ignore_20k=False)\n",
    "\n",
    "ind_results.shape"
   ]
  },
  {
   "cell_type": "markdown",
   "id": "67819266",
   "metadata": {},
   "source": [
    "### subset ind and pooled to 20k loci sets"
   ]
  },
  {
   "cell_type": "code",
   "execution_count": 4,
   "id": "c67b9157",
   "metadata": {
    "scrolled": true
   },
   "outputs": [],
   "source": [
    "ind = ind_results[ind_results.num_loci == '20000'].copy()"
   ]
  },
  {
   "cell_type": "code",
   "execution_count": 5,
   "id": "87a61bf3",
   "metadata": {},
   "outputs": [
    {
     "data": {
      "text/plain": [
       "(271, 540)"
      ]
     },
     "execution_count": 5,
     "metadata": {},
     "output_type": "execute_result"
    }
   ],
   "source": [
    "# make sure different numbers of seeds (ie failed jobs at ind level)\n",
    "len(set(ind.seed)), len(set(sub_params.seed))"
   ]
  },
  {
   "cell_type": "markdown",
   "id": "ba10bfdf",
   "metadata": {},
   "source": [
    "# which subparameters are not equally represented?"
   ]
  },
  {
   "cell_type": "code",
   "execution_count": 6,
   "id": "9f98d463",
   "metadata": {},
   "outputs": [],
   "source": [
    "def get_counts(column):\n",
    "    \"\"\"Get expected counts of simulation seeds and number of seeds that completed evaluation.\n",
    "    \n",
    "    Notes\n",
    "    -----\n",
    "    - each seed is a simulation replicate\n",
    "    \"\"\"\n",
    "    # sanity check that each rep evaluated 100 gardens\n",
    "    assert all(ind[column].value_counts() % 100 == 0)\n",
    "    \n",
    "    # what are the expected counts of simulation-level parameters?\n",
    "    expected_counts = sub_params[column].value_counts()\n",
    "\n",
    "    # what are the actual counts of completed jobs of these simulation-level parameters?\n",
    "        # divide by 100 common gardens\n",
    "    actual_counts = ind[column].value_counts() / 100\n",
    "\n",
    "    return expected_counts, actual_counts"
   ]
  },
  {
   "cell_type": "code",
   "execution_count": 7,
   "id": "55d1be8e",
   "metadata": {},
   "outputs": [
    {
     "data": {
      "text/plain": [
       "dict_keys(['landscape', 'glevel', 'pleio', 'slevel', 'popsize', 'migration', 'noncausal_env', 'marker_set', 'program', 'demography', 'num_loci', 'final_la_bin', 'source'])"
      ]
     },
     "execution_count": 7,
     "metadata": {},
     "output_type": "execute_result"
    }
   ],
   "source": [
    "rt.hue_order.keys()"
   ]
  },
  {
   "cell_type": "code",
   "execution_count": 8,
   "id": "1b5fa0d1",
   "metadata": {
    "scrolled": false
   },
   "outputs": [
    {
     "name": "stdout",
     "output_type": "stream",
     "text": [
      "\u001b[94m\u001b[1m\n",
      "landscape\u001b[0m\u001b[0m\n",
      "Est-Clines    0.261111\n",
      "SS-Clines     0.244444\n",
      "SS-Mtn        1.000000\n",
      "Name: landscape, dtype: float64\n",
      "\u001b[94m\u001b[1m\n",
      "glevel\u001b[0m\u001b[0m\n",
      "highly-polygenic    0.505556\n",
      "mod-polygenic       0.500000\n",
      "oligogenic          0.500000\n",
      "Name: glevel, dtype: float64\n",
      "\u001b[94m\u001b[1m\n",
      "pleio\u001b[0m\u001b[0m\n",
      "no pleiotropy    0.511111\n",
      "pleiotropy       0.492593\n",
      "Name: pleio, dtype: float64\n",
      "\u001b[94m\u001b[1m\n",
      "slevel\u001b[0m\u001b[0m\n",
      "equal-S      0.511111\n",
      "unequal-S    0.492593\n",
      "Name: slevel, dtype: float64\n",
      "\u001b[94m\u001b[1m\n",
      "popsize\u001b[0m\u001b[0m\n",
      "N-cline-N-to-S            0.370370\n",
      "N-cline-center-to-edge    0.361111\n",
      "N-equal                   0.388889\n",
      "N-variable                1.000000\n",
      "Name: popsize, dtype: float64\n",
      "\u001b[94m\u001b[1m\n",
      "migration\u001b[0m\u001b[0m\n",
      "m-breaks      0.388889\n",
      "m-constant    0.373457\n",
      "m-variable    1.000000\n",
      "Name: migration, dtype: float64\n"
     ]
    }
   ],
   "source": [
    "# if a count is less than the coun\n",
    "for column in rt.hue_order.keys():\n",
    "    if column in params.columns.tolist():\n",
    "        print(ColorText(f'\\n{column}').bold().blue())\n",
    "        \n",
    "        expected_counts, actual_counts = get_counts(column)\n",
    "\n",
    "        print(\n",
    "            ColorText(\n",
    "                (actual_counts / expected_counts).__str__()\n",
    "            )\n",
    "        )"
   ]
  },
  {
   "cell_type": "markdown",
   "id": "919a11d4",
   "metadata": {},
   "source": [
    "# sanity check\n",
    "\n",
    "show myself that / between two pd.Series pays attention to the index (since `expected_counts` and `actual_counts` are out of order)"
   ]
  },
  {
   "cell_type": "code",
   "execution_count": 9,
   "id": "4b31d1e1",
   "metadata": {},
   "outputs": [],
   "source": [
    "expected_counts, actual_counts = get_counts('landscape')"
   ]
  },
  {
   "cell_type": "code",
   "execution_count": 10,
   "id": "aa1bb393",
   "metadata": {},
   "outputs": [
    {
     "data": {
      "text/plain": [
       "Est-Clines    180\n",
       "SS-Clines     180\n",
       "SS-Mtn        180\n",
       "Name: landscape, dtype: int64"
      ]
     },
     "execution_count": 10,
     "metadata": {},
     "output_type": "execute_result"
    }
   ],
   "source": [
    "expected_counts"
   ]
  },
  {
   "cell_type": "code",
   "execution_count": 11,
   "id": "503c0961",
   "metadata": {},
   "outputs": [
    {
     "data": {
      "text/plain": [
       "SS-Mtn        180.0\n",
       "Est-Clines     47.0\n",
       "SS-Clines      44.0\n",
       "Name: landscape, dtype: float64"
      ]
     },
     "execution_count": 11,
     "metadata": {},
     "output_type": "execute_result"
    }
   ],
   "source": [
    "actual_counts"
   ]
  },
  {
   "cell_type": "code",
   "execution_count": 12,
   "id": "ab13829b",
   "metadata": {},
   "outputs": [
    {
     "data": {
      "text/plain": [
       "Est-Clines    0.261111\n",
       "SS-Clines     0.244444\n",
       "SS-Mtn        1.000000\n",
       "Name: landscape, dtype: float64"
      ]
     },
     "execution_count": 12,
     "metadata": {},
     "output_type": "execute_result"
    }
   ],
   "source": [
    "actual_counts / expected_counts"
   ]
  },
  {
   "cell_type": "code",
   "execution_count": 13,
   "id": "9a38dd28",
   "metadata": {},
   "outputs": [
    {
     "name": "stdout",
     "output_type": "stream",
     "text": [
      "Est-Clines 0.2611111111111111\n",
      "SS-Clines 0.24444444444444444\n",
      "SS-Mtn 1.0\n"
     ]
    }
   ],
   "source": [
    "for subparam in expected_counts.index:\n",
    "    print(subparam, actual_counts.loc[subparam] / expected_counts.loc[subparam])"
   ]
  },
  {
   "cell_type": "code",
   "execution_count": null,
   "id": "29d2994d",
   "metadata": {},
   "outputs": [],
   "source": []
  },
  {
   "cell_type": "code",
   "execution_count": 14,
   "id": "1bf68726",
   "metadata": {},
   "outputs": [
    {
     "data": {
      "text/plain": [
       "'0-00:00:22'"
      ]
     },
     "execution_count": 14,
     "metadata": {},
     "output_type": "execute_result"
    }
   ],
   "source": [
    "formatclock(dt.now() - t0)"
   ]
  },
  {
   "cell_type": "code",
   "execution_count": null,
   "id": "ab285b98",
   "metadata": {},
   "outputs": [],
   "source": []
  }
 ],
 "metadata": {
  "kernelspec": {
   "display_name": "Python 3 (ipykernel)",
   "language": "python",
   "name": "python3"
  },
  "language_info": {
   "codemirror_mode": {
    "name": "ipython",
    "version": 3
   },
   "file_extension": ".py",
   "mimetype": "text/x-python",
   "name": "python",
   "nbconvert_exporter": "python",
   "pygments_lexer": "ipython3",
   "version": "3.8.5"
  }
 },
 "nbformat": 4,
 "nbformat_minor": 5
}
