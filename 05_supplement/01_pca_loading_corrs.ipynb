{
 "cells": [
  {
   "cell_type": "markdown",
   "id": "2896d279",
   "metadata": {},
   "source": [
    "<a id='home'></a>\n",
    "### purpose\n",
    "\n",
    "why do GF runs using 500 markers do about as well as runs using 10k-20k markers? here I look to see if those 500 pick up on population structure in a similar way that larger sets of loci would have. If the 500-loci set picks up on similar pop structure, there should be highly correlated distances in PC space amoung populations\n",
    "\n",
    "### notes\n",
    "\n",
    "I didn't compare 500 to 20000 because some sims have fewer than 20k loci, so comparing to 10k is probably fine\n",
    "\n",
    "### outline\n",
    "\n",
    "1. [estimate PCs with locus data](#est)\n",
    "    1. [get snp data](#snp)\n",
    "    1. [estimate PCs](#pca)\n",
    "1. [calc correlation of PC loadings](#calc)\n",
    "1. [make figs](#figs)\n",
    "1. [print out percentiles](#print)"
   ]
  },
  {
   "cell_type": "code",
   "execution_count": 1,
   "id": "1c14c6ac",
   "metadata": {},
   "outputs": [
    {
     "name": "stdout",
     "output_type": "stream",
     "text": [
      "36 36\n",
      "#########################################################\n",
      "Today:\tMarch 20, 2024 - 14:45:14 EDT\n",
      "python version: 3.8.5\n",
      "conda env: mvp_env\n",
      "\n",
      "Current commit of \u001b[1mpythonimports\u001b[0m:\n",
      "\u001b[33mcommit 6a767410e7b569adbf9df526de108f22ef50aad8\u001b[m  \n",
      "Author: Brandon Lind <lind.brandon.m@gmail.com>  \n",
      "Date:   Wed Mar 6 13:42:13 2024 -0700\n",
      "\n",
      "Current commit of \u001b[94m\u001b[1mMVP_offsets\u001b[0m\u001b[0m:\n",
      "\u001b[33mcommit 8b790072e7a46d7f58a30c40cf4660986a612764\u001b[m  \n",
      "Author: Brandon Lind <lind.brandon.m@gmail.com>  \n",
      "Date:   Fri Feb 2 13:55:49 2024 -0500\n",
      "\n",
      "Current commit of \u001b[38;2;128;0;128m\u001b[1mMVP_runtime\u001b[0m\u001b[0m:\n",
      "\u001b[33mcommit df87dd2c708ac0fdeebcfaaca239473ca2c487af\u001b[m  \n",
      "Author: Brandon Lind <lind.brandon.m@gmail.com>  \n",
      "Date:   Tue Mar 19 16:17:46 2024 -0400\n",
      "#########################################################\n",
      "\n"
     ]
    },
    {
     "data": {
      "text/html": [
       "<details>\n",
       "<summary>Click to view session information</summary>\n",
       "<pre>\n",
       "-----\n",
       "balance_queue       NA\n",
       "cartopy             0.20.2\n",
       "ipyparallel         7.1.0\n",
       "matplotlib          3.5.2\n",
       "myclasses           NA\n",
       "myfigs              NA\n",
       "mymaps              NA\n",
       "myslurm             NA\n",
       "numpy               1.22.1\n",
       "pandas              1.3.5\n",
       "pythonimports       NA\n",
       "runtime_API         NA\n",
       "session_info        1.0.0\n",
       "sklearn             1.0.2\n",
       "tqdm                4.62.1\n",
       "-----\n",
       "</pre>\n",
       "<details>\n",
       "<summary>Click to view modules imported as dependencies</summary>\n",
       "<pre>\n",
       "MVP_01_train_gradient_forests       NA\n",
       "MVP_10_train_lfmm2_offset           NA\n",
       "MVP_summary_functions               NA\n",
       "PIL                                 8.4.0\n",
       "attr                                21.4.0\n",
       "backcall                            0.2.0\n",
       "beta_ufunc                          NA\n",
       "binom_ufunc                         NA\n",
       "bottleneck                          1.3.2\n",
       "certifi                             2023.05.07\n",
       "cffi                                1.15.0\n",
       "cycler                              0.10.0\n",
       "cython_runtime                      NA\n",
       "dateutil                            2.8.2\n",
       "debugpy                             1.5.1\n",
       "decorator                           5.1.1\n",
       "defusedxml                          0.7.1\n",
       "entrypoints                         0.4\n",
       "fiona                               1.9.5\n",
       "fontTools                           4.29.1\n",
       "ipykernel                           6.8.0\n",
       "ipython_genutils                    0.2.0\n",
       "ipywidgets                          7.6.5\n",
       "jedi                                0.18.1\n",
       "joblib                              0.17.0\n",
       "kiwisolver                          1.3.2\n",
       "matplotlib_venn                     0.11.6\n",
       "mpl_toolkits                        NA\n",
       "nbinom_ufunc                        NA\n",
       "numexpr                             2.8.1\n",
       "packaging                           21.3\n",
       "parso                               0.8.3\n",
       "patsy                               0.5.2\n",
       "pdf2image                           NA\n",
       "pexpect                             4.8.0\n",
       "pickleshare                         0.7.5\n",
       "pkg_resources                       NA\n",
       "prompt_toolkit                      3.0.26\n",
       "psutil                              5.9.0\n",
       "ptyprocess                          0.7.0\n",
       "pydev_ipython                       NA\n",
       "pydevconsole                        NA\n",
       "pydevd                              2.6.0\n",
       "pydevd_concurrency_analyser         NA\n",
       "pydevd_file_utils                   NA\n",
       "pydevd_plugins                      NA\n",
       "pydevd_tracing                      NA\n",
       "pygments                            2.11.2\n",
       "pyparsing                           3.0.7\n",
       "pyproj                              3.3.0\n",
       "pytz                                2021.3\n",
       "scipy                               1.7.3\n",
       "seaborn                             0.11.2\n",
       "setuptools                          60.7.1\n",
       "shapefile                           2.2.0\n",
       "shapely                             1.8.0\n",
       "six                                 1.16.0\n",
       "statsmodels                         0.14.0\n",
       "storemagic                          NA\n",
       "threadpoolctl                       2.1.0\n",
       "tornado                             6.1\n",
       "traitlets                           5.1.1\n",
       "typing_extensions                   NA\n",
       "wcwidth                             0.2.5\n",
       "zmq                                 22.3.0\n",
       "</pre>\n",
       "</details> <!-- seems like this ends pre, so might as well be explicit -->\n",
       "<pre>\n",
       "-----\n",
       "IPython             7.31.1\n",
       "jupyter_client      7.1.2\n",
       "jupyter_core        4.9.1\n",
       "notebook            6.4.8\n",
       "-----\n",
       "Python 3.8.5 (default, Sep  4 2020, 07:30:14) [GCC 7.3.0]\n",
       "Linux-3.10.0-1160.25.1.el7.x86_64-x86_64-with-glibc2.10\n",
       "-----\n",
       "Session information updated at 2024-03-20 14:45\n",
       "</pre>\n",
       "</details>"
      ],
      "text/plain": [
       "<IPython.core.display.HTML object>"
      ]
     },
     "execution_count": 1,
     "metadata": {},
     "output_type": "execute_result"
    }
   ],
   "source": [
    "from pythonimports import *\n",
    "import myfigs as mf\n",
    "\n",
    "import runtime_API as rt\n",
    "\n",
    "from sklearn.decomposition import PCA\n",
    "\n",
    "lview, dview = get_client(cluster_id='1710954656-wtze', profile='lotterhos')\n",
    "\n",
    "save_dir = makedir(f'{rt.resdir}/supp_figs/05/01_pca_distance')\n",
    "\n",
    "t0 = dt.now()  # notebook timer\n",
    "\n",
    "rt.latest_commit()\n",
    "session_info.show()"
   ]
  },
  {
   "cell_type": "markdown",
   "id": "e8f086e5",
   "metadata": {},
   "source": [
    "<a id='est'></a>\n",
    "# estimate PCs with locus data\n",
    "\n",
    "[top](#home)"
   ]
  },
  {
   "cell_type": "markdown",
   "id": "4e711e97",
   "metadata": {},
   "source": [
    "<a id='snps'></a>\n",
    "### get the snpfiles"
   ]
  },
  {
   "cell_type": "code",
   "execution_count": 2,
   "id": "bfb3773b",
   "metadata": {},
   "outputs": [
    {
     "name": "stderr",
     "output_type": "stream",
     "text": [
      "ind run_20220919_0-225: 100%|███████████████| 4/4 [00:00<00:00, 16.78it/s]\n",
      "ind run_20220919_225-450: 100%|███████████████| 4/4 [00:00<00:00, 14.96it/s]\n",
      "ind run_20220919_450-675: 100%|███████████████| 4/4 [00:00<00:00, 11.68it/s]\n",
      "pooled run_20220919_0-225: 100%|███████████████| 4/4 [00:00<00:00, 11.42it/s]\n",
      "pooled run_20220919_225-450: 100%|███████████████| 4/4 [00:00<00:00,  9.08it/s]\n",
      "pooled run_20220919_450-675: 100%|███████████████| 4/4 [00:00<00:00, 12.18it/s]\n"
     ]
    }
   ],
   "source": [
    "# get snpfiles for 500, 5000, 10000, and 20k snp sets\n",
    "snpfiles = wrap_defaultdict(list, 2)\n",
    "for (source, rep), repdirs in unwrap_dictionary(rt.dirs):\n",
    "    for repdir in pbar(repdirs, desc=f'{source} {rep}'):\n",
    "        num_loci = op.basename(repdir)\n",
    "        snpdir = f'{repdir}/gradient_forests/training/training_files'\n",
    "        files = fs(snpdir, endswith=f'_Rout_Gmat_sample_maf-gt-p01_GFready_{source}_all.txt')\n",
    "\n",
    "        assert len(files) == 225\n",
    "        \n",
    "        for snpfile in files:\n",
    "            seed = op.basename(snpfile).split(\"_\")[0]\n",
    "            if seed in rt.seeds:\n",
    "                snpfiles[source][seed].append(snpfile)\n",
    "        "
   ]
  },
  {
   "cell_type": "code",
   "execution_count": 3,
   "id": "393b26ff",
   "metadata": {},
   "outputs": [
    {
     "data": {
      "text/plain": [
       "(540, 540)"
      ]
     },
     "execution_count": 3,
     "metadata": {},
     "output_type": "execute_result"
    }
   ],
   "source": [
    "len(snpfiles['ind']), len(snpfiles['pooled'])"
   ]
  },
  {
   "cell_type": "code",
   "execution_count": 4,
   "id": "88a9ca04",
   "metadata": {},
   "outputs": [],
   "source": [
    "for (source, seed), files in unwrap_dictionary(snpfiles):\n",
    "    assert len(files) == 4"
   ]
  },
  {
   "cell_type": "markdown",
   "id": "67bda148",
   "metadata": {},
   "source": [
    "<a id='pca'></a>\n",
    "### estimate pca\n",
    "\n",
    "[top](#home)"
   ]
  },
  {
   "cell_type": "code",
   "execution_count": 5,
   "id": "a6a64cd3",
   "metadata": {},
   "outputs": [],
   "source": [
    "def do_pca(snpfile, n_components=3):\n",
    "    \"\"\"Run principal component analysis.\"\"\"\n",
    "    from sklearn.decomposition import PCA\n",
    "    import pandas as pd\n",
    "    \n",
    "    data = pd.read_table(snpfile, index_col='index')\n",
    "    \n",
    "    loadings_pca = PCA(n_components=n_components).fit_transform(data)\n",
    "    pca_loadings = pd.DataFrame(loadings_pca, index=data.index)\n",
    "    \n",
    "    return pca_loadings\n",
    "\n",
    "\n",
    "def get_pcas(snpfiles):\n",
    "    pca_loadings = {}\n",
    "    for snpfile in snpfiles:\n",
    "        num_loci = snpfile.split('/')[6].lstrip('0')\n",
    "        assert float(num_loci) == int(num_loci)\n",
    "        \n",
    "        pca_loadings[num_loci] = do_pca(snpfile)\n",
    "        \n",
    "    return pca_loadings\n",
    "\n",
    "dview['do_pca'] = do_pca"
   ]
  },
  {
   "cell_type": "code",
   "execution_count": 6,
   "id": "4486e409",
   "metadata": {},
   "outputs": [
    {
     "name": "stdout",
     "output_type": "stream",
     "text": [
      "\u001b[1m\n",
      "Watching 1080 jobs ...\u001b[0m\n"
     ]
    },
    {
     "name": "stderr",
     "output_type": "stream",
     "text": [
      "100%|███████████████| 1080/1080 [22:53<00:00,  1.27s/it]\n"
     ]
    }
   ],
   "source": [
    "# estimate PCA loadings in parallel\n",
    "\n",
    "jobs = []\n",
    "args = []\n",
    "for (source, seed), files in unwrap_dictionary(snpfiles):\n",
    "    args.append((source, seed))\n",
    "    \n",
    "    jobs.append(\n",
    "        lview.apply_async(\n",
    "            get_pcas, files\n",
    "        )\n",
    "    )\n",
    "    \n",
    "watch_async(jobs)"
   ]
  },
  {
   "cell_type": "code",
   "execution_count": 7,
   "id": "a51140b8",
   "metadata": {},
   "outputs": [
    {
     "data": {
      "text/plain": [
       "'/work/lotterhos/brandon/runtime/supp_figs/05/01_pca_distance/pca_loadings.pkl'"
      ]
     },
     "execution_count": 7,
     "metadata": {},
     "output_type": "execute_result"
    }
   ],
   "source": [
    "# save loadings for easy loading\n",
    "pca_loadings = defaultdict(dict)\n",
    "for i, j in enumerate(jobs):\n",
    "    source, seed = args[i]\n",
    "    pca_loadings[source][seed] = j.r\n",
    "    \n",
    "pkl = f'{save_dir}/pca_loadings.pkl'\n",
    "pkldump(pca_loadings, pkl)\n",
    "\n",
    "pkl"
   ]
  },
  {
   "cell_type": "markdown",
   "id": "af1fe477",
   "metadata": {},
   "source": [
    "<a id='calc'></a>\n",
    "# calc correlation of PC loadings\n",
    "\n",
    "[top](#home)"
   ]
  },
  {
   "cell_type": "code",
   "execution_count": 8,
   "id": "b8dcee75",
   "metadata": {},
   "outputs": [
    {
     "name": "stderr",
     "output_type": "stream",
     "text": [
      "ind: 100%|███████████████| 540/540 [00:02<00:00, 220.36it/s]\n",
      "pooled: 100%|███████████████| 540/540 [00:02<00:00, 249.63it/s]\n"
     ]
    }
   ],
   "source": [
    "# calc correlation of PC loadings between 500-loci PCs and 10k-loci PCs\n",
    "corrs = wrap_defaultdict(list, 2)\n",
    "for source, seeds in pca_loadings.items():\n",
    "    for seed in pbar(seeds, desc=source):\n",
    "        loadings = pca_loadings[source][seed]\n",
    "        \n",
    "        l_corr = loadings['500'].corrwith(loadings['10000'], method='pearson')\n",
    "        \n",
    "        for pc, corr in l_corr.items():\n",
    "            corrs[source][pc].append(\n",
    "                corr\n",
    "            )"
   ]
  },
  {
   "cell_type": "markdown",
   "id": "f4bd009e",
   "metadata": {},
   "source": [
    "<a id='figs'></a>\n",
    "# make figs\n",
    "\n",
    "[top](#home)"
   ]
  },
  {
   "cell_type": "code",
   "execution_count": 9,
   "id": "5af6fdd0",
   "metadata": {},
   "outputs": [
    {
     "name": "stdout",
     "output_type": "stream",
     "text": [
      "\u001b[1mSaved to: \u001b[0m /work/lotterhos/brandon/runtime/supp_figs/05/01_pca_distance/pc_corrs_500_vs_10000.pdf\n"
     ]
    },
    {
     "data": {
      "image/png": "[encoded data removed]",
      "text/plain": [
       "<Figure size 1080x576 with 12 Axes>"
      ]
     },
     "metadata": {
      "needs_background": "light"
     },
     "output_type": "display_data"
    }
   ],
   "source": [
    "# make a fig\n",
    "fig, axes = plt.subplots(ncols=3, nrows=2, figsize=(15, 8), sharex=True, sharey=True)\n",
    "\n",
    "i = 0\n",
    "for source, pc_data in corrs.items():\n",
    "    row_axes = axes[i]\n",
    "\n",
    "    for pc, vals in pc_data.items():\n",
    "        ax_box, ax_hist = mf.histo_box(\n",
    "            pd.Series(vals).abs(),\n",
    "            ax=row_axes[pc]\n",
    "        )\n",
    "        \n",
    "        ax_hist.set_xlabel(\n",
    "            f'abs(Pearson r)', # '\\nr(500-loci PC {pc +1} loadings, 10000-loci PC {pc +1} loadings)',\n",
    "            fontsize=15\n",
    "        )\n",
    "        \n",
    "        ax_box.set_title(f'{rt.factor_names[source]}\\nPC {pc + 1}', fontsize=18)\n",
    "        \n",
    "        if pc == 0:\n",
    "            ax_hist.set_ylabel('count', fontsize=15)\n",
    "\n",
    "    i += 1\n",
    "    \n",
    "plt.tight_layout()\n",
    "mf.save_pdf(f'{save_dir}/pc_corrs_500_vs_10000.pdf')\n",
    "plt.show()"
   ]
  },
  {
   "cell_type": "markdown",
   "id": "eec53b85",
   "metadata": {},
   "source": [
    "<a id='print'></a>\n",
    "# print out percentiles\n",
    "\n",
    "[top](#home)"
   ]
  },
  {
   "cell_type": "code",
   "execution_count": 10,
   "id": "6004bcde",
   "metadata": {
    "scrolled": false
   },
   "outputs": [
    {
     "name": "stdout",
     "output_type": "stream",
     "text": [
      "\u001b[1m\n",
      "ind PC = 1\u001b[0m\n",
      "median =  0.9711127712581895\n",
      "10th percentile =  0.8657920770672326\n",
      "20th percentile =  0.9258464735327009\n",
      "\u001b[1m\n",
      "ind PC = 2\u001b[0m\n",
      "median =  0.9349123724433615\n",
      "10th percentile =  0.8377649286525317\n",
      "20th percentile =  0.8941835637455453\n",
      "\u001b[1m\n",
      "ind PC = 3\u001b[0m\n",
      "median =  0.8922288676585349\n",
      "10th percentile =  0.7310691438053912\n",
      "20th percentile =  0.8060709099099943\n",
      "\u001b[1m\n",
      "pooled PC = 1\u001b[0m\n",
      "median =  0.9914726714876498\n",
      "10th percentile =  0.8907010393549494\n",
      "20th percentile =  0.9589206977090595\n",
      "\u001b[1m\n",
      "pooled PC = 2\u001b[0m\n",
      "median =  0.9770345721622186\n",
      "10th percentile =  0.8687872498622771\n",
      "20th percentile =  0.939740808189142\n",
      "\u001b[1m\n",
      "pooled PC = 3\u001b[0m\n",
      "median =  0.9600802020478258\n",
      "10th percentile =  0.8263537525643313\n",
      "20th percentile =  0.9095359739605574\n"
     ]
    }
   ],
   "source": [
    "for source, pc_data in corrs.items():\n",
    "\n",
    "    for pc, vals in pc_data.items():\n",
    "        vals = pd.Series(vals).abs()\n",
    "        print(ColorText(f'\\n{source} PC = {pc + 1}').bold())\n",
    "        print('median = ', vals.median())\n",
    "        print('10th percentile = ', vals.quantile(0.1))\n",
    "        print('20th percentile = ', vals.quantile(0.2))"
   ]
  },
  {
   "cell_type": "code",
   "execution_count": null,
   "id": "43f27911",
   "metadata": {},
   "outputs": [],
   "source": []
  },
  {
   "cell_type": "code",
   "execution_count": null,
   "id": "d0e35fb8",
   "metadata": {},
   "outputs": [],
   "source": []
  },
  {
   "cell_type": "code",
   "execution_count": 11,
   "id": "7c668c19",
   "metadata": {},
   "outputs": [
    {
     "data": {
      "text/plain": [
       "'0-00:23:06'"
      ]
     },
     "execution_count": 11,
     "metadata": {},
     "output_type": "execute_result"
    }
   ],
   "source": [
    "formatclock(dt.now() - t0)"
   ]
  },
  {
   "cell_type": "code",
   "execution_count": null,
   "id": "6f82a4f2",
   "metadata": {},
   "outputs": [],
   "source": []
  },
  {
   "cell_type": "markdown",
   "id": "db245b90",
   "metadata": {},
   "source": [
    "# remake fig\n",
    "\n",
    "need to change workflow to model (GF_AF or GF_geno) and i didn't want to wait to rerun the notebook"
   ]
  },
  {
   "cell_type": "code",
   "execution_count": 1,
   "id": "5b2f8bea",
   "metadata": {},
   "outputs": [
    {
     "name": "stdout",
     "output_type": "stream",
     "text": [
      "#########################################################\n",
      "Today:\tSeptember 26, 2024 - 11:11:34 EDT\n",
      "python version: 3.8.5\n",
      "conda env: mvp_env\n",
      "\n",
      "Current commit of \u001b[1mpythonimports\u001b[0m:\n",
      "\u001b[33mcommit 6a767410e7b569adbf9df526de108f22ef50aad8\u001b[m  \n",
      "Author: Brandon Lind <lind.brandon.m@gmail.com>  \n",
      "Date:   Wed Mar 6 13:42:13 2024 -0700\n",
      "\n",
      "Current commit of \u001b[94m\u001b[1mMVP_offsets\u001b[0m\u001b[0m:\n",
      "\u001b[33mcommit 5ce82f4d655645237a0f4026fa32e220226dc373\u001b[m  \n",
      "Author: Brandon Lind <lind.brandon.m@gmail.com>  \n",
      "Date:   Thu May 16 13:02:58 2024 -0400\n",
      "\n",
      "Current commit of \u001b[38;2;128;0;128m\u001b[1mMVP_runtime\u001b[0m\u001b[0m:\n",
      "\u001b[33mcommit df87dd2c708ac0fdeebcfaaca239473ca2c487af\u001b[m  \n",
      "Author: Brandon Lind <lind.brandon.m@gmail.com>  \n",
      "Date:   Tue Mar 19 16:17:46 2024 -0400\n",
      "#########################################################\n",
      "\n"
     ]
    },
    {
     "data": {
      "text/html": [
       "<details>\n",
       "<summary>Click to view session information</summary>\n",
       "<pre>\n",
       "-----\n",
       "balance_queue       NA\n",
       "cartopy             0.20.2\n",
       "ipyparallel         7.1.0\n",
       "matplotlib          3.5.2\n",
       "myclasses           NA\n",
       "myfigs              NA\n",
       "mymaps              NA\n",
       "myslurm             NA\n",
       "numpy               1.22.1\n",
       "pandas              1.3.5\n",
       "pythonimports       NA\n",
       "runtime_API         NA\n",
       "session_info        1.0.0\n",
       "tqdm                4.62.1\n",
       "-----\n",
       "</pre>\n",
       "<details>\n",
       "<summary>Click to view modules imported as dependencies</summary>\n",
       "<pre>\n",
       "MVP_01_train_gradient_forests       NA\n",
       "MVP_10_train_lfmm2_offset           NA\n",
       "MVP_summary_functions               NA\n",
       "PIL                                 8.4.0\n",
       "attr                                21.4.0\n",
       "backcall                            0.2.0\n",
       "beta_ufunc                          NA\n",
       "binom_ufunc                         NA\n",
       "bottleneck                          1.3.2\n",
       "certifi                             2023.05.07\n",
       "cffi                                1.15.0\n",
       "cycler                              0.10.0\n",
       "cython_runtime                      NA\n",
       "dateutil                            2.8.2\n",
       "debugpy                             1.5.1\n",
       "decorator                           5.1.1\n",
       "defusedxml                          0.7.1\n",
       "entrypoints                         0.4\n",
       "fiona                               1.9.5\n",
       "fontTools                           4.29.1\n",
       "ipykernel                           6.8.0\n",
       "ipython_genutils                    0.2.0\n",
       "ipywidgets                          7.6.5\n",
       "jedi                                0.18.1\n",
       "kiwisolver                          1.3.2\n",
       "matplotlib_venn                     0.11.6\n",
       "mpl_toolkits                        NA\n",
       "nbinom_ufunc                        NA\n",
       "numexpr                             2.8.1\n",
       "packaging                           21.3\n",
       "parso                               0.8.3\n",
       "patsy                               0.5.2\n",
       "pdf2image                           NA\n",
       "pexpect                             4.8.0\n",
       "pickleshare                         0.7.5\n",
       "pkg_resources                       NA\n",
       "prompt_toolkit                      3.0.26\n",
       "psutil                              5.9.0\n",
       "ptyprocess                          0.7.0\n",
       "pydev_ipython                       NA\n",
       "pydevconsole                        NA\n",
       "pydevd                              2.6.0\n",
       "pydevd_concurrency_analyser         NA\n",
       "pydevd_file_utils                   NA\n",
       "pydevd_plugins                      NA\n",
       "pydevd_tracing                      NA\n",
       "pygments                            2.11.2\n",
       "pyparsing                           3.0.7\n",
       "pyproj                              3.3.0\n",
       "pytz                                2021.3\n",
       "scipy                               1.7.3\n",
       "seaborn                             0.11.2\n",
       "setuptools                          60.7.1\n",
       "shapefile                           2.2.0\n",
       "shapely                             1.8.0\n",
       "six                                 1.16.0\n",
       "statsmodels                         0.14.0\n",
       "storemagic                          NA\n",
       "tornado                             6.1\n",
       "traitlets                           5.1.1\n",
       "wcwidth                             0.2.5\n",
       "zmq                                 22.3.0\n",
       "</pre>\n",
       "</details> <!-- seems like this ends pre, so might as well be explicit -->\n",
       "<pre>\n",
       "-----\n",
       "IPython             7.31.1\n",
       "jupyter_client      7.1.2\n",
       "jupyter_core        4.9.1\n",
       "notebook            6.4.8\n",
       "-----\n",
       "Python 3.8.5 (default, Sep  4 2020, 07:30:14) [GCC 7.3.0]\n",
       "Linux-3.10.0-1160.25.1.el7.x86_64-x86_64-with-glibc2.10\n",
       "-----\n",
       "Session information updated at 2024-09-26 11:11\n",
       "</pre>\n",
       "</details>"
      ],
      "text/plain": [
       "<IPython.core.display.HTML object>"
      ]
     },
     "execution_count": 1,
     "metadata": {},
     "output_type": "execute_result"
    }
   ],
   "source": [
    "from pythonimports import *\n",
    "import myfigs as mf\n",
    "\n",
    "import runtime_API as rt\n",
    "\n",
    "save_dir = f'{rt.resdir}/supp_figs/05/01_pca_distance'\n",
    "\n",
    "t0 = dt.now()  # notebook timer\n",
    "\n",
    "rt.latest_commit()\n",
    "session_info.show()"
   ]
  },
  {
   "cell_type": "code",
   "execution_count": 2,
   "id": "f8086f52",
   "metadata": {},
   "outputs": [],
   "source": [
    "# reload data\n",
    "pkl = f'{save_dir}/pca_loadings.pkl'\n",
    "\n",
    "pca_loadings = pklload(pkl)"
   ]
  },
  {
   "cell_type": "code",
   "execution_count": 3,
   "id": "4c1ad26a",
   "metadata": {},
   "outputs": [
    {
     "name": "stderr",
     "output_type": "stream",
     "text": [
      "ind: 100%|███████████████| 540/540 [00:02<00:00, 251.22it/s]\n",
      "pooled: 100%|███████████████| 540/540 [00:02<00:00, 256.35it/s]\n"
     ]
    }
   ],
   "source": [
    "# re-calc correlation of PC loadings between 500-loci PCs and 10k-loci PCs\n",
    "corrs = wrap_defaultdict(list, 2)\n",
    "for source, seeds in pca_loadings.items():\n",
    "    for seed in pbar(seeds, desc=source):\n",
    "        loadings = pca_loadings[source][seed]\n",
    "        \n",
    "        l_corr = loadings['500'].corrwith(loadings['10000'], method='pearson')\n",
    "        \n",
    "        for pc, corr in l_corr.items():\n",
    "            corrs[source][pc].append(\n",
    "                corr\n",
    "            )"
   ]
  },
  {
   "cell_type": "code",
   "execution_count": 4,
   "id": "9fa57b1e",
   "metadata": {},
   "outputs": [
    {
     "name": "stdout",
     "output_type": "stream",
     "text": [
      "\u001b[1mSaved to: \u001b[0m /work/lotterhos/brandon/runtime/supp_figs/05/01_pca_distance/pc_corrs_500_vs_10000_correct.pdf\n"
     ]
    },
    {
     "data": {
      "image/png": "[encoded data removed]",
      "text/plain": [
       "<Figure size 1080x576 with 12 Axes>"
      ]
     },
     "metadata": {
      "needs_background": "light"
     },
     "output_type": "display_data"
    }
   ],
   "source": [
    "# remake a fig\n",
    "fig, axes = plt.subplots(ncols=3, nrows=2, figsize=(15, 8), sharex=True, sharey=True)\n",
    "\n",
    "i = 0\n",
    "for source, pc_data in corrs.items():\n",
    "    row_axes = axes[i]\n",
    "    \n",
    "    model = 'geno-model' if source == 'ind' else 'af-model'\n",
    "\n",
    "    for pc, vals in pc_data.items():\n",
    "        ax_box, ax_hist = mf.histo_box(\n",
    "            pd.Series(vals).abs(),\n",
    "            ax=row_axes[pc]\n",
    "        )\n",
    "        \n",
    "        ax_hist.set_xlabel(\n",
    "            f'abs(Pearson r)', # '\\nr(500-loci PC {pc +1} loadings, 10000-loci PC {pc +1} loadings)',\n",
    "            fontsize=15\n",
    "        )\n",
    "        \n",
    "        ax_box.set_title(f'{rt.factor_names[model]}\\nPC {pc + 1}', fontsize=18)\n",
    "        \n",
    "        if pc == 0:\n",
    "            ax_hist.set_ylabel('count', fontsize=15)\n",
    "\n",
    "    i += 1\n",
    "    \n",
    "plt.tight_layout()\n",
    "mf.save_pdf(f'{save_dir}/pc_corrs_500_vs_10000_correct.pdf')\n",
    "plt.show()"
   ]
  },
  {
   "cell_type": "code",
   "execution_count": 5,
   "id": "7f4ae4cc",
   "metadata": {},
   "outputs": [
    {
     "data": {
      "text/plain": [
       "'0-00:00:09'"
      ]
     },
     "execution_count": 5,
     "metadata": {},
     "output_type": "execute_result"
    }
   ],
   "source": [
    "formatclock(dt.now() - t0)"
   ]
  },
  {
   "cell_type": "code",
   "execution_count": null,
   "id": "c3c9cdd9",
   "metadata": {},
   "outputs": [],
   "source": []
  },
  {
   "cell_type": "code",
   "execution_count": null,
   "id": "54fc133e",
   "metadata": {},
   "outputs": [],
   "source": []
  }
 ],
 "metadata": {
  "kernelspec": {
   "display_name": "Python 3 (ipykernel)",
   "language": "python",
   "name": "python3"
  },
  "language_info": {
   "codemirror_mode": {
    "name": "ipython",
    "version": 3
   },
   "file_extension": ".py",
   "mimetype": "text/x-python",
   "name": "python",
   "nbconvert_exporter": "python",
   "pygments_lexer": "ipython3",
   "version": "3.8.5"
  }
 },
 "nbformat": 4,
 "nbformat_minor": 5
}
