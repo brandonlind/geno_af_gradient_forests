{
 "cells": [
  {
   "cell_type": "markdown",
   "id": "a4e24db6",
   "metadata": {},
   "source": [
    "### purpose\n",
    "\n",
    "create allele frequency runs of GF using the sets of random loci assigned to individual runs"
   ]
  },
  {
   "cell_type": "markdown",
   "id": "05f623f3",
   "metadata": {},
   "source": [
    "<a id='home'></a>\n",
    "### purpose\n",
    "\n",
    "create allele frequency runs of GF using the sets of random loci assigned to individual runs\n",
    "\n",
    "### outline\n",
    "\n",
    "1. [get dirs with training files](#dirs)\n",
    "\n",
    "    get a list of directories containing genomic data\n",
    "\n",
    "1. [symlink supplementary files](#sup)\n",
    "\n",
    "    directories are nested by the number of loci provided for training. There is no need to copy environmental data to each directory, so I symlink it. These files are used by training scripts.\n",
    "    \n",
    "1. [create snpfiles](#snp)\n",
    "\n",
    "use the individual-based files to get a list of loci, then subset the pooled files\n",
    "    \n",
    "1. [create sh files for training and predicting](#shfiles)\n",
    "\n",
    "    create slurm sbatch files to submit training jobs to the cluster, as well as jobs that use trained model to predict models to common garden environments\n",
    "    \n",
    "1. [create shfiles for making predictions of the trained GF models to specific environments](#shfiles)\n",
    "s\n",
    "    1. [create sh files for training](#training)\n",
    "    1. [create shfiles for making predictions of the trained GF models to specific environments](#predict)\n",
    "\n",
    "1. [submit jobs using 500 loci](#submit500)\n",
    "\n",
    "1. [submit jobs using 5000 loci](#submit5000)\n",
    "\n",
    "1. [submit jobs using 10000 loci](#submit10k)\n",
    "\n",
    "1. [submit jobs using 20000 loci](#submit20k)"
   ]
  },
  {
   "cell_type": "code",
   "execution_count": 1,
   "id": "fb375ff5",
   "metadata": {},
   "outputs": [
    {
     "name": "stdout",
     "output_type": "stream",
     "text": [
      "36 36\n",
      "#########################################################\n",
      "Today:\tFebruary 05, 2024 - 15:13:09 EST\n",
      "python version: 3.8.5\n",
      "conda env: mvp_env\n",
      "\n",
      "Current commit of \u001b[1mpythonimports\u001b[0m:\n",
      "\u001b[33mcommit 419895d157c97717f835390196c13cf973d25eba\u001b[m  \n",
      "Merge: e20434f 1e09b6c  \n",
      "Author: Brandon Lind <lind.brandon.m@gmail.com>\n",
      "\n",
      "Current commit of \u001b[94m\u001b[1mMVP_offsets\u001b[0m\u001b[0m:\n",
      "\u001b[33mcommit 8b790072e7a46d7f58a30c40cf4660986a612764\u001b[m  \n",
      "Author: Brandon Lind <lind.brandon.m@gmail.com>  \n",
      "Date:   Fri Feb 2 13:55:49 2024 -0500\n",
      "#########################################################\n",
      "\n"
     ]
    },
    {
     "data": {
      "text/html": [
       "<details>\n",
       "<summary>Click to view session information</summary>\n",
       "<pre>\n",
       "-----\n",
       "MVP_summary_functions       NA\n",
       "balance_queue               NA\n",
       "cartopy                     0.20.2\n",
       "ipyparallel                 7.1.0\n",
       "matplotlib                  3.5.2\n",
       "myclasses                   NA\n",
       "myfigs                      NA\n",
       "mymaps                      NA\n",
       "myslurm                     NA\n",
       "numpy                       1.22.1\n",
       "pandas                      1.3.5\n",
       "pythonimports               NA\n",
       "session_info                1.0.0\n",
       "tqdm                        4.62.1\n",
       "-----\n",
       "</pre>\n",
       "<details>\n",
       "<summary>Click to view modules imported as dependencies</summary>\n",
       "<pre>\n",
       "MVP_01_train_gradient_forests       NA\n",
       "MVP_10_train_lfmm2_offset           NA\n",
       "PIL                                 8.4.0\n",
       "attr                                21.4.0\n",
       "backcall                            0.2.0\n",
       "beta_ufunc                          NA\n",
       "binom_ufunc                         NA\n",
       "bottleneck                          1.3.2\n",
       "certifi                             2023.05.07\n",
       "cffi                                1.15.0\n",
       "cycler                              0.10.0\n",
       "cython_runtime                      NA\n",
       "dateutil                            2.8.2\n",
       "debugpy                             1.5.1\n",
       "decorator                           5.1.1\n",
       "defusedxml                          0.7.1\n",
       "entrypoints                         0.4\n",
       "fiona                               1.9.5\n",
       "fontTools                           4.29.1\n",
       "ipykernel                           6.8.0\n",
       "ipython_genutils                    0.2.0\n",
       "ipywidgets                          7.6.5\n",
       "jedi                                0.18.1\n",
       "kiwisolver                          1.3.2\n",
       "matplotlib_venn                     0.11.6\n",
       "mpl_toolkits                        NA\n",
       "nbinom_ufunc                        NA\n",
       "numexpr                             2.8.1\n",
       "packaging                           21.3\n",
       "parso                               0.8.3\n",
       "patsy                               0.5.2\n",
       "pdf2image                           NA\n",
       "pexpect                             4.8.0\n",
       "pickleshare                         0.7.5\n",
       "pkg_resources                       NA\n",
       "prompt_toolkit                      3.0.26\n",
       "psutil                              5.9.0\n",
       "ptyprocess                          0.7.0\n",
       "pydev_ipython                       NA\n",
       "pydevconsole                        NA\n",
       "pydevd                              2.6.0\n",
       "pydevd_concurrency_analyser         NA\n",
       "pydevd_file_utils                   NA\n",
       "pydevd_plugins                      NA\n",
       "pydevd_tracing                      NA\n",
       "pygments                            2.11.2\n",
       "pyparsing                           3.0.7\n",
       "pyproj                              3.3.0\n",
       "pytz                                2021.3\n",
       "scipy                               1.7.3\n",
       "seaborn                             0.11.2\n",
       "setuptools                          60.7.1\n",
       "shapefile                           2.2.0\n",
       "shapely                             1.8.0\n",
       "six                                 1.16.0\n",
       "statsmodels                         0.14.0\n",
       "storemagic                          NA\n",
       "tornado                             6.1\n",
       "traitlets                           5.1.1\n",
       "wcwidth                             0.2.5\n",
       "zmq                                 22.3.0\n",
       "</pre>\n",
       "</details> <!-- seems like this ends pre, so might as well be explicit -->\n",
       "<pre>\n",
       "-----\n",
       "IPython             7.31.1\n",
       "jupyter_client      7.1.2\n",
       "jupyter_core        4.9.1\n",
       "notebook            6.4.8\n",
       "-----\n",
       "Python 3.8.5 (default, Sep  4 2020, 07:30:14) [GCC 7.3.0]\n",
       "Linux-3.10.0-1160.25.1.el7.x86_64-x86_64-with-glibc2.10\n",
       "-----\n",
       "Session information updated at 2024-02-05 15:13\n",
       "</pre>\n",
       "</details>"
      ],
      "text/plain": [
       "<IPython.core.display.HTML object>"
      ]
     },
     "execution_count": 1,
     "metadata": {},
     "output_type": "execute_result"
    }
   ],
   "source": [
    "from pythonimports import *\n",
    "\n",
    "import MVP_summary_functions as mvp\n",
    "\n",
    "lview, dview = get_client(cluster_id='1707744598-70rf', profile='lotterhos')\n",
    "\n",
    "outerdir = '/work/lotterhos/brandon/ind_runtimes'\n",
    "pooled_dir = makedir('/work/lotterhos/brandon/pooled_runtimes')\n",
    "\n",
    "mvp.latest_commit()\n",
    "session_info.show()"
   ]
  },
  {
   "cell_type": "code",
   "execution_count": null,
   "id": "6a4c6b53",
   "metadata": {},
   "outputs": [],
   "source": []
  },
  {
   "cell_type": "markdown",
   "id": "a79f3f37",
   "metadata": {},
   "source": [
    "<a id='dirs'></a>\n",
    "# get dirs with training files\n",
    "[top](#home)"
   ]
  },
  {
   "cell_type": "code",
   "execution_count": 2,
   "id": "f143c70f",
   "metadata": {},
   "outputs": [
    {
     "data": {
      "text/plain": [
       "['run_20220919_0-225', 'run_20220919_225-450', 'run_20220919_450-675']"
      ]
     },
     "execution_count": 2,
     "metadata": {},
     "output_type": "execute_result"
    }
   ],
   "source": [
    "# get a list of directories for each rep\n",
    "reps = fs(outerdir, startswith='run', dirs=True, bnames=True)\n",
    "\n",
    "reps"
   ]
  },
  {
   "cell_type": "code",
   "execution_count": 3,
   "id": "276de981",
   "metadata": {},
   "outputs": [],
   "source": [
    "# directories with pooled SNP data with all markers\n",
    "src_dirs = {}\n",
    "for rep in reps:\n",
    "    src_dirs[rep] = f'/work/lotterhos/MVP-Offsets/{rep}/gradient_forests/training/training_files'"
   ]
  },
  {
   "cell_type": "code",
   "execution_count": 4,
   "id": "d55cb8e1",
   "metadata": {},
   "outputs": [
    {
     "name": "stdout",
     "output_type": "stream",
     "text": [
      "\u001b[1mrun_20220919_0-225\u001b[0m\n",
      "['/work/lotterhos/brandon/pooled_runtimes/run_20220919_0-225/00500/gradient_forests/training/training_files', '/work/lotterhos/brandon/pooled_runtimes/run_20220919_0-225/05000/gradient_forests/training/training_files', '/work/lotterhos/brandon/pooled_runtimes/run_20220919_0-225/10000/gradient_forests/training/training_files', '/work/lotterhos/brandon/pooled_runtimes/run_20220919_0-225/20000/gradient_forests/training/training_files'] \n",
      "\n",
      "\u001b[1mrun_20220919_225-450\u001b[0m\n",
      "['/work/lotterhos/brandon/pooled_runtimes/run_20220919_225-450/00500/gradient_forests/training/training_files', '/work/lotterhos/brandon/pooled_runtimes/run_20220919_225-450/05000/gradient_forests/training/training_files', '/work/lotterhos/brandon/pooled_runtimes/run_20220919_225-450/10000/gradient_forests/training/training_files', '/work/lotterhos/brandon/pooled_runtimes/run_20220919_225-450/20000/gradient_forests/training/training_files'] \n",
      "\n",
      "\u001b[1mrun_20220919_450-675\u001b[0m\n",
      "['/work/lotterhos/brandon/pooled_runtimes/run_20220919_450-675/00500/gradient_forests/training/training_files', '/work/lotterhos/brandon/pooled_runtimes/run_20220919_450-675/05000/gradient_forests/training/training_files', '/work/lotterhos/brandon/pooled_runtimes/run_20220919_450-675/10000/gradient_forests/training/training_files', '/work/lotterhos/brandon/pooled_runtimes/run_20220919_450-675/20000/gradient_forests/training/training_files'] \n",
      "\n"
     ]
    }
   ],
   "source": [
    "# create pooled directories\n",
    "\n",
    "set_nums = ['00500', '05000', '10000', '20000']\n",
    "\n",
    "pooled_dirs = defaultdict(list)\n",
    "for rep, d in src_dirs.items():\n",
    "    print(ColorText(rep).bold())\n",
    "    \n",
    "    for set_num in set_nums: \n",
    "        pooled_dirs[rep].append(\n",
    "            makedir(\n",
    "                f'{pooled_dir}/{rep}/{set_num}/gradient_forests/training/training_files'\n",
    "            )\n",
    "        )\n",
    "        \n",
    "    print(pooled_dirs[rep], '\\n')"
   ]
  },
  {
   "cell_type": "markdown",
   "id": "4db999e1",
   "metadata": {},
   "source": [
    "<a id='sup'></a>\n",
    "# symlink supplementary files\n",
    "\n",
    "[top](#home)"
   ]
  },
  {
   "cell_type": "code",
   "execution_count": 5,
   "id": "9904349b",
   "metadata": {},
   "outputs": [
    {
     "name": "stderr",
     "output_type": "stream",
     "text": [
      "run_20220919_0-225: 100%|███████████████| 450/450 [00:00<00:00, 574.38it/s]\n",
      "run_20220919_225-450: 100%|███████████████| 450/450 [00:00<00:00, 611.40it/s]\n",
      "run_20220919_450-675: 100%|███████████████| 450/450 [00:00<00:00, 643.21it/s]\n"
     ]
    }
   ],
   "source": [
    "# symlink envfile and rangefile\n",
    "for rep, d in src_dirs.items():\n",
    "    files = fs(d, exclude=['maf-gt-p01', 'adaptive', 'neutral'], endswith='pooled.txt')\n",
    "    \n",
    "    assert len(files) == 450, len(files)  # 2 files for each of 225 seeds (one envfile, one rangefile)\n",
    "\n",
    "    for src in pbar(files, desc=rep):\n",
    "        for repdir in pooled_dirs[rep]:\n",
    "            dst = f'{repdir}/{op.basename(src)}'\n",
    "            \n",
    "            try:\n",
    "                os.symlink(src, dst)\n",
    "            except FileExistsError as e:\n",
    "                pass"
   ]
  },
  {
   "cell_type": "code",
   "execution_count": 6,
   "id": "3abcd259",
   "metadata": {},
   "outputs": [
    {
     "name": "stderr",
     "output_type": "stream",
     "text": [
      "run_20220919_0-225: 100%|███████████████| 4/4 [00:00<00:00, 10.44it/s]\n",
      "run_20220919_225-450: 100%|███████████████| 4/4 [00:00<00:00, 10.61it/s]\n",
      "run_20220919_450-675: 100%|███████████████| 4/4 [00:00<00:00, 10.94it/s]\n"
     ]
    }
   ],
   "source": [
    "# add ind envfiles to directories so jobs pass mvp02.get_envdata filecount assertion\n",
    "for rep, repdirs in pooled_dirs.items():\n",
    "    for dst_dir in pbar(repdirs, desc=rep):\n",
    "\n",
    "        src_dir = src_dirs[rep]\n",
    "        assert src_dir != dst_dir\n",
    "\n",
    "        envfiles = fs(src_dir, endswith='envfile_GFready_ind.txt')\n",
    "        assert len(envfiles) == 225\n",
    "\n",
    "        for src in envfiles:\n",
    "            dst = f'{dst_dir}/{op.basename(src)}'\n",
    "\n",
    "            try:\n",
    "                os.symlink(src, dst)\n",
    "            except FileExistsError as e:\n",
    "                pass"
   ]
  },
  {
   "cell_type": "markdown",
   "id": "0890a3f0",
   "metadata": {},
   "source": [
    "<a id='snp'></a>\n",
    "# create snpfiles\n",
    "\n",
    "use the individual-based files to get a list of loci, then subset the pooled files"
   ]
  },
  {
   "cell_type": "code",
   "execution_count": 7,
   "id": "a937f7f2",
   "metadata": {},
   "outputs": [
    {
     "name": "stdout",
     "output_type": "stream",
     "text": [
      "run_20220919_0-225 00500 225\n",
      "run_20220919_0-225 05000 225\n",
      "run_20220919_0-225 10000 225\n",
      "run_20220919_0-225 20000 225\n",
      "run_20220919_225-450 00500 225\n",
      "run_20220919_225-450 05000 225\n",
      "run_20220919_225-450 10000 225\n",
      "run_20220919_225-450 20000 225\n",
      "run_20220919_450-675 00500 225\n",
      "run_20220919_450-675 05000 225\n",
      "run_20220919_450-675 10000 225\n",
      "run_20220919_450-675 20000 225\n"
     ]
    }
   ],
   "source": [
    "ind_snpfiles = wrap_defaultdict(dict, 2)\n",
    "for rep, repdirs in pooled_dirs.items():\n",
    "    for repdir in repdirs:\n",
    "        num_loci = repdir.split('/')[6]\n",
    "        \n",
    "        ind_dir = repdir.replace('pooled_runtimes', 'ind_runtimes')\n",
    "        \n",
    "        ind_snpfiles[rep][num_loci] = fs(ind_dir, endswith='ind_all.txt')\n",
    "        \n",
    "        print(rep, num_loci, len(ind_snpfiles[rep][num_loci]))"
   ]
  },
  {
   "cell_type": "code",
   "execution_count": 8,
   "id": "6ae8d51e",
   "metadata": {},
   "outputs": [
    {
     "data": {
      "text/plain": [
       "'/work/lotterhos/brandon/ind_runtimes/run_20220919_450-675/20000/gradient_forests/training/training_files/1231544_Rout_Gmat_sample_maf-gt-p01_GFready_ind_all.txt'"
      ]
     },
     "execution_count": 8,
     "metadata": {},
     "output_type": "execute_result"
    }
   ],
   "source": [
    "ind_snpfiles[rep][num_loci][0]"
   ]
  },
  {
   "cell_type": "code",
   "execution_count": 9,
   "id": "dbf4cd96",
   "metadata": {},
   "outputs": [
    {
     "data": {
      "text/plain": [
       "'run_20220919_450-675'"
      ]
     },
     "execution_count": 9,
     "metadata": {},
     "output_type": "execute_result"
    }
   ],
   "source": [
    "rep"
   ]
  },
  {
   "cell_type": "code",
   "execution_count": 10,
   "id": "f65ddad7",
   "metadata": {},
   "outputs": [],
   "source": [
    "def subset_loci(rep, num_loci, ind_file):\n",
    "    import pandas as pd\n",
    "    from os import path as op\n",
    "    \n",
    "    # \n",
    "    ind_snps = pd.read_table(ind_file, index_col='index', nrows=5)\n",
    "    \n",
    "    if int(num_loci) < 10000:\n",
    "        assert len(ind_snps.columns) == int(num_loci)\n",
    "        # some of the datasets has a small number of snps\n",
    "    \n",
    "    basename = op.basename(ind_file).replace('_ind_', '_pooled_')\n",
    "    pooled_file = f'/home/b.lind/offsets/{rep}/gradient_forests/training/training_files/{basename}'\n",
    "    \n",
    "    assert op.exists(pooled_file)\n",
    "    \n",
    "    pooled_snps = pd.read_table(pooled_file, index_col='index')[ind_snps.columns]\n",
    "    pooled_snps['index'] = pooled_snps.index.tolist()\n",
    "    \n",
    "    dst = ind_file.replace('ind_runtimes', 'pooled_runtimes').replace('_ind_all.txt', '_pooled_all.txt')\n",
    "    \n",
    "    assert 'pooled_runtimes' in dst\n",
    "    \n",
    "    pooled_snps.to_csv(dst, sep='\\t', index=False, header=True)\n",
    "    \n",
    "    return dst"
   ]
  },
  {
   "cell_type": "code",
   "execution_count": 11,
   "id": "0426049c",
   "metadata": {},
   "outputs": [
    {
     "name": "stdout",
     "output_type": "stream",
     "text": [
      "\u001b[1m\n",
      "Watching 2700 jobs ...\u001b[0m\n"
     ]
    },
    {
     "name": "stderr",
     "output_type": "stream",
     "text": [
      "100%|███████████████| 2700/2700 [03:39<00:00, 12.29it/s]\n"
     ]
    }
   ],
   "source": [
    "jobs = []\n",
    "for (rep, num_loci), ind_files in unwrap_dictionary(ind_snpfiles):\n",
    "    for ind_file in ind_files:\n",
    "        jobs.append(\n",
    "            lview.apply_async(\n",
    "                subset_loci, *(rep, num_loci, ind_file)\n",
    "            )\n",
    "        )\n",
    "    \n",
    "watch_async(jobs)"
   ]
  },
  {
   "cell_type": "code",
   "execution_count": 12,
   "id": "b7387695",
   "metadata": {},
   "outputs": [],
   "source": [
    "# check for errors\n",
    "for i, j in enumerate(jobs):\n",
    "    x = j.r"
   ]
  },
  {
   "cell_type": "code",
   "execution_count": 13,
   "id": "99bd435e",
   "metadata": {},
   "outputs": [],
   "source": [
    "for j in jobs:\n",
    "    assert op.exists(j.r)"
   ]
  },
  {
   "cell_type": "code",
   "execution_count": null,
   "id": "e762c113",
   "metadata": {},
   "outputs": [],
   "source": []
  },
  {
   "cell_type": "markdown",
   "id": "15457640",
   "metadata": {},
   "source": [
    "<a id='shfiles'></a>\n",
    "# create sh files for training and predicting\n",
    "\n",
    "[top](#home)"
   ]
  },
  {
   "cell_type": "markdown",
   "id": "6e703014",
   "metadata": {},
   "source": [
    "<a id='training'></a>\n",
    "### create training shfiles\n",
    "\n",
    "[top](#home)\n",
    "\n",
    "I use training sh files previously created for Lind & Lotterhos (2024). I edit them to serve our purposes"
   ]
  },
  {
   "cell_type": "code",
   "execution_count": 14,
   "id": "5faffc21",
   "metadata": {},
   "outputs": [],
   "source": [
    "mems = {\n",
    "    '00500' : '10000M',\n",
    "    '05000' : '100000M',\n",
    "    '10000' : '180000M',\n",
    "    '20000' : '200000M'\n",
    "}\n",
    "\n",
    "times = {\n",
    "    '00500' : '0-03:00:00',\n",
    "    '05000' : '0-12:00:00',\n",
    "    '10000' : '1-00:00:00',\n",
    "    '20000' : '1-00:00:00'\n",
    "}"
   ]
  },
  {
   "cell_type": "code",
   "execution_count": 15,
   "id": "8fad725a",
   "metadata": {},
   "outputs": [
    {
     "name": "stderr",
     "output_type": "stream",
     "text": [
      "run_20220919_0-225: 100%|███████████████| 225/225 [00:05<00:00, 39.10it/s]\n",
      "run_20220919_225-450: 100%|███████████████| 225/225 [00:06<00:00, 36.20it/s]\n",
      "run_20220919_450-675: 100%|███████████████| 225/225 [00:05<00:00, 41.19it/s]\n"
     ]
    },
    {
     "data": {
      "text/plain": [
       "(2700, 2700)"
      ]
     },
     "execution_count": 15,
     "metadata": {},
     "output_type": "execute_result"
    }
   ],
   "source": [
    "all_shfiles = []\n",
    "for rep, src_dir in src_dirs.items():\n",
    "    # get the sh files\n",
    "    shdir = src_dir.replace('_files', '_shfiles')\n",
    "    \n",
    "    shfiles = fs(shdir, endswith='pooled_all.sh', exclude='watcher')\n",
    "    \n",
    "    assert len(shfiles) == 225\n",
    "    \n",
    "    # create new shfiles in each repdir\n",
    "    for sh in pbar(shfiles, desc=rep):\n",
    "    \n",
    "        for dst_dir in pooled_dirs[rep]:\n",
    "            rep_num = dst_dir.split('/')[6]\n",
    "            assert int(rep_num) == float(rep_num)\n",
    "            \n",
    "            text = read(sh, lines=False)\n",
    "\n",
    "            assert text.count(f'/home/b.lind/offsets/{rep}') == 2\n",
    "            \n",
    "            # replace training files and training outfiles dirs\n",
    "            text = text.replace(f'/home/b.lind/offsets/{rep}', dst_dir.split('/gradient')[0])\n",
    "            \n",
    "            # replace mem and time and email\n",
    "            assert all(\n",
    "                [\n",
    "                    '--time=2-00:00:00' in text or '--time=1-00:00:00' in text or '5-00:00:00' in text,\n",
    "                    '--mem=300000M' in text or '--mem=400000M',\n",
    "                    'b.lind@northeastern.edu' in text\n",
    "                ]\n",
    "            )\n",
    "            \n",
    "            text = text.replace('#SBATCH --time=2-00:00:00', '#SBATCH --time=%s' % times[rep_num]).\\\n",
    "                        replace('#SBATCH --time=5-00:00:00', '#SBATCH --time=%s' % times[rep_num]).\\\n",
    "                        replace('#SBATCH --time=1-00:00:00', '#SBATCH --time=%s' % times[rep_num])\n",
    "            text = text.replace('#SBATCH --mem=300000M', '#SBATCH --mem=%s' % mems[rep_num]).\\\n",
    "                        replace('#SBATCH --mem=400000M', '#SBATCH --mem=%s' % mems[rep_num])\n",
    "            text = text.replace('b.lind@northeastern.edu', 'dummy_email@gmail.com')\n",
    "            \n",
    "            # make dirs\n",
    "            dst_shdir = makedir(dst_dir.replace('training_files', 'training_shfiles'))\n",
    "            dst_outdir = makedir(dst_dir.replace('training_files', 'training_outfiles'))\n",
    "            \n",
    "            # write new sh file\n",
    "            newsh = f'{dst_shdir}/{op.basename(sh)}'\n",
    "            with open(newsh, 'w') as o:\n",
    "                o.write(text)\n",
    "                \n",
    "            all_shfiles.append(newsh)\n",
    "            \n",
    "len(all_shfiles), luni(all_shfiles)"
   ]
  },
  {
   "cell_type": "code",
   "execution_count": 16,
   "id": "053b7a34",
   "metadata": {},
   "outputs": [
    {
     "name": "stderr",
     "output_type": "stream",
     "text": [
      "100%|███████████████| 2700/2700 [00:00<00:00, 1009054.69it/s]\n"
     ]
    }
   ],
   "source": [
    "for sh in pbar(all_shfiles):\n",
    "    assert sh.startswith('/work/lotterhos/brandon/pooled_runtimes')"
   ]
  },
  {
   "cell_type": "code",
   "execution_count": 17,
   "id": "6312335c",
   "metadata": {},
   "outputs": [
    {
     "data": {
      "text/plain": [
       "'/work/lotterhos/brandon/pooled_runtimes/run_20220919_0-225/00500/gradient_forests/training/training_shfiles/1231094_GF_training_pooled_all.sh'"
      ]
     },
     "execution_count": 17,
     "metadata": {},
     "output_type": "execute_result"
    }
   ],
   "source": [
    "all_shfiles[0]"
   ]
  },
  {
   "cell_type": "code",
   "execution_count": 18,
   "id": "c760786c",
   "metadata": {},
   "outputs": [
    {
     "name": "stdout",
     "output_type": "stream",
     "text": [
      "#!/bin/bash\n",
      "#SBATCH --job-name=1231768_GF_training_pooled_all\n",
      "#SBATCH --time=1-00:00:00\n",
      "#SBATCH --mem=200000M\n",
      "#SBATCH --partition=long\n",
      "#SBATCH --output=1231768_GF_training_pooled_all_%j.out\n",
      "#SBATCH --mail-user=dummy_email@gmail.com\n",
      "#SBATCH --mail-type=FAIL\n",
      "\n",
      "source $HOME/.bashrc  # assumed that conda init is within .bashrc\n",
      "conda deactivate\n",
      "conda activate r35\n",
      "\n",
      "cd /work/lotterhos/brandon/pooled_runtimes/run_20220919_450-675/20000/gradient_forests/training/training_files\n",
      "\n",
      "/home/b.lind/anaconda3/envs/r35/lib/R/bin/Rscript \\\n",
      "/home/b.lind/code/MVP-offsets/01_src/MVP_gf_training_script.R \\\n",
      "1231768_Rout_Gmat_sample_maf-gt-p01_GFready_pooled_all.txt \\\n",
      "1231768_envfile_GFready_pooled.txt \\\n",
      "1231768_rangefile_GFready_pooled.txt \\\n",
      "1231768_GF_training_pooled_all \\\n",
      "/work/lotterhos/brandon/pooled_runtimes/run_20220919_450-675/20000/gradient_forests/training/training_outfiles\n",
      "\n",
      "\n"
     ]
    }
   ],
   "source": [
    "print(text)"
   ]
  },
  {
   "cell_type": "markdown",
   "id": "a0b94a7a",
   "metadata": {},
   "source": [
    "<a id='predict'></a>\n",
    "## create shfiles for making predictions of the trained GF models to specific environments\n",
    "\n",
    "MVP_02 doesn't use slimdir, so that doesn't matter\n",
    "\n",
    "MVP_03 needs the original slimdir to get fitness/envdata/locations etc for validation\n",
    "\n",
    "[top](#home)"
   ]
  },
  {
   "cell_type": "code",
   "execution_count": 19,
   "id": "60a17fca",
   "metadata": {},
   "outputs": [
    {
     "data": {
      "text/plain": [
       "{'run_20220919_0-225': '/work/lotterhos/MVP-Offsets/run_20220919_0-225/gradient_forests/training/training_files',\n",
       " 'run_20220919_225-450': '/work/lotterhos/MVP-Offsets/run_20220919_225-450/gradient_forests/training/training_files',\n",
       " 'run_20220919_450-675': '/work/lotterhos/MVP-Offsets/run_20220919_450-675/gradient_forests/training/training_files'}"
      ]
     },
     "execution_count": 19,
     "metadata": {},
     "output_type": "execute_result"
    }
   ],
   "source": [
    "src_dirs"
   ]
  },
  {
   "cell_type": "code",
   "execution_count": 20,
   "id": "0c3008ab",
   "metadata": {},
   "outputs": [
    {
     "data": {
      "text/plain": [
       "['/work/lotterhos/brandon/pooled_runtimes/run_20220919_450-675/00500/gradient_forests/training/training_files',\n",
       " '/work/lotterhos/brandon/pooled_runtimes/run_20220919_450-675/05000/gradient_forests/training/training_files',\n",
       " '/work/lotterhos/brandon/pooled_runtimes/run_20220919_450-675/10000/gradient_forests/training/training_files',\n",
       " '/work/lotterhos/brandon/pooled_runtimes/run_20220919_450-675/20000/gradient_forests/training/training_files']"
      ]
     },
     "execution_count": 20,
     "metadata": {},
     "output_type": "execute_result"
    }
   ],
   "source": [
    "pooled_dirs[rep]"
   ]
  },
  {
   "cell_type": "code",
   "execution_count": 21,
   "id": "50132dcf",
   "metadata": {},
   "outputs": [
    {
     "name": "stderr",
     "output_type": "stream",
     "text": [
      "run_20220919_0-225: 100%|███████████████| 225/225 [00:07<00:00, 31.39it/s]\n",
      "run_20220919_225-450: 100%|███████████████| 225/225 [00:05<00:00, 37.92it/s]\n",
      "run_20220919_450-675: 100%|███████████████| 225/225 [00:06<00:00, 36.14it/s]\n"
     ]
    },
    {
     "data": {
      "text/plain": [
       "'/work/lotterhos/brandon/pooled_runtimes/run_20220919_450-675/20000/gradient_forests/training/training_files'"
      ]
     },
     "execution_count": 21,
     "metadata": {},
     "output_type": "execute_result"
    }
   ],
   "source": [
    "for rep, src_dir in src_dirs.items():\n",
    "    fitting_shdir = src_dir.replace('training/training_files', 'fitting/fitting_shfiles')\n",
    "    \n",
    "    shfiles = fs(fitting_shdir, endswith='.sh', exclude='watcher')\n",
    "    \n",
    "    for sh in pbar(shfiles, desc=rep):\n",
    "        for dst_dir in pooled_dirs[rep]:\n",
    "            dst_shdir = makedir(dst_dir.replace('training/training_files', 'fitting/fitting_shfiles'))\n",
    "            new_sh = f'{dst_shdir}/{op.basename(sh)}'\n",
    "            \n",
    "            text = read(sh, lines=True, ignore_blank=True)\n",
    "            \n",
    "            assert 'time' in text[2]\n",
    "            text[2] = '#SBATCH --time=1-00:00:00'\n",
    "\n",
    "            assert 'MVP_02' in text[-2]\n",
    "            text[-2] = text[-2].replace(f'/home/b.lind/offsets/{rep}',\n",
    "                                        dst_dir.split('/grad')[0])\n",
    "            text[-2] += ' 1 ind'  # expect one RDS file and exclude pooled (non-default for MVP_02)\n",
    "            \n",
    "            assert 'MVP_03' in text[-1]\n",
    "            text[-1] = text[-1].replace(f'/home/b.lind/offsets/{rep}/gradient_forests',\n",
    "                                        dst_dir.split('/training')[0])\n",
    "            text[-1] += ' 100 ind'  # expect 100 RDS files and exclude pooled (non-default for MVP_03)\n",
    "            \n",
    "            if 'partition' in text[5]:\n",
    "                text.remove(text[5])\n",
    "            \n",
    "            # erase previous dependencies, will update after sbatching\n",
    "            assert 'dependency' in text[6]\n",
    "            text[6] = '#SBATCH --dependency=afterok:'\n",
    "            \n",
    "            assert 'mail' in text[7]\n",
    "            text[7] = '#SBATCH --mail-user=dummy_email@gmail.com'  # new code, don't want 1e6 emails\n",
    "            \n",
    "            # write text to file\n",
    "            with open(new_sh, 'w') as o:\n",
    "                o.write('\\n'.join(text))\n",
    "                \n",
    "                \n",
    "dst_dir "
   ]
  },
  {
   "cell_type": "code",
   "execution_count": 22,
   "id": "6cc1112a",
   "metadata": {},
   "outputs": [
    {
     "data": {
      "text/plain": [
       "'/work/lotterhos/brandon/pooled_runtimes/run_20220919_450-675/20000/gradient_forests/fitting/fitting_shfiles/1231768_gf_fitting.sh'"
      ]
     },
     "execution_count": 22,
     "metadata": {},
     "output_type": "execute_result"
    }
   ],
   "source": [
    "new_sh"
   ]
  },
  {
   "cell_type": "code",
   "execution_count": 23,
   "id": "3e3f6a7b",
   "metadata": {},
   "outputs": [
    {
     "data": {
      "text/plain": [
       "['#!/bin/bash',\n",
       " '#SBATCH --job-name=1231768_gf_fitting',\n",
       " '#SBATCH --time=1-00:00:00',\n",
       " '#SBATCH --ntasks=1',\n",
       " '#SBATCH --mem=300000M',\n",
       " '#SBATCH --output=1231768_gf_fitting_%j.out',\n",
       " '#SBATCH --dependency=afterok:',\n",
       " '#SBATCH --mail-user=dummy_email@gmail.com',\n",
       " '#SBATCH --mail-type=FAIL',\n",
       " '#SBATCH --nodes=1',\n",
       " '#SBATCH --cpus-per-task=7',\n",
       " 'cd /home/b.lind/code/MVP-offsets/01_src',\n",
       " 'source $HOME/.bashrc',\n",
       " 'conda activate mvp_env',\n",
       " 'python MVP_02_fit_gradient_forests.py 1231768 /work/lotterhos/brandon/pooled_runtimes/run_20220919_450-675/20000/slimdir /work/lotterhos/brandon/pooled_runtimes/run_20220919_450-675/20000/gradient_forests/training/training_outfiles /home/b.lind/anaconda3/envs/r35/lib/R/bin/Rscript 1 ind',\n",
       " 'python MVP_03_validate_gradient_forests.py 1231768 /home/b.lind/offsets/run_20220919_450-675/slimdir /work/lotterhos/brandon/pooled_runtimes/run_20220919_450-675/20000/gradient_forests 100 ind']"
      ]
     },
     "execution_count": 23,
     "metadata": {},
     "output_type": "execute_result"
    }
   ],
   "source": [
    "text"
   ]
  },
  {
   "cell_type": "code",
   "execution_count": 24,
   "id": "dbc56359",
   "metadata": {},
   "outputs": [
    {
     "data": {
      "text/plain": [
       "['#!/bin/bash',\n",
       " '#SBATCH --job-name=1231768_gf_fitting',\n",
       " '#SBATCH --time=1-00:00:00',\n",
       " '#SBATCH --ntasks=1',\n",
       " '#SBATCH --mem=300000M',\n",
       " '#SBATCH --output=1231768_gf_fitting_%j.out',\n",
       " '#SBATCH --dependency=afterok:',\n",
       " '#SBATCH --mail-user=dummy_email@gmail.com',\n",
       " '#SBATCH --mail-type=FAIL',\n",
       " '#SBATCH --nodes=1',\n",
       " '#SBATCH --cpus-per-task=7',\n",
       " 'cd /home/b.lind/code/MVP-offsets/01_src',\n",
       " 'source $HOME/.bashrc',\n",
       " 'conda activate mvp_env',\n",
       " 'python MVP_02_fit_gradient_forests.py 1231768 /work/lotterhos/brandon/pooled_runtimes/run_20220919_450-675/20000/slimdir /work/lotterhos/brandon/pooled_runtimes/run_20220919_450-675/20000/gradient_forests/training/training_outfiles /home/b.lind/anaconda3/envs/r35/lib/R/bin/Rscript 1 ind',\n",
       " 'python MVP_03_validate_gradient_forests.py 1231768 /home/b.lind/offsets/run_20220919_450-675/slimdir /work/lotterhos/brandon/pooled_runtimes/run_20220919_450-675/20000/gradient_forests 100 ind']"
      ]
     },
     "execution_count": 24,
     "metadata": {},
     "output_type": "execute_result"
    }
   ],
   "source": [
    "read(new_sh)"
   ]
  },
  {
   "cell_type": "markdown",
   "id": "f34bfcdd",
   "metadata": {},
   "source": [
    "<a id='submit500'></a>\n",
    "# submit jobs using 500 loci\n",
    "\n",
    "I have to be careful about which shfiles I submit since my code relies on non-duplicated job names in the slurm queue\n",
    "\n",
    "[top](#home)"
   ]
  },
  {
   "cell_type": "markdown",
   "id": "30ba5efc",
   "metadata": {},
   "source": [
    "### submit training files"
   ]
  },
  {
   "cell_type": "code",
   "execution_count": 25,
   "id": "948577d7",
   "metadata": {},
   "outputs": [
    {
     "data": {
      "text/plain": [
       "['/work/lotterhos/brandon/pooled_runtimes/run_20220919_450-675/00500/gradient_forests/training/training_files',\n",
       " '/work/lotterhos/brandon/pooled_runtimes/run_20220919_450-675/05000/gradient_forests/training/training_files',\n",
       " '/work/lotterhos/brandon/pooled_runtimes/run_20220919_450-675/10000/gradient_forests/training/training_files',\n",
       " '/work/lotterhos/brandon/pooled_runtimes/run_20220919_450-675/20000/gradient_forests/training/training_files']"
      ]
     },
     "execution_count": 25,
     "metadata": {},
     "output_type": "execute_result"
    }
   ],
   "source": [
    "pooled_dirs[rep]"
   ]
  },
  {
   "cell_type": "code",
   "execution_count": 26,
   "id": "a5b1cfc8",
   "metadata": {},
   "outputs": [
    {
     "name": "stdout",
     "output_type": "stream",
     "text": [
      "/work/lotterhos/brandon/pooled_runtimes/run_20220919_0-225/00500/gradient_forests/training/training_files\n",
      "/work/lotterhos/brandon/pooled_runtimes/run_20220919_225-450/00500/gradient_forests/training/training_files\n",
      "/work/lotterhos/brandon/pooled_runtimes/run_20220919_450-675/00500/gradient_forests/training/training_files\n"
     ]
    }
   ],
   "source": [
    "d_index = 0  # which dir I'm submitting\n",
    "\n",
    "for rep, repdirs in pooled_dirs.items():\n",
    "    print(repdirs[d_index])"
   ]
  },
  {
   "cell_type": "code",
   "execution_count": 27,
   "id": "76a50e2e",
   "metadata": {},
   "outputs": [
    {
     "name": "stderr",
     "output_type": "stream",
     "text": [
      "run_20220919_0-225: 100%|███████████████| 225/225 [00:39<00:00,  5.76it/s]\n",
      "run_20220919_225-450: 100%|███████████████| 225/225 [00:43<00:00,  5.15it/s]\n",
      "run_20220919_450-675: 100%|███████████████| 225/225 [00:45<00:00,  4.94it/s]\n"
     ]
    },
    {
     "data": {
      "text/plain": [
       "(675, 675)"
      ]
     },
     "execution_count": 27,
     "metadata": {},
     "output_type": "execute_result"
    }
   ],
   "source": [
    "# submit\n",
    "jobnames =[]\n",
    "pids = defaultdict(dict)\n",
    "for rep, repdirs in pooled_dirs.items():\n",
    "    sh_dir = repdirs[d_index].replace('training_files', 'training_shfiles')\n",
    "    \n",
    "    shfiles = fs(sh_dir, endswith='.sh', exclude='watcher')\n",
    "    \n",
    "    assert len(shfiles) == 225\n",
    "    \n",
    "    for sh in pbar(shfiles, desc=rep):\n",
    "        jobnames.append(op.basename(sh))\n",
    "        seed = op.basename(sh).split(\"_\")[0]\n",
    "        pids[rep][seed] = sbatch(sh, progress_bar=False)\n",
    "\n",
    "luni(jobnames), len(jobnames)"
   ]
  },
  {
   "cell_type": "code",
   "execution_count": 28,
   "id": "28e626d1",
   "metadata": {},
   "outputs": [
    {
     "name": "stderr",
     "output_type": "stream",
     "text": [
      "100%|███████████████| 3/3 [00:03<00:00,  1.19s/it]"
     ]
    },
    {
     "name": "stdout",
     "output_type": "stream",
     "text": [
      "675\n"
     ]
    },
    {
     "name": "stderr",
     "output_type": "stream",
     "text": [
      "\n"
     ]
    },
    {
     "data": {
      "text/plain": [
       "['#!/bin/bash',\n",
       " '#SBATCH --job-name=1231768_gf_fitting',\n",
       " '#SBATCH --time=1-00:00:00',\n",
       " '#SBATCH --ntasks=1',\n",
       " '#SBATCH --mem=300000M',\n",
       " '#SBATCH --output=1231768_gf_fitting_%j.out',\n",
       " '#SBATCH --dependency=afterok:40707672',\n",
       " '#SBATCH --mail-user=dummy_email@gmail.com',\n",
       " '#SBATCH --mail-type=FAIL',\n",
       " '#SBATCH --nodes=1',\n",
       " '#SBATCH --cpus-per-task=7',\n",
       " 'cd /home/b.lind/code/MVP-offsets/01_src',\n",
       " 'source $HOME/.bashrc',\n",
       " 'conda activate mvp_env',\n",
       " 'python MVP_02_fit_gradient_forests.py 1231768 /work/lotterhos/brandon/pooled_runtimes/run_20220919_450-675/00500/slimdir /work/lotterhos/brandon/pooled_runtimes/run_20220919_450-675/00500/gradient_forests/training/training_outfiles /home/b.lind/anaconda3/envs/r35/lib/R/bin/Rscript 1 ind',\n",
       " 'python MVP_03_validate_gradient_forests.py 1231768 /home/b.lind/offsets/run_20220919_450-675/slimdir /work/lotterhos/brandon/pooled_runtimes/run_20220919_450-675/00500/gradient_forests 100 ind']"
      ]
     },
     "execution_count": 28,
     "metadata": {},
     "output_type": "execute_result"
    }
   ],
   "source": [
    "fitting_shfiles = []\n",
    "for (rep, seed), pid in unwrap_dictionary(pids, progress_bar=True):\n",
    "    fitting_shdir = pooled_dirs[rep][d_index].replace('training/training_files', 'fitting/fitting_shfiles')\n",
    "    fitting_sh = f'{fitting_shdir}/{seed}_gf_fitting.sh'\n",
    "\n",
    "    text = read(fitting_sh)\n",
    "\n",
    "    assert 'dependency' in text[6]\n",
    "    text[6] = f'#SBATCH --dependency=afterok:{pid[0]}'\n",
    "\n",
    "    with open(fitting_sh, 'w') as o:\n",
    "        o.write('\\n'.join(text))\n",
    "\n",
    "    fitting_shfiles.append(fitting_sh)\n",
    "\n",
    "print(len(fitting_shfiles))\n",
    "\n",
    "text"
   ]
  },
  {
   "cell_type": "code",
   "execution_count": 29,
   "id": "22f3558e",
   "metadata": {},
   "outputs": [
    {
     "data": {
      "text/plain": [
       "'/work/lotterhos/brandon/pooled_runtimes/run_20220919_0-225/00500/gradient_forests/fitting/fitting_shfiles/1231094_gf_fitting.sh'"
      ]
     },
     "execution_count": 29,
     "metadata": {},
     "output_type": "execute_result"
    }
   ],
   "source": [
    "fitting_shfiles[0]"
   ]
  },
  {
   "cell_type": "code",
   "execution_count": 30,
   "id": "577ecee2",
   "metadata": {
    "scrolled": true
   },
   "outputs": [
    {
     "data": {
      "text/plain": [
       "['#!/bin/bash',\n",
       " '#SBATCH --job-name=1231094_gf_fitting',\n",
       " '#SBATCH --time=1-00:00:00',\n",
       " '#SBATCH --ntasks=1',\n",
       " '#SBATCH --mem=300000M',\n",
       " '#SBATCH --output=1231094_gf_fitting_%j.out',\n",
       " '#SBATCH --dependency=afterok:40706964',\n",
       " '#SBATCH --mail-user=dummy_email@gmail.com',\n",
       " '#SBATCH --mail-type=FAIL',\n",
       " '#SBATCH --nodes=1',\n",
       " '#SBATCH --cpus-per-task=7',\n",
       " 'cd /home/b.lind/code/MVP-offsets/01_src',\n",
       " 'source $HOME/.bashrc',\n",
       " 'conda activate mvp_env',\n",
       " 'python MVP_02_fit_gradient_forests.py 1231094 /work/lotterhos/brandon/pooled_runtimes/run_20220919_0-225/00500/slimdir /work/lotterhos/brandon/pooled_runtimes/run_20220919_0-225/00500/gradient_forests/training/training_outfiles /home/b.lind/anaconda3/envs/r35/lib/R/bin/Rscript 1 ind',\n",
       " 'python MVP_03_validate_gradient_forests.py 1231094 /home/b.lind/offsets/run_20220919_0-225/slimdir /work/lotterhos/brandon/pooled_runtimes/run_20220919_0-225/00500/gradient_forests 100 ind']"
      ]
     },
     "execution_count": 30,
     "metadata": {},
     "output_type": "execute_result"
    }
   ],
   "source": [
    "read(fitting_shfiles[0])"
   ]
  },
  {
   "cell_type": "code",
   "execution_count": 31,
   "id": "4ad64d41",
   "metadata": {},
   "outputs": [
    {
     "data": {
      "text/plain": [
       "'/work/lotterhos/brandon/pooled_runtimes/run_20220919_0-225/00500/gradient_forests/fitting/fitting_shfiles/1231094_gf_fitting.sh'"
      ]
     },
     "execution_count": 31,
     "metadata": {},
     "output_type": "execute_result"
    }
   ],
   "source": [
    "fitting_shfiles[0]"
   ]
  },
  {
   "cell_type": "code",
   "execution_count": 32,
   "id": "fe6bdf62",
   "metadata": {},
   "outputs": [
    {
     "name": "stderr",
     "output_type": "stream",
     "text": [
      "sbatching: 100%|███████████████| 675/675 [03:00<00:00,  3.74it/s]\n"
     ]
    }
   ],
   "source": [
    "fitting_pids = sbatch(fitting_shfiles)"
   ]
  },
  {
   "cell_type": "code",
   "execution_count": null,
   "id": "fa8aa1ad",
   "metadata": {},
   "outputs": [],
   "source": []
  },
  {
   "cell_type": "code",
   "execution_count": 33,
   "id": "d70c8cfc",
   "metadata": {},
   "outputs": [
    {
     "data": {
      "text/plain": [
       "\u001b[1m\u001b[38;2;128;128;128m🗒️  Queue Summary:\n",
       "\u001b[0m\u001b[0m\n",
       "{'\u001b[4m\u001b[1mshort\u001b[0m\u001b[0m': {'PD': 675}}"
      ]
     },
     "execution_count": 33,
     "metadata": {},
     "output_type": "execute_result"
    }
   ],
   "source": [
    "Squeue(grepping='fit')"
   ]
  },
  {
   "cell_type": "code",
   "execution_count": 34,
   "id": "bf39249f",
   "metadata": {},
   "outputs": [
    {
     "data": {
      "text/plain": [
       "\u001b[1m\u001b[38;2;128;128;128m🗒️  Queue Summary:\n",
       "\u001b[0m\u001b[0m\n",
       "{'\u001b[4m\u001b[1mlong\u001b[0m\u001b[0m': {'PD': 383, 'R': 24},\n",
       " '\u001b[4m\u001b[1mshort\u001b[0m\u001b[0m': {'PD': 122, 'R': 39}}"
      ]
     },
     "execution_count": 34,
     "metadata": {},
     "output_type": "execute_result"
    }
   ],
   "source": [
    "Squeue(grepping='train')"
   ]
  },
  {
   "cell_type": "code",
   "execution_count": null,
   "id": "3dff2a7c",
   "metadata": {},
   "outputs": [],
   "source": []
  },
  {
   "cell_type": "code",
   "execution_count": 35,
   "id": "29e71e8e",
   "metadata": {},
   "outputs": [
    {
     "name": "stderr",
     "output_type": "stream",
     "text": [
      "update: 100%|███████████████| 338/338 [00:24<00:00, 13.96it/s]\n"
     ]
    }
   ],
   "source": [
    "Squeue(grepping='fit', partition='short').update(to_partition='long', num_jobs=0.5)"
   ]
  },
  {
   "cell_type": "code",
   "execution_count": 36,
   "id": "c4034519",
   "metadata": {},
   "outputs": [
    {
     "data": {
      "text/plain": [
       "\u001b[1m\u001b[38;2;128;128;128m🗒️  Queue Summary:\n",
       "\u001b[0m\u001b[0m\n",
       "{'\u001b[4m\u001b[1mlong\u001b[0m\u001b[0m': {'PD': 338},\n",
       " '\u001b[4m\u001b[1mshort\u001b[0m\u001b[0m': {'PD': 337}}"
      ]
     },
     "execution_count": 36,
     "metadata": {},
     "output_type": "execute_result"
    }
   ],
   "source": [
    "Squeue(grepping='fit')"
   ]
  },
  {
   "cell_type": "code",
   "execution_count": 37,
   "id": "72d8fe8c",
   "metadata": {},
   "outputs": [
    {
     "data": {
      "text/plain": [
       "\u001b[1m\u001b[38;2;128;128;128m🗒️  Queue Summary:\n",
       "\u001b[0m\u001b[0m\n",
       "{'\u001b[4m\u001b[1mlong\u001b[0m\u001b[0m': {'PD': 379, 'R': 21},\n",
       " '\u001b[4m\u001b[1mshort\u001b[0m\u001b[0m': {'PD': 101, 'R': 48}}"
      ]
     },
     "execution_count": 37,
     "metadata": {},
     "output_type": "execute_result"
    }
   ],
   "source": [
    "Squeue(grepping='train')"
   ]
  },
  {
   "cell_type": "code",
   "execution_count": 42,
   "id": "4ab19088",
   "metadata": {},
   "outputs": [
    {
     "name": "stderr",
     "output_type": "stream",
     "text": [
      "update: 100%|███████████████| 30/30 [00:02<00:00, 14.32it/s]\n"
     ]
    }
   ],
   "source": [
    "Squeue(grepping=['train', '10000'], partition='long').update(to_partition='lotterhos', num_jobs=30)"
   ]
  },
  {
   "cell_type": "code",
   "execution_count": null,
   "id": "b019f4bf",
   "metadata": {},
   "outputs": [],
   "source": []
  },
  {
   "cell_type": "code",
   "execution_count": 43,
   "id": "a55d7df4",
   "metadata": {},
   "outputs": [
    {
     "data": {
      "text/plain": [
       "\u001b[1m\u001b[38;2;128;128;128m🗒️  Queue Summary:\n",
       "\u001b[0m\u001b[0m\n",
       "{'\u001b[4m\u001b[1mlong\u001b[0m\u001b[0m': {'PD': 639, 'R': 18},\n",
       " '\u001b[4m\u001b[1mlotterhos\u001b[0m\u001b[0m': {'PD': 36, 'R': 18},\n",
       " '\u001b[4m\u001b[1mshort\u001b[0m\u001b[0m': {'PD': 425, 'R': 33}}"
      ]
     },
     "execution_count": 43,
     "metadata": {},
     "output_type": "execute_result"
    }
   ],
   "source": [
    "Squeue()"
   ]
  },
  {
   "cell_type": "code",
   "execution_count": null,
   "id": "9e709a05",
   "metadata": {},
   "outputs": [],
   "source": []
  },
  {
   "cell_type": "code",
   "execution_count": 44,
   "id": "37f041a2",
   "metadata": {},
   "outputs": [
    {
     "data": {
      "text/plain": [
       "defaultdict(list,\n",
       "            {'run_20220919_0-225': ['/work/lotterhos/brandon/pooled_runtimes/run_20220919_0-225/00500/gradient_forests/training/training_files',\n",
       "              '/work/lotterhos/brandon/pooled_runtimes/run_20220919_0-225/05000/gradient_forests/training/training_files',\n",
       "              '/work/lotterhos/brandon/pooled_runtimes/run_20220919_0-225/10000/gradient_forests/training/training_files',\n",
       "              '/work/lotterhos/brandon/pooled_runtimes/run_20220919_0-225/20000/gradient_forests/training/training_files'],\n",
       "             'run_20220919_225-450': ['/work/lotterhos/brandon/pooled_runtimes/run_20220919_225-450/00500/gradient_forests/training/training_files',\n",
       "              '/work/lotterhos/brandon/pooled_runtimes/run_20220919_225-450/05000/gradient_forests/training/training_files',\n",
       "              '/work/lotterhos/brandon/pooled_runtimes/run_20220919_225-450/10000/gradient_forests/training/training_files',\n",
       "              '/work/lotterhos/brandon/pooled_runtimes/run_20220919_225-450/20000/gradient_forests/training/training_files'],\n",
       "             'run_20220919_450-675': ['/work/lotterhos/brandon/pooled_runtimes/run_20220919_450-675/00500/gradient_forests/training/training_files',\n",
       "              '/work/lotterhos/brandon/pooled_runtimes/run_20220919_450-675/05000/gradient_forests/training/training_files',\n",
       "              '/work/lotterhos/brandon/pooled_runtimes/run_20220919_450-675/10000/gradient_forests/training/training_files',\n",
       "              '/work/lotterhos/brandon/pooled_runtimes/run_20220919_450-675/20000/gradient_forests/training/training_files']})"
      ]
     },
     "execution_count": 44,
     "metadata": {},
     "output_type": "execute_result"
    }
   ],
   "source": [
    "pooled_dirs"
   ]
  },
  {
   "cell_type": "code",
   "execution_count": null,
   "id": "98d58376",
   "metadata": {},
   "outputs": [],
   "source": []
  },
  {
   "cell_type": "markdown",
   "id": "c8eeda49",
   "metadata": {},
   "source": [
    "<a id='submit5000'></a>\n",
    "# submit jobs using 5000 loci\n",
    "[top](#home)"
   ]
  },
  {
   "cell_type": "code",
   "execution_count": 1,
   "id": "fa032c71",
   "metadata": {},
   "outputs": [
    {
     "name": "stdout",
     "output_type": "stream",
     "text": [
      "36 36\n",
      "#########################################################\n",
      "Today:\tFebruary 05, 2024 - 16:16:37 EST\n",
      "python version: 3.8.5\n",
      "conda env: mvp_env\n",
      "\n",
      "Current commit of \u001b[1mpythonimports\u001b[0m:\n",
      "\u001b[33mcommit 419895d157c97717f835390196c13cf973d25eba\u001b[m  \n",
      "Merge: e20434f 1e09b6c  \n",
      "Author: Brandon Lind <lind.brandon.m@gmail.com>\n",
      "\n",
      "Current commit of \u001b[94m\u001b[1mMVP_offsets\u001b[0m\u001b[0m:\n",
      "\u001b[33mcommit 8b790072e7a46d7f58a30c40cf4660986a612764\u001b[m  \n",
      "Author: Brandon Lind <lind.brandon.m@gmail.com>  \n",
      "Date:   Fri Feb 2 13:55:49 2024 -0500\n",
      "#########################################################\n",
      "\n"
     ]
    },
    {
     "data": {
      "text/html": [
       "<details>\n",
       "<summary>Click to view session information</summary>\n",
       "<pre>\n",
       "-----\n",
       "MVP_summary_functions       NA\n",
       "balance_queue               NA\n",
       "cartopy                     0.20.2\n",
       "ipyparallel                 7.1.0\n",
       "matplotlib                  3.5.2\n",
       "myclasses                   NA\n",
       "myfigs                      NA\n",
       "mymaps                      NA\n",
       "myslurm                     NA\n",
       "numpy                       1.22.1\n",
       "pandas                      1.3.5\n",
       "pythonimports               NA\n",
       "session_info                1.0.0\n",
       "tqdm                        4.62.1\n",
       "-----\n",
       "</pre>\n",
       "<details>\n",
       "<summary>Click to view modules imported as dependencies</summary>\n",
       "<pre>\n",
       "MVP_01_train_gradient_forests       NA\n",
       "MVP_10_train_lfmm2_offset           NA\n",
       "PIL                                 8.4.0\n",
       "attr                                21.4.0\n",
       "backcall                            0.2.0\n",
       "beta_ufunc                          NA\n",
       "binom_ufunc                         NA\n",
       "bottleneck                          1.3.2\n",
       "certifi                             2023.05.07\n",
       "cffi                                1.15.0\n",
       "cycler                              0.10.0\n",
       "cython_runtime                      NA\n",
       "dateutil                            2.8.2\n",
       "debugpy                             1.5.1\n",
       "decorator                           5.1.1\n",
       "defusedxml                          0.7.1\n",
       "entrypoints                         0.4\n",
       "fiona                               1.9.5\n",
       "fontTools                           4.29.1\n",
       "ipykernel                           6.8.0\n",
       "ipython_genutils                    0.2.0\n",
       "ipywidgets                          7.6.5\n",
       "jedi                                0.18.1\n",
       "kiwisolver                          1.3.2\n",
       "matplotlib_venn                     0.11.6\n",
       "mpl_toolkits                        NA\n",
       "nbinom_ufunc                        NA\n",
       "numexpr                             2.8.1\n",
       "packaging                           21.3\n",
       "parso                               0.8.3\n",
       "patsy                               0.5.2\n",
       "pdf2image                           NA\n",
       "pexpect                             4.8.0\n",
       "pickleshare                         0.7.5\n",
       "pkg_resources                       NA\n",
       "prompt_toolkit                      3.0.26\n",
       "psutil                              5.9.0\n",
       "ptyprocess                          0.7.0\n",
       "pydev_ipython                       NA\n",
       "pydevconsole                        NA\n",
       "pydevd                              2.6.0\n",
       "pydevd_concurrency_analyser         NA\n",
       "pydevd_file_utils                   NA\n",
       "pydevd_plugins                      NA\n",
       "pydevd_tracing                      NA\n",
       "pygments                            2.11.2\n",
       "pyparsing                           3.0.7\n",
       "pyproj                              3.3.0\n",
       "pytz                                2021.3\n",
       "scipy                               1.7.3\n",
       "seaborn                             0.11.2\n",
       "setuptools                          60.7.1\n",
       "shapefile                           2.2.0\n",
       "shapely                             1.8.0\n",
       "six                                 1.16.0\n",
       "statsmodels                         0.14.0\n",
       "storemagic                          NA\n",
       "tornado                             6.1\n",
       "traitlets                           5.1.1\n",
       "wcwidth                             0.2.5\n",
       "zmq                                 22.3.0\n",
       "</pre>\n",
       "</details> <!-- seems like this ends pre, so might as well be explicit -->\n",
       "<pre>\n",
       "-----\n",
       "IPython             7.31.1\n",
       "jupyter_client      7.1.2\n",
       "jupyter_core        4.9.1\n",
       "notebook            6.4.8\n",
       "-----\n",
       "Python 3.8.5 (default, Sep  4 2020, 07:30:14) [GCC 7.3.0]\n",
       "Linux-3.10.0-1160.25.1.el7.x86_64-x86_64-with-glibc2.10\n",
       "-----\n",
       "Session information updated at 2024-02-05 16:16\n",
       "</pre>\n",
       "</details>"
      ],
      "text/plain": [
       "<IPython.core.display.HTML object>"
      ]
     },
     "execution_count": 1,
     "metadata": {},
     "output_type": "execute_result"
    }
   ],
   "source": [
    "from pythonimports import *\n",
    "\n",
    "import MVP_summary_functions as mvp\n",
    "\n",
    "lview, dview = get_client(cluster_id='1707154768-urwa', profile='lotterhos')\n",
    "\n",
    "outerdir = '/work/lotterhos/brandon/ind_runtimes'\n",
    "pooled_dir = '/work/lotterhos/brandon/pooled_runtimes'\n",
    "\n",
    "mvp.latest_commit()\n",
    "session_info.show()"
   ]
  },
  {
   "cell_type": "code",
   "execution_count": 3,
   "id": "750a5314",
   "metadata": {},
   "outputs": [],
   "source": [
    "pooled_dirs = {\n",
    "    'run_20220919_0-225': ['/work/lotterhos/brandon/pooled_runtimes/run_20220919_0-225/00500/gradient_forests/training/training_files',\n",
    "                           '/work/lotterhos/brandon/pooled_runtimes/run_20220919_0-225/05000/gradient_forests/training/training_files',\n",
    "                           '/work/lotterhos/brandon/pooled_runtimes/run_20220919_0-225/10000/gradient_forests/training/training_files',\n",
    "                           '/work/lotterhos/brandon/pooled_runtimes/run_20220919_0-225/20000/gradient_forests/training/training_files'],\n",
    "    \n",
    "    'run_20220919_225-450': ['/work/lotterhos/brandon/pooled_runtimes/run_20220919_225-450/00500/gradient_forests/training/training_files',\n",
    "                             '/work/lotterhos/brandon/pooled_runtimes/run_20220919_225-450/05000/gradient_forests/training/training_files',\n",
    "                             '/work/lotterhos/brandon/pooled_runtimes/run_20220919_225-450/10000/gradient_forests/training/training_files',\n",
    "                             '/work/lotterhos/brandon/pooled_runtimes/run_20220919_225-450/20000/gradient_forests/training/training_files'],\n",
    "    \n",
    "    'run_20220919_450-675': ['/work/lotterhos/brandon/pooled_runtimes/run_20220919_450-675/00500/gradient_forests/training/training_files',\n",
    "                             '/work/lotterhos/brandon/pooled_runtimes/run_20220919_450-675/05000/gradient_forests/training/training_files',\n",
    "                             '/work/lotterhos/brandon/pooled_runtimes/run_20220919_450-675/10000/gradient_forests/training/training_files',\n",
    "                             '/work/lotterhos/brandon/pooled_runtimes/run_20220919_450-675/20000/gradient_forests/training/training_files']\n",
    "}"
   ]
  },
  {
   "cell_type": "code",
   "execution_count": 4,
   "id": "b743f9e0",
   "metadata": {},
   "outputs": [
    {
     "name": "stdout",
     "output_type": "stream",
     "text": [
      "/work/lotterhos/brandon/pooled_runtimes/run_20220919_0-225/05000/gradient_forests/training/training_files\n",
      "/work/lotterhos/brandon/pooled_runtimes/run_20220919_225-450/05000/gradient_forests/training/training_files\n",
      "/work/lotterhos/brandon/pooled_runtimes/run_20220919_450-675/05000/gradient_forests/training/training_files\n"
     ]
    }
   ],
   "source": [
    "d_index = 1  # which dir I'm submitting\n",
    "\n",
    "for rep, repdirs in pooled_dirs.items():\n",
    "    print(repdirs[d_index])"
   ]
  },
  {
   "cell_type": "code",
   "execution_count": 5,
   "id": "94916290",
   "metadata": {},
   "outputs": [
    {
     "name": "stderr",
     "output_type": "stream",
     "text": [
      "run_20220919_0-225: 100%|███████████████| 225/225 [00:49<00:00,  4.57it/s]\n",
      "run_20220919_225-450: 100%|███████████████| 225/225 [00:47<00:00,  4.76it/s]\n",
      "run_20220919_450-675: 100%|███████████████| 225/225 [00:47<00:00,  4.77it/s]\n"
     ]
    },
    {
     "data": {
      "text/plain": [
       "(675, 675)"
      ]
     },
     "execution_count": 5,
     "metadata": {},
     "output_type": "execute_result"
    }
   ],
   "source": [
    "# submit\n",
    "jobnames =[]\n",
    "pids = defaultdict(dict)\n",
    "for rep, repdirs in pooled_dirs.items():\n",
    "    sh_dir = repdirs[d_index].replace('training_files', 'training_shfiles')\n",
    "    \n",
    "    shfiles = fs(sh_dir, endswith='.sh', exclude='watcher')\n",
    "    \n",
    "    assert len(shfiles) == 225\n",
    "    \n",
    "    for sh in pbar(shfiles, desc=rep):\n",
    "        jobnames.append(op.basename(sh))\n",
    "        seed = op.basename(sh).split(\"_\")[0]\n",
    "        pids[rep][seed] = sbatch(sh, progress_bar=False)\n",
    "\n",
    "luni(jobnames), len(jobnames)"
   ]
  },
  {
   "cell_type": "code",
   "execution_count": 6,
   "id": "969e133a",
   "metadata": {},
   "outputs": [
    {
     "name": "stderr",
     "output_type": "stream",
     "text": [
      "100%|███████████████| 3/3 [00:04<00:00,  1.61s/it]"
     ]
    },
    {
     "name": "stdout",
     "output_type": "stream",
     "text": [
      "675\n"
     ]
    },
    {
     "name": "stderr",
     "output_type": "stream",
     "text": [
      "\n"
     ]
    },
    {
     "data": {
      "text/plain": [
       "['#!/bin/bash',\n",
       " '#SBATCH --job-name=1231768_gf_fitting',\n",
       " '#SBATCH --time=1-00:00:00',\n",
       " '#SBATCH --ntasks=1',\n",
       " '#SBATCH --mem=300000M',\n",
       " '#SBATCH --output=1231768_gf_fitting_%j.out',\n",
       " '#SBATCH --dependency=afterok:40709572',\n",
       " '#SBATCH --mail-user=dummy_email@gmail.com',\n",
       " '#SBATCH --mail-type=FAIL',\n",
       " '#SBATCH --nodes=1',\n",
       " '#SBATCH --cpus-per-task=7',\n",
       " 'cd /home/b.lind/code/MVP-offsets/01_src',\n",
       " 'source $HOME/.bashrc',\n",
       " 'conda activate mvp_env',\n",
       " 'python MVP_02_fit_gradient_forests.py 1231768 /work/lotterhos/brandon/pooled_runtimes/run_20220919_450-675/05000/slimdir /work/lotterhos/brandon/pooled_runtimes/run_20220919_450-675/05000/gradient_forests/training/training_outfiles /home/b.lind/anaconda3/envs/r35/lib/R/bin/Rscript 1 ind',\n",
       " 'python MVP_03_validate_gradient_forests.py 1231768 /home/b.lind/offsets/run_20220919_450-675/slimdir /work/lotterhos/brandon/pooled_runtimes/run_20220919_450-675/05000/gradient_forests 100 ind']"
      ]
     },
     "execution_count": 6,
     "metadata": {},
     "output_type": "execute_result"
    }
   ],
   "source": [
    "fitting_shfiles = []\n",
    "for (rep, seed), pid in unwrap_dictionary(pids, progress_bar=True):\n",
    "    fitting_shdir = pooled_dirs[rep][d_index].replace('training/training_files', 'fitting/fitting_shfiles')\n",
    "    fitting_sh = f'{fitting_shdir}/{seed}_gf_fitting.sh'\n",
    "\n",
    "    text = read(fitting_sh)\n",
    "\n",
    "    assert 'dependency' in text[6]\n",
    "    text[6] = f'#SBATCH --dependency=afterok:{pid[0]}'\n",
    "\n",
    "    with open(fitting_sh, 'w') as o:\n",
    "        o.write('\\n'.join(text))\n",
    "\n",
    "    fitting_shfiles.append(fitting_sh)\n",
    "\n",
    "print(len(fitting_shfiles))\n",
    "\n",
    "text"
   ]
  },
  {
   "cell_type": "code",
   "execution_count": 7,
   "id": "5fb55d4f",
   "metadata": {},
   "outputs": [
    {
     "name": "stderr",
     "output_type": "stream",
     "text": [
      "sbatching: 100%|███████████████| 675/675 [02:42<00:00,  4.14it/s]\n"
     ]
    }
   ],
   "source": [
    "pids = sbatch(fitting_shfiles)"
   ]
  },
  {
   "cell_type": "code",
   "execution_count": null,
   "id": "c7459bec",
   "metadata": {},
   "outputs": [],
   "source": []
  },
  {
   "cell_type": "markdown",
   "id": "a92b48bd",
   "metadata": {},
   "source": [
    "<a id='submit10k'></a>\n",
    "# submit jobs using 10000 loci\n",
    "\n",
    "[top](#home)"
   ]
  },
  {
   "cell_type": "code",
   "execution_count": 5,
   "id": "2f138c1b",
   "metadata": {},
   "outputs": [
    {
     "name": "stdout",
     "output_type": "stream",
     "text": [
      "#########################################################\n",
      "Today:\tFebruary 07, 2024 - 14:24:37 EST\n",
      "python version: 3.8.5\n",
      "conda env: mvp_env\n",
      "\n",
      "Current commit of \u001b[1mpythonimports\u001b[0m:\n",
      "\u001b[33mcommit 419895d157c97717f835390196c13cf973d25eba\u001b[m  \n",
      "Merge: e20434f 1e09b6c  \n",
      "Author: Brandon Lind <lind.brandon.m@gmail.com>\n",
      "\n",
      "Current commit of \u001b[94m\u001b[1mMVP_offsets\u001b[0m\u001b[0m:\n",
      "\u001b[33mcommit 8b790072e7a46d7f58a30c40cf4660986a612764\u001b[m  \n",
      "Author: Brandon Lind <lind.brandon.m@gmail.com>  \n",
      "Date:   Fri Feb 2 13:55:49 2024 -0500\n",
      "#########################################################\n",
      "\n"
     ]
    },
    {
     "data": {
      "text/html": [
       "<details>\n",
       "<summary>Click to view session information</summary>\n",
       "<pre>\n",
       "-----\n",
       "MVP_summary_functions       NA\n",
       "balance_queue               NA\n",
       "cartopy                     0.20.2\n",
       "ipyparallel                 7.1.0\n",
       "matplotlib                  3.5.2\n",
       "myclasses                   NA\n",
       "myfigs                      NA\n",
       "mymaps                      NA\n",
       "myslurm                     NA\n",
       "numpy                       1.22.1\n",
       "pandas                      1.3.5\n",
       "pythonimports               NA\n",
       "session_info                1.0.0\n",
       "tqdm                        4.62.1\n",
       "-----\n",
       "</pre>\n",
       "<details>\n",
       "<summary>Click to view modules imported as dependencies</summary>\n",
       "<pre>\n",
       "MVP_01_train_gradient_forests       NA\n",
       "MVP_10_train_lfmm2_offset           NA\n",
       "PIL                                 8.4.0\n",
       "attr                                21.4.0\n",
       "backcall                            0.2.0\n",
       "beta_ufunc                          NA\n",
       "binom_ufunc                         NA\n",
       "bottleneck                          1.3.2\n",
       "certifi                             2023.05.07\n",
       "cffi                                1.15.0\n",
       "cycler                              0.10.0\n",
       "cython_runtime                      NA\n",
       "dateutil                            2.8.2\n",
       "debugpy                             1.5.1\n",
       "decorator                           5.1.1\n",
       "defusedxml                          0.7.1\n",
       "entrypoints                         0.4\n",
       "fiona                               1.9.5\n",
       "fontTools                           4.29.1\n",
       "ipykernel                           6.8.0\n",
       "ipython_genutils                    0.2.0\n",
       "ipywidgets                          7.6.5\n",
       "jedi                                0.18.1\n",
       "kiwisolver                          1.3.2\n",
       "matplotlib_venn                     0.11.6\n",
       "mpl_toolkits                        NA\n",
       "nbinom_ufunc                        NA\n",
       "numexpr                             2.8.1\n",
       "packaging                           21.3\n",
       "parso                               0.8.3\n",
       "patsy                               0.5.2\n",
       "pdf2image                           NA\n",
       "pexpect                             4.8.0\n",
       "pickleshare                         0.7.5\n",
       "pkg_resources                       NA\n",
       "prompt_toolkit                      3.0.26\n",
       "psutil                              5.9.0\n",
       "ptyprocess                          0.7.0\n",
       "pydev_ipython                       NA\n",
       "pydevconsole                        NA\n",
       "pydevd                              2.6.0\n",
       "pydevd_concurrency_analyser         NA\n",
       "pydevd_file_utils                   NA\n",
       "pydevd_plugins                      NA\n",
       "pydevd_tracing                      NA\n",
       "pygments                            2.11.2\n",
       "pyparsing                           3.0.7\n",
       "pyproj                              3.3.0\n",
       "pytz                                2021.3\n",
       "scipy                               1.7.3\n",
       "seaborn                             0.11.2\n",
       "setuptools                          60.7.1\n",
       "shapefile                           2.2.0\n",
       "shapely                             1.8.0\n",
       "six                                 1.16.0\n",
       "statsmodels                         0.14.0\n",
       "storemagic                          NA\n",
       "tornado                             6.1\n",
       "traitlets                           5.1.1\n",
       "wcwidth                             0.2.5\n",
       "zmq                                 22.3.0\n",
       "</pre>\n",
       "</details> <!-- seems like this ends pre, so might as well be explicit -->\n",
       "<pre>\n",
       "-----\n",
       "IPython             7.31.1\n",
       "jupyter_client      7.1.2\n",
       "jupyter_core        4.9.1\n",
       "notebook            6.4.8\n",
       "-----\n",
       "Python 3.8.5 (default, Sep  4 2020, 07:30:14) [GCC 7.3.0]\n",
       "Linux-3.10.0-1160.25.1.el7.x86_64-x86_64-with-glibc2.10\n",
       "-----\n",
       "Session information updated at 2024-02-07 14:24\n",
       "</pre>\n",
       "</details>"
      ],
      "text/plain": [
       "<IPython.core.display.HTML object>"
      ]
     },
     "execution_count": 5,
     "metadata": {},
     "output_type": "execute_result"
    }
   ],
   "source": [
    "from pythonimports import *\n",
    "\n",
    "import MVP_summary_functions as mvp\n",
    "\n",
    "outerdir = '/work/lotterhos/brandon/ind_runtimes'\n",
    "pooled_dir = '/work/lotterhos/brandon/pooled_runtimes'\n",
    "\n",
    "mvp.latest_commit()\n",
    "session_info.show()"
   ]
  },
  {
   "cell_type": "code",
   "execution_count": 6,
   "id": "09e97e51",
   "metadata": {},
   "outputs": [],
   "source": [
    "pooled_dirs = {\n",
    "    'run_20220919_0-225': ['/work/lotterhos/brandon/pooled_runtimes/run_20220919_0-225/00500/gradient_forests/training/training_files',\n",
    "                           '/work/lotterhos/brandon/pooled_runtimes/run_20220919_0-225/05000/gradient_forests/training/training_files',\n",
    "                           '/work/lotterhos/brandon/pooled_runtimes/run_20220919_0-225/10000/gradient_forests/training/training_files',\n",
    "                           '/work/lotterhos/brandon/pooled_runtimes/run_20220919_0-225/20000/gradient_forests/training/training_files'],\n",
    "    \n",
    "    'run_20220919_225-450': ['/work/lotterhos/brandon/pooled_runtimes/run_20220919_225-450/00500/gradient_forests/training/training_files',\n",
    "                             '/work/lotterhos/brandon/pooled_runtimes/run_20220919_225-450/05000/gradient_forests/training/training_files',\n",
    "                             '/work/lotterhos/brandon/pooled_runtimes/run_20220919_225-450/10000/gradient_forests/training/training_files',\n",
    "                             '/work/lotterhos/brandon/pooled_runtimes/run_20220919_225-450/20000/gradient_forests/training/training_files'],\n",
    "    \n",
    "    'run_20220919_450-675': ['/work/lotterhos/brandon/pooled_runtimes/run_20220919_450-675/00500/gradient_forests/training/training_files',\n",
    "                             '/work/lotterhos/brandon/pooled_runtimes/run_20220919_450-675/05000/gradient_forests/training/training_files',\n",
    "                             '/work/lotterhos/brandon/pooled_runtimes/run_20220919_450-675/10000/gradient_forests/training/training_files',\n",
    "                             '/work/lotterhos/brandon/pooled_runtimes/run_20220919_450-675/20000/gradient_forests/training/training_files']\n",
    "}"
   ]
  },
  {
   "cell_type": "code",
   "execution_count": 7,
   "id": "a2407547",
   "metadata": {},
   "outputs": [
    {
     "name": "stdout",
     "output_type": "stream",
     "text": [
      "/work/lotterhos/brandon/pooled_runtimes/run_20220919_0-225/10000/gradient_forests/training/training_files\n",
      "/work/lotterhos/brandon/pooled_runtimes/run_20220919_225-450/10000/gradient_forests/training/training_files\n",
      "/work/lotterhos/brandon/pooled_runtimes/run_20220919_450-675/10000/gradient_forests/training/training_files\n"
     ]
    }
   ],
   "source": [
    "d_index = 2  # which dir I'm submitting\n",
    "\n",
    "for rep, repdirs in pooled_dirs.items():\n",
    "    print(repdirs[d_index])"
   ]
  },
  {
   "cell_type": "code",
   "execution_count": 8,
   "id": "d7b01c0a",
   "metadata": {},
   "outputs": [
    {
     "name": "stderr",
     "output_type": "stream",
     "text": [
      "run_20220919_0-225: 100%|███████████████| 225/225 [00:37<00:00,  5.99it/s]\n",
      "run_20220919_225-450: 100%|███████████████| 225/225 [00:42<00:00,  5.34it/s]\n",
      "run_20220919_450-675: 100%|███████████████| 225/225 [00:46<00:00,  4.88it/s]\n"
     ]
    },
    {
     "data": {
      "text/plain": [
       "(675, 675)"
      ]
     },
     "execution_count": 8,
     "metadata": {},
     "output_type": "execute_result"
    }
   ],
   "source": [
    "# submit\n",
    "jobnames =[]\n",
    "pids = defaultdict(dict)\n",
    "for rep, repdirs in pooled_dirs.items():\n",
    "    sh_dir = repdirs[d_index].replace('training_files', 'training_shfiles')\n",
    "    \n",
    "    shfiles = fs(sh_dir, endswith='.sh', exclude='watcher')\n",
    "    \n",
    "    assert len(shfiles) == 225\n",
    "    \n",
    "    for sh in pbar(shfiles, desc=rep):\n",
    "        jobnames.append(op.basename(sh))\n",
    "        seed = op.basename(sh).split(\"_\")[0]\n",
    "        pids[rep][seed] = sbatch(sh, progress_bar=False)\n",
    "\n",
    "luni(jobnames), len(jobnames)"
   ]
  },
  {
   "cell_type": "code",
   "execution_count": 9,
   "id": "6b5796e1",
   "metadata": {},
   "outputs": [
    {
     "name": "stderr",
     "output_type": "stream",
     "text": [
      "100%|███████████████| 3/3 [00:05<00:00,  1.86s/it]"
     ]
    },
    {
     "name": "stdout",
     "output_type": "stream",
     "text": [
      "675\n"
     ]
    },
    {
     "name": "stderr",
     "output_type": "stream",
     "text": [
      "\n"
     ]
    },
    {
     "data": {
      "text/plain": [
       "['#!/bin/bash',\n",
       " '#SBATCH --job-name=1231768_gf_fitting',\n",
       " '#SBATCH --time=1-00:00:00',\n",
       " '#SBATCH --ntasks=1',\n",
       " '#SBATCH --mem=300000M',\n",
       " '#SBATCH --output=1231768_gf_fitting_%j.out',\n",
       " '#SBATCH --dependency=afterok:40735645',\n",
       " '#SBATCH --mail-user=dummy_email@gmail.com',\n",
       " '#SBATCH --mail-type=FAIL',\n",
       " '#SBATCH --nodes=1',\n",
       " '#SBATCH --cpus-per-task=7',\n",
       " 'cd /home/b.lind/code/MVP-offsets/01_src',\n",
       " 'source $HOME/.bashrc',\n",
       " 'conda activate mvp_env',\n",
       " 'python MVP_02_fit_gradient_forests.py 1231768 /work/lotterhos/brandon/pooled_runtimes/run_20220919_450-675/10000/slimdir /work/lotterhos/brandon/pooled_runtimes/run_20220919_450-675/10000/gradient_forests/training/training_outfiles /home/b.lind/anaconda3/envs/r35/lib/R/bin/Rscript 1 ind',\n",
       " 'python MVP_03_validate_gradient_forests.py 1231768 /home/b.lind/offsets/run_20220919_450-675/slimdir /work/lotterhos/brandon/pooled_runtimes/run_20220919_450-675/10000/gradient_forests 100 ind']"
      ]
     },
     "execution_count": 9,
     "metadata": {},
     "output_type": "execute_result"
    }
   ],
   "source": [
    "fitting_shfiles = []\n",
    "for (rep, seed), pid in unwrap_dictionary(pids, progress_bar=True):\n",
    "    fitting_shdir = pooled_dirs[rep][d_index].replace('training/training_files', 'fitting/fitting_shfiles')\n",
    "    fitting_sh = f'{fitting_shdir}/{seed}_gf_fitting.sh'\n",
    "\n",
    "    text = read(fitting_sh)\n",
    "\n",
    "    assert 'dependency' in text[6]\n",
    "    text[6] = f'#SBATCH --dependency=afterok:{pid[0]}'\n",
    "\n",
    "    with open(fitting_sh, 'w') as o:\n",
    "        o.write('\\n'.join(text))\n",
    "\n",
    "    fitting_shfiles.append(fitting_sh)\n",
    "\n",
    "print(len(fitting_shfiles))\n",
    "\n",
    "text"
   ]
  },
  {
   "cell_type": "code",
   "execution_count": 10,
   "id": "33c1e1fd",
   "metadata": {
    "collapsed": true
   },
   "outputs": [
    {
     "name": "stderr",
     "output_type": "stream",
     "text": [
      "sbatching:   9%|█▎             | 60/675 [00:12<02:07,  4.82it/s]\n",
      "scancel: 100%|███████████████| 1/1 [00:00<00:00, 15.66it/s]\n",
      "sbatching:  42%|██████▎        | 285/675 [01:03<01:31,  4.28it/s]\n",
      "scancel: 100%|███████████████| 1/1 [00:00<00:00, 15.13it/s]\n",
      "sbatching:  42%|██████▎        | 286/675 [01:03<01:36,  4.03it/s]\n",
      "scancel: 100%|███████████████| 1/1 [00:00<00:00, 14.62it/s]\n",
      "sbatching:  43%|██████▍        | 289/675 [01:04<01:37,  3.96it/s]\n",
      "scancel: 100%|███████████████| 1/1 [00:00<00:00, 14.45it/s]\n",
      "sbatching:  43%|██████▍        | 290/675 [01:04<01:43,  3.72it/s]\n",
      "scancel: 100%|███████████████| 1/1 [00:00<00:00, 15.50it/s]\n",
      "sbatching:  44%|██████▌        | 294/675 [01:05<01:37,  3.93it/s]\n",
      "scancel: 100%|███████████████| 1/1 [00:00<00:00, 14.80it/s]\n",
      "sbatching:  44%|██████▋        | 300/675 [01:07<01:24,  4.44it/s]\n",
      "scancel: 100%|███████████████| 1/1 [00:00<00:00, 14.59it/s]\n",
      "sbatching:  45%|██████▋        | 301/675 [01:07<01:31,  4.10it/s]\n",
      "scancel: 100%|███████████████| 1/1 [00:00<00:00, 14.25it/s]\n",
      "sbatching:  45%|██████▋        | 302/675 [01:07<01:46,  3.50it/s]\n",
      "scancel: 100%|███████████████| 1/1 [00:00<00:00, 14.96it/s]\n",
      "sbatching:  45%|██████▋        | 303/675 [01:08<01:49,  3.41it/s]\n",
      "scancel: 100%|███████████████| 1/1 [00:00<00:00, 15.42it/s]\n",
      "sbatching:  45%|██████▊        | 304/675 [01:08<01:48,  3.42it/s]\n",
      "scancel: 100%|███████████████| 1/1 [00:00<00:00, 15.24it/s]\n",
      "sbatching:  45%|██████▊        | 305/675 [01:08<01:48,  3.40it/s]\n",
      "scancel: 100%|███████████████| 1/1 [00:00<00:00, 15.28it/s]\n",
      "sbatching:  45%|██████▊        | 306/675 [01:08<01:46,  3.47it/s]\n",
      "scancel: 100%|███████████████| 1/1 [00:00<00:00, 14.91it/s]\n",
      "sbatching:  45%|██████▊        | 307/675 [01:09<01:47,  3.42it/s]\n",
      "scancel: 100%|███████████████| 1/1 [00:00<00:00, 14.66it/s]\n",
      "sbatching:  46%|██████▊        | 308/675 [01:09<01:45,  3.48it/s]\n",
      "scancel: 100%|███████████████| 1/1 [00:00<00:00, 14.86it/s]\n",
      "sbatching:  46%|██████▊        | 309/675 [01:09<01:46,  3.45it/s]\n",
      "scancel: 100%|███████████████| 1/1 [00:00<00:00, 14.39it/s]\n",
      "sbatching:  46%|██████▉        | 311/675 [01:10<01:44,  3.49it/s]\n",
      "scancel: 100%|███████████████| 1/1 [00:00<00:00, 11.97it/s]\n",
      "sbatching:  46%|██████▉        | 312/675 [01:10<01:47,  3.39it/s]\n",
      "scancel: 100%|███████████████| 1/1 [00:00<00:00, 14.57it/s]\n",
      "sbatching:  47%|██████▉        | 314/675 [01:11<01:38,  3.65it/s]\n",
      "scancel: 100%|███████████████| 1/1 [00:00<00:00, 15.47it/s]\n",
      "sbatching:  47%|███████        | 315/675 [01:11<01:39,  3.62it/s]\n",
      "scancel: 100%|███████████████| 1/1 [00:00<00:00, 15.27it/s]\n",
      "sbatching:  47%|███████        | 316/675 [01:11<01:40,  3.59it/s]\n",
      "scancel: 100%|███████████████| 1/1 [00:00<00:00, 17.90it/s]\n",
      "sbatching:  47%|███████        | 317/675 [01:12<01:40,  3.56it/s]\n",
      "scancel: 100%|███████████████| 1/1 [00:00<00:00, 15.51it/s]\n",
      "sbatching:  47%|███████        | 318/675 [01:12<01:41,  3.51it/s]\n",
      "scancel: 100%|███████████████| 1/1 [00:00<00:00, 15.02it/s]\n",
      "sbatching:  47%|███████        | 319/675 [01:12<01:53,  3.15it/s]\n",
      "scancel: 100%|███████████████| 1/1 [00:00<00:00, 15.56it/s]\n",
      "sbatching:  47%|███████        | 320/675 [01:13<01:51,  3.18it/s]\n",
      "scancel: 100%|███████████████| 1/1 [00:00<00:00, 14.46it/s]\n",
      "sbatching:  48%|███████▏       | 321/675 [01:13<01:47,  3.30it/s]\n",
      "scancel: 100%|███████████████| 1/1 [00:00<00:00, 15.36it/s]\n",
      "sbatching:  48%|███████▏       | 322/675 [01:13<01:45,  3.35it/s]\n",
      "scancel: 100%|███████████████| 1/1 [00:00<00:00, 14.92it/s]\n",
      "sbatching:  48%|███████▏       | 323/675 [01:13<01:42,  3.42it/s]\n",
      "scancel: 100%|███████████████| 1/1 [00:00<00:00, 14.34it/s]\n",
      "sbatching:  48%|███████▏       | 324/675 [01:14<01:41,  3.47it/s]\n",
      "scancel: 100%|███████████████| 1/1 [00:00<00:00, 15.52it/s]\n",
      "sbatching:  48%|███████▏       | 325/675 [01:14<01:39,  3.53it/s]\n",
      "scancel: 100%|███████████████| 1/1 [00:00<00:00, 14.63it/s]\n",
      "sbatching:  48%|███████▏       | 326/675 [01:14<01:36,  3.60it/s]\n",
      "scancel: 100%|███████████████| 1/1 [00:00<00:00, 16.20it/s]\n",
      "sbatching:  48%|███████▎       | 327/675 [01:14<01:38,  3.55it/s]\n",
      "scancel: 100%|███████████████| 1/1 [00:00<00:00, 15.91it/s]\n",
      "sbatching:  49%|███████▎       | 328/675 [01:15<01:50,  3.15it/s]\n",
      "scancel: 100%|███████████████| 1/1 [00:00<00:00, 15.93it/s]\n",
      "sbatching:  49%|███████▎       | 329/675 [01:15<01:44,  3.30it/s]\n",
      "scancel: 100%|███████████████| 1/1 [00:00<00:00, 16.30it/s]\n",
      "sbatching:  49%|███████▎       | 330/675 [01:15<01:39,  3.47it/s]\n",
      "scancel: 100%|███████████████| 1/1 [00:00<00:00, 14.84it/s]\n",
      "sbatching:  49%|███████▎       | 331/675 [01:16<01:37,  3.52it/s]\n",
      "scancel: 100%|███████████████| 1/1 [00:00<00:00, 15.17it/s]\n",
      "sbatching:  49%|███████▍       | 332/675 [01:16<01:34,  3.62it/s]\n",
      "scancel: 100%|███████████████| 1/1 [00:00<00:00, 11.34it/s]\n",
      "sbatching:  49%|███████▍       | 333/675 [01:16<01:35,  3.58it/s]\n",
      "scancel: 100%|███████████████| 1/1 [00:00<00:00, 14.88it/s]\n",
      "sbatching:  49%|███████▍       | 334/675 [01:17<01:40,  3.40it/s]\n",
      "scancel: 100%|███████████████| 1/1 [00:00<00:00, 15.17it/s]\n",
      "sbatching:  50%|███████▍       | 335/675 [01:17<01:38,  3.45it/s]\n",
      "scancel: 100%|███████████████| 1/1 [00:00<00:00, 14.75it/s]\n",
      "sbatching:  50%|███████▍       | 336/675 [01:17<01:35,  3.54it/s]\n",
      "scancel: 100%|███████████████| 1/1 [00:00<00:00, 14.67it/s]\n",
      "sbatching:  50%|███████▍       | 337/675 [01:18<01:48,  3.12it/s]\n",
      "scancel: 100%|███████████████| 1/1 [00:00<00:00, 14.95it/s]\n",
      "sbatching:  50%|███████▌       | 338/675 [01:18<01:47,  3.14it/s]\n",
      "scancel: 100%|███████████████| 1/1 [00:00<00:00, 15.01it/s]\n",
      "sbatching:  50%|███████▌       | 339/675 [01:18<01:41,  3.30it/s]\n",
      "scancel: 100%|███████████████| 1/1 [00:00<00:00, 15.63it/s]\n",
      "sbatching:  50%|███████▌       | 340/675 [01:18<01:38,  3.40it/s]\n",
      "scancel: 100%|███████████████| 1/1 [00:00<00:00, 15.26it/s]\n",
      "sbatching:  51%|███████▌       | 341/675 [01:19<01:38,  3.41it/s]\n",
      "scancel: 100%|███████████████| 1/1 [00:00<00:00, 15.19it/s]\n",
      "sbatching:  51%|███████▌       | 342/675 [01:19<01:38,  3.37it/s]\n",
      "scancel: 100%|███████████████| 1/1 [00:00<00:00, 14.40it/s]\n",
      "sbatching:  51%|███████▌       | 343/675 [01:19<01:39,  3.34it/s]\n",
      "scancel: 100%|███████████████| 1/1 [00:00<00:00, 15.35it/s]\n",
      "sbatching:  51%|███████▋       | 344/675 [01:20<01:40,  3.28it/s]\n",
      "scancel: 100%|███████████████| 1/1 [00:00<00:00, 14.82it/s]\n",
      "sbatching:  51%|███████▋       | 345/675 [01:20<01:39,  3.31it/s]\n",
      "scancel: 100%|███████████████| 1/1 [00:00<00:00, 14.74it/s]\n",
      "sbatching:  51%|███████▋       | 346/675 [01:20<01:43,  3.16it/s]\n",
      "scancel: 100%|███████████████| 1/1 [00:00<00:00, 15.16it/s]\n",
      "sbatching:  51%|███████▋       | 347/675 [01:21<01:42,  3.19it/s]\n",
      "scancel: 100%|███████████████| 1/1 [00:00<00:00, 15.18it/s]\n",
      "sbatching:  52%|███████▋       | 348/675 [01:21<01:41,  3.23it/s]\n",
      "scancel: 100%|███████████████| 1/1 [00:00<00:00, 15.16it/s]\n",
      "sbatching:  52%|███████▊       | 349/675 [01:21<01:39,  3.29it/s]\n",
      "scancel: 100%|███████████████| 1/1 [00:00<00:00, 15.30it/s]\n",
      "sbatching:  52%|███████▊       | 350/675 [01:21<01:38,  3.29it/s]\n",
      "scancel: 100%|███████████████| 1/1 [00:00<00:00, 15.96it/s]\n",
      "sbatching:  52%|███████▊       | 351/675 [01:22<01:34,  3.43it/s]\n",
      "scancel: 100%|███████████████| 1/1 [00:00<00:00, 15.23it/s]\n",
      "sbatching:  52%|███████▊       | 352/675 [01:22<01:34,  3.41it/s]\n",
      "scancel: 100%|███████████████| 1/1 [00:00<00:00, 15.00it/s]\n",
      "sbatching:  52%|███████▊       | 353/675 [01:22<01:33,  3.44it/s]\n",
      "scancel: 100%|███████████████| 1/1 [00:00<00:00, 14.35it/s]\n",
      "sbatching:  52%|███████▊       | 354/675 [01:23<01:36,  3.34it/s]\n",
      "scancel: 100%|███████████████| 1/1 [00:00<00:00, 15.09it/s]\n",
      "sbatching:  53%|███████▉       | 355/675 [01:23<01:51,  2.88it/s]\n",
      "scancel: 100%|███████████████| 1/1 [00:00<00:00, 14.38it/s]\n",
      "sbatching:  53%|███████▉       | 356/675 [01:23<01:46,  2.99it/s]\n",
      "scancel: 100%|███████████████| 1/1 [00:00<00:00, 14.64it/s]\n",
      "sbatching:  53%|███████▉       | 357/675 [01:24<01:43,  3.06it/s]\n",
      "scancel: 100%|███████████████| 1/1 [00:00<00:00, 14.85it/s]\n",
      "sbatching:  53%|███████▉       | 358/675 [01:24<01:39,  3.19it/s]\n",
      "scancel: 100%|███████████████| 1/1 [00:00<00:00, 14.92it/s]\n",
      "sbatching:  53%|███████▉       | 359/675 [01:24<01:35,  3.30it/s]\n",
      "scancel: 100%|███████████████| 1/1 [00:00<00:00, 14.84it/s]\n",
      "sbatching:  53%|████████       | 360/675 [01:25<01:33,  3.35it/s]\n",
      "scancel: 100%|███████████████| 1/1 [00:00<00:00, 14.62it/s]\n",
      "sbatching:  53%|████████       | 361/675 [01:25<01:32,  3.40it/s]\n",
      "scancel: 100%|███████████████| 1/1 [00:00<00:00, 14.75it/s]\n",
      "sbatching:  54%|████████       | 362/675 [01:25<01:31,  3.43it/s]\n",
      "scancel: 100%|███████████████| 1/1 [00:00<00:00, 15.38it/s]\n",
      "sbatching:  54%|████████       | 363/675 [01:25<01:33,  3.33it/s]\n",
      "scancel: 100%|███████████████| 1/1 [00:00<00:00, 14.15it/s]\n",
      "sbatching:  54%|████████       | 364/675 [01:26<01:42,  3.03it/s]\n",
      "scancel: 100%|███████████████| 1/1 [00:00<00:00, 15.15it/s]\n",
      "sbatching:  54%|████████       | 365/675 [01:26<01:40,  3.10it/s]\n",
      "scancel: 100%|███████████████| 1/1 [00:00<00:00, 14.94it/s]\n",
      "sbatching:  54%|████████▏      | 366/675 [01:26<01:35,  3.24it/s]\n",
      "scancel: 100%|███████████████| 1/1 [00:00<00:00, 14.64it/s]\n",
      "sbatching:  54%|████████▏      | 367/675 [01:27<01:35,  3.23it/s]\n",
      "scancel: 100%|███████████████| 1/1 [00:00<00:00, 14.65it/s]\n",
      "sbatching:  55%|████████▏      | 368/675 [01:27<01:30,  3.38it/s]\n",
      "scancel: 100%|███████████████| 1/1 [00:00<00:00, 14.78it/s]\n",
      "sbatching:  55%|████████▏      | 369/675 [01:27<01:29,  3.42it/s]\n",
      "scancel: 100%|███████████████| 1/1 [00:00<00:00, 14.58it/s]\n",
      "sbatching:  55%|████████▏      | 370/675 [01:28<01:30,  3.37it/s]\n",
      "scancel: 100%|███████████████| 1/1 [00:00<00:00, 15.62it/s]\n",
      "sbatching:  55%|████████▏      | 371/675 [01:28<01:29,  3.39it/s]\n",
      "scancel: 100%|███████████████| 1/1 [00:00<00:00, 15.24it/s]\n",
      "sbatching:  55%|████████▎      | 372/675 [01:28<01:41,  2.99it/s]\n",
      "scancel: 100%|███████████████| 1/1 [00:00<00:00, 15.91it/s]\n",
      "sbatching:  55%|████████▎      | 373/675 [01:29<01:39,  3.04it/s]\n",
      "scancel: 100%|███████████████| 1/1 [00:00<00:00, 15.46it/s]\n",
      "sbatching:  55%|████████▎      | 374/675 [01:29<01:34,  3.20it/s]\n",
      "scancel: 100%|███████████████| 1/1 [00:00<00:00, 19.25it/s]\n",
      "sbatching:  56%|████████▎      | 375/675 [01:29<01:27,  3.42it/s]\n",
      "scancel: 100%|███████████████| 1/1 [00:00<00:00, 14.77it/s]\n",
      "sbatching:  56%|████████▎      | 376/675 [01:29<01:29,  3.36it/s]\n",
      "scancel: 100%|███████████████| 1/1 [00:00<00:00, 15.01it/s]\n",
      "sbatching:  56%|████████▍      | 377/675 [01:30<01:29,  3.34it/s]\n",
      "scancel: 100%|███████████████| 1/1 [00:00<00:00, 14.61it/s]\n",
      "sbatching:  56%|████████▍      | 378/675 [01:30<01:28,  3.35it/s]\n",
      "scancel:   0%|               | 0/1 [00:00<?, ?it/s]\u001b[A\n",
      "scancel: 100%|███████████████| 1/1 [00:00<00:00,  1.01it/s]\u001b[A\n",
      "sbatching:  56%|████████▍      | 379/675 [01:31<02:49,  1.74it/s]\n",
      "scancel: 100%|███████████████| 1/1 [00:00<00:00, 14.36it/s]\n",
      "sbatching:  56%|████████▍      | 380/675 [01:32<02:27,  2.00it/s]\n",
      "scancel: 100%|███████████████| 1/1 [00:00<00:00, 15.01it/s]\n",
      "sbatching:  56%|████████▍      | 381/675 [01:32<02:22,  2.07it/s]\n",
      "scancel: 100%|███████████████| 1/1 [00:00<00:00, 13.67it/s]\n",
      "sbatching:  57%|████████▍      | 382/675 [01:32<02:03,  2.37it/s]\n",
      "scancel: 100%|███████████████| 1/1 [00:00<00:00, 14.89it/s]\n",
      "sbatching:  57%|████████▌      | 383/675 [01:33<01:52,  2.60it/s]\n",
      "scancel: 100%|███████████████| 1/1 [00:00<00:00, 15.12it/s]\n",
      "sbatching:  57%|████████▌      | 384/675 [01:33<01:43,  2.82it/s]\n",
      "scancel: 100%|███████████████| 1/1 [00:00<00:00, 15.16it/s]\n",
      "sbatching:  57%|████████▌      | 385/675 [01:33<01:34,  3.05it/s]\n",
      "scancel: 100%|███████████████| 1/1 [00:00<00:00, 15.09it/s]\n",
      "sbatching:  57%|████████▌      | 386/675 [01:33<01:32,  3.11it/s]\n",
      "scancel: 100%|███████████████| 1/1 [00:00<00:00, 14.64it/s]\n",
      "sbatching:  57%|████████▌      | 387/675 [01:34<01:28,  3.27it/s]\n",
      "scancel: 100%|███████████████| 1/1 [00:00<00:00, 15.16it/s]\n",
      "sbatching:  57%|████████▌      | 388/675 [01:34<01:25,  3.35it/s]\n",
      "scancel: 100%|███████████████| 1/1 [00:00<00:00, 15.30it/s]\n",
      "sbatching:  58%|████████▋      | 389/675 [01:34<01:24,  3.39it/s]\n",
      "scancel: 100%|███████████████| 1/1 [00:00<00:00, 14.60it/s]\n",
      "sbatching:  58%|████████▋      | 390/675 [01:35<01:33,  3.05it/s]\n",
      "scancel: 100%|███████████████| 1/1 [00:00<00:00, 15.17it/s]\n",
      "sbatching:  58%|████████▋      | 391/675 [01:35<01:28,  3.21it/s]\n",
      "scancel: 100%|███████████████| 1/1 [00:00<00:00, 14.95it/s]\n",
      "sbatching:  58%|████████▋      | 392/675 [01:35<01:25,  3.31it/s]\n",
      "scancel: 100%|███████████████| 1/1 [00:00<00:00, 15.26it/s]\n",
      "sbatching:  58%|████████▋      | 393/675 [01:36<01:24,  3.32it/s]\n",
      "scancel: 100%|███████████████| 1/1 [00:00<00:00, 14.82it/s]\n",
      "sbatching:  58%|████████▊      | 394/675 [01:36<01:25,  3.28it/s]\n",
      "scancel: 100%|███████████████| 1/1 [00:00<00:00, 15.13it/s]\n",
      "sbatching:  59%|████████▊      | 395/675 [01:36<01:24,  3.33it/s]\n",
      "scancel: 100%|███████████████| 1/1 [00:00<00:00, 14.29it/s]\n",
      "sbatching:  59%|████████▊      | 396/675 [01:36<01:27,  3.18it/s]\n",
      "scancel: 100%|███████████████| 1/1 [00:00<00:00, 14.00it/s]\n",
      "sbatching:  59%|████████▊      | 397/675 [01:37<01:25,  3.24it/s]\n",
      "scancel: 100%|███████████████| 1/1 [00:00<00:00, 14.87it/s]\n",
      "sbatching:  59%|████████▊      | 398/675 [01:37<01:24,  3.27it/s]\n",
      "scancel: 100%|███████████████| 1/1 [00:00<00:00, 14.34it/s]\n",
      "sbatching:  59%|████████▊      | 399/675 [01:38<01:35,  2.90it/s]\n",
      "scancel: 100%|███████████████| 1/1 [00:00<00:00, 14.96it/s]\n",
      "sbatching:  59%|████████▉      | 400/675 [01:38<01:31,  3.00it/s]\n",
      "scancel: 100%|███████████████| 1/1 [00:00<00:00, 15.10it/s]\n",
      "sbatching:  59%|████████▉      | 401/675 [01:38<01:27,  3.14it/s]\n",
      "scancel: 100%|███████████████| 1/1 [00:00<00:00, 15.63it/s]\n",
      "sbatching:  60%|████████▉      | 402/675 [01:38<01:26,  3.16it/s]\n",
      "scancel: 100%|███████████████| 1/1 [00:00<00:00, 15.05it/s]\n",
      "sbatching:  60%|████████▉      | 403/675 [01:39<01:23,  3.26it/s]\n",
      "scancel: 100%|███████████████| 1/1 [00:00<00:00, 15.20it/s]\n",
      "sbatching:  60%|████████▉      | 404/675 [01:39<01:20,  3.35it/s]\n",
      "scancel: 100%|███████████████| 1/1 [00:00<00:00, 15.56it/s]\n",
      "sbatching:  60%|█████████      | 405/675 [01:39<01:18,  3.44it/s]\n",
      "scancel: 100%|███████████████| 1/1 [00:00<00:00, 16.30it/s]\n",
      "sbatching:  60%|█████████      | 406/675 [01:40<01:15,  3.56it/s]\n",
      "scancel: 100%|███████████████| 1/1 [00:00<00:00, 14.98it/s]\n",
      "sbatching:  60%|█████████      | 407/675 [01:40<01:13,  3.66it/s]\n",
      "scancel: 100%|███████████████| 1/1 [00:00<00:00, 13.42it/s]\n",
      "sbatching:  60%|█████████      | 408/675 [01:40<01:24,  3.18it/s]\n",
      "scancel: 100%|███████████████| 1/1 [00:00<00:00, 14.93it/s]\n",
      "sbatching:  61%|█████████      | 409/675 [01:40<01:22,  3.21it/s]\n",
      "scancel: 100%|███████████████| 1/1 [00:00<00:00, 15.09it/s]\n",
      "sbatching:  61%|█████████      | 410/675 [01:41<01:20,  3.29it/s]\n",
      "scancel: 100%|███████████████| 1/1 [00:00<00:00, 15.77it/s]\n",
      "sbatching:  61%|█████████▏     | 411/675 [01:41<01:18,  3.34it/s]\n",
      "scancel: 100%|███████████████| 1/1 [00:00<00:00, 14.19it/s]\n",
      "sbatching:  61%|█████████▏     | 412/675 [01:41<01:17,  3.40it/s]\n",
      "scancel: 100%|███████████████| 1/1 [00:00<00:00, 15.25it/s]\n",
      "sbatching:  61%|█████████▏     | 413/675 [01:42<01:18,  3.32it/s]\n",
      "scancel: 100%|███████████████| 1/1 [00:00<00:00, 14.27it/s]\n",
      "sbatching:  61%|█████████▏     | 414/675 [01:42<01:16,  3.43it/s]\n",
      "scancel: 100%|███████████████| 1/1 [00:00<00:00, 14.49it/s]\n",
      "sbatching:  61%|█████████▏     | 415/675 [01:42<01:14,  3.49it/s]\n",
      "scancel: 100%|███████████████| 1/1 [00:00<00:00, 15.28it/s]\n",
      "sbatching:  62%|█████████▏     | 416/675 [01:43<01:15,  3.43it/s]\n",
      "scancel: 100%|███████████████| 1/1 [00:00<00:00, 15.22it/s]\n",
      "sbatching:  62%|█████████▎     | 417/675 [01:43<01:23,  3.09it/s]\n",
      "scancel: 100%|███████████████| 1/1 [00:00<00:00, 14.32it/s]\n",
      "sbatching:  62%|█████████▎     | 418/675 [01:43<01:21,  3.14it/s]\n",
      "scancel: 100%|███████████████| 1/1 [00:00<00:00, 14.24it/s]\n",
      "sbatching:  62%|█████████▎     | 419/675 [01:44<01:21,  3.15it/s]\n",
      "scancel: 100%|███████████████| 1/1 [00:00<00:00, 15.12it/s]\n",
      "sbatching:  62%|█████████▎     | 420/675 [01:44<01:18,  3.25it/s]\n",
      "scancel: 100%|███████████████| 1/1 [00:00<00:00, 14.36it/s]\n",
      "sbatching:  62%|█████████▎     | 421/675 [01:44<01:19,  3.21it/s]\n",
      "scancel: 100%|███████████████| 1/1 [00:00<00:00, 14.74it/s]\n",
      "sbatching:  63%|█████████▍     | 422/675 [01:44<01:18,  3.20it/s]\n",
      "scancel: 100%|███████████████| 1/1 [00:00<00:00, 15.13it/s]\n",
      "sbatching:  63%|█████████▍     | 423/675 [01:45<01:16,  3.30it/s]\n",
      "scancel: 100%|███████████████| 1/1 [00:00<00:00, 15.00it/s]\n",
      "sbatching:  63%|█████████▍     | 424/675 [01:45<01:12,  3.45it/s]\n",
      "scancel: 100%|███████████████| 1/1 [00:00<00:00, 14.29it/s]\n",
      "sbatching:  63%|█████████▍     | 425/675 [01:45<01:12,  3.43it/s]\n"
     ]
    },
    {
     "name": "stderr",
     "output_type": "stream",
     "text": [
      "scancel: 100%|███████████████| 1/1 [00:00<00:00, 14.32it/s]\n",
      "sbatching:  63%|█████████▍     | 426/675 [01:46<01:27,  2.85it/s]\n",
      "scancel: 100%|███████████████| 1/1 [00:00<00:00, 15.30it/s]\n",
      "sbatching:  63%|█████████▍     | 427/675 [01:46<01:21,  3.05it/s]\n",
      "scancel: 100%|███████████████| 1/1 [00:00<00:00, 10.43it/s]\n",
      "sbatching:  63%|█████████▌     | 428/675 [01:46<01:18,  3.13it/s]\n",
      "scancel: 100%|███████████████| 1/1 [00:00<00:00, 15.28it/s]\n",
      "sbatching:  64%|█████████▌     | 429/675 [01:47<01:18,  3.12it/s]\n",
      "scancel: 100%|███████████████| 1/1 [00:00<00:00, 14.67it/s]\n",
      "sbatching:  64%|█████████▌     | 430/675 [01:47<01:15,  3.23it/s]\n",
      "scancel: 100%|███████████████| 1/1 [00:00<00:00, 14.52it/s]\n",
      "sbatching:  64%|█████████▌     | 431/675 [01:47<01:12,  3.36it/s]\n",
      "scancel: 100%|███████████████| 1/1 [00:00<00:00, 14.45it/s]\n",
      "sbatching:  64%|█████████▌     | 432/675 [01:48<01:00,  3.99it/s]\n"
     ]
    },
    {
     "ename": "KeyboardInterrupt",
     "evalue": "",
     "output_type": "error",
     "traceback": [
      "\u001b[0;31m---------------------------------------------------------------------------\u001b[0m",
      "\u001b[0;31mKeyboardInterrupt\u001b[0m                         Traceback (most recent call last)",
      "\u001b[0;32m/tmp/ipykernel_156015/4152814272.py\u001b[0m in \u001b[0;36m<module>\u001b[0;34m\u001b[0m\n\u001b[0;32m----> 1\u001b[0;31m \u001b[0mpids\u001b[0m \u001b[0;34m=\u001b[0m \u001b[0msbatch\u001b[0m\u001b[0;34m(\u001b[0m\u001b[0mfitting_shfiles\u001b[0m\u001b[0;34m)\u001b[0m\u001b[0;34m\u001b[0m\u001b[0;34m\u001b[0m\u001b[0m\n\u001b[0m",
      "\u001b[0;32m~/pythonimports/myslurm.py\u001b[0m in \u001b[0;36msbatch\u001b[0;34m(shfiles, sleep, printing, outdir, progress_bar)\u001b[0m\n\u001b[1;32m    233\u001b[0m                     \u001b[0;32mreturn\u001b[0m \u001b[0mpids\u001b[0m\u001b[0;34m\u001b[0m\u001b[0;34m\u001b[0m\u001b[0m\n\u001b[1;32m    234\u001b[0m             \u001b[0;31m# one more failsafe to ensure a job isn't submitted twice\u001b[0m\u001b[0;34m\u001b[0m\u001b[0;34m\u001b[0m\u001b[0;34m\u001b[0m\u001b[0m\n\u001b[0;32m--> 235\u001b[0;31m             \u001b[0msq\u001b[0m \u001b[0;34m=\u001b[0m \u001b[0mSqueue\u001b[0m\u001b[0;34m(\u001b[0m\u001b[0maflag\u001b[0m\u001b[0;34m=\u001b[0m\u001b[0;32mTrue\u001b[0m\u001b[0;34m,\u001b[0m \u001b[0mverbose\u001b[0m\u001b[0;34m=\u001b[0m\u001b[0;32mFalse\u001b[0m\u001b[0;34m)\u001b[0m\u001b[0;34m\u001b[0m\u001b[0;34m\u001b[0m\u001b[0m\n\u001b[0m\u001b[1;32m    236\u001b[0m             \u001b[0mjobs\u001b[0m \u001b[0;34m=\u001b[0m \u001b[0mdefaultdict\u001b[0m\u001b[0;34m(\u001b[0m\u001b[0mlist\u001b[0m\u001b[0;34m)\u001b[0m\u001b[0;34m\u001b[0m\u001b[0;34m\u001b[0m\u001b[0m\n\u001b[1;32m    237\u001b[0m             \u001b[0;32mfor\u001b[0m \u001b[0m_pid\u001b[0m\u001b[0;34m,\u001b[0m \u001b[0mq\u001b[0m \u001b[0;32min\u001b[0m \u001b[0msq\u001b[0m\u001b[0;34m.\u001b[0m\u001b[0mitems\u001b[0m\u001b[0;34m(\u001b[0m\u001b[0;34m)\u001b[0m\u001b[0;34m:\u001b[0m\u001b[0;34m\u001b[0m\u001b[0;34m\u001b[0m\u001b[0m\n",
      "\u001b[0;32m~/pythonimports/myslurm.py\u001b[0m in \u001b[0;36m__init__\u001b[0;34m(self, verbose, **kwargs)\u001b[0m\n\u001b[1;32m   1105\u001b[0m     \u001b[0;32mdef\u001b[0m \u001b[0m__init__\u001b[0m\u001b[0;34m(\u001b[0m\u001b[0mself\u001b[0m\u001b[0;34m,\u001b[0m \u001b[0mverbose\u001b[0m\u001b[0;34m=\u001b[0m\u001b[0;32mTrue\u001b[0m\u001b[0;34m,\u001b[0m \u001b[0;34m**\u001b[0m\u001b[0mkwargs\u001b[0m\u001b[0;34m)\u001b[0m\u001b[0;34m:\u001b[0m\u001b[0;34m\u001b[0m\u001b[0;34m\u001b[0m\u001b[0m\n\u001b[1;32m   1106\u001b[0m         \u001b[0;31m# get queue matching grepping\u001b[0m\u001b[0;34m\u001b[0m\u001b[0;34m\u001b[0m\u001b[0;34m\u001b[0m\u001b[0m\n\u001b[0;32m-> 1107\u001b[0;31m         \u001b[0mself\u001b[0m\u001b[0;34m.\u001b[0m\u001b[0msq\u001b[0m \u001b[0;34m=\u001b[0m \u001b[0mSqueue\u001b[0m\u001b[0;34m.\u001b[0m\u001b[0m_getsq\u001b[0m\u001b[0;34m(\u001b[0m\u001b[0;34m**\u001b[0m\u001b[0mkwargs\u001b[0m\u001b[0;34m)\u001b[0m\u001b[0;34m\u001b[0m\u001b[0;34m\u001b[0m\u001b[0m\n\u001b[0m\u001b[1;32m   1108\u001b[0m         \u001b[0mself\u001b[0m\u001b[0;34m.\u001b[0m\u001b[0mkwargs\u001b[0m \u001b[0;34m=\u001b[0m \u001b[0mdict\u001b[0m\u001b[0;34m(\u001b[0m\u001b[0mkwargs\u001b[0m\u001b[0;34m)\u001b[0m\u001b[0;34m\u001b[0m\u001b[0;34m\u001b[0m\u001b[0m\n\u001b[1;32m   1109\u001b[0m         \u001b[0;31m# filter further with kwargs\u001b[0m\u001b[0;34m\u001b[0m\u001b[0;34m\u001b[0m\u001b[0;34m\u001b[0m\u001b[0m\n",
      "\u001b[0;32m~/pythonimports/myslurm.py\u001b[0m in \u001b[0;36m_getsq\u001b[0;34m(grepping, states, user, partition, aflag, p, **kwargs)\u001b[0m\n\u001b[1;32m   1249\u001b[0m         \u001b[0;32mwhile\u001b[0m \u001b[0mfound\u001b[0m \u001b[0;34m<\u001b[0m \u001b[0;36m5\u001b[0m\u001b[0;34m:\u001b[0m\u001b[0;34m\u001b[0m\u001b[0;34m\u001b[0m\u001b[0m\n\u001b[1;32m   1250\u001b[0m             \u001b[0;32mtry\u001b[0m\u001b[0;34m:\u001b[0m\u001b[0;34m\u001b[0m\u001b[0;34m\u001b[0m\u001b[0m\n\u001b[0;32m-> 1251\u001b[0;31m                 \u001b[0msqout\u001b[0m \u001b[0;34m=\u001b[0m \u001b[0msubprocess\u001b[0m\u001b[0;34m.\u001b[0m\u001b[0mcheck_output\u001b[0m\u001b[0;34m(\u001b[0m\u001b[0mcmd\u001b[0m\u001b[0;34m)\u001b[0m\u001b[0;34m.\u001b[0m\u001b[0mdecode\u001b[0m\u001b[0;34m(\u001b[0m\u001b[0;34m\"utf-8\"\u001b[0m\u001b[0;34m)\u001b[0m\u001b[0;34m.\u001b[0m\u001b[0msplit\u001b[0m\u001b[0;34m(\u001b[0m\u001b[0;34m\"\\n\"\u001b[0m\u001b[0;34m)\u001b[0m\u001b[0;34m\u001b[0m\u001b[0;34m\u001b[0m\u001b[0m\n\u001b[0m\u001b[1;32m   1252\u001b[0m                 \u001b[0mfound\u001b[0m \u001b[0;34m=\u001b[0m \u001b[0;36m10\u001b[0m\u001b[0;34m\u001b[0m\u001b[0;34m\u001b[0m\u001b[0m\n\u001b[1;32m   1253\u001b[0m             \u001b[0;32mexcept\u001b[0m \u001b[0msubprocess\u001b[0m\u001b[0;34m.\u001b[0m\u001b[0mCalledProcessError\u001b[0m\u001b[0;34m:\u001b[0m\u001b[0;34m\u001b[0m\u001b[0;34m\u001b[0m\u001b[0m\n",
      "\u001b[0;32m~/anaconda3/envs/mvp_env/lib/python3.8/subprocess.py\u001b[0m in \u001b[0;36mcheck_output\u001b[0;34m(timeout, *popenargs, **kwargs)\u001b[0m\n\u001b[1;32m    409\u001b[0m         \u001b[0mkwargs\u001b[0m\u001b[0;34m[\u001b[0m\u001b[0;34m'input'\u001b[0m\u001b[0;34m]\u001b[0m \u001b[0;34m=\u001b[0m \u001b[0;34m''\u001b[0m \u001b[0;32mif\u001b[0m \u001b[0mkwargs\u001b[0m\u001b[0;34m.\u001b[0m\u001b[0mget\u001b[0m\u001b[0;34m(\u001b[0m\u001b[0;34m'universal_newlines'\u001b[0m\u001b[0;34m,\u001b[0m \u001b[0;32mFalse\u001b[0m\u001b[0;34m)\u001b[0m \u001b[0;32melse\u001b[0m \u001b[0;34mb''\u001b[0m\u001b[0;34m\u001b[0m\u001b[0;34m\u001b[0m\u001b[0m\n\u001b[1;32m    410\u001b[0m \u001b[0;34m\u001b[0m\u001b[0m\n\u001b[0;32m--> 411\u001b[0;31m     return run(*popenargs, stdout=PIPE, timeout=timeout, check=True,\n\u001b[0m\u001b[1;32m    412\u001b[0m                **kwargs).stdout\n\u001b[1;32m    413\u001b[0m \u001b[0;34m\u001b[0m\u001b[0m\n",
      "\u001b[0;32m~/anaconda3/envs/mvp_env/lib/python3.8/subprocess.py\u001b[0m in \u001b[0;36mrun\u001b[0;34m(input, capture_output, timeout, check, *popenargs, **kwargs)\u001b[0m\n\u001b[1;32m    489\u001b[0m     \u001b[0;32mwith\u001b[0m \u001b[0mPopen\u001b[0m\u001b[0;34m(\u001b[0m\u001b[0;34m*\u001b[0m\u001b[0mpopenargs\u001b[0m\u001b[0;34m,\u001b[0m \u001b[0;34m**\u001b[0m\u001b[0mkwargs\u001b[0m\u001b[0;34m)\u001b[0m \u001b[0;32mas\u001b[0m \u001b[0mprocess\u001b[0m\u001b[0;34m:\u001b[0m\u001b[0;34m\u001b[0m\u001b[0;34m\u001b[0m\u001b[0m\n\u001b[1;32m    490\u001b[0m         \u001b[0;32mtry\u001b[0m\u001b[0;34m:\u001b[0m\u001b[0;34m\u001b[0m\u001b[0;34m\u001b[0m\u001b[0m\n\u001b[0;32m--> 491\u001b[0;31m             \u001b[0mstdout\u001b[0m\u001b[0;34m,\u001b[0m \u001b[0mstderr\u001b[0m \u001b[0;34m=\u001b[0m \u001b[0mprocess\u001b[0m\u001b[0;34m.\u001b[0m\u001b[0mcommunicate\u001b[0m\u001b[0;34m(\u001b[0m\u001b[0minput\u001b[0m\u001b[0;34m,\u001b[0m \u001b[0mtimeout\u001b[0m\u001b[0;34m=\u001b[0m\u001b[0mtimeout\u001b[0m\u001b[0;34m)\u001b[0m\u001b[0;34m\u001b[0m\u001b[0;34m\u001b[0m\u001b[0m\n\u001b[0m\u001b[1;32m    492\u001b[0m         \u001b[0;32mexcept\u001b[0m \u001b[0mTimeoutExpired\u001b[0m \u001b[0;32mas\u001b[0m \u001b[0mexc\u001b[0m\u001b[0;34m:\u001b[0m\u001b[0;34m\u001b[0m\u001b[0;34m\u001b[0m\u001b[0m\n\u001b[1;32m    493\u001b[0m             \u001b[0mprocess\u001b[0m\u001b[0;34m.\u001b[0m\u001b[0mkill\u001b[0m\u001b[0;34m(\u001b[0m\u001b[0;34m)\u001b[0m\u001b[0;34m\u001b[0m\u001b[0;34m\u001b[0m\u001b[0m\n",
      "\u001b[0;32m~/anaconda3/envs/mvp_env/lib/python3.8/subprocess.py\u001b[0m in \u001b[0;36mcommunicate\u001b[0;34m(self, input, timeout)\u001b[0m\n\u001b[1;32m   1009\u001b[0m                 \u001b[0mself\u001b[0m\u001b[0;34m.\u001b[0m\u001b[0m_stdin_write\u001b[0m\u001b[0;34m(\u001b[0m\u001b[0minput\u001b[0m\u001b[0;34m)\u001b[0m\u001b[0;34m\u001b[0m\u001b[0;34m\u001b[0m\u001b[0m\n\u001b[1;32m   1010\u001b[0m             \u001b[0;32melif\u001b[0m \u001b[0mself\u001b[0m\u001b[0;34m.\u001b[0m\u001b[0mstdout\u001b[0m\u001b[0;34m:\u001b[0m\u001b[0;34m\u001b[0m\u001b[0;34m\u001b[0m\u001b[0m\n\u001b[0;32m-> 1011\u001b[0;31m                 \u001b[0mstdout\u001b[0m \u001b[0;34m=\u001b[0m \u001b[0mself\u001b[0m\u001b[0;34m.\u001b[0m\u001b[0mstdout\u001b[0m\u001b[0;34m.\u001b[0m\u001b[0mread\u001b[0m\u001b[0;34m(\u001b[0m\u001b[0;34m)\u001b[0m\u001b[0;34m\u001b[0m\u001b[0;34m\u001b[0m\u001b[0m\n\u001b[0m\u001b[1;32m   1012\u001b[0m                 \u001b[0mself\u001b[0m\u001b[0;34m.\u001b[0m\u001b[0mstdout\u001b[0m\u001b[0;34m.\u001b[0m\u001b[0mclose\u001b[0m\u001b[0;34m(\u001b[0m\u001b[0;34m)\u001b[0m\u001b[0;34m\u001b[0m\u001b[0;34m\u001b[0m\u001b[0m\n\u001b[1;32m   1013\u001b[0m             \u001b[0;32melif\u001b[0m \u001b[0mself\u001b[0m\u001b[0;34m.\u001b[0m\u001b[0mstderr\u001b[0m\u001b[0;34m:\u001b[0m\u001b[0;34m\u001b[0m\u001b[0;34m\u001b[0m\u001b[0m\n",
      "\u001b[0;31mKeyboardInterrupt\u001b[0m: "
     ]
    }
   ],
   "source": [
    "pids = sbatch(fitting_shfiles) # there will be a lot of cancelled jobs, I still have some 5k fitting jobs in the queue"
   ]
  },
  {
   "cell_type": "code",
   "execution_count": null,
   "id": "be23e76a",
   "metadata": {},
   "outputs": [],
   "source": []
  },
  {
   "cell_type": "code",
   "execution_count": 11,
   "id": "1fc545ae",
   "metadata": {},
   "outputs": [
    {
     "data": {
      "text/plain": [
       "\u001b[1m\u001b[38;2;128;128;128m🗒️  Queue Summary:\n",
       "\u001b[0m\u001b[0m\n",
       "{'\u001b[4m\u001b[1mlong\u001b[0m\u001b[0m': {'PD': 433},\n",
       " '\u001b[4m\u001b[1mshort\u001b[0m\u001b[0m': {'PD': 235, 'R': 7}}"
      ]
     },
     "execution_count": 11,
     "metadata": {},
     "output_type": "execute_result"
    }
   ],
   "source": [
    "Squeue(grepping='train')"
   ]
  },
  {
   "cell_type": "code",
   "execution_count": 12,
   "id": "ed82a5a7",
   "metadata": {},
   "outputs": [
    {
     "data": {
      "text/plain": [
       "\u001b[1m\u001b[38;2;128;128;128m🗒️  Queue Summary:\n",
       "\u001b[0m\u001b[0m\n",
       "{'\u001b[4m\u001b[1mlong\u001b[0m\u001b[0m': {'PD': 220, 'R': 1},\n",
       " '\u001b[4m\u001b[1mshort\u001b[0m\u001b[0m': {'PD': 320}}"
      ]
     },
     "execution_count": 12,
     "metadata": {},
     "output_type": "execute_result"
    }
   ],
   "source": [
    "Squeue(grepping='fit')"
   ]
  },
  {
   "cell_type": "code",
   "execution_count": 15,
   "id": "4b518405",
   "metadata": {
    "scrolled": true
   },
   "outputs": [
    {
     "name": "stderr",
     "output_type": "stream",
     "text": [
      "update: 100%|███████████████| 9/9 [00:00<00:00, 15.10it/s]\n"
     ]
    }
   ],
   "source": [
    "Squeue(partition='short', grepping='train').update(to_partition='lotterhos', num_jobs=9)"
   ]
  },
  {
   "cell_type": "code",
   "execution_count": 22,
   "id": "c08a43fa",
   "metadata": {},
   "outputs": [
    {
     "data": {
      "text/plain": [
       "[3, 4, 5, 6, 7, 8, 9]"
      ]
     },
     "execution_count": 22,
     "metadata": {},
     "output_type": "execute_result"
    }
   ],
   "source": [
    "[0, 1, 2, 3, 4, 5, 6, 7, 8, 9][3:1000]"
   ]
  },
  {
   "cell_type": "code",
   "execution_count": null,
   "id": "0ce952f1",
   "metadata": {},
   "outputs": [],
   "source": []
  },
  {
   "cell_type": "code",
   "execution_count": 23,
   "id": "5b401459",
   "metadata": {},
   "outputs": [
    {
     "data": {
      "text/plain": [
       "\u001b[1m\u001b[38;2;128;128;128m🗒️  Queue Summary:\n",
       "\u001b[0m\u001b[0m\n",
       "{'\u001b[4m\u001b[1mlong\u001b[0m\u001b[0m': {'PD': 653, 'R': 1},\n",
       " '\u001b[4m\u001b[1mlotterhos\u001b[0m\u001b[0m': {'PD': 9, 'R': 2},\n",
       " '\u001b[4m\u001b[1mshort\u001b[0m\u001b[0m': {'PD': 530, 'R': 22}}"
      ]
     },
     "execution_count": 23,
     "metadata": {},
     "output_type": "execute_result"
    }
   ],
   "source": [
    "Squeue()"
   ]
  },
  {
   "cell_type": "code",
   "execution_count": null,
   "id": "190c5926",
   "metadata": {},
   "outputs": [],
   "source": []
  },
  {
   "cell_type": "markdown",
   "id": "4ab501ee",
   "metadata": {},
   "source": [
    "<a id='submit20k'></a>\n",
    "# submit jobs using 20000 loci\n",
    "[top](#home)"
   ]
  },
  {
   "cell_type": "code",
   "execution_count": 1,
   "id": "2b9f38bb",
   "metadata": {},
   "outputs": [
    {
     "name": "stdout",
     "output_type": "stream",
     "text": [
      "#########################################################\n",
      "Today:\tFebruary 12, 2024 - 09:03:56 EST\n",
      "python version: 3.8.5\n",
      "conda env: mvp_env\n",
      "\n",
      "Current commit of \u001b[1mpythonimports\u001b[0m:\n",
      "\u001b[33mcommit 419895d157c97717f835390196c13cf973d25eba\u001b[m  \n",
      "Merge: e20434f 1e09b6c  \n",
      "Author: Brandon Lind <lind.brandon.m@gmail.com>\n",
      "\n",
      "Current commit of \u001b[94m\u001b[1mMVP_offsets\u001b[0m\u001b[0m:\n",
      "\u001b[33mcommit 8b790072e7a46d7f58a30c40cf4660986a612764\u001b[m  \n",
      "Author: Brandon Lind <lind.brandon.m@gmail.com>  \n",
      "Date:   Fri Feb 2 13:55:49 2024 -0500\n",
      "#########################################################\n",
      "\n"
     ]
    },
    {
     "data": {
      "text/html": [
       "<details>\n",
       "<summary>Click to view session information</summary>\n",
       "<pre>\n",
       "-----\n",
       "MVP_summary_functions       NA\n",
       "balance_queue               NA\n",
       "cartopy                     0.20.2\n",
       "ipyparallel                 7.1.0\n",
       "matplotlib                  3.5.2\n",
       "myclasses                   NA\n",
       "myfigs                      NA\n",
       "mymaps                      NA\n",
       "myslurm                     NA\n",
       "numpy                       1.22.1\n",
       "pandas                      1.3.5\n",
       "pythonimports               NA\n",
       "session_info                1.0.0\n",
       "tqdm                        4.62.1\n",
       "-----\n",
       "</pre>\n",
       "<details>\n",
       "<summary>Click to view modules imported as dependencies</summary>\n",
       "<pre>\n",
       "MVP_01_train_gradient_forests       NA\n",
       "MVP_10_train_lfmm2_offset           NA\n",
       "PIL                                 8.4.0\n",
       "attr                                21.4.0\n",
       "backcall                            0.2.0\n",
       "beta_ufunc                          NA\n",
       "binom_ufunc                         NA\n",
       "bottleneck                          1.3.2\n",
       "certifi                             2023.05.07\n",
       "cffi                                1.15.0\n",
       "cycler                              0.10.0\n",
       "cython_runtime                      NA\n",
       "dateutil                            2.8.2\n",
       "debugpy                             1.5.1\n",
       "decorator                           5.1.1\n",
       "defusedxml                          0.7.1\n",
       "entrypoints                         0.4\n",
       "fiona                               1.9.5\n",
       "fontTools                           4.29.1\n",
       "ipykernel                           6.8.0\n",
       "ipython_genutils                    0.2.0\n",
       "ipywidgets                          7.6.5\n",
       "jedi                                0.18.1\n",
       "kiwisolver                          1.3.2\n",
       "matplotlib_venn                     0.11.6\n",
       "mpl_toolkits                        NA\n",
       "nbinom_ufunc                        NA\n",
       "numexpr                             2.8.1\n",
       "packaging                           21.3\n",
       "parso                               0.8.3\n",
       "patsy                               0.5.2\n",
       "pdf2image                           NA\n",
       "pexpect                             4.8.0\n",
       "pickleshare                         0.7.5\n",
       "pkg_resources                       NA\n",
       "prompt_toolkit                      3.0.26\n",
       "psutil                              5.9.0\n",
       "ptyprocess                          0.7.0\n",
       "pydev_ipython                       NA\n",
       "pydevconsole                        NA\n",
       "pydevd                              2.6.0\n",
       "pydevd_concurrency_analyser         NA\n",
       "pydevd_file_utils                   NA\n",
       "pydevd_plugins                      NA\n",
       "pydevd_tracing                      NA\n",
       "pygments                            2.11.2\n",
       "pyparsing                           3.0.7\n",
       "pyproj                              3.3.0\n",
       "pytz                                2021.3\n",
       "scipy                               1.7.3\n",
       "seaborn                             0.11.2\n",
       "setuptools                          60.7.1\n",
       "shapefile                           2.2.0\n",
       "shapely                             1.8.0\n",
       "six                                 1.16.0\n",
       "statsmodels                         0.14.0\n",
       "storemagic                          NA\n",
       "tornado                             6.1\n",
       "traitlets                           5.1.1\n",
       "wcwidth                             0.2.5\n",
       "zmq                                 22.3.0\n",
       "</pre>\n",
       "</details> <!-- seems like this ends pre, so might as well be explicit -->\n",
       "<pre>\n",
       "-----\n",
       "IPython             7.31.1\n",
       "jupyter_client      7.1.2\n",
       "jupyter_core        4.9.1\n",
       "notebook            6.4.8\n",
       "-----\n",
       "Python 3.8.5 (default, Sep  4 2020, 07:30:14) [GCC 7.3.0]\n",
       "Linux-3.10.0-1160.25.1.el7.x86_64-x86_64-with-glibc2.10\n",
       "-----\n",
       "Session information updated at 2024-02-12 09:03\n",
       "</pre>\n",
       "</details>"
      ],
      "text/plain": [
       "<IPython.core.display.HTML object>"
      ]
     },
     "execution_count": 1,
     "metadata": {},
     "output_type": "execute_result"
    }
   ],
   "source": [
    "from pythonimports import *\n",
    "\n",
    "import MVP_summary_functions as mvp\n",
    "\n",
    "outerdir = '/work/lotterhos/brandon/ind_runtimes'\n",
    "pooled_dir = '/work/lotterhos/brandon/pooled_runtimes'\n",
    "\n",
    "mvp.latest_commit()\n",
    "session_info.show()"
   ]
  },
  {
   "cell_type": "code",
   "execution_count": 2,
   "id": "73f7cb52",
   "metadata": {},
   "outputs": [],
   "source": [
    "pooled_dirs = {\n",
    "    'run_20220919_0-225': ['/work/lotterhos/brandon/pooled_runtimes/run_20220919_0-225/00500/gradient_forests/training/training_files',\n",
    "                           '/work/lotterhos/brandon/pooled_runtimes/run_20220919_0-225/05000/gradient_forests/training/training_files',\n",
    "                           '/work/lotterhos/brandon/pooled_runtimes/run_20220919_0-225/10000/gradient_forests/training/training_files',\n",
    "                           '/work/lotterhos/brandon/pooled_runtimes/run_20220919_0-225/20000/gradient_forests/training/training_files'],\n",
    "    \n",
    "    'run_20220919_225-450': ['/work/lotterhos/brandon/pooled_runtimes/run_20220919_225-450/00500/gradient_forests/training/training_files',\n",
    "                             '/work/lotterhos/brandon/pooled_runtimes/run_20220919_225-450/05000/gradient_forests/training/training_files',\n",
    "                             '/work/lotterhos/brandon/pooled_runtimes/run_20220919_225-450/10000/gradient_forests/training/training_files',\n",
    "                             '/work/lotterhos/brandon/pooled_runtimes/run_20220919_225-450/20000/gradient_forests/training/training_files'],\n",
    "    \n",
    "    'run_20220919_450-675': ['/work/lotterhos/brandon/pooled_runtimes/run_20220919_450-675/00500/gradient_forests/training/training_files',\n",
    "                             '/work/lotterhos/brandon/pooled_runtimes/run_20220919_450-675/05000/gradient_forests/training/training_files',\n",
    "                             '/work/lotterhos/brandon/pooled_runtimes/run_20220919_450-675/10000/gradient_forests/training/training_files',\n",
    "                             '/work/lotterhos/brandon/pooled_runtimes/run_20220919_450-675/20000/gradient_forests/training/training_files']\n",
    "}"
   ]
  },
  {
   "cell_type": "code",
   "execution_count": 3,
   "id": "205e5ebe",
   "metadata": {},
   "outputs": [
    {
     "name": "stdout",
     "output_type": "stream",
     "text": [
      "/work/lotterhos/brandon/pooled_runtimes/run_20220919_0-225/20000/gradient_forests/training/training_files\n",
      "/work/lotterhos/brandon/pooled_runtimes/run_20220919_225-450/20000/gradient_forests/training/training_files\n",
      "/work/lotterhos/brandon/pooled_runtimes/run_20220919_450-675/20000/gradient_forests/training/training_files\n"
     ]
    }
   ],
   "source": [
    "d_index = 3  # which dir I'm submitting\n",
    "\n",
    "for rep, repdirs in pooled_dirs.items():\n",
    "    print(repdirs[d_index])"
   ]
  },
  {
   "cell_type": "code",
   "execution_count": 4,
   "id": "53c550d4",
   "metadata": {},
   "outputs": [
    {
     "name": "stderr",
     "output_type": "stream",
     "text": [
      "run_20220919_0-225: 100%|███████████████| 225/225 [00:44<00:00,  5.03it/s]\n",
      "run_20220919_225-450: 100%|███████████████| 225/225 [00:46<00:00,  4.81it/s]\n",
      "run_20220919_450-675: 100%|███████████████| 225/225 [00:51<00:00,  4.41it/s]\n"
     ]
    },
    {
     "data": {
      "text/plain": [
       "(675, 675)"
      ]
     },
     "execution_count": 4,
     "metadata": {},
     "output_type": "execute_result"
    }
   ],
   "source": [
    "# submit\n",
    "jobnames =[]\n",
    "pids = defaultdict(dict)\n",
    "for rep, repdirs in pooled_dirs.items():\n",
    "    sh_dir = repdirs[d_index].replace('training_files', 'training_shfiles')\n",
    "    \n",
    "    shfiles = fs(sh_dir, endswith='.sh', exclude='watcher')\n",
    "    \n",
    "    assert len(shfiles) == 225\n",
    "    \n",
    "    for sh in pbar(shfiles, desc=rep):\n",
    "        jobnames.append(op.basename(sh))\n",
    "        seed = op.basename(sh).split(\"_\")[0]\n",
    "        pids[rep][seed] = sbatch(sh, progress_bar=False)\n",
    "\n",
    "luni(jobnames), len(jobnames)"
   ]
  },
  {
   "cell_type": "code",
   "execution_count": 6,
   "id": "399bdeb3",
   "metadata": {},
   "outputs": [
    {
     "name": "stderr",
     "output_type": "stream",
     "text": [
      "100%|███████████████| 3/3 [00:05<00:00,  1.74s/it]"
     ]
    },
    {
     "name": "stdout",
     "output_type": "stream",
     "text": [
      "675\n"
     ]
    },
    {
     "name": "stderr",
     "output_type": "stream",
     "text": [
      "\n"
     ]
    },
    {
     "data": {
      "text/plain": [
       "['#!/bin/bash',\n",
       " '#SBATCH --job-name=1231768_gf_fitting',\n",
       " '#SBATCH --time=1-00:00:00',\n",
       " '#SBATCH --ntasks=1',\n",
       " '#SBATCH --mem=300000M',\n",
       " '#SBATCH --output=1231768_gf_fitting_%j.out',\n",
       " '#SBATCH --dependency=afterok:40811756',\n",
       " '#SBATCH --mail-user=dummy_email@gmail.com',\n",
       " '#SBATCH --mail-type=FAIL',\n",
       " '#SBATCH --nodes=1',\n",
       " '#SBATCH --cpus-per-task=7',\n",
       " 'cd /home/b.lind/code/MVP-offsets/01_src',\n",
       " 'source $HOME/.bashrc',\n",
       " 'conda activate mvp_env',\n",
       " 'python MVP_02_fit_gradient_forests.py 1231768 /work/lotterhos/brandon/pooled_runtimes/run_20220919_450-675/20000/slimdir /work/lotterhos/brandon/pooled_runtimes/run_20220919_450-675/20000/gradient_forests/training/training_outfiles /home/b.lind/anaconda3/envs/r35/lib/R/bin/Rscript 1 ind',\n",
       " 'python MVP_03_validate_gradient_forests.py 1231768 /home/b.lind/offsets/run_20220919_450-675/slimdir /work/lotterhos/brandon/pooled_runtimes/run_20220919_450-675/20000/gradient_forests 100 ind']"
      ]
     },
     "execution_count": 6,
     "metadata": {},
     "output_type": "execute_result"
    }
   ],
   "source": [
    "fitting_shfiles = []\n",
    "for (rep, seed), pid in unwrap_dictionary(pids, progress_bar=True):\n",
    "    fitting_shdir = pooled_dirs[rep][d_index].replace('training/training_files', 'fitting/fitting_shfiles')\n",
    "    fitting_sh = f'{fitting_shdir}/{seed}_gf_fitting.sh'\n",
    "\n",
    "    text = read(fitting_sh)\n",
    "\n",
    "    assert 'dependency' in text[6]\n",
    "    text[6] = f'#SBATCH --dependency=afterok:{pid[0]}'\n",
    "\n",
    "    with open(fitting_sh, 'w') as o:\n",
    "        o.write('\\n'.join(text))\n",
    "\n",
    "    fitting_shfiles.append(fitting_sh)\n",
    "\n",
    "print(len(fitting_shfiles))\n",
    "\n",
    "text"
   ]
  },
  {
   "cell_type": "code",
   "execution_count": null,
   "id": "c0ec7e5a",
   "metadata": {},
   "outputs": [],
   "source": []
  },
  {
   "cell_type": "code",
   "execution_count": null,
   "id": "4bdba65a",
   "metadata": {},
   "outputs": [],
   "source": []
  },
  {
   "cell_type": "code",
   "execution_count": null,
   "id": "5b4b71ce",
   "metadata": {},
   "outputs": [],
   "source": []
  },
  {
   "cell_type": "code",
   "execution_count": null,
   "id": "4ae395f2",
   "metadata": {},
   "outputs": [],
   "source": []
  },
  {
   "cell_type": "code",
   "execution_count": null,
   "id": "aa81e87a",
   "metadata": {},
   "outputs": [],
   "source": []
  },
  {
   "cell_type": "code",
   "execution_count": null,
   "id": "bdb69270",
   "metadata": {},
   "outputs": [],
   "source": []
  },
  {
   "cell_type": "code",
   "execution_count": null,
   "id": "0635fb41",
   "metadata": {},
   "outputs": [],
   "source": []
  },
  {
   "cell_type": "code",
   "execution_count": null,
   "id": "a3e8ec76",
   "metadata": {},
   "outputs": [],
   "source": []
  },
  {
   "cell_type": "code",
   "execution_count": null,
   "id": "610b2a02",
   "metadata": {},
   "outputs": [],
   "source": []
  },
  {
   "cell_type": "code",
   "execution_count": null,
   "id": "2153709f",
   "metadata": {},
   "outputs": [],
   "source": []
  },
  {
   "cell_type": "code",
   "execution_count": null,
   "id": "cce91112",
   "metadata": {},
   "outputs": [],
   "source": []
  },
  {
   "cell_type": "code",
   "execution_count": null,
   "id": "17efc489",
   "metadata": {},
   "outputs": [],
   "source": []
  },
  {
   "cell_type": "code",
   "execution_count": null,
   "id": "4dd0e774",
   "metadata": {},
   "outputs": [],
   "source": []
  },
  {
   "cell_type": "code",
   "execution_count": null,
   "id": "618d4bc5",
   "metadata": {},
   "outputs": [],
   "source": []
  },
  {
   "cell_type": "code",
   "execution_count": null,
   "id": "5ed3561e",
   "metadata": {},
   "outputs": [],
   "source": []
  }
 ],
 "metadata": {
  "kernelspec": {
   "display_name": "Python 3 (ipykernel)",
   "language": "python",
   "name": "python3"
  },
  "language_info": {
   "codemirror_mode": {
    "name": "ipython",
    "version": 3
   },
   "file_extension": ".py",
   "mimetype": "text/x-python",
   "name": "python",
   "nbconvert_exporter": "python",
   "pygments_lexer": "ipython3",
   "version": "3.8.5"
  }
 },
 "nbformat": 4,
 "nbformat_minor": 5
}
