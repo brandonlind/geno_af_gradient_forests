{
 "cells": [
  {
   "cell_type": "markdown",
   "id": "f14aec91",
   "metadata": {},
   "source": [
    "<a id='home'></a>\n",
    "### purpose\n",
    "\n",
    "create genotype runs of GF using the sets of random loci assigned to individual runs\n",
    "\n",
    "### notes\n",
    "\n",
    "After originally submitting the training and fitting jobs I had to go back in and create dummy envfiles for pooled data because mvp02.get_envdata asserts 2 envfiles. I then resubmitted the fitting jobs since the training jobs did fine.\n",
    "\n",
    "### outline\n",
    "\n",
    "1. [get dirs with training files](#dirs)\n",
    "\n",
    "    get a list of directories containing genomic data\n",
    "\n",
    "1. [symlink supplementary files](#sup)\n",
    "\n",
    "    directories are nested by the number of loci provided for training. There is no need to copy environmental data to each directory, so I symlink it. These files are used by training scripts.\n",
    "    \n",
    "1. [create sh files for training and predicting](#shfiles)\n",
    "\n",
    "    create slurm sbatch files to submit training jobs to the cluster, as well as jobs that use trained model to predict models to common garden environments\n",
    "    \n",
    "1. [create shfiles for making predictions of the trained GF models to specific environments](#shfiles)\n",
    "\n",
    "    1. [create sh files for training and predicting](#training)\n",
    "    1. [create shfiles for making predictions of the trained GF models to specific environments](#predict)\n",
    "\n",
    "1. [submit jobs using 500 loci](#submit500)\n",
    "\n",
    "1. [submit jobs using 5000 loci](#submit5000)\n",
    "\n",
    "1. [submit jobs using 10000 loci](#submit10k)\n",
    "\n",
    "1. [submit jobs using 20000 loci](#submit20k)"
   ]
  },
  {
   "cell_type": "code",
   "execution_count": 1,
   "id": "0d239416",
   "metadata": {},
   "outputs": [
    {
     "name": "stdout",
     "output_type": "stream",
     "text": [
      "36 36\n",
      "#########################################################\n",
      "Today:\tJanuary 22, 2024 - 17:20:30 EST\n",
      "python version: 3.8.5\n",
      "conda env: mvp_env\n",
      "\n",
      "Current commit of \u001b[1mpythonimports\u001b[0m:\n",
      "\u001b[33mcommit 419895d157c97717f835390196c13cf973d25eba\u001b[m  \n",
      "Merge: e20434f 1e09b6c  \n",
      "Author: Brandon Lind <lind.brandon.m@gmail.com>\n",
      "\n",
      "Current commit of \u001b[94m\u001b[1mMVP_offsets\u001b[0m\u001b[0m:\n",
      "\u001b[33mcommit c5bc403582e5bafc1036be8cd2a4bb0b4d154623\u001b[m  \n",
      "Author: Brandon Lind <lind.brandon.m@gmail.com>  \n",
      "Date:   Mon Dec 18 14:38:19 2023 -0500\n",
      "#########################################################\n",
      "\n"
     ]
    },
    {
     "data": {
      "text/html": [
       "<details>\n",
       "<summary>Click to view session information</summary>\n",
       "<pre>\n",
       "-----\n",
       "MVP_summary_functions       NA\n",
       "balance_queue               NA\n",
       "cartopy                     0.20.2\n",
       "ipyparallel                 7.1.0\n",
       "matplotlib                  3.5.2\n",
       "myclasses                   NA\n",
       "myfigs                      NA\n",
       "mymaps                      NA\n",
       "myslurm                     NA\n",
       "numpy                       1.22.1\n",
       "pandas                      1.3.5\n",
       "pythonimports               NA\n",
       "session_info                1.0.0\n",
       "tqdm                        4.62.1\n",
       "-----\n",
       "</pre>\n",
       "<details>\n",
       "<summary>Click to view modules imported as dependencies</summary>\n",
       "<pre>\n",
       "MVP_01_train_gradient_forests       NA\n",
       "MVP_10_train_lfmm2_offset           NA\n",
       "PIL                                 8.4.0\n",
       "attr                                21.4.0\n",
       "backcall                            0.2.0\n",
       "beta_ufunc                          NA\n",
       "binom_ufunc                         NA\n",
       "bottleneck                          1.3.2\n",
       "certifi                             2023.05.07\n",
       "cffi                                1.15.0\n",
       "cycler                              0.10.0\n",
       "cython_runtime                      NA\n",
       "dateutil                            2.8.2\n",
       "debugpy                             1.5.1\n",
       "decorator                           5.1.1\n",
       "defusedxml                          0.7.1\n",
       "entrypoints                         0.4\n",
       "fiona                               1.9.5\n",
       "fontTools                           4.29.1\n",
       "ipykernel                           6.8.0\n",
       "ipython_genutils                    0.2.0\n",
       "ipywidgets                          7.6.5\n",
       "jedi                                0.18.1\n",
       "kiwisolver                          1.3.2\n",
       "matplotlib_venn                     0.11.6\n",
       "mpl_toolkits                        NA\n",
       "nbinom_ufunc                        NA\n",
       "numexpr                             2.8.1\n",
       "packaging                           21.3\n",
       "parso                               0.8.3\n",
       "patsy                               0.5.2\n",
       "pdf2image                           NA\n",
       "pexpect                             4.8.0\n",
       "pickleshare                         0.7.5\n",
       "pkg_resources                       NA\n",
       "prompt_toolkit                      3.0.26\n",
       "psutil                              5.9.0\n",
       "ptyprocess                          0.7.0\n",
       "pydev_ipython                       NA\n",
       "pydevconsole                        NA\n",
       "pydevd                              2.6.0\n",
       "pydevd_concurrency_analyser         NA\n",
       "pydevd_file_utils                   NA\n",
       "pydevd_plugins                      NA\n",
       "pydevd_tracing                      NA\n",
       "pygments                            2.11.2\n",
       "pyparsing                           3.0.7\n",
       "pyproj                              3.3.0\n",
       "pytz                                2021.3\n",
       "scipy                               1.7.3\n",
       "seaborn                             0.11.2\n",
       "setuptools                          60.7.1\n",
       "shapefile                           2.2.0\n",
       "shapely                             1.8.0\n",
       "six                                 1.16.0\n",
       "statsmodels                         0.14.0\n",
       "storemagic                          NA\n",
       "tornado                             6.1\n",
       "traitlets                           5.1.1\n",
       "wcwidth                             0.2.5\n",
       "zmq                                 22.3.0\n",
       "</pre>\n",
       "</details> <!-- seems like this ends pre, so might as well be explicit -->\n",
       "<pre>\n",
       "-----\n",
       "IPython             7.31.1\n",
       "jupyter_client      7.1.2\n",
       "jupyter_core        4.9.1\n",
       "notebook            6.4.8\n",
       "-----\n",
       "Python 3.8.5 (default, Sep  4 2020, 07:30:14) [GCC 7.3.0]\n",
       "Linux-3.10.0-1160.25.1.el7.x86_64-x86_64-with-glibc2.10\n",
       "-----\n",
       "Session information updated at 2024-01-22 17:20\n",
       "</pre>\n",
       "</details>"
      ],
      "text/plain": [
       "<IPython.core.display.HTML object>"
      ]
     },
     "execution_count": 1,
     "metadata": {},
     "output_type": "execute_result"
    }
   ],
   "source": [
    "from pythonimports import *\n",
    "\n",
    "import MVP_summary_functions as mvp\n",
    "\n",
    "lview, dview = get_client(cluster_id='1705962011-6977', profile='lotterhos')\n",
    "\n",
    "outerdir = '/work/lotterhos/brandon/ind_runtimes'\n",
    "\n",
    "mvp.latest_commit()\n",
    "session_info.show()"
   ]
  },
  {
   "cell_type": "markdown",
   "id": "8720c406",
   "metadata": {},
   "source": [
    "<a id='dirs'></a>\n",
    "# get dirs with training files\n",
    "[top](#home)"
   ]
  },
  {
   "cell_type": "code",
   "execution_count": 2,
   "id": "4a496a87",
   "metadata": {},
   "outputs": [
    {
     "name": "stdout",
     "output_type": "stream",
     "text": [
      "\u001b[1mrun_20220919_0-225\u001b[0m\n",
      "['/work/lotterhos/brandon/ind_runtimes/run_20220919_0-225/00500/gradient_forests/training/training_files', '/work/lotterhos/brandon/ind_runtimes/run_20220919_0-225/05000/gradient_forests/training/training_files', '/work/lotterhos/brandon/ind_runtimes/run_20220919_0-225/10000/gradient_forests/training/training_files', '/work/lotterhos/brandon/ind_runtimes/run_20220919_0-225/20000/gradient_forests/training/training_files'] \n",
      "\n",
      "\u001b[1mrun_20220919_225-450\u001b[0m\n",
      "['/work/lotterhos/brandon/ind_runtimes/run_20220919_225-450/00500/gradient_forests/training/training_files', '/work/lotterhos/brandon/ind_runtimes/run_20220919_225-450/05000/gradient_forests/training/training_files', '/work/lotterhos/brandon/ind_runtimes/run_20220919_225-450/10000/gradient_forests/training/training_files', '/work/lotterhos/brandon/ind_runtimes/run_20220919_225-450/20000/gradient_forests/training/training_files'] \n",
      "\n",
      "\u001b[1mrun_20220919_450-675\u001b[0m\n",
      "['/work/lotterhos/brandon/ind_runtimes/run_20220919_450-675/00500/gradient_forests/training/training_files', '/work/lotterhos/brandon/ind_runtimes/run_20220919_450-675/05000/gradient_forests/training/training_files', '/work/lotterhos/brandon/ind_runtimes/run_20220919_450-675/10000/gradient_forests/training/training_files', '/work/lotterhos/brandon/ind_runtimes/run_20220919_450-675/20000/gradient_forests/training/training_files'] \n",
      "\n"
     ]
    }
   ],
   "source": [
    "# get a list of directories for each rep\n",
    "set_nums = ['00500', '05000', '10000', '20000']\n",
    "\n",
    "dirs = fs(outerdir, startswith='run', dirs=True)\n",
    "\n",
    "dst_dirs = defaultdict(list)\n",
    "for d in dirs:\n",
    "    rep = op.basename(d)\n",
    "    print(ColorText(rep).bold())\n",
    "    \n",
    "    for set_num in set_nums: \n",
    "        dst_dirs[rep].append(f'{d}/{set_num}/gradient_forests/training/training_files')\n",
    "        \n",
    "    print(dst_dirs[rep], '\\n')"
   ]
  },
  {
   "cell_type": "code",
   "execution_count": 3,
   "id": "86716436",
   "metadata": {},
   "outputs": [
    {
     "name": "stdout",
     "output_type": "stream",
     "text": [
      "run_20220919_0-225\n",
      "run_20220919_225-450\n",
      "run_20220919_450-675\n"
     ]
    }
   ],
   "source": [
    "# get a list of source directories\n",
    "src_dirs = {}\n",
    "for rep in dst_dirs.keys():\n",
    "    print(rep)\n",
    "    \n",
    "    src_dir = f'/work/lotterhos/MVP-Offsets/{rep}/gradient_forests/training/training_files'\n",
    "    assert op.exists(src_dir)\n",
    "    \n",
    "    src_dirs[rep] = src_dir"
   ]
  },
  {
   "cell_type": "markdown",
   "id": "de9e2ce9",
   "metadata": {},
   "source": [
    "<a id='sup'></a>\n",
    "# symlink supplementary files\n",
    "\n",
    "[top](#home)"
   ]
  },
  {
   "cell_type": "code",
   "execution_count": 4,
   "id": "01cb935b",
   "metadata": {},
   "outputs": [
    {
     "name": "stderr",
     "output_type": "stream",
     "text": [
      "run_20220919_0-225: 100%|███████████████| 450/450 [00:07<00:00, 59.65it/s]\n",
      "run_20220919_225-450: 100%|███████████████| 450/450 [00:08<00:00, 54.62it/s]\n",
      "run_20220919_450-675: 100%|███████████████| 450/450 [00:08<00:00, 51.01it/s]\n"
     ]
    }
   ],
   "source": [
    "# symlink envfile and rangefile\n",
    "for rep, d in src_dirs.items():\n",
    "    files = fs(d, exclude=['maf-gt-p01', 'adaptive', 'neutral'], endswith='ind.txt')\n",
    "    \n",
    "    assert len(files) == 450  # 2 files for each of 225 seeds (one envfile, one rangefile)\n",
    "\n",
    "    for src in pbar(files, desc=rep):\n",
    "        for d in dst_dirs[rep]:\n",
    "            dst = f'{d}/{op.basename(src)}'\n",
    "            \n",
    "            try:\n",
    "                os.symlink(src, dst)\n",
    "            except FileExistsError as e:\n",
    "                pass"
   ]
  },
  {
   "cell_type": "code",
   "execution_count": 5,
   "id": "d217b6ee",
   "metadata": {},
   "outputs": [
    {
     "name": "stderr",
     "output_type": "stream",
     "text": [
      "run_20220919_0-225: 100%|███████████████| 4/4 [00:04<00:00,  1.21s/it]\n",
      "run_20220919_225-450: 100%|███████████████| 4/4 [00:04<00:00,  1.10s/it]\n",
      "run_20220919_450-675: 100%|███████████████| 4/4 [00:03<00:00,  1.02it/s]\n"
     ]
    }
   ],
   "source": [
    "# add pooled envfiles to directories so jobs pass mvp02.get_envdata filecount assertion\n",
    "for rep, repdirs in dst_dirs.items():\n",
    "    for dst_dir in pbar(repdirs, desc=rep):\n",
    "#         dst_dir = f'{d}/training/training_files'\n",
    "#         src_dir = f'/work/lotterhos/MVP-Offsets/{rep}/gradient_forests/training/training_files'\n",
    "        src_dir = src_dirs[rep]\n",
    "        assert src_dir != dst_dir\n",
    "\n",
    "        envfiles = fs(src_dir, endswith='envfile_GFready_pooled.txt')\n",
    "        assert len(envfiles) == 225\n",
    "\n",
    "        for src in envfiles:\n",
    "            dst = f'{dst_dir}/{op.basename(src)}'\n",
    "\n",
    "            try:\n",
    "                os.symlink(src, dst)\n",
    "            except FileExistsError as e:\n",
    "                pass"
   ]
  },
  {
   "cell_type": "markdown",
   "id": "88bbafd0",
   "metadata": {},
   "source": [
    "<a id='shfiles'></a>\n",
    "# create sh files for training and predicting\n",
    "\n",
    "[top](#home)"
   ]
  },
  {
   "cell_type": "markdown",
   "id": "e1968ea2",
   "metadata": {},
   "source": [
    "<a id='training'></a>\n",
    "### create training shfiles\n",
    "\n",
    "[top](#home)\n",
    "\n",
    "I use training sh files previously created for Lind & Lotterhos (2024). I edit them to serve our purposes"
   ]
  },
  {
   "cell_type": "code",
   "execution_count": 6,
   "id": "2fd36e13",
   "metadata": {},
   "outputs": [
    {
     "data": {
      "text/plain": [
       "['/work/lotterhos/brandon/ind_runtimes/run_20220919_450-675/00500/gradient_forests/training/training_files',\n",
       " '/work/lotterhos/brandon/ind_runtimes/run_20220919_450-675/05000/gradient_forests/training/training_files',\n",
       " '/work/lotterhos/brandon/ind_runtimes/run_20220919_450-675/10000/gradient_forests/training/training_files',\n",
       " '/work/lotterhos/brandon/ind_runtimes/run_20220919_450-675/20000/gradient_forests/training/training_files']"
      ]
     },
     "execution_count": 6,
     "metadata": {},
     "output_type": "execute_result"
    }
   ],
   "source": [
    "dst_dirs[rep]"
   ]
  },
  {
   "cell_type": "code",
   "execution_count": 7,
   "id": "6df17eab",
   "metadata": {},
   "outputs": [
    {
     "name": "stderr",
     "output_type": "stream",
     "text": [
      "run_20220919_0-225: 100%|███████████████| 225/225 [00:09<00:00, 23.68it/s]\n",
      "run_20220919_225-450: 100%|███████████████| 225/225 [00:09<00:00, 23.38it/s]\n",
      "run_20220919_450-675: 100%|███████████████| 225/225 [00:13<00:00, 16.65it/s]\n"
     ]
    },
    {
     "data": {
      "text/plain": [
       "2700"
      ]
     },
     "execution_count": 7,
     "metadata": {},
     "output_type": "execute_result"
    }
   ],
   "source": [
    "all_shfiles = []\n",
    "for rep, src_dir in src_dirs.items():\n",
    "    shdir = src_dir.replace('_files', '_shfiles')\n",
    "    \n",
    "    shfiles = fs(shdir, endswith='ind_all.sh', exclude='watcher')\n",
    "    \n",
    "    assert len(shfiles) == 225\n",
    "    \n",
    "    for sh in pbar(shfiles, desc=rep):\n",
    "    \n",
    "        for dst_dir in dst_dirs[rep]:\n",
    "            text = read(sh, lines=False)\n",
    "\n",
    "            assert text.count(f'/home/b.lind/offsets/{rep}') == 2\n",
    "            \n",
    "            # replace training files and training outfiles dirs\n",
    "            text = text.replace(f'/home/b.lind/offsets/{rep}', dst_dir.split('/gradient')[0])\n",
    "            \n",
    "            # replace mem and time and email\n",
    "            text = text.replace('#SBATCH --time=5-00:00:00', '#SBATCH --time=1-00:00:00')\n",
    "            text = text.replace('#SBATCH --mem=900000M', '#SBATCH --mem=50000M')\n",
    "            text = text.replace('b.lind@northeastern.edu', 'dummy_email@gmail.com')\n",
    "            \n",
    "            dst_shdir = makedir(dst_dir.replace('training_files', 'training_shfiles'))\n",
    "            dst_outdir = makedir(dst_dir.replace('training_files', 'training_outfiles'))\n",
    "            \n",
    "            newsh = f'{dst_shdir}/{op.basename(sh)}'\n",
    "            with open(newsh, 'w') as o:\n",
    "                o.write(text)\n",
    "            all_shfiles.append(newsh)\n",
    "            \n",
    "len(all_shfiles)"
   ]
  },
  {
   "cell_type": "code",
   "execution_count": 8,
   "id": "a0d73448",
   "metadata": {},
   "outputs": [
    {
     "name": "stdout",
     "output_type": "stream",
     "text": [
      "#!/bin/bash\n",
      "#SBATCH --job-name=1231768_GF_training_ind_all\n",
      "#SBATCH --time=1-00:00:00\n",
      "#SBATCH --mem=50000M\n",
      "#SBATCH --partition=long\n",
      "#SBATCH --output=1231768_GF_training_ind_all_%j.out\n",
      "#SBATCH --mail-user=dummy_email@gmail.com\n",
      "#SBATCH --mail-type=FAIL\n",
      "\n",
      "source $HOME/.bashrc  # assumed that conda init is within .bashrc\n",
      "conda deactivate\n",
      "conda activate r35\n",
      "\n",
      "cd /work/lotterhos/brandon/ind_runtimes/run_20220919_450-675/20000/gradient_forests/training/training_files\n",
      "\n",
      "/home/b.lind/anaconda3/envs/r35/lib/R/bin/Rscript \\\n",
      "/home/b.lind/code/MVP-offsets/01_src/MVP_gf_training_script.R \\\n",
      "1231768_Rout_Gmat_sample_maf-gt-p01_GFready_ind_all.txt \\\n",
      "1231768_envfile_GFready_ind.txt \\\n",
      "1231768_rangefile_GFready_ind.txt \\\n",
      "1231768_GF_training_ind_all \\\n",
      "/work/lotterhos/brandon/ind_runtimes/run_20220919_450-675/20000/gradient_forests/training/training_outfiles\n",
      "\n",
      "\n"
     ]
    }
   ],
   "source": [
    "print(text)"
   ]
  },
  {
   "cell_type": "markdown",
   "id": "db2ff30b",
   "metadata": {},
   "source": [
    "<a id='predict'></a>\n",
    "## create shfiles for making predictions of the trained GF models to specific environments\n",
    "\n",
    "MVP_02 doesn't use slimdir, so that doesn't matter\n",
    "\n",
    "MVP_03 needs the original slimdir to get fitness/envdata/locations etc for validation\n",
    "\n",
    "[top](#home)"
   ]
  },
  {
   "cell_type": "code",
   "execution_count": 9,
   "id": "4f35a787",
   "metadata": {},
   "outputs": [
    {
     "name": "stderr",
     "output_type": "stream",
     "text": [
      "run_20220919_0-225: 100%|███████████████| 225/225 [00:09<00:00, 23.66it/s]\n",
      "run_20220919_225-450: 100%|███████████████| 225/225 [00:08<00:00, 26.68it/s]\n",
      "run_20220919_450-675: 100%|███████████████| 225/225 [00:07<00:00, 28.29it/s]\n"
     ]
    },
    {
     "data": {
      "text/plain": [
       "'/work/lotterhos/brandon/ind_runtimes/run_20220919_450-675/20000/gradient_forests/training/training_files'"
      ]
     },
     "execution_count": 9,
     "metadata": {},
     "output_type": "execute_result"
    }
   ],
   "source": [
    "for rep, src_dir in src_dirs.items():\n",
    "    fitting_shdir = src_dir.replace('training/training_files', 'fitting/fitting_shfiles')\n",
    "    \n",
    "    shfiles = fs(fitting_shdir, endswith='.sh', exclude='watcher')\n",
    "    \n",
    "    for sh in pbar(shfiles, desc=rep):\n",
    "        for dst_dir in dst_dirs[rep]:\n",
    "            dst_shdir = makedir(dst_dir.replace('training/training_files', 'fitting/fitting_shfiles'))\n",
    "            new_sh = f'{dst_shdir}/{op.basename(sh)}'\n",
    "            \n",
    "            text = read(sh, lines=True, ignore_blank=True)\n",
    "            \n",
    "            assert 'time' in text[2]\n",
    "            text[2] = '#SBATCH --time=1-00:00:00'\n",
    "\n",
    "            assert 'MVP_02' in text[-2]\n",
    "            text[-2] = text[-2].replace(f'/home/b.lind/offsets/{rep}',\n",
    "                                        dst_dir.split('/grad')[0])\n",
    "            text[-2] += ' 1 pooled'  # expect one RDS file and exclude pooled (non-default for MVP_02)\n",
    "            \n",
    "            assert 'MVP_03' in text[-1]\n",
    "            text[-1] = text[-1].replace(f'/home/b.lind/offsets/{rep}/gradient_forests',\n",
    "                                        dst_dir.split('/training')[0])\n",
    "            text[-1] += ' 100 pooled'  # expect 100 RDS files and exclude pooled (non-default for MVP_03)\n",
    "            \n",
    "            if 'partition' in text[5]:\n",
    "                text.remove(text[5])\n",
    "            \n",
    "            # erase previous dependencies, will update after sbatching\n",
    "            assert 'dependency' in text[6]\n",
    "            text[6] = '#SBATCH --dependency=afterok:'\n",
    "            \n",
    "            assert 'mail' in text[7]\n",
    "            text[7] = '#SBATCH --mail-user=dummy_email@gmail.com'  # new code, don't want 1e6 emails\n",
    "            \n",
    "            \n",
    "            with open(new_sh, 'w') as o:\n",
    "                o.write('\\n'.join(text))\n",
    "dst_dir "
   ]
  },
  {
   "cell_type": "code",
   "execution_count": 10,
   "id": "b00c05f8",
   "metadata": {},
   "outputs": [
    {
     "data": {
      "text/plain": [
       "['#!/bin/bash',\n",
       " '#SBATCH --job-name=1231768_gf_fitting',\n",
       " '#SBATCH --time=1-00:00:00',\n",
       " '#SBATCH --ntasks=1',\n",
       " '#SBATCH --mem=300000M',\n",
       " '#SBATCH --output=1231768_gf_fitting_%j.out',\n",
       " '#SBATCH --dependency=afterok:',\n",
       " '#SBATCH --mail-user=dummy_email@gmail.com',\n",
       " '#SBATCH --mail-type=FAIL',\n",
       " '#SBATCH --nodes=1',\n",
       " '#SBATCH --cpus-per-task=7',\n",
       " 'cd /home/b.lind/code/MVP-offsets/01_src',\n",
       " 'source $HOME/.bashrc',\n",
       " 'conda activate mvp_env',\n",
       " 'python MVP_02_fit_gradient_forests.py 1231768 /work/lotterhos/brandon/ind_runtimes/run_20220919_450-675/20000/slimdir /work/lotterhos/brandon/ind_runtimes/run_20220919_450-675/20000/gradient_forests/training/training_outfiles /home/b.lind/anaconda3/envs/r35/lib/R/bin/Rscript 1 pooled',\n",
       " 'python MVP_03_validate_gradient_forests.py 1231768 /home/b.lind/offsets/run_20220919_450-675/slimdir /work/lotterhos/brandon/ind_runtimes/run_20220919_450-675/20000/gradient_forests 100 pooled']"
      ]
     },
     "execution_count": 10,
     "metadata": {},
     "output_type": "execute_result"
    }
   ],
   "source": [
    "text"
   ]
  },
  {
   "cell_type": "code",
   "execution_count": 11,
   "id": "b8f46d0f",
   "metadata": {},
   "outputs": [
    {
     "data": {
      "text/plain": [
       "'/work/lotterhos/brandon/ind_runtimes/run_20220919_450-675/20000/gradient_forests/fitting/fitting_shfiles/1231768_gf_fitting.sh'"
      ]
     },
     "execution_count": 11,
     "metadata": {},
     "output_type": "execute_result"
    }
   ],
   "source": [
    "new_sh"
   ]
  },
  {
   "cell_type": "code",
   "execution_count": 12,
   "id": "be180e78",
   "metadata": {},
   "outputs": [
    {
     "data": {
      "text/plain": [
       "['#!/bin/bash',\n",
       " '#SBATCH --job-name=1231768_gf_fitting',\n",
       " '#SBATCH --time=1-00:00:00',\n",
       " '#SBATCH --ntasks=1',\n",
       " '#SBATCH --mem=300000M',\n",
       " '#SBATCH --output=1231768_gf_fitting_%j.out',\n",
       " '#SBATCH --dependency=afterok:',\n",
       " '#SBATCH --mail-user=dummy_email@gmail.com',\n",
       " '#SBATCH --mail-type=FAIL',\n",
       " '#SBATCH --nodes=1',\n",
       " '#SBATCH --cpus-per-task=7',\n",
       " 'cd /home/b.lind/code/MVP-offsets/01_src',\n",
       " 'source $HOME/.bashrc',\n",
       " 'conda activate mvp_env',\n",
       " 'python MVP_02_fit_gradient_forests.py 1231768 /work/lotterhos/brandon/ind_runtimes/run_20220919_450-675/20000/slimdir /work/lotterhos/brandon/ind_runtimes/run_20220919_450-675/20000/gradient_forests/training/training_outfiles /home/b.lind/anaconda3/envs/r35/lib/R/bin/Rscript 1 pooled',\n",
       " 'python MVP_03_validate_gradient_forests.py 1231768 /home/b.lind/offsets/run_20220919_450-675/slimdir /work/lotterhos/brandon/ind_runtimes/run_20220919_450-675/20000/gradient_forests 100 pooled']"
      ]
     },
     "execution_count": 12,
     "metadata": {},
     "output_type": "execute_result"
    }
   ],
   "source": [
    "read(new_sh)"
   ]
  },
  {
   "cell_type": "markdown",
   "id": "7c8e14e0",
   "metadata": {},
   "source": [
    "<a id='submit500'></a>\n",
    "# submit jobs using 500 loci\n",
    "\n",
    "I have to be careful about which shfiles I submit since my code relies on non-duplicated job names in the slurm queue\n",
    "\n",
    "[top](#home)"
   ]
  },
  {
   "cell_type": "markdown",
   "id": "82f5e79a",
   "metadata": {},
   "source": [
    "### submit training files"
   ]
  },
  {
   "cell_type": "code",
   "execution_count": 14,
   "id": "944d3487",
   "metadata": {},
   "outputs": [
    {
     "data": {
      "text/plain": [
       "'run_20220919_450-675'"
      ]
     },
     "execution_count": 14,
     "metadata": {},
     "output_type": "execute_result"
    }
   ],
   "source": [
    "rep"
   ]
  },
  {
   "cell_type": "code",
   "execution_count": 15,
   "id": "0dfa702b",
   "metadata": {},
   "outputs": [
    {
     "data": {
      "text/plain": [
       "['/work/lotterhos/brandon/ind_runtimes/run_20220919_450-675/00500/gradient_forests/training/training_files',\n",
       " '/work/lotterhos/brandon/ind_runtimes/run_20220919_450-675/05000/gradient_forests/training/training_files',\n",
       " '/work/lotterhos/brandon/ind_runtimes/run_20220919_450-675/10000/gradient_forests/training/training_files',\n",
       " '/work/lotterhos/brandon/ind_runtimes/run_20220919_450-675/20000/gradient_forests/training/training_files']"
      ]
     },
     "execution_count": 15,
     "metadata": {},
     "output_type": "execute_result"
    }
   ],
   "source": [
    "dst_dirs[rep]"
   ]
  },
  {
   "cell_type": "code",
   "execution_count": 16,
   "id": "c9c45067",
   "metadata": {
    "scrolled": true
   },
   "outputs": [
    {
     "name": "stderr",
     "output_type": "stream",
     "text": [
      "run_20220919_0-225: 100%|███████████████| 225/225 [00:34<00:00,  6.58it/s]\n",
      "run_20220919_225-450: 100%|███████████████| 225/225 [00:38<00:00,  5.91it/s]\n",
      "run_20220919_450-675: 100%|███████████████| 225/225 [00:42<00:00,  5.29it/s]\n"
     ]
    },
    {
     "data": {
      "text/plain": [
       "(675, 675)"
      ]
     },
     "execution_count": 16,
     "metadata": {},
     "output_type": "execute_result"
    }
   ],
   "source": [
    "d_index = 0  # which dir I'm submitting\n",
    "\n",
    "jobnames =[]\n",
    "pids = defaultdict(dict)\n",
    "for rep, repdirs in dst_dirs.items():\n",
    "    sh_dir = repdirs[d_index].replace('training_files', 'training_shfiles')\n",
    "    \n",
    "    shfiles = fs(sh_dir, endswith='.sh', exclude='watcher')\n",
    "    \n",
    "    assert len(shfiles) == 225\n",
    "    \n",
    "    for sh in pbar(shfiles, desc=rep):\n",
    "        jobnames.append(op.basename(sh))\n",
    "        seed = op.basename(sh).split(\"_\")[0]\n",
    "        pids[rep][seed] = sbatch(sh, progress_bar=False)\n",
    "\n",
    "luni(jobnames), len(jobnames)"
   ]
  },
  {
   "cell_type": "markdown",
   "id": "975b058e",
   "metadata": {},
   "source": [
    "### submit fitting files"
   ]
  },
  {
   "cell_type": "code",
   "execution_count": 17,
   "id": "c26111e1",
   "metadata": {
    "scrolled": false
   },
   "outputs": [
    {
     "name": "stderr",
     "output_type": "stream",
     "text": [
      "100%|███████████████| 3/3 [00:06<00:00,  2.13s/it]"
     ]
    },
    {
     "name": "stdout",
     "output_type": "stream",
     "text": [
      "675\n"
     ]
    },
    {
     "name": "stderr",
     "output_type": "stream",
     "text": [
      "\n"
     ]
    },
    {
     "data": {
      "text/plain": [
       "['#!/bin/bash',\n",
       " '#SBATCH --job-name=1231768_gf_fitting',\n",
       " '#SBATCH --time=1-00:00:00',\n",
       " '#SBATCH --ntasks=1',\n",
       " '#SBATCH --mem=300000M',\n",
       " '#SBATCH --output=1231768_gf_fitting_%j.out',\n",
       " '#SBATCH --dependency=afterok:40438394',\n",
       " '#SBATCH --mail-user=dummy_email@gmail.com',\n",
       " '#SBATCH --mail-type=FAIL',\n",
       " '#SBATCH --nodes=1',\n",
       " '#SBATCH --cpus-per-task=7',\n",
       " 'cd /home/b.lind/code/MVP-offsets/01_src',\n",
       " 'source $HOME/.bashrc',\n",
       " 'conda activate mvp_env',\n",
       " 'python MVP_02_fit_gradient_forests.py 1231768 /work/lotterhos/brandon/ind_runtimes/run_20220919_450-675/00500/slimdir /work/lotterhos/brandon/ind_runtimes/run_20220919_450-675/00500/gradient_forests/training/training_outfiles /home/b.lind/anaconda3/envs/r35/lib/R/bin/Rscript 1 pooled',\n",
       " 'python MVP_03_validate_gradient_forests.py 1231768 /home/b.lind/offsets/run_20220919_450-675/slimdir /work/lotterhos/brandon/ind_runtimes/run_20220919_450-675/00500/gradient_forests 100 pooled']"
      ]
     },
     "execution_count": 17,
     "metadata": {},
     "output_type": "execute_result"
    }
   ],
   "source": [
    "fitting_shfiles = []\n",
    "for (rep, seed), pid in unwrap_dictionary(pids, progress_bar=True):\n",
    "    fitting_shdir = dst_dirs[rep][d_index].replace('training/training_files', 'fitting/fitting_shfiles')\n",
    "    fitting_sh = f'{fitting_shdir}/{seed}_gf_fitting.sh'\n",
    "\n",
    "    text = read(fitting_sh)\n",
    "\n",
    "    assert 'dependency' in text[6]\n",
    "    text[6] = f'#SBATCH --dependency=afterok:{pid[0]}'\n",
    "\n",
    "    with open(fitting_sh, 'w') as o:\n",
    "        o.write('\\n'.join(text))\n",
    "\n",
    "    fitting_shfiles.append(fitting_sh)\n",
    "\n",
    "print(len(fitting_shfiles))\n",
    "\n",
    "text"
   ]
  },
  {
   "cell_type": "code",
   "execution_count": 18,
   "id": "3cbd2ecf",
   "metadata": {},
   "outputs": [
    {
     "name": "stderr",
     "output_type": "stream",
     "text": [
      "sbatching: 100%|███████████████| 675/675 [02:30<00:00,  4.48it/s]\n"
     ]
    }
   ],
   "source": [
    "fitting_pids = sbatch(fitting_shfiles)"
   ]
  },
  {
   "cell_type": "code",
   "execution_count": null,
   "id": "bb038088",
   "metadata": {},
   "outputs": [],
   "source": []
  },
  {
   "cell_type": "markdown",
   "id": "f67eb434",
   "metadata": {},
   "source": [
    "### update job times/mems"
   ]
  },
  {
   "cell_type": "code",
   "execution_count": 19,
   "id": "49239570",
   "metadata": {},
   "outputs": [
    {
     "data": {
      "text/plain": [
       "\u001b[1m\u001b[38;2;128;128;128m🗒️  Queue Summary:\n",
       "\u001b[0m\u001b[0m\n",
       "{'\u001b[4m\u001b[1mlong\u001b[0m\u001b[0m': {'PD': 655, 'R': 20}}"
      ]
     },
     "execution_count": 19,
     "metadata": {},
     "output_type": "execute_result"
    }
   ],
   "source": [
    "sq = Squeue(grepping='train')\n",
    "\n",
    "sq"
   ]
  },
  {
   "cell_type": "code",
   "execution_count": 20,
   "id": "52b848c1",
   "metadata": {},
   "outputs": [
    {
     "data": {
      "text/plain": [
       "\u001b[1m\u001b[38;2;128;128;128m🗒️  Queue Summary:\n",
       "\u001b[0m\u001b[0m\n",
       "{'\u001b[4m\u001b[1mshort\u001b[0m\u001b[0m': {'PD': 675}}"
      ]
     },
     "execution_count": 20,
     "metadata": {},
     "output_type": "execute_result"
    }
   ],
   "source": [
    "Squeue(grepping='fit')"
   ]
  },
  {
   "cell_type": "code",
   "execution_count": 21,
   "id": "1919042c",
   "metadata": {},
   "outputs": [
    {
     "name": "stderr",
     "output_type": "stream",
     "text": [
      "update: 100%|███████████████| 325/325 [00:22<00:00, 14.38it/s]\n"
     ]
    }
   ],
   "source": [
    "Squeue(grepping='train').update(to_partition='short', num_jobs=0.5)"
   ]
  },
  {
   "cell_type": "code",
   "execution_count": null,
   "id": "6e98f8cf",
   "metadata": {},
   "outputs": [],
   "source": [
    "Squeue(grepping='train').update(to_partition='short', num_jobs=0.5)\n",
    "Squeue(grepping='fit').update(to_partition='long', num_jobs=0.5)"
   ]
  },
  {
   "cell_type": "code",
   "execution_count": 22,
   "id": "d92f406b",
   "metadata": {},
   "outputs": [
    {
     "name": "stderr",
     "output_type": "stream",
     "text": [
      "update: 100%|███████████████| 338/338 [00:23<00:00, 14.39it/s]\n"
     ]
    }
   ],
   "source": [
    "Squeue(grepping='fit').update(to_partition='long', num_jobs=0.5)"
   ]
  },
  {
   "cell_type": "code",
   "execution_count": 23,
   "id": "454bcfe0",
   "metadata": {},
   "outputs": [
    {
     "data": {
      "text/plain": [
       "\u001b[1m\u001b[38;2;128;128;128m🗒️  Queue Summary:\n",
       "\u001b[0m\u001b[0m\n",
       "{'\u001b[4m\u001b[1mlong\u001b[0m\u001b[0m': {'PD': 663, 'R': 25},\n",
       " '\u001b[4m\u001b[1mlotterhos\u001b[0m\u001b[0m': {'R': 1},\n",
       " '\u001b[4m\u001b[1mshort\u001b[0m\u001b[0m': {'PD': 612, 'R': 50}}"
      ]
     },
     "execution_count": 23,
     "metadata": {},
     "output_type": "execute_result"
    }
   ],
   "source": [
    "Squeue()"
   ]
  },
  {
   "cell_type": "code",
   "execution_count": 24,
   "id": "db77a520",
   "metadata": {},
   "outputs": [
    {
     "data": {
      "text/plain": [
       "defaultdict(list,\n",
       "            {'run_20220919_0-225': ['/work/lotterhos/brandon/ind_runtimes/run_20220919_0-225/00500/gradient_forests/training/training_files',\n",
       "              '/work/lotterhos/brandon/ind_runtimes/run_20220919_0-225/05000/gradient_forests/training/training_files',\n",
       "              '/work/lotterhos/brandon/ind_runtimes/run_20220919_0-225/10000/gradient_forests/training/training_files',\n",
       "              '/work/lotterhos/brandon/ind_runtimes/run_20220919_0-225/20000/gradient_forests/training/training_files'],\n",
       "             'run_20220919_225-450': ['/work/lotterhos/brandon/ind_runtimes/run_20220919_225-450/00500/gradient_forests/training/training_files',\n",
       "              '/work/lotterhos/brandon/ind_runtimes/run_20220919_225-450/05000/gradient_forests/training/training_files',\n",
       "              '/work/lotterhos/brandon/ind_runtimes/run_20220919_225-450/10000/gradient_forests/training/training_files',\n",
       "              '/work/lotterhos/brandon/ind_runtimes/run_20220919_225-450/20000/gradient_forests/training/training_files'],\n",
       "             'run_20220919_450-675': ['/work/lotterhos/brandon/ind_runtimes/run_20220919_450-675/00500/gradient_forests/training/training_files',\n",
       "              '/work/lotterhos/brandon/ind_runtimes/run_20220919_450-675/05000/gradient_forests/training/training_files',\n",
       "              '/work/lotterhos/brandon/ind_runtimes/run_20220919_450-675/10000/gradient_forests/training/training_files',\n",
       "              '/work/lotterhos/brandon/ind_runtimes/run_20220919_450-675/20000/gradient_forests/training/training_files']})"
      ]
     },
     "execution_count": 24,
     "metadata": {},
     "output_type": "execute_result"
    }
   ],
   "source": [
    "dst_dirs"
   ]
  },
  {
   "cell_type": "code",
   "execution_count": null,
   "id": "a3106cab",
   "metadata": {},
   "outputs": [],
   "source": []
  },
  {
   "cell_type": "markdown",
   "id": "167a8edb",
   "metadata": {},
   "source": [
    "<a id='submit5000'></a>\n",
    "# submit jobs using 5000 loci\n",
    "[top](#home)"
   ]
  },
  {
   "cell_type": "code",
   "execution_count": 1,
   "id": "98ff759b",
   "metadata": {},
   "outputs": [
    {
     "name": "stdout",
     "output_type": "stream",
     "text": [
      "36 36\n",
      "#########################################################\n",
      "Today:\tJanuary 23, 2024 - 08:52:27 EST\n",
      "python version: 3.8.5\n",
      "conda env: mvp_env\n",
      "\n",
      "Current commit of \u001b[1mpythonimports\u001b[0m:\n",
      "\u001b[33mcommit 419895d157c97717f835390196c13cf973d25eba\u001b[m  \n",
      "Merge: e20434f 1e09b6c  \n",
      "Author: Brandon Lind <lind.brandon.m@gmail.com>\n",
      "\n",
      "Current commit of \u001b[94m\u001b[1mMVP_offsets\u001b[0m\u001b[0m:\n",
      "\u001b[33mcommit c5bc403582e5bafc1036be8cd2a4bb0b4d154623\u001b[m  \n",
      "Author: Brandon Lind <lind.brandon.m@gmail.com>  \n",
      "Date:   Mon Dec 18 14:38:19 2023 -0500\n",
      "#########################################################\n",
      "\n"
     ]
    },
    {
     "data": {
      "text/html": [
       "<details>\n",
       "<summary>Click to view session information</summary>\n",
       "<pre>\n",
       "-----\n",
       "MVP_summary_functions       NA\n",
       "balance_queue               NA\n",
       "cartopy                     0.20.2\n",
       "ipyparallel                 7.1.0\n",
       "matplotlib                  3.5.2\n",
       "myclasses                   NA\n",
       "myfigs                      NA\n",
       "mymaps                      NA\n",
       "myslurm                     NA\n",
       "numpy                       1.22.1\n",
       "pandas                      1.3.5\n",
       "pythonimports               NA\n",
       "session_info                1.0.0\n",
       "tqdm                        4.62.1\n",
       "-----\n",
       "</pre>\n",
       "<details>\n",
       "<summary>Click to view modules imported as dependencies</summary>\n",
       "<pre>\n",
       "MVP_01_train_gradient_forests       NA\n",
       "MVP_10_train_lfmm2_offset           NA\n",
       "PIL                                 8.4.0\n",
       "attr                                21.4.0\n",
       "backcall                            0.2.0\n",
       "beta_ufunc                          NA\n",
       "binom_ufunc                         NA\n",
       "bottleneck                          1.3.2\n",
       "certifi                             2023.05.07\n",
       "cffi                                1.15.0\n",
       "cycler                              0.10.0\n",
       "cython_runtime                      NA\n",
       "dateutil                            2.8.2\n",
       "debugpy                             1.5.1\n",
       "decorator                           5.1.1\n",
       "defusedxml                          0.7.1\n",
       "entrypoints                         0.4\n",
       "fiona                               1.9.5\n",
       "fontTools                           4.29.1\n",
       "ipykernel                           6.8.0\n",
       "ipython_genutils                    0.2.0\n",
       "ipywidgets                          7.6.5\n",
       "jedi                                0.18.1\n",
       "kiwisolver                          1.3.2\n",
       "matplotlib_venn                     0.11.6\n",
       "mpl_toolkits                        NA\n",
       "nbinom_ufunc                        NA\n",
       "numexpr                             2.8.1\n",
       "packaging                           21.3\n",
       "parso                               0.8.3\n",
       "patsy                               0.5.2\n",
       "pdf2image                           NA\n",
       "pexpect                             4.8.0\n",
       "pickleshare                         0.7.5\n",
       "pkg_resources                       NA\n",
       "prompt_toolkit                      3.0.26\n",
       "psutil                              5.9.0\n",
       "ptyprocess                          0.7.0\n",
       "pydev_ipython                       NA\n",
       "pydevconsole                        NA\n",
       "pydevd                              2.6.0\n",
       "pydevd_concurrency_analyser         NA\n",
       "pydevd_file_utils                   NA\n",
       "pydevd_plugins                      NA\n",
       "pydevd_tracing                      NA\n",
       "pygments                            2.11.2\n",
       "pyparsing                           3.0.7\n",
       "pyproj                              3.3.0\n",
       "pytz                                2021.3\n",
       "scipy                               1.7.3\n",
       "seaborn                             0.11.2\n",
       "setuptools                          60.7.1\n",
       "shapefile                           2.2.0\n",
       "shapely                             1.8.0\n",
       "six                                 1.16.0\n",
       "statsmodels                         0.14.0\n",
       "storemagic                          NA\n",
       "tornado                             6.1\n",
       "traitlets                           5.1.1\n",
       "wcwidth                             0.2.5\n",
       "zmq                                 22.3.0\n",
       "</pre>\n",
       "</details> <!-- seems like this ends pre, so might as well be explicit -->\n",
       "<pre>\n",
       "-----\n",
       "IPython             7.31.1\n",
       "jupyter_client      7.1.2\n",
       "jupyter_core        4.9.1\n",
       "notebook            6.4.8\n",
       "-----\n",
       "Python 3.8.5 (default, Sep  4 2020, 07:30:14) [GCC 7.3.0]\n",
       "Linux-3.10.0-1160.25.1.el7.x86_64-x86_64-with-glibc2.10\n",
       "-----\n",
       "Session information updated at 2024-01-23 08:52\n",
       "</pre>\n",
       "</details>"
      ],
      "text/plain": [
       "<IPython.core.display.HTML object>"
      ]
     },
     "execution_count": 1,
     "metadata": {},
     "output_type": "execute_result"
    }
   ],
   "source": [
    "from pythonimports import *\n",
    "\n",
    "import MVP_summary_functions as mvp\n",
    "\n",
    "lview, dview = get_client(cluster_id='1706017763-opoj', profile='lotterhos')\n",
    "\n",
    "outerdir = '/work/lotterhos/brandon/ind_runtimes'\n",
    "\n",
    "mvp.latest_commit()\n",
    "session_info.show()"
   ]
  },
  {
   "cell_type": "code",
   "execution_count": 2,
   "id": "b418c397",
   "metadata": {},
   "outputs": [],
   "source": [
    "dst_dirs = defaultdict(list,\n",
    "            {'run_20220919_0-225': ['/work/lotterhos/brandon/ind_runtimes/run_20220919_0-225/00500/gradient_forests/training/training_files',\n",
    "              '/work/lotterhos/brandon/ind_runtimes/run_20220919_0-225/05000/gradient_forests/training/training_files',\n",
    "              '/work/lotterhos/brandon/ind_runtimes/run_20220919_0-225/10000/gradient_forests/training/training_files',\n",
    "              '/work/lotterhos/brandon/ind_runtimes/run_20220919_0-225/20000/gradient_forests/training/training_files'],\n",
    "             'run_20220919_225-450': ['/work/lotterhos/brandon/ind_runtimes/run_20220919_225-450/00500/gradient_forests/training/training_files',\n",
    "              '/work/lotterhos/brandon/ind_runtimes/run_20220919_225-450/05000/gradient_forests/training/training_files',\n",
    "              '/work/lotterhos/brandon/ind_runtimes/run_20220919_225-450/10000/gradient_forests/training/training_files',\n",
    "              '/work/lotterhos/brandon/ind_runtimes/run_20220919_225-450/20000/gradient_forests/training/training_files'],\n",
    "             'run_20220919_450-675': ['/work/lotterhos/brandon/ind_runtimes/run_20220919_450-675/00500/gradient_forests/training/training_files',\n",
    "              '/work/lotterhos/brandon/ind_runtimes/run_20220919_450-675/05000/gradient_forests/training/training_files',\n",
    "              '/work/lotterhos/brandon/ind_runtimes/run_20220919_450-675/10000/gradient_forests/training/training_files',\n",
    "              '/work/lotterhos/brandon/ind_runtimes/run_20220919_450-675/20000/gradient_forests/training/training_files']})"
   ]
  },
  {
   "cell_type": "code",
   "execution_count": 5,
   "id": "bf1e1f5c",
   "metadata": {},
   "outputs": [
    {
     "name": "stdout",
     "output_type": "stream",
     "text": [
      "/work/lotterhos/brandon/ind_runtimes/run_20220919_0-225/05000/gradient_forests/training/training_files\n",
      "/work/lotterhos/brandon/ind_runtimes/run_20220919_225-450/05000/gradient_forests/training/training_files\n",
      "/work/lotterhos/brandon/ind_runtimes/run_20220919_450-675/05000/gradient_forests/training/training_files\n"
     ]
    }
   ],
   "source": [
    "d_index = 1  # which dir I'm submitting\n",
    "\n",
    "jobnames =[]\n",
    "pids = defaultdict(dict)\n",
    "for rep, repdirs in dst_dirs.items():\n",
    "    print(repdirs[d_index])"
   ]
  },
  {
   "cell_type": "code",
   "execution_count": 6,
   "id": "d2d5700a",
   "metadata": {},
   "outputs": [
    {
     "name": "stderr",
     "output_type": "stream",
     "text": [
      "run_20220919_0-225: 100%|███████████████| 225/225 [00:30<00:00,  7.43it/s]\n",
      "run_20220919_225-450: 100%|███████████████| 225/225 [00:36<00:00,  6.20it/s]\n",
      "run_20220919_450-675: 100%|███████████████| 225/225 [00:40<00:00,  5.61it/s]\n"
     ]
    },
    {
     "data": {
      "text/plain": [
       "(675, 675)"
      ]
     },
     "execution_count": 6,
     "metadata": {},
     "output_type": "execute_result"
    }
   ],
   "source": [
    "jobnames =[]\n",
    "pids = defaultdict(dict)\n",
    "for rep, repdirs in dst_dirs.items():\n",
    "    sh_dir = repdirs[d_index].replace('training_files', 'training_shfiles')\n",
    "    \n",
    "    shfiles = fs(sh_dir, endswith='.sh', exclude='watcher')\n",
    "    \n",
    "    assert len(shfiles) == 225\n",
    "    \n",
    "    for sh in pbar(shfiles, desc=rep):\n",
    "        jobnames.append(op.basename(sh))\n",
    "        seed = op.basename(sh).split(\"_\")[0]\n",
    "        pids[rep][seed] = sbatch(sh, progress_bar=False)\n",
    "\n",
    "luni(jobnames), len(jobnames)"
   ]
  },
  {
   "cell_type": "code",
   "execution_count": 7,
   "id": "18ac8e87",
   "metadata": {},
   "outputs": [
    {
     "name": "stderr",
     "output_type": "stream",
     "text": [
      "100%|███████████████| 3/3 [00:03<00:00,  1.29s/it]"
     ]
    },
    {
     "name": "stdout",
     "output_type": "stream",
     "text": [
      "675\n"
     ]
    },
    {
     "name": "stderr",
     "output_type": "stream",
     "text": [
      "\n"
     ]
    },
    {
     "data": {
      "text/plain": [
       "['#!/bin/bash',\n",
       " '#SBATCH --job-name=1231768_gf_fitting',\n",
       " '#SBATCH --time=1-00:00:00',\n",
       " '#SBATCH --ntasks=1',\n",
       " '#SBATCH --mem=300000M',\n",
       " '#SBATCH --output=1231768_gf_fitting_%j.out',\n",
       " '#SBATCH --dependency=afterok:40446486',\n",
       " '#SBATCH --mail-user=dummy_email@gmail.com',\n",
       " '#SBATCH --mail-type=FAIL',\n",
       " '#SBATCH --nodes=1',\n",
       " '#SBATCH --cpus-per-task=7',\n",
       " 'cd /home/b.lind/code/MVP-offsets/01_src',\n",
       " 'source $HOME/.bashrc',\n",
       " 'conda activate mvp_env',\n",
       " 'python MVP_02_fit_gradient_forests.py 1231768 /work/lotterhos/brandon/ind_runtimes/run_20220919_450-675/05000/slimdir /work/lotterhos/brandon/ind_runtimes/run_20220919_450-675/05000/gradient_forests/training/training_outfiles /home/b.lind/anaconda3/envs/r35/lib/R/bin/Rscript 1 pooled',\n",
       " 'python MVP_03_validate_gradient_forests.py 1231768 /home/b.lind/offsets/run_20220919_450-675/slimdir /work/lotterhos/brandon/ind_runtimes/run_20220919_450-675/05000/gradient_forests 100 pooled']"
      ]
     },
     "execution_count": 7,
     "metadata": {},
     "output_type": "execute_result"
    }
   ],
   "source": [
    "fitting_shfiles = []\n",
    "for (rep, seed), pid in unwrap_dictionary(pids, progress_bar=True):\n",
    "    fitting_shdir = dst_dirs[rep][d_index].replace('training/training_files', 'fitting/fitting_shfiles')\n",
    "    fitting_sh = f'{fitting_shdir}/{seed}_gf_fitting.sh'\n",
    "\n",
    "    text = read(fitting_sh)\n",
    "\n",
    "    assert 'dependency' in text[6]\n",
    "    text[6] = f'#SBATCH --dependency=afterok:{pid[0]}'\n",
    "\n",
    "    with open(fitting_sh, 'w') as o:\n",
    "        o.write('\\n'.join(text))\n",
    "\n",
    "    fitting_shfiles.append(fitting_sh)\n",
    "\n",
    "print(len(fitting_shfiles))\n",
    "\n",
    "text"
   ]
  },
  {
   "cell_type": "code",
   "execution_count": 8,
   "id": "33a37bfd",
   "metadata": {},
   "outputs": [
    {
     "name": "stderr",
     "output_type": "stream",
     "text": [
      "sbatching:  74%|███████████    | 497/675 [01:44<00:39,  4.49it/s]\n",
      "scancel: 100%|███████████████| 1/1 [00:00<00:00, 15.52it/s]\n",
      "sbatching: 100%|███████████████| 675/675 [02:26<00:00,  4.62it/s]\n"
     ]
    }
   ],
   "source": [
    "fitting_pids = sbatch(fitting_shfiles)  # one cancelled because previous job still in queue (1231591_gf_fitting)"
   ]
  },
  {
   "cell_type": "code",
   "execution_count": null,
   "id": "69af3778",
   "metadata": {},
   "outputs": [],
   "source": []
  },
  {
   "cell_type": "code",
   "execution_count": 9,
   "id": "6e4e708f",
   "metadata": {},
   "outputs": [
    {
     "name": "stderr",
     "output_type": "stream",
     "text": [
      "update: 100%|███████████████| 326/326 [00:20<00:00, 16.18it/s]\n"
     ]
    }
   ],
   "source": [
    "Squeue(grepping='train').update(to_partition='short', num_jobs=0.5)"
   ]
  },
  {
   "cell_type": "code",
   "execution_count": 10,
   "id": "8f985fed",
   "metadata": {},
   "outputs": [
    {
     "name": "stderr",
     "output_type": "stream",
     "text": [
      "update: 100%|███████████████| 337/337 [00:20<00:00, 16.30it/s]\n"
     ]
    }
   ],
   "source": [
    "Squeue(grepping='fit').update(to_partition='long', num_jobs=0.5)"
   ]
  },
  {
   "cell_type": "code",
   "execution_count": 11,
   "id": "f8489bcc",
   "metadata": {},
   "outputs": [
    {
     "data": {
      "text/plain": [
       "\u001b[1m\u001b[38;2;128;128;128m🗒️  Queue Summary:\n",
       "\u001b[0m\u001b[0m\n",
       "{'\u001b[4m\u001b[1mlong\u001b[0m\u001b[0m': {'PD': 662, 'R': 25},\n",
       " '\u001b[4m\u001b[1mlotterhos\u001b[0m\u001b[0m': {'R': 1},\n",
       " '\u001b[4m\u001b[1mshort\u001b[0m\u001b[0m': {'PD': 613, 'R': 50}}"
      ]
     },
     "execution_count": 11,
     "metadata": {},
     "output_type": "execute_result"
    }
   ],
   "source": [
    "Squeue()"
   ]
  },
  {
   "cell_type": "code",
   "execution_count": null,
   "id": "f548595d",
   "metadata": {},
   "outputs": [],
   "source": []
  },
  {
   "cell_type": "code",
   "execution_count": null,
   "id": "c2be93c8",
   "metadata": {},
   "outputs": [],
   "source": []
  },
  {
   "cell_type": "markdown",
   "id": "b3039a77",
   "metadata": {},
   "source": [
    "<a id='submit10k'></a>\n",
    "# submit jobs using 10000 loci\n",
    "\n",
    "[top](#home)"
   ]
  },
  {
   "cell_type": "code",
   "execution_count": 1,
   "id": "030da773",
   "metadata": {},
   "outputs": [
    {
     "name": "stdout",
     "output_type": "stream",
     "text": [
      "8 8\n",
      "#########################################################\n",
      "Today:\tJanuary 25, 2024 - 08:56:51 EST\n",
      "python version: 3.8.5\n",
      "conda env: mvp_env\n",
      "\n",
      "Current commit of \u001b[1mpythonimports\u001b[0m:\n",
      "\u001b[33mcommit 419895d157c97717f835390196c13cf973d25eba\u001b[m  \n",
      "Merge: e20434f 1e09b6c  \n",
      "Author: Brandon Lind <lind.brandon.m@gmail.com>\n",
      "\n",
      "Current commit of \u001b[94m\u001b[1mMVP_offsets\u001b[0m\u001b[0m:\n",
      "\u001b[33mcommit c5bc403582e5bafc1036be8cd2a4bb0b4d154623\u001b[m  \n",
      "Author: Brandon Lind <lind.brandon.m@gmail.com>  \n",
      "Date:   Mon Dec 18 14:38:19 2023 -0500\n",
      "#########################################################\n",
      "\n"
     ]
    },
    {
     "data": {
      "text/html": [
       "<details>\n",
       "<summary>Click to view session information</summary>\n",
       "<pre>\n",
       "-----\n",
       "MVP_summary_functions       NA\n",
       "balance_queue               NA\n",
       "cartopy                     0.20.2\n",
       "ipyparallel                 7.1.0\n",
       "matplotlib                  3.5.2\n",
       "myclasses                   NA\n",
       "myfigs                      NA\n",
       "mymaps                      NA\n",
       "myslurm                     NA\n",
       "numpy                       1.22.1\n",
       "pandas                      1.3.5\n",
       "pythonimports               NA\n",
       "session_info                1.0.0\n",
       "tqdm                        4.62.1\n",
       "-----\n",
       "</pre>\n",
       "<details>\n",
       "<summary>Click to view modules imported as dependencies</summary>\n",
       "<pre>\n",
       "MVP_01_train_gradient_forests       NA\n",
       "MVP_10_train_lfmm2_offset           NA\n",
       "PIL                                 8.4.0\n",
       "attr                                21.4.0\n",
       "backcall                            0.2.0\n",
       "beta_ufunc                          NA\n",
       "binom_ufunc                         NA\n",
       "bottleneck                          1.3.2\n",
       "certifi                             2023.05.07\n",
       "cffi                                1.15.0\n",
       "cycler                              0.10.0\n",
       "cython_runtime                      NA\n",
       "dateutil                            2.8.2\n",
       "debugpy                             1.5.1\n",
       "decorator                           5.1.1\n",
       "defusedxml                          0.7.1\n",
       "entrypoints                         0.4\n",
       "fiona                               1.9.5\n",
       "fontTools                           4.29.1\n",
       "ipykernel                           6.8.0\n",
       "ipython_genutils                    0.2.0\n",
       "ipywidgets                          7.6.5\n",
       "jedi                                0.18.1\n",
       "kiwisolver                          1.3.2\n",
       "matplotlib_venn                     0.11.6\n",
       "mpl_toolkits                        NA\n",
       "nbinom_ufunc                        NA\n",
       "numexpr                             2.8.1\n",
       "packaging                           21.3\n",
       "parso                               0.8.3\n",
       "patsy                               0.5.2\n",
       "pdf2image                           NA\n",
       "pexpect                             4.8.0\n",
       "pickleshare                         0.7.5\n",
       "pkg_resources                       NA\n",
       "prompt_toolkit                      3.0.26\n",
       "psutil                              5.9.0\n",
       "ptyprocess                          0.7.0\n",
       "pydev_ipython                       NA\n",
       "pydevconsole                        NA\n",
       "pydevd                              2.6.0\n",
       "pydevd_concurrency_analyser         NA\n",
       "pydevd_file_utils                   NA\n",
       "pydevd_plugins                      NA\n",
       "pydevd_tracing                      NA\n",
       "pygments                            2.11.2\n",
       "pyparsing                           3.0.7\n",
       "pyproj                              3.3.0\n",
       "pytz                                2021.3\n",
       "scipy                               1.7.3\n",
       "seaborn                             0.11.2\n",
       "setuptools                          60.7.1\n",
       "shapefile                           2.2.0\n",
       "shapely                             1.8.0\n",
       "six                                 1.16.0\n",
       "statsmodels                         0.14.0\n",
       "storemagic                          NA\n",
       "tornado                             6.1\n",
       "traitlets                           5.1.1\n",
       "wcwidth                             0.2.5\n",
       "zmq                                 22.3.0\n",
       "</pre>\n",
       "</details> <!-- seems like this ends pre, so might as well be explicit -->\n",
       "<pre>\n",
       "-----\n",
       "IPython             7.31.1\n",
       "jupyter_client      7.1.2\n",
       "jupyter_core        4.9.1\n",
       "notebook            6.4.8\n",
       "-----\n",
       "Python 3.8.5 (default, Sep  4 2020, 07:30:14) [GCC 7.3.0]\n",
       "Linux-3.10.0-1160.25.1.el7.x86_64-x86_64-with-glibc2.10\n",
       "-----\n",
       "Session information updated at 2024-01-25 08:56\n",
       "</pre>\n",
       "</details>"
      ],
      "text/plain": [
       "<IPython.core.display.HTML object>"
      ]
     },
     "execution_count": 1,
     "metadata": {},
     "output_type": "execute_result"
    }
   ],
   "source": [
    "from pythonimports import *\n",
    "\n",
    "import MVP_summary_functions as mvp\n",
    "\n",
    "lview, dview = get_client(cluster_id='1706191002-fj53', profile='lotterhos')\n",
    "\n",
    "outerdir = '/work/lotterhos/brandon/ind_runtimes'\n",
    "\n",
    "mvp.latest_commit()\n",
    "session_info.show()"
   ]
  },
  {
   "cell_type": "code",
   "execution_count": 2,
   "id": "bda04e82",
   "metadata": {},
   "outputs": [],
   "source": [
    "dst_dirs = defaultdict(list,\n",
    "            {'run_20220919_0-225': ['/work/lotterhos/brandon/ind_runtimes/run_20220919_0-225/00500/gradient_forests/training/training_files',\n",
    "              '/work/lotterhos/brandon/ind_runtimes/run_20220919_0-225/05000/gradient_forests/training/training_files',\n",
    "              '/work/lotterhos/brandon/ind_runtimes/run_20220919_0-225/10000/gradient_forests/training/training_files',\n",
    "              '/work/lotterhos/brandon/ind_runtimes/run_20220919_0-225/20000/gradient_forests/training/training_files'],\n",
    "             'run_20220919_225-450': ['/work/lotterhos/brandon/ind_runtimes/run_20220919_225-450/00500/gradient_forests/training/training_files',\n",
    "              '/work/lotterhos/brandon/ind_runtimes/run_20220919_225-450/05000/gradient_forests/training/training_files',\n",
    "              '/work/lotterhos/brandon/ind_runtimes/run_20220919_225-450/10000/gradient_forests/training/training_files',\n",
    "              '/work/lotterhos/brandon/ind_runtimes/run_20220919_225-450/20000/gradient_forests/training/training_files'],\n",
    "             'run_20220919_450-675': ['/work/lotterhos/brandon/ind_runtimes/run_20220919_450-675/00500/gradient_forests/training/training_files',\n",
    "              '/work/lotterhos/brandon/ind_runtimes/run_20220919_450-675/05000/gradient_forests/training/training_files',\n",
    "              '/work/lotterhos/brandon/ind_runtimes/run_20220919_450-675/10000/gradient_forests/training/training_files',\n",
    "              '/work/lotterhos/brandon/ind_runtimes/run_20220919_450-675/20000/gradient_forests/training/training_files']})"
   ]
  },
  {
   "cell_type": "code",
   "execution_count": 3,
   "id": "c30d1250",
   "metadata": {},
   "outputs": [
    {
     "name": "stdout",
     "output_type": "stream",
     "text": [
      "/work/lotterhos/brandon/ind_runtimes/run_20220919_0-225/10000/gradient_forests/training/training_files\n",
      "/work/lotterhos/brandon/ind_runtimes/run_20220919_225-450/10000/gradient_forests/training/training_files\n",
      "/work/lotterhos/brandon/ind_runtimes/run_20220919_450-675/10000/gradient_forests/training/training_files\n"
     ]
    }
   ],
   "source": [
    "d_index = 2  # which dir I'm submitting\n",
    "\n",
    "jobnames =[]\n",
    "pids = defaultdict(dict)\n",
    "for rep, repdirs in dst_dirs.items():\n",
    "    print(repdirs[d_index])"
   ]
  },
  {
   "cell_type": "code",
   "execution_count": 4,
   "id": "835074d6",
   "metadata": {},
   "outputs": [
    {
     "name": "stderr",
     "output_type": "stream",
     "text": [
      "run_20220919_0-225: 100%|███████████████| 225/225 [00:31<00:00,  7.10it/s]\n",
      "run_20220919_225-450: 100%|███████████████| 225/225 [00:36<00:00,  6.09it/s]\n",
      "run_20220919_450-675: 100%|███████████████| 225/225 [00:40<00:00,  5.50it/s]\n"
     ]
    },
    {
     "data": {
      "text/plain": [
       "(675, 675)"
      ]
     },
     "execution_count": 4,
     "metadata": {},
     "output_type": "execute_result"
    }
   ],
   "source": [
    "jobnames =[]\n",
    "pids = defaultdict(dict)\n",
    "for rep, repdirs in dst_dirs.items():\n",
    "    sh_dir = repdirs[d_index].replace('training_files', 'training_shfiles')\n",
    "    \n",
    "    shfiles = fs(sh_dir, endswith='.sh', exclude='watcher')\n",
    "    \n",
    "    assert len(shfiles) == 225\n",
    "    \n",
    "    for sh in pbar(shfiles, desc=rep):\n",
    "        jobnames.append(op.basename(sh))\n",
    "        seed = op.basename(sh).split(\"_\")[0]\n",
    "        pids[rep][seed] = sbatch(sh, progress_bar=False)\n",
    "\n",
    "luni(jobnames), len(jobnames)"
   ]
  },
  {
   "cell_type": "code",
   "execution_count": 6,
   "id": "3bc5c2de",
   "metadata": {},
   "outputs": [
    {
     "name": "stderr",
     "output_type": "stream",
     "text": [
      "100%|███████████████| 3/3 [00:02<00:00,  1.11it/s]"
     ]
    },
    {
     "name": "stdout",
     "output_type": "stream",
     "text": [
      "675\n"
     ]
    },
    {
     "name": "stderr",
     "output_type": "stream",
     "text": [
      "\n"
     ]
    },
    {
     "data": {
      "text/plain": [
       "['#!/bin/bash',\n",
       " '#SBATCH --job-name=1231768_gf_fitting',\n",
       " '#SBATCH --time=1-00:00:00',\n",
       " '#SBATCH --ntasks=1',\n",
       " '#SBATCH --mem=300000M',\n",
       " '#SBATCH --output=1231768_gf_fitting_%j.out',\n",
       " '#SBATCH --dependency=afterok:40475630',\n",
       " '#SBATCH --mail-user=dummy_email@gmail.com',\n",
       " '#SBATCH --mail-type=FAIL',\n",
       " '#SBATCH --nodes=1',\n",
       " '#SBATCH --cpus-per-task=7',\n",
       " 'cd /home/b.lind/code/MVP-offsets/01_src',\n",
       " 'source $HOME/.bashrc',\n",
       " 'conda activate mvp_env',\n",
       " 'python MVP_02_fit_gradient_forests.py 1231768 /work/lotterhos/brandon/ind_runtimes/run_20220919_450-675/10000/slimdir /work/lotterhos/brandon/ind_runtimes/run_20220919_450-675/10000/gradient_forests/training/training_outfiles /home/b.lind/anaconda3/envs/r35/lib/R/bin/Rscript 1 pooled',\n",
       " 'python MVP_03_validate_gradient_forests.py 1231768 /home/b.lind/offsets/run_20220919_450-675/slimdir /work/lotterhos/brandon/ind_runtimes/run_20220919_450-675/10000/gradient_forests 100 pooled']"
      ]
     },
     "execution_count": 6,
     "metadata": {},
     "output_type": "execute_result"
    }
   ],
   "source": [
    "fitting_shfiles = []\n",
    "for (rep, seed), pid in unwrap_dictionary(pids, progress_bar=True):\n",
    "    fitting_shdir = dst_dirs[rep][d_index].replace('training/training_files', 'fitting/fitting_shfiles')\n",
    "    fitting_sh = f'{fitting_shdir}/{seed}_gf_fitting.sh'\n",
    "\n",
    "    text = read(fitting_sh)\n",
    "\n",
    "    assert 'dependency' in text[6]\n",
    "    text[6] = f'#SBATCH --dependency=afterok:{pid[0]}'\n",
    "\n",
    "    with open(fitting_sh, 'w') as o:\n",
    "        o.write('\\n'.join(text))\n",
    "\n",
    "    fitting_shfiles.append(fitting_sh)\n",
    "\n",
    "print(len(fitting_shfiles))\n",
    "\n",
    "text"
   ]
  },
  {
   "cell_type": "code",
   "execution_count": null,
   "id": "5887f58c",
   "metadata": {},
   "outputs": [],
   "source": []
  },
  {
   "cell_type": "code",
   "execution_count": 7,
   "id": "3f1e8440",
   "metadata": {},
   "outputs": [
    {
     "name": "stderr",
     "output_type": "stream",
     "text": [
      "sbatching: 100%|███████████████| 675/675 [02:25<00:00,  4.63it/s]\n"
     ]
    }
   ],
   "source": [
    "fitting_pids = sbatch(fitting_shfiles)"
   ]
  },
  {
   "cell_type": "code",
   "execution_count": null,
   "id": "f0ae0825",
   "metadata": {},
   "outputs": [],
   "source": []
  },
  {
   "cell_type": "code",
   "execution_count": 8,
   "id": "c25d59cf",
   "metadata": {},
   "outputs": [
    {
     "name": "stderr",
     "output_type": "stream",
     "text": [
      "update: 100%|███████████████| 325/325 [00:19<00:00, 16.35it/s]\n",
      "update: 100%|███████████████| 338/338 [00:20<00:00, 16.70it/s]\n"
     ]
    },
    {
     "data": {
      "text/plain": [
       "\u001b[1m\u001b[38;2;128;128;128m🗒️  Queue Summary:\n",
       "\u001b[0m\u001b[0m\n",
       "{'\u001b[4m\u001b[1mlong\u001b[0m\u001b[0m': {'PD': 663, 'R': 25},\n",
       " '\u001b[4m\u001b[1mlotterhos\u001b[0m\u001b[0m': {'R': 1},\n",
       " '\u001b[4m\u001b[1mshort\u001b[0m\u001b[0m': {'PD': 657, 'R': 5}}"
      ]
     },
     "execution_count": 8,
     "metadata": {},
     "output_type": "execute_result"
    }
   ],
   "source": [
    "Squeue(grepping='train').update(to_partition='short', num_jobs=0.5)\n",
    "\n",
    "Squeue(grepping='fit').update(to_partition='long', num_jobs=0.5)\n",
    "\n",
    "Squeue()"
   ]
  },
  {
   "cell_type": "code",
   "execution_count": 12,
   "id": "bc6a62cd",
   "metadata": {},
   "outputs": [
    {
     "data": {
      "text/plain": [
       "1351"
      ]
     },
     "execution_count": 12,
     "metadata": {},
     "output_type": "execute_result"
    }
   ],
   "source": [
    "len(Squeue())"
   ]
  },
  {
   "cell_type": "code",
   "execution_count": 13,
   "id": "c493c5d3",
   "metadata": {},
   "outputs": [
    {
     "data": {
      "text/plain": [
       "1350"
      ]
     },
     "execution_count": 13,
     "metadata": {},
     "output_type": "execute_result"
    }
   ],
   "source": [
    "675*2"
   ]
  },
  {
   "cell_type": "code",
   "execution_count": null,
   "id": "40734a56",
   "metadata": {},
   "outputs": [],
   "source": []
  },
  {
   "cell_type": "markdown",
   "id": "02ce0892",
   "metadata": {},
   "source": [
    "<a id='submit20k'></a>\n",
    "# submit jobs using 20000 loci\n",
    "[top](#home)"
   ]
  },
  {
   "cell_type": "code",
   "execution_count": 1,
   "id": "3cf84098",
   "metadata": {},
   "outputs": [
    {
     "name": "stdout",
     "output_type": "stream",
     "text": [
      "36 36\n",
      "#########################################################\n",
      "Today:\tFebruary 02, 2024 - 10:04:21 EST\n",
      "python version: 3.8.5\n",
      "conda env: mvp_env\n",
      "\n",
      "Current commit of \u001b[1mpythonimports\u001b[0m:\n",
      "\u001b[33mcommit 419895d157c97717f835390196c13cf973d25eba\u001b[m  \n",
      "Merge: e20434f 1e09b6c  \n",
      "Author: Brandon Lind <lind.brandon.m@gmail.com>\n",
      "\n",
      "Current commit of \u001b[94m\u001b[1mMVP_offsets\u001b[0m\u001b[0m:\n",
      "\u001b[33mcommit c0df4e9120d165dc9d594d671de5ec99887e874d\u001b[m  \n",
      "Author: Brandon Lind <lind.brandon.m@gmail.com>  \n",
      "Date:   Mon Jan 29 20:40:49 2024 -0500\n",
      "#########################################################\n",
      "\n"
     ]
    },
    {
     "data": {
      "text/html": [
       "<details>\n",
       "<summary>Click to view session information</summary>\n",
       "<pre>\n",
       "-----\n",
       "MVP_summary_functions       NA\n",
       "balance_queue               NA\n",
       "cartopy                     0.20.2\n",
       "ipyparallel                 7.1.0\n",
       "matplotlib                  3.5.2\n",
       "myclasses                   NA\n",
       "myfigs                      NA\n",
       "mymaps                      NA\n",
       "myslurm                     NA\n",
       "numpy                       1.22.1\n",
       "pandas                      1.3.5\n",
       "pythonimports               NA\n",
       "session_info                1.0.0\n",
       "tqdm                        4.62.1\n",
       "-----\n",
       "</pre>\n",
       "<details>\n",
       "<summary>Click to view modules imported as dependencies</summary>\n",
       "<pre>\n",
       "MVP_01_train_gradient_forests       NA\n",
       "MVP_10_train_lfmm2_offset           NA\n",
       "PIL                                 8.4.0\n",
       "attr                                21.4.0\n",
       "backcall                            0.2.0\n",
       "beta_ufunc                          NA\n",
       "binom_ufunc                         NA\n",
       "bottleneck                          1.3.2\n",
       "certifi                             2023.05.07\n",
       "cffi                                1.15.0\n",
       "cycler                              0.10.0\n",
       "cython_runtime                      NA\n",
       "dateutil                            2.8.2\n",
       "debugpy                             1.5.1\n",
       "decorator                           5.1.1\n",
       "defusedxml                          0.7.1\n",
       "entrypoints                         0.4\n",
       "fiona                               1.9.5\n",
       "fontTools                           4.29.1\n",
       "ipykernel                           6.8.0\n",
       "ipython_genutils                    0.2.0\n",
       "ipywidgets                          7.6.5\n",
       "jedi                                0.18.1\n",
       "kiwisolver                          1.3.2\n",
       "matplotlib_venn                     0.11.6\n",
       "mpl_toolkits                        NA\n",
       "nbinom_ufunc                        NA\n",
       "numexpr                             2.8.1\n",
       "packaging                           21.3\n",
       "parso                               0.8.3\n",
       "patsy                               0.5.2\n",
       "pdf2image                           NA\n",
       "pexpect                             4.8.0\n",
       "pickleshare                         0.7.5\n",
       "pkg_resources                       NA\n",
       "prompt_toolkit                      3.0.26\n",
       "psutil                              5.9.0\n",
       "ptyprocess                          0.7.0\n",
       "pydev_ipython                       NA\n",
       "pydevconsole                        NA\n",
       "pydevd                              2.6.0\n",
       "pydevd_concurrency_analyser         NA\n",
       "pydevd_file_utils                   NA\n",
       "pydevd_plugins                      NA\n",
       "pydevd_tracing                      NA\n",
       "pygments                            2.11.2\n",
       "pyparsing                           3.0.7\n",
       "pyproj                              3.3.0\n",
       "pytz                                2021.3\n",
       "scipy                               1.7.3\n",
       "seaborn                             0.11.2\n",
       "setuptools                          60.7.1\n",
       "shapefile                           2.2.0\n",
       "shapely                             1.8.0\n",
       "six                                 1.16.0\n",
       "statsmodels                         0.14.0\n",
       "storemagic                          NA\n",
       "tornado                             6.1\n",
       "traitlets                           5.1.1\n",
       "wcwidth                             0.2.5\n",
       "zmq                                 22.3.0\n",
       "</pre>\n",
       "</details> <!-- seems like this ends pre, so might as well be explicit -->\n",
       "<pre>\n",
       "-----\n",
       "IPython             7.31.1\n",
       "jupyter_client      7.1.2\n",
       "jupyter_core        4.9.1\n",
       "notebook            6.4.8\n",
       "-----\n",
       "Python 3.8.5 (default, Sep  4 2020, 07:30:14) [GCC 7.3.0]\n",
       "Linux-3.10.0-1160.25.1.el7.x86_64-x86_64-with-glibc2.10\n",
       "-----\n",
       "Session information updated at 2024-02-02 10:04\n",
       "</pre>\n",
       "</details>"
      ],
      "text/plain": [
       "<IPython.core.display.HTML object>"
      ]
     },
     "execution_count": 1,
     "metadata": {},
     "output_type": "execute_result"
    }
   ],
   "source": [
    "from pythonimports import *\n",
    "\n",
    "import MVP_summary_functions as mvp\n",
    "\n",
    "lview, dview = get_client(cluster_id='1706883711-ub9x', profile='lotterhos')\n",
    "\n",
    "outerdir = '/work/lotterhos/brandon/ind_runtimes'\n",
    "\n",
    "mvp.latest_commit()\n",
    "session_info.show()"
   ]
  },
  {
   "cell_type": "code",
   "execution_count": 2,
   "id": "4270ba5d",
   "metadata": {},
   "outputs": [],
   "source": [
    "dst_dirs = defaultdict(list,\n",
    "            {'run_20220919_0-225': ['/work/lotterhos/brandon/ind_runtimes/run_20220919_0-225/00500/gradient_forests/training/training_files',\n",
    "              '/work/lotterhos/brandon/ind_runtimes/run_20220919_0-225/05000/gradient_forests/training/training_files',\n",
    "              '/work/lotterhos/brandon/ind_runtimes/run_20220919_0-225/10000/gradient_forests/training/training_files',\n",
    "              '/work/lotterhos/brandon/ind_runtimes/run_20220919_0-225/20000/gradient_forests/training/training_files'],\n",
    "             'run_20220919_225-450': ['/work/lotterhos/brandon/ind_runtimes/run_20220919_225-450/00500/gradient_forests/training/training_files',\n",
    "              '/work/lotterhos/brandon/ind_runtimes/run_20220919_225-450/05000/gradient_forests/training/training_files',\n",
    "              '/work/lotterhos/brandon/ind_runtimes/run_20220919_225-450/10000/gradient_forests/training/training_files',\n",
    "              '/work/lotterhos/brandon/ind_runtimes/run_20220919_225-450/20000/gradient_forests/training/training_files'],\n",
    "             'run_20220919_450-675': ['/work/lotterhos/brandon/ind_runtimes/run_20220919_450-675/00500/gradient_forests/training/training_files',\n",
    "              '/work/lotterhos/brandon/ind_runtimes/run_20220919_450-675/05000/gradient_forests/training/training_files',\n",
    "              '/work/lotterhos/brandon/ind_runtimes/run_20220919_450-675/10000/gradient_forests/training/training_files',\n",
    "              '/work/lotterhos/brandon/ind_runtimes/run_20220919_450-675/20000/gradient_forests/training/training_files']})"
   ]
  },
  {
   "cell_type": "code",
   "execution_count": 3,
   "id": "6db49387",
   "metadata": {},
   "outputs": [
    {
     "name": "stdout",
     "output_type": "stream",
     "text": [
      "/work/lotterhos/brandon/ind_runtimes/run_20220919_0-225/20000/gradient_forests/training/training_files\n",
      "/work/lotterhos/brandon/ind_runtimes/run_20220919_225-450/20000/gradient_forests/training/training_files\n",
      "/work/lotterhos/brandon/ind_runtimes/run_20220919_450-675/20000/gradient_forests/training/training_files\n"
     ]
    }
   ],
   "source": [
    "d_index = 3  # which dir I'm submitting\n",
    "\n",
    "jobnames =[]\n",
    "pids = defaultdict(dict)\n",
    "for rep, repdirs in dst_dirs.items():\n",
    "    print(repdirs[d_index])"
   ]
  },
  {
   "cell_type": "code",
   "execution_count": 4,
   "id": "64deb8bf",
   "metadata": {},
   "outputs": [
    {
     "name": "stderr",
     "output_type": "stream",
     "text": [
      "run_20220919_0-225: 100%|███████████████| 225/225 [00:34<00:00,  6.58it/s]\n",
      "run_20220919_225-450: 100%|███████████████| 225/225 [00:42<00:00,  5.30it/s]\n",
      "run_20220919_450-675: 100%|███████████████| 225/225 [00:44<00:00,  5.07it/s]\n"
     ]
    },
    {
     "data": {
      "text/plain": [
       "(675, 675)"
      ]
     },
     "execution_count": 4,
     "metadata": {},
     "output_type": "execute_result"
    }
   ],
   "source": [
    "jobnames =[]\n",
    "pids = defaultdict(dict)\n",
    "for rep, repdirs in dst_dirs.items():\n",
    "    sh_dir = repdirs[d_index].replace('training_files', 'training_shfiles')\n",
    "    \n",
    "    shfiles = fs(sh_dir, endswith='.sh', exclude='watcher')\n",
    "    \n",
    "    assert len(shfiles) == 225\n",
    "    \n",
    "    for sh in pbar(shfiles, desc=rep):\n",
    "        jobnames.append(op.basename(sh))\n",
    "        seed = op.basename(sh).split(\"_\")[0]\n",
    "        pids[rep][seed] = sbatch(sh, progress_bar=False)\n",
    "\n",
    "luni(jobnames), len(jobnames)"
   ]
  },
  {
   "cell_type": "code",
   "execution_count": null,
   "id": "328b329d",
   "metadata": {},
   "outputs": [],
   "source": []
  },
  {
   "cell_type": "code",
   "execution_count": 6,
   "id": "37b5179a",
   "metadata": {},
   "outputs": [
    {
     "name": "stderr",
     "output_type": "stream",
     "text": [
      "100%|███████████████| 3/3 [00:03<00:00,  1.27s/it]"
     ]
    },
    {
     "name": "stdout",
     "output_type": "stream",
     "text": [
      "675\n"
     ]
    },
    {
     "name": "stderr",
     "output_type": "stream",
     "text": [
      "\n"
     ]
    },
    {
     "data": {
      "text/plain": [
       "['#!/bin/bash',\n",
       " '#SBATCH --job-name=1231768_gf_fitting',\n",
       " '#SBATCH --time=1-00:00:00',\n",
       " '#SBATCH --ntasks=1',\n",
       " '#SBATCH --mem=300000M',\n",
       " '#SBATCH --output=1231768_gf_fitting_%j.out',\n",
       " '#SBATCH --dependency=afterok:40622751',\n",
       " '#SBATCH --mail-user=dummy_email@gmail.com',\n",
       " '#SBATCH --mail-type=FAIL',\n",
       " '#SBATCH --nodes=1',\n",
       " '#SBATCH --cpus-per-task=7',\n",
       " 'cd /home/b.lind/code/MVP-offsets/01_src',\n",
       " 'source $HOME/.bashrc',\n",
       " 'conda activate mvp_env',\n",
       " 'python MVP_02_fit_gradient_forests.py 1231768 /work/lotterhos/brandon/ind_runtimes/run_20220919_450-675/20000/slimdir /work/lotterhos/brandon/ind_runtimes/run_20220919_450-675/20000/gradient_forests/training/training_outfiles /home/b.lind/anaconda3/envs/r35/lib/R/bin/Rscript 1 pooled',\n",
       " 'python MVP_03_validate_gradient_forests.py 1231768 /home/b.lind/offsets/run_20220919_450-675/slimdir /work/lotterhos/brandon/ind_runtimes/run_20220919_450-675/20000/gradient_forests 100 pooled']"
      ]
     },
     "execution_count": 6,
     "metadata": {},
     "output_type": "execute_result"
    }
   ],
   "source": [
    "fitting_shfiles = []\n",
    "for (rep, seed), pid in unwrap_dictionary(pids, progress_bar=True):\n",
    "    fitting_shdir = dst_dirs[rep][d_index].replace('training/training_files', 'fitting/fitting_shfiles')\n",
    "    fitting_sh = f'{fitting_shdir}/{seed}_gf_fitting.sh'\n",
    "\n",
    "    text = read(fitting_sh)\n",
    "\n",
    "    assert 'dependency' in text[6]\n",
    "    text[6] = f'#SBATCH --dependency=afterok:{pid[0]}'\n",
    "\n",
    "    with open(fitting_sh, 'w') as o:\n",
    "        o.write('\\n'.join(text))\n",
    "\n",
    "    fitting_shfiles.append(fitting_sh)\n",
    "\n",
    "print(len(fitting_shfiles))\n",
    "\n",
    "text"
   ]
  },
  {
   "cell_type": "code",
   "execution_count": 7,
   "id": "b260dddb",
   "metadata": {},
   "outputs": [
    {
     "name": "stderr",
     "output_type": "stream",
     "text": [
      "update: 100%|███████████████| 675/675 [00:49<00:00, 13.72it/s]\n"
     ]
    }
   ],
   "source": [
    "Squeue(grepping='train').update(minmemorynode='200000')"
   ]
  },
  {
   "cell_type": "code",
   "execution_count": 8,
   "id": "1225c635",
   "metadata": {},
   "outputs": [
    {
     "name": "stderr",
     "output_type": "stream",
     "text": [
      "sbatching:  12%|█▊             | 81/675 [00:17<02:06,  4.71it/s]\n",
      "scancel: 100%|███████████████| 1/1 [00:00<00:00, 14.64it/s]\n",
      "sbatching:  14%|██▏            | 96/675 [00:20<02:13,  4.34it/s]\n",
      "scancel: 100%|███████████████| 1/1 [00:00<00:00, 15.18it/s]\n",
      "sbatching:  16%|██▎            | 105/675 [00:22<01:53,  5.04it/s]\n",
      "scancel: 100%|███████████████| 1/1 [00:00<00:00, 14.45it/s]\n",
      "sbatching:  43%|██████▍        | 288/675 [01:03<01:18,  4.93it/s]\n",
      "scancel: 100%|███████████████| 1/1 [00:00<00:00, 15.32it/s]\n",
      "sbatching:  44%|██████▌        | 294/675 [01:04<01:24,  4.49it/s]\n",
      "scancel: 100%|███████████████| 1/1 [00:00<00:00, 14.36it/s]\n",
      "sbatching:  72%|██████████▋    | 483/675 [01:51<00:48,  3.96it/s]\n",
      "scancel:   0%|               | 0/1 [00:00<?, ?it/s]\u001b[A\n",
      "scancel: 100%|███████████████| 1/1 [00:00<00:00,  3.43it/s]\u001b[A\n",
      "sbatching:  74%|███████████    | 497/675 [01:57<00:54,  3.24it/s]\n",
      "scancel: 100%|███████████████| 1/1 [00:00<00:00, 14.44it/s]\n",
      "sbatching:  78%|███████████▋   | 526/675 [02:04<00:33,  4.49it/s]\n",
      "scancel: 100%|███████████████| 1/1 [00:00<00:00, 14.68it/s]\n",
      "sbatching:  82%|████████████▎  | 556/675 [02:12<00:41,  2.89it/s]\n",
      "scancel: 100%|███████████████| 1/1 [00:00<00:00, 14.38it/s]\n",
      "sbatching:  85%|████████████▋  | 571/675 [02:17<00:40,  2.59it/s]\n",
      "scancel: 100%|███████████████| 1/1 [00:00<00:00, 14.81it/s]\n",
      "sbatching:  90%|█████████████▍ | 606/675 [02:26<00:17,  3.95it/s]\n",
      "scancel:   0%|               | 0/1 [00:00<?, ?it/s]\u001b[A\n",
      "scancel: 100%|███████████████| 1/1 [00:00<00:00,  5.70it/s]\u001b[A\n",
      "sbatching:  90%|█████████████▍ | 607/675 [02:26<00:20,  3.38it/s]\n",
      "scancel: 100%|███████████████| 1/1 [00:00<00:00, 14.52it/s]\n",
      "sbatching:  92%|█████████████▊ | 620/675 [02:30<00:15,  3.44it/s]\n",
      "scancel: 100%|███████████████| 1/1 [00:00<00:00, 14.98it/s]\n",
      "sbatching:  92%|█████████████▊ | 621/675 [02:30<00:15,  3.42it/s]\n",
      "scancel: 100%|███████████████| 1/1 [00:00<00:00, 14.04it/s]\n",
      "sbatching:  92%|█████████████▊ | 624/675 [02:31<00:13,  3.86it/s]\n",
      "scancel:   0%|               | 0/1 [00:00<?, ?it/s]\u001b[A\n",
      "scancel: 100%|███████████████| 1/1 [00:00<00:00,  6.99it/s]\u001b[A\n",
      "sbatching:  94%|██████████████ | 633/675 [02:33<00:10,  4.20it/s]\n",
      "scancel: 100%|███████████████| 1/1 [00:00<00:00, 15.00it/s]\n",
      "sbatching:  94%|██████████████▏| 636/675 [02:34<00:09,  3.95it/s]\n",
      "scancel: 100%|███████████████| 1/1 [00:00<00:00, 14.90it/s]\n",
      "sbatching:  96%|██████████████▎| 646/675 [02:37<00:07,  3.84it/s]\n",
      "scancel: 100%|███████████████| 1/1 [00:00<00:00, 14.60it/s]\n",
      "sbatching:  96%|██████████████▍| 648/675 [02:37<00:06,  3.90it/s]\n",
      "scancel:   0%|               | 0/1 [00:00<?, ?it/s]\u001b[A\n",
      "scancel: 100%|███████████████| 1/1 [00:00<00:00,  6.43it/s]\u001b[A\n",
      "sbatching:  97%|██████████████▌| 653/675 [02:39<00:06,  3.33it/s]\n",
      "scancel: 100%|███████████████| 1/1 [00:00<00:00, 14.08it/s]\n",
      "sbatching:  97%|██████████████▌| 654/675 [02:39<00:06,  3.30it/s]\n",
      "scancel: 100%|███████████████| 1/1 [00:00<00:00, 14.81it/s]\n",
      "sbatching:  99%|██████████████▊| 666/675 [02:42<00:02,  4.10it/s]\n",
      "scancel: 100%|███████████████| 1/1 [00:00<00:00, 15.71it/s]\n",
      "sbatching: 100%|███████████████| 675/675 [02:44<00:00,  4.09it/s]\n"
     ]
    }
   ],
   "source": [
    "# some (~22) will get cancelled because some of the 10k fitting jobs are still in the queue\n",
    "fitting_pids = sbatch(fitting_shfiles)"
   ]
  },
  {
   "cell_type": "code",
   "execution_count": 9,
   "id": "eb76b353",
   "metadata": {},
   "outputs": [
    {
     "name": "stderr",
     "output_type": "stream",
     "text": [
      "update: 100%|███████████████| 338/338 [00:24<00:00, 14.01it/s]\n"
     ]
    }
   ],
   "source": [
    "Squeue(grepping='train').update(to_partition='short', num_jobs=0.5)"
   ]
  },
  {
   "cell_type": "code",
   "execution_count": 10,
   "id": "1e5c23cb",
   "metadata": {},
   "outputs": [
    {
     "data": {
      "text/plain": [
       "\u001b[1m\u001b[38;2;128;128;128m🗒️  Queue Summary:\n",
       "\u001b[0m\u001b[0m\n",
       "{'\u001b[4m\u001b[1mlong\u001b[0m\u001b[0m': {'PD': 344, 'R': 3},\n",
       " '\u001b[4m\u001b[1mlotterhos\u001b[0m\u001b[0m': {'R': 1},\n",
       " '\u001b[4m\u001b[1mshort\u001b[0m\u001b[0m': {'PD': 973, 'R': 30}}"
      ]
     },
     "execution_count": 10,
     "metadata": {},
     "output_type": "execute_result"
    }
   ],
   "source": [
    "Squeue()"
   ]
  },
  {
   "cell_type": "code",
   "execution_count": 14,
   "id": "ef3a2a46",
   "metadata": {},
   "outputs": [
    {
     "data": {
      "text/plain": [
       "\u001b[1m\u001b[38;2;128;128;128m🗒️  Queue Summary:\n",
       "\u001b[0m\u001b[0m\n",
       "{'\u001b[4m\u001b[1mlong\u001b[0m\u001b[0m': {'PD': 337},\n",
       " '\u001b[4m\u001b[1mshort\u001b[0m\u001b[0m': {'PD': 308, 'R': 30}}"
      ]
     },
     "execution_count": 14,
     "metadata": {},
     "output_type": "execute_result"
    }
   ],
   "source": [
    "Squeue(grepping='train')"
   ]
  },
  {
   "cell_type": "code",
   "execution_count": 15,
   "id": "3a36e21f",
   "metadata": {},
   "outputs": [
    {
     "data": {
      "text/plain": [
       "\u001b[1m\u001b[38;2;128;128;128m🗒️  Queue Summary:\n",
       "\u001b[0m\u001b[0m\n",
       "{'\u001b[4m\u001b[1mlong\u001b[0m\u001b[0m': {'PD': 7, 'R': 3},\n",
       " '\u001b[4m\u001b[1mshort\u001b[0m\u001b[0m': {'PD': 665}}"
      ]
     },
     "execution_count": 15,
     "metadata": {},
     "output_type": "execute_result"
    }
   ],
   "source": [
    "Squeue(grepping='fit')"
   ]
  },
  {
   "cell_type": "code",
   "execution_count": null,
   "id": "3672dddd",
   "metadata": {},
   "outputs": [],
   "source": []
  },
  {
   "cell_type": "code",
   "execution_count": null,
   "id": "155a2477",
   "metadata": {},
   "outputs": [],
   "source": []
  },
  {
   "cell_type": "code",
   "execution_count": null,
   "id": "acba9ed5",
   "metadata": {},
   "outputs": [],
   "source": []
  },
  {
   "cell_type": "code",
   "execution_count": null,
   "id": "4e141da7",
   "metadata": {},
   "outputs": [],
   "source": []
  }
 ],
 "metadata": {
  "kernelspec": {
   "display_name": "Python 3 (ipykernel)",
   "language": "python",
   "name": "python3"
  },
  "language_info": {
   "codemirror_mode": {
    "name": "ipython",
    "version": 3
   },
   "file_extension": ".py",
   "mimetype": "text/x-python",
   "name": "python",
   "nbconvert_exporter": "python",
   "pygments_lexer": "ipython3",
   "version": "3.8.5"
  }
 },
 "nbformat": 4,
 "nbformat_minor": 5
}
