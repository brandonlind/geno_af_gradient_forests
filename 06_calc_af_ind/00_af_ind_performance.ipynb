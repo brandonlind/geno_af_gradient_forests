{
 "cells": [
  {
   "cell_type": "markdown",
   "id": "fcff9a06",
   "metadata": {},
   "source": [
    "### purpose\n",
    "\n",
    "calculate performance from AF models evaluated at the individual level"
   ]
  },
  {
   "cell_type": "markdown",
   "id": "f282b2ea",
   "metadata": {},
   "source": [
    "<a id='home'></a>\n",
    "### purpose\n",
    "\n",
    "calculate performance from AF models evaluated at the individual level\n",
    "\n",
    "### outline\n",
    "\n",
    "1. [get metadata](#meta)\n",
    "1. [get predicted offset files](#pred)\n",
    "1. [calculate ind-level performance of AF models](#calc)\n",
    "1. [sanity check](#sanity)"
   ]
  },
  {
   "cell_type": "code",
   "execution_count": 86,
   "id": "fe1f79b9",
   "metadata": {},
   "outputs": [
    {
     "name": "stdout",
     "output_type": "stream",
     "text": [
      "36 36\n",
      "#########################################################\n",
      "Today:\tApril 22, 2024 - 16:34:52 EDT\n",
      "python version: 3.8.5\n",
      "conda env: mvp_env\n",
      "\n",
      "Current commit of \u001b[1mpythonimports\u001b[0m:\n",
      "\u001b[33mcommit 6a767410e7b569adbf9df526de108f22ef50aad8\u001b[m  \n",
      "Author: Brandon Lind <lind.brandon.m@gmail.com>  \n",
      "Date:   Wed Mar 6 13:42:13 2024 -0700\n",
      "\n",
      "Current commit of \u001b[94m\u001b[1mMVP_offsets\u001b[0m\u001b[0m:\n",
      "\u001b[33mcommit 8b790072e7a46d7f58a30c40cf4660986a612764\u001b[m  \n",
      "Author: Brandon Lind <lind.brandon.m@gmail.com>  \n",
      "Date:   Fri Feb 2 13:55:49 2024 -0500\n",
      "\n",
      "Current commit of \u001b[38;2;128;0;128m\u001b[1mMVP_runtime\u001b[0m\u001b[0m:\n",
      "\u001b[33mcommit df87dd2c708ac0fdeebcfaaca239473ca2c487af\u001b[m  \n",
      "Author: Brandon Lind <lind.brandon.m@gmail.com>  \n",
      "Date:   Tue Mar 19 16:17:46 2024 -0400\n",
      "#########################################################\n",
      "\n"
     ]
    },
    {
     "data": {
      "text/html": [
       "<details>\n",
       "<summary>Click to view session information</summary>\n",
       "<pre>\n",
       "-----\n",
       "MVP_01_train_gradient_forests       NA\n",
       "MVP_03_validate_gradient_forests    NA\n",
       "MVP_06_validate_RONA                NA\n",
       "MVP_summary_functions               NA\n",
       "balance_queue                       NA\n",
       "cartopy                             0.20.2\n",
       "ipyparallel                         7.1.0\n",
       "matplotlib                          3.5.2\n",
       "myclasses                           NA\n",
       "myfigs                              NA\n",
       "mymaps                              NA\n",
       "myslurm                             NA\n",
       "numpy                               1.22.1\n",
       "pandas                              1.3.5\n",
       "pythonimports                       NA\n",
       "runtime_API                         NA\n",
       "session_info                        1.0.0\n",
       "tqdm                                4.62.1\n",
       "-----\n",
       "</pre>\n",
       "<details>\n",
       "<summary>Click to view modules imported as dependencies</summary>\n",
       "<pre>\n",
       "MVP_10_train_lfmm2_offset           NA\n",
       "MVP_11_validate_lfmm2_offset        NA\n",
       "MVP_13_RDA_validation               NA\n",
       "PIL                                 8.4.0\n",
       "attr                                21.4.0\n",
       "backcall                            0.2.0\n",
       "beta_ufunc                          NA\n",
       "binom_ufunc                         NA\n",
       "bottleneck                          1.3.2\n",
       "certifi                             2023.05.07\n",
       "cffi                                1.15.0\n",
       "cycler                              0.10.0\n",
       "cython_runtime                      NA\n",
       "dateutil                            2.8.2\n",
       "debugpy                             1.5.1\n",
       "decorator                           5.1.1\n",
       "defusedxml                          0.7.1\n",
       "entrypoints                         0.4\n",
       "fiona                               1.9.5\n",
       "fontTools                           4.29.1\n",
       "ipykernel                           6.8.0\n",
       "ipython_genutils                    0.2.0\n",
       "ipywidgets                          7.6.5\n",
       "jedi                                0.18.1\n",
       "kiwisolver                          1.3.2\n",
       "matplotlib_inline                   NA\n",
       "matplotlib_venn                     0.11.6\n",
       "mpl_toolkits                        NA\n",
       "nbinom_ufunc                        NA\n",
       "numexpr                             2.8.1\n",
       "packaging                           21.3\n",
       "parso                               0.8.3\n",
       "patsy                               0.5.2\n",
       "pdf2image                           NA\n",
       "pexpect                             4.8.0\n",
       "pickleshare                         0.7.5\n",
       "pkg_resources                       NA\n",
       "prompt_toolkit                      3.0.26\n",
       "psutil                              5.9.0\n",
       "ptyprocess                          0.7.0\n",
       "pydev_ipython                       NA\n",
       "pydevconsole                        NA\n",
       "pydevd                              2.6.0\n",
       "pydevd_concurrency_analyser         NA\n",
       "pydevd_file_utils                   NA\n",
       "pydevd_plugins                      NA\n",
       "pydevd_tracing                      NA\n",
       "pygments                            2.11.2\n",
       "pyparsing                           3.0.7\n",
       "pyproj                              3.3.0\n",
       "pytz                                2021.3\n",
       "scipy                               1.7.3\n",
       "seaborn                             0.11.2\n",
       "setuptools                          60.7.1\n",
       "shapefile                           2.2.0\n",
       "shapely                             1.8.0\n",
       "six                                 1.16.0\n",
       "statsmodels                         0.14.0\n",
       "storemagic                          NA\n",
       "tornado                             6.1\n",
       "traitlets                           5.1.1\n",
       "wcwidth                             0.2.5\n",
       "zmq                                 22.3.0\n",
       "</pre>\n",
       "</details> <!-- seems like this ends pre, so might as well be explicit -->\n",
       "<pre>\n",
       "-----\n",
       "IPython             7.31.1\n",
       "jupyter_client      7.1.2\n",
       "jupyter_core        4.9.1\n",
       "notebook            6.4.8\n",
       "-----\n",
       "Python 3.8.5 (default, Sep  4 2020, 07:30:14) [GCC 7.3.0]\n",
       "Linux-3.10.0-1160.25.1.el7.x86_64-x86_64-with-glibc2.10\n",
       "-----\n",
       "Session information updated at 2024-04-22 16:34\n",
       "</pre>\n",
       "</details>"
      ],
      "text/plain": [
       "<IPython.core.display.HTML object>"
      ]
     },
     "execution_count": 86,
     "metadata": {},
     "output_type": "execute_result"
    }
   ],
   "source": [
    "from pythonimports import *\n",
    "import myfigs as mf\n",
    "\n",
    "import runtime_API as rt\n",
    "import MVP_summary_functions as mvp\n",
    "\n",
    "lview, dview = get_client(cluster_id='1713789842-5kaz', profile='lotterhos')\n",
    "\n",
    "fig_dir = makedir(f'{rt.resdir}/figures/06_af_ind_performance')\n",
    "\n",
    "t0 = dt.now()\n",
    "\n",
    "rt.latest_commit()\n",
    "session_info.show()"
   ]
  },
  {
   "cell_type": "markdown",
   "id": "d0ed3471",
   "metadata": {},
   "source": [
    "<a id='meta'></a>\n",
    "# get metadata\n",
    "    \n",
    "[top](#home)"
   ]
  },
  {
   "cell_type": "code",
   "execution_count": 6,
   "id": "38cf89ac",
   "metadata": {},
   "outputs": [
    {
     "data": {
      "text/plain": [
       "540"
      ]
     },
     "execution_count": 6,
     "metadata": {},
     "output_type": "execute_result"
    }
   ],
   "source": [
    "len(rt.seeds)"
   ]
  },
  {
   "cell_type": "code",
   "execution_count": 7,
   "id": "9edfa34e",
   "metadata": {},
   "outputs": [
    {
     "name": "stderr",
     "output_type": "stream",
     "text": [
      "100%|███████████████| 2250/2250 [00:02<00:00, 793.14it/s]\n"
     ]
    },
    {
     "data": {
      "text/plain": [
       "135"
      ]
     },
     "execution_count": 7,
     "metadata": {},
     "output_type": "execute_result"
    }
   ],
   "source": [
    "# the 1-trait seeds that were ran as 1-trait 1-nuisance (used in cell #5)\n",
    "params = mvp.read_params_file()\n",
    "\n",
    "bad_seeds = set(params.seed.iloc[:675].astype(str)) - set(rt.seeds)\n",
    "\n",
    "len(bad_seeds)"
   ]
  },
  {
   "cell_type": "code",
   "execution_count": 8,
   "id": "52970c8b",
   "metadata": {},
   "outputs": [],
   "source": [
    "assert len(bad_seeds) + len(rt.seeds) == 675"
   ]
  },
  {
   "cell_type": "markdown",
   "id": "509d1c2f",
   "metadata": {},
   "source": [
    "<a id='pred'></a>\n",
    "# get predicted offset files\n",
    "\n",
    "[top](#home)"
   ]
  },
  {
   "cell_type": "code",
   "execution_count": 9,
   "id": "6c658cff",
   "metadata": {},
   "outputs": [
    {
     "name": "stdout",
     "output_type": "stream",
     "text": [
      "run_20220919_0-225 00500 180\n",
      "run_20220919_0-225 05000 180\n",
      "run_20220919_0-225 10000 180\n",
      "run_20220919_0-225 20000 180\n",
      "run_20220919_225-450 00500 180\n",
      "run_20220919_225-450 05000 180\n",
      "run_20220919_225-450 10000 180\n",
      "run_20220919_225-450 20000 180\n",
      "run_20220919_450-675 00500 180\n",
      "run_20220919_450-675 05000 180\n",
      "run_20220919_450-675 10000 180\n",
      "run_20220919_450-675 20000 180\n"
     ]
    },
    {
     "data": {
      "text/plain": [
       "2160"
      ]
     },
     "execution_count": 9,
     "metadata": {},
     "output_type": "execute_result"
    }
   ],
   "source": [
    "pkls = []\n",
    "for rep, repdirs in rt.dirs['pooled'].items():\n",
    "    for repdir in repdirs:\n",
    "        \n",
    "        pkldir = f'{repdir}/gradient_forests/validation/offset_dfs'\n",
    "        \n",
    "        if op.exists(pkldir):\n",
    "            pkl_files = fs(pkldir, endswith='.pkl', exclude=bad_seeds)\n",
    "            \n",
    "            pkls.extend(\n",
    "                pkl_files\n",
    "            )\n",
    "            \n",
    "            print(rep, op.basename(repdir), len(pkl_files))\n",
    "        else:\n",
    "            print(ColorText(f'{rep} {op.basename(repdir)} 0').fail().bold())\n",
    "        \n",
    "len(pkls)"
   ]
  },
  {
   "cell_type": "markdown",
   "id": "90c44071",
   "metadata": {},
   "source": [
    "<a id='calc'></a>\n",
    "# calculate ind-level performance\n",
    "\n",
    "[top](#home)"
   ]
  },
  {
   "cell_type": "code",
   "execution_count": 67,
   "id": "c8b9985c",
   "metadata": {},
   "outputs": [],
   "source": [
    "def create_af_ind_offset(df, popsamps):\n",
    "    \"\"\"For an pop-level offset dataframe (100 rows x 100 cols), make it 100 rows x 1000 cols.\n",
    "    \n",
    "    Parameters\n",
    "    ----------\n",
    "    df : pandas.DataFrame\n",
    "        - 100 rows (transplant locations) and 100 columns (genetic source)\n",
    "        - entries are from allele frequency models (AF, pop)\n",
    "        \n",
    "    popsamps : dict\n",
    "        - key = pop, value = list of sample names\n",
    "    \"\"\"\n",
    "    import pandas as pd\n",
    "    from collections import defaultdict\n",
    "    \n",
    "    new_df = defaultdict(dict)\n",
    "    for pop, samps in popsamps.items():\n",
    "        for samp in samps:  # replicate the population-level offset for each individual\n",
    "            new_df[samp] = df[pop]\n",
    "    \n",
    "    new_df = pd.DataFrame(new_df)\n",
    "    \n",
    "    return new_df\n",
    "\n",
    "def assert_same(offset, fitness):\n",
    "    \"\"\"Make sure dataframes are consistent.\"\"\"\n",
    "    assert all(offset.columns.isin(fitness.columns))\n",
    "    assert all(offset.index.isin(fitness.index))\n",
    "    assert offset.shape == fitness.shape\n",
    "    \n",
    "    pass\n",
    "\n",
    "def recalc_performance(pkl):\n",
    "    \"\"\"Recalc performance using AF,pop offsets and ind-level fitness.\"\"\"\n",
    "    from pythonimports import pklload\n",
    "    import MVP_summary_functions as mvp\n",
    "    import MVP_01_train_gradient_forests as mvp01\n",
    "    import MVP_03_validate_gradient_forests as mvp03\n",
    "    import MVP_06_validate_RONA as mvp06\n",
    "    import runtime_API as rt\n",
    "\n",
    "    from os import path as op\n",
    "\n",
    "    # get simulation replicate ID\n",
    "    seed = op.basename(pkl).split(\"_\")[0]\n",
    "\n",
    "    # get individual and population info\n",
    "    subset = mvp01.read_ind_data(mvp.slimdir, seed)\n",
    "    subset.subpopID = subset.subpopID.astype(str)\n",
    "    subset.indID = subset.indID.astype(str)  # to match columns in offset df\n",
    "\n",
    "    # map individual IDs to population IDs - key = popID value = list of indIDs\n",
    "    popsamps = subset.groupby('subpopID')['indID'].apply(list).to_dict()\n",
    "\n",
    "    # load AF,pop offset\n",
    "    pooled_offset = pklload(pkl)['pooled']['all']  # marker set key is 'all' for the runtime project, no matter num_loci\n",
    "\n",
    "    # duplicate pooled offsets for each individual in population\n",
    "    af_ind_offset = create_af_ind_offset(pooled_offset, popsamps)\n",
    "\n",
    "    # get fitness data (from MVP_03.main)\n",
    "    fitness_mat = {\n",
    "        'ind': mvp03.load_ind_fitness_matrix(mvp.slimdir, seed, subset),\n",
    "        'pooled': mvp06.load_pooled_fitness_matrix(mvp.slimdir, seed)\n",
    "    }\n",
    "\n",
    "    # calculate af,ind perforance\n",
    "    assert_same(af_ind_offset, fitness_mat['ind'])\n",
    "    perf = af_ind_offset.corrwith(\n",
    "        fitness_mat['ind'],\n",
    "        axis='columns',\n",
    "        method='kendall'\n",
    "    )\n",
    "    \n",
    "    # get the actual AF,pop performance\n",
    "    assert_same(pooled_offset, fitness_mat['pooled'])\n",
    "    perf_af = pooled_offset.corrwith(\n",
    "        fitness_mat['pooled'],\n",
    "        axis='columns',\n",
    "        method='kendall'\n",
    "    )\n",
    "\n",
    "    return perf, perf_af\n",
    "\n",
    "dview['create_af_ind_offset'] = create_af_ind_offset\n",
    "dview['assert_same'] = assert_same"
   ]
  },
  {
   "cell_type": "markdown",
   "id": "e95dc103",
   "metadata": {},
   "source": [
    "#### test function"
   ]
  },
  {
   "cell_type": "code",
   "execution_count": 52,
   "id": "5c4c5f1d",
   "metadata": {},
   "outputs": [
    {
     "data": {
      "text/plain": [
       "'/work/lotterhos/brandon/pooled_runtimes/run_20220919_0-225/00500/gradient_forests/validation/offset_dfs/1231109_offset_dfs.pkl'"
      ]
     },
     "execution_count": 52,
     "metadata": {},
     "output_type": "execute_result"
    }
   ],
   "source": [
    "pkls[0]"
   ]
  },
  {
   "cell_type": "code",
   "execution_count": 68,
   "id": "667594fa",
   "metadata": {},
   "outputs": [
    {
     "name": "stdout",
     "output_type": "stream",
     "text": [
      "\u001b[38;2;255;215;0m\u001b[1m\n",
      "Reading in info for subsampled individuals ...\u001b[0m\u001b[0m\n"
     ]
    }
   ],
   "source": [
    "perf, perf_af = recalc_performance(pkls[0])"
   ]
  },
  {
   "cell_type": "code",
   "execution_count": 69,
   "id": "ef27c0e4",
   "metadata": {},
   "outputs": [
    {
     "data": {
      "text/plain": [
       "'$\\\\it{GO}_{AF, pop}$'"
      ]
     },
     "execution_count": 69,
     "metadata": {},
     "output_type": "execute_result"
    }
   ],
   "source": [
    "rt.factor_names['pooled']"
   ]
  },
  {
   "cell_type": "code",
   "execution_count": 75,
   "id": "d0c8839d",
   "metadata": {},
   "outputs": [
    {
     "data": {
      "image/png": "[encoded data removed]",
      "text/plain": [
       "<Figure size 432x288 with 1 Axes>"
      ]
     },
     "metadata": {
      "needs_background": "light"
     },
     "output_type": "display_data"
    }
   ],
   "source": [
    "ax = plt.scatter(perf, perf_af)\n",
    "\n",
    "mf.draw_xy(ax.axes)\n",
    "\n",
    "ax.axes.invert_yaxis()\n",
    "ax.axes.invert_xaxis()\n",
    "\n",
    "ax.axes.set_xlabel(\"$\\\\it{GO}_{AF,ind}$ offset performance\\n(Kendall's $\\\\tau$)\", fontsize=12)\n",
    "ax.axes.set_ylabel(f\"{rt.factor_names['pooled']} performance\\n(Kendall's $\\\\tau$)\", fontsize=12)\n",
    "\n",
    "plt.tight_layout()"
   ]
  },
  {
   "cell_type": "markdown",
   "id": "6aceeeee",
   "metadata": {},
   "source": [
    "### calc in parallel"
   ]
  },
  {
   "cell_type": "code",
   "execution_count": 76,
   "id": "6934a66b",
   "metadata": {},
   "outputs": [
    {
     "name": "stdout",
     "output_type": "stream",
     "text": [
      "\u001b[1m\n",
      "Watching 2160 jobs ...\u001b[0m\n"
     ]
    },
    {
     "name": "stderr",
     "output_type": "stream",
     "text": [
      "100%|███████████████| 2160/2160 [00:48<00:00, 44.35it/s]\n"
     ]
    }
   ],
   "source": [
    "jobs = []\n",
    "for pkl in pkls:\n",
    "    jobs.append(\n",
    "        lview.apply_async(\n",
    "            recalc_performance, pkl\n",
    "        )\n",
    "    )\n",
    "    \n",
    "watch_async(jobs)"
   ]
  },
  {
   "cell_type": "markdown",
   "id": "898bcfa0",
   "metadata": {},
   "source": [
    "### retrieve results"
   ]
  },
  {
   "cell_type": "code",
   "execution_count": 77,
   "id": "eb56a3dc",
   "metadata": {},
   "outputs": [
    {
     "name": "stderr",
     "output_type": "stream",
     "text": [
      "100%|███████████████| 2160/2160 [00:02<00:00, 830.82it/s]\n"
     ]
    },
    {
     "name": "stdout",
     "output_type": "stream",
     "text": [
      "Function `annotate_jobs` completed after : 0-00:00:23\n"
     ]
    },
    {
     "name": "stderr",
     "output_type": "stream",
     "text": [
      "100%|███████████████| 2160/2160 [00:02<00:00, 736.70it/s]\n"
     ]
    },
    {
     "name": "stdout",
     "output_type": "stream",
     "text": [
      "Function `annotate_jobs` completed after : 0-00:00:23\n"
     ]
    }
   ],
   "source": [
    "@timer\n",
    "def annotate_jobs(jobs, idx=0):\n",
    "    \"\"\"Annotate the either of the two outputs from recalc_performance.\"\"\"\n",
    "    if idx == 0:\n",
    "        source = 'af,ind'\n",
    "    else:\n",
    "        source = 'ind'\n",
    "    \n",
    "    res = []\n",
    "    for i, j in enumerate(pbar(jobs)):\n",
    "        pkl = pkls[i]\n",
    "\n",
    "        perf = j.r[idx].reset_index()\n",
    "\n",
    "        perf.columns = ['garden', 'score']\n",
    "\n",
    "        perf['seed'] = op.basename(pkl).split(\"_\")[0]\n",
    "        perf['num_loci'] = pkl.split(\"/\")[6].lstrip('0')\n",
    "        perf['rep'] = pkl.split(\"/\")[5].split(\"_\")[-1]\n",
    "\n",
    "        res.append(perf)\n",
    "\n",
    "    # combine\n",
    "    _results = pd.concat(res).reset_index(drop=True)\n",
    "\n",
    "    # add metadata\n",
    "    for param in params.columns[-9:-1]:\n",
    "        _results[param] = _results.seed.astype(str).map(params[param])\n",
    "\n",
    "    _results['simulation_level'] = _results[_results.columns[6:]].apply(\n",
    "        lambda x: '_'.join(x.astype(str)), axis=1\n",
    "    )\n",
    "\n",
    "    _results['offset_level'] = _results[['simulation_level', 'rep', 'num_loci', 'garden']].apply(\n",
    "        lambda x: '_'.join(x.astype(str)), axis=1\n",
    "    )\n",
    "\n",
    "    _results.index = _results.offset_level.tolist()\n",
    "    \n",
    "    _results['source'] = source\n",
    "\n",
    "    return _results\n",
    "\n",
    "\n",
    "afind_results = annotate_jobs(jobs, idx=0)\n",
    "pooled_results = annotate_jobs(jobs, idx=1)"
   ]
  },
  {
   "cell_type": "code",
   "execution_count": 82,
   "id": "3df4a9d8",
   "metadata": {
    "scrolled": true
   },
   "outputs": [
    {
     "data": {
      "text/html": [
       "<div>\n",
       "<style scoped>\n",
       "    .dataframe tbody tr th:only-of-type {\n",
       "        vertical-align: middle;\n",
       "    }\n",
       "\n",
       "    .dataframe tbody tr th {\n",
       "        vertical-align: top;\n",
       "    }\n",
       "\n",
       "    .dataframe thead th {\n",
       "        text-align: right;\n",
       "    }\n",
       "</style>\n",
       "<table border=\"1\" class=\"dataframe\">\n",
       "  <thead>\n",
       "    <tr style=\"text-align: right;\">\n",
       "      <th></th>\n",
       "      <th>garden</th>\n",
       "      <th>score</th>\n",
       "      <th>seed</th>\n",
       "      <th>num_loci</th>\n",
       "      <th>rep</th>\n",
       "      <th>final_LA</th>\n",
       "      <th>glevel</th>\n",
       "      <th>plevel</th>\n",
       "      <th>pleio</th>\n",
       "      <th>slevel</th>\n",
       "      <th>landscape</th>\n",
       "      <th>popsize</th>\n",
       "      <th>migration</th>\n",
       "      <th>simulation_level</th>\n",
       "      <th>offset_level</th>\n",
       "      <th>source</th>\n",
       "    </tr>\n",
       "  </thead>\n",
       "  <tbody>\n",
       "    <tr>\n",
       "      <th>highly-polygenic_2-trait_no pleiotropy_equal-S_Est-Clines_N-cline-center-to-edge_m-constant_0-225_500_1</th>\n",
       "      <td>1</td>\n",
       "      <td>-0.551398</td>\n",
       "      <td>1231109</td>\n",
       "      <td>500</td>\n",
       "      <td>0-225</td>\n",
       "      <td>0.501332</td>\n",
       "      <td>highly-polygenic</td>\n",
       "      <td>2-trait</td>\n",
       "      <td>no pleiotropy</td>\n",
       "      <td>equal-S</td>\n",
       "      <td>Est-Clines</td>\n",
       "      <td>N-cline-center-to-edge</td>\n",
       "      <td>m-constant</td>\n",
       "      <td>highly-polygenic_2-trait_no pleiotropy_equal-S...</td>\n",
       "      <td>highly-polygenic_2-trait_no pleiotropy_equal-S...</td>\n",
       "      <td>af,ind</td>\n",
       "    </tr>\n",
       "    <tr>\n",
       "      <th>highly-polygenic_2-trait_no pleiotropy_equal-S_Est-Clines_N-cline-center-to-edge_m-constant_0-225_500_2</th>\n",
       "      <td>2</td>\n",
       "      <td>-0.611882</td>\n",
       "      <td>1231109</td>\n",
       "      <td>500</td>\n",
       "      <td>0-225</td>\n",
       "      <td>0.501332</td>\n",
       "      <td>highly-polygenic</td>\n",
       "      <td>2-trait</td>\n",
       "      <td>no pleiotropy</td>\n",
       "      <td>equal-S</td>\n",
       "      <td>Est-Clines</td>\n",
       "      <td>N-cline-center-to-edge</td>\n",
       "      <td>m-constant</td>\n",
       "      <td>highly-polygenic_2-trait_no pleiotropy_equal-S...</td>\n",
       "      <td>highly-polygenic_2-trait_no pleiotropy_equal-S...</td>\n",
       "      <td>af,ind</td>\n",
       "    </tr>\n",
       "    <tr>\n",
       "      <th>highly-polygenic_2-trait_no pleiotropy_equal-S_Est-Clines_N-cline-center-to-edge_m-constant_0-225_500_3</th>\n",
       "      <td>3</td>\n",
       "      <td>-0.673033</td>\n",
       "      <td>1231109</td>\n",
       "      <td>500</td>\n",
       "      <td>0-225</td>\n",
       "      <td>0.501332</td>\n",
       "      <td>highly-polygenic</td>\n",
       "      <td>2-trait</td>\n",
       "      <td>no pleiotropy</td>\n",
       "      <td>equal-S</td>\n",
       "      <td>Est-Clines</td>\n",
       "      <td>N-cline-center-to-edge</td>\n",
       "      <td>m-constant</td>\n",
       "      <td>highly-polygenic_2-trait_no pleiotropy_equal-S...</td>\n",
       "      <td>highly-polygenic_2-trait_no pleiotropy_equal-S...</td>\n",
       "      <td>af,ind</td>\n",
       "    </tr>\n",
       "    <tr>\n",
       "      <th>highly-polygenic_2-trait_no pleiotropy_equal-S_Est-Clines_N-cline-center-to-edge_m-constant_0-225_500_4</th>\n",
       "      <td>4</td>\n",
       "      <td>-0.723169</td>\n",
       "      <td>1231109</td>\n",
       "      <td>500</td>\n",
       "      <td>0-225</td>\n",
       "      <td>0.501332</td>\n",
       "      <td>highly-polygenic</td>\n",
       "      <td>2-trait</td>\n",
       "      <td>no pleiotropy</td>\n",
       "      <td>equal-S</td>\n",
       "      <td>Est-Clines</td>\n",
       "      <td>N-cline-center-to-edge</td>\n",
       "      <td>m-constant</td>\n",
       "      <td>highly-polygenic_2-trait_no pleiotropy_equal-S...</td>\n",
       "      <td>highly-polygenic_2-trait_no pleiotropy_equal-S...</td>\n",
       "      <td>af,ind</td>\n",
       "    </tr>\n",
       "    <tr>\n",
       "      <th>highly-polygenic_2-trait_no pleiotropy_equal-S_Est-Clines_N-cline-center-to-edge_m-constant_0-225_500_5</th>\n",
       "      <td>5</td>\n",
       "      <td>-0.753114</td>\n",
       "      <td>1231109</td>\n",
       "      <td>500</td>\n",
       "      <td>0-225</td>\n",
       "      <td>0.501332</td>\n",
       "      <td>highly-polygenic</td>\n",
       "      <td>2-trait</td>\n",
       "      <td>no pleiotropy</td>\n",
       "      <td>equal-S</td>\n",
       "      <td>Est-Clines</td>\n",
       "      <td>N-cline-center-to-edge</td>\n",
       "      <td>m-constant</td>\n",
       "      <td>highly-polygenic_2-trait_no pleiotropy_equal-S...</td>\n",
       "      <td>highly-polygenic_2-trait_no pleiotropy_equal-S...</td>\n",
       "      <td>af,ind</td>\n",
       "    </tr>\n",
       "  </tbody>\n",
       "</table>\n",
       "</div>"
      ],
      "text/plain": [
       "                                                    garden     score     seed  \\\n",
       "highly-polygenic_2-trait_no pleiotropy_equal-S_...       1 -0.551398  1231109   \n",
       "highly-polygenic_2-trait_no pleiotropy_equal-S_...       2 -0.611882  1231109   \n",
       "highly-polygenic_2-trait_no pleiotropy_equal-S_...       3 -0.673033  1231109   \n",
       "highly-polygenic_2-trait_no pleiotropy_equal-S_...       4 -0.723169  1231109   \n",
       "highly-polygenic_2-trait_no pleiotropy_equal-S_...       5 -0.753114  1231109   \n",
       "\n",
       "                                                   num_loci    rep  final_LA  \\\n",
       "highly-polygenic_2-trait_no pleiotropy_equal-S_...      500  0-225  0.501332   \n",
       "highly-polygenic_2-trait_no pleiotropy_equal-S_...      500  0-225  0.501332   \n",
       "highly-polygenic_2-trait_no pleiotropy_equal-S_...      500  0-225  0.501332   \n",
       "highly-polygenic_2-trait_no pleiotropy_equal-S_...      500  0-225  0.501332   \n",
       "highly-polygenic_2-trait_no pleiotropy_equal-S_...      500  0-225  0.501332   \n",
       "\n",
       "                                                              glevel   plevel  \\\n",
       "highly-polygenic_2-trait_no pleiotropy_equal-S_...  highly-polygenic  2-trait   \n",
       "highly-polygenic_2-trait_no pleiotropy_equal-S_...  highly-polygenic  2-trait   \n",
       "highly-polygenic_2-trait_no pleiotropy_equal-S_...  highly-polygenic  2-trait   \n",
       "highly-polygenic_2-trait_no pleiotropy_equal-S_...  highly-polygenic  2-trait   \n",
       "highly-polygenic_2-trait_no pleiotropy_equal-S_...  highly-polygenic  2-trait   \n",
       "\n",
       "                                                            pleio   slevel  \\\n",
       "highly-polygenic_2-trait_no pleiotropy_equal-S_...  no pleiotropy  equal-S   \n",
       "highly-polygenic_2-trait_no pleiotropy_equal-S_...  no pleiotropy  equal-S   \n",
       "highly-polygenic_2-trait_no pleiotropy_equal-S_...  no pleiotropy  equal-S   \n",
       "highly-polygenic_2-trait_no pleiotropy_equal-S_...  no pleiotropy  equal-S   \n",
       "highly-polygenic_2-trait_no pleiotropy_equal-S_...  no pleiotropy  equal-S   \n",
       "\n",
       "                                                     landscape  \\\n",
       "highly-polygenic_2-trait_no pleiotropy_equal-S_...  Est-Clines   \n",
       "highly-polygenic_2-trait_no pleiotropy_equal-S_...  Est-Clines   \n",
       "highly-polygenic_2-trait_no pleiotropy_equal-S_...  Est-Clines   \n",
       "highly-polygenic_2-trait_no pleiotropy_equal-S_...  Est-Clines   \n",
       "highly-polygenic_2-trait_no pleiotropy_equal-S_...  Est-Clines   \n",
       "\n",
       "                                                                   popsize  \\\n",
       "highly-polygenic_2-trait_no pleiotropy_equal-S_...  N-cline-center-to-edge   \n",
       "highly-polygenic_2-trait_no pleiotropy_equal-S_...  N-cline-center-to-edge   \n",
       "highly-polygenic_2-trait_no pleiotropy_equal-S_...  N-cline-center-to-edge   \n",
       "highly-polygenic_2-trait_no pleiotropy_equal-S_...  N-cline-center-to-edge   \n",
       "highly-polygenic_2-trait_no pleiotropy_equal-S_...  N-cline-center-to-edge   \n",
       "\n",
       "                                                     migration  \\\n",
       "highly-polygenic_2-trait_no pleiotropy_equal-S_...  m-constant   \n",
       "highly-polygenic_2-trait_no pleiotropy_equal-S_...  m-constant   \n",
       "highly-polygenic_2-trait_no pleiotropy_equal-S_...  m-constant   \n",
       "highly-polygenic_2-trait_no pleiotropy_equal-S_...  m-constant   \n",
       "highly-polygenic_2-trait_no pleiotropy_equal-S_...  m-constant   \n",
       "\n",
       "                                                                                     simulation_level  \\\n",
       "highly-polygenic_2-trait_no pleiotropy_equal-S_...  highly-polygenic_2-trait_no pleiotropy_equal-S...   \n",
       "highly-polygenic_2-trait_no pleiotropy_equal-S_...  highly-polygenic_2-trait_no pleiotropy_equal-S...   \n",
       "highly-polygenic_2-trait_no pleiotropy_equal-S_...  highly-polygenic_2-trait_no pleiotropy_equal-S...   \n",
       "highly-polygenic_2-trait_no pleiotropy_equal-S_...  highly-polygenic_2-trait_no pleiotropy_equal-S...   \n",
       "highly-polygenic_2-trait_no pleiotropy_equal-S_...  highly-polygenic_2-trait_no pleiotropy_equal-S...   \n",
       "\n",
       "                                                                                         offset_level  \\\n",
       "highly-polygenic_2-trait_no pleiotropy_equal-S_...  highly-polygenic_2-trait_no pleiotropy_equal-S...   \n",
       "highly-polygenic_2-trait_no pleiotropy_equal-S_...  highly-polygenic_2-trait_no pleiotropy_equal-S...   \n",
       "highly-polygenic_2-trait_no pleiotropy_equal-S_...  highly-polygenic_2-trait_no pleiotropy_equal-S...   \n",
       "highly-polygenic_2-trait_no pleiotropy_equal-S_...  highly-polygenic_2-trait_no pleiotropy_equal-S...   \n",
       "highly-polygenic_2-trait_no pleiotropy_equal-S_...  highly-polygenic_2-trait_no pleiotropy_equal-S...   \n",
       "\n",
       "                                                    source  \n",
       "highly-polygenic_2-trait_no pleiotropy_equal-S_...  af,ind  \n",
       "highly-polygenic_2-trait_no pleiotropy_equal-S_...  af,ind  \n",
       "highly-polygenic_2-trait_no pleiotropy_equal-S_...  af,ind  \n",
       "highly-polygenic_2-trait_no pleiotropy_equal-S_...  af,ind  \n",
       "highly-polygenic_2-trait_no pleiotropy_equal-S_...  af,ind  "
      ]
     },
     "execution_count": 82,
     "metadata": {},
     "output_type": "execute_result"
    }
   ],
   "source": [
    "afind_results.head()"
   ]
  },
  {
   "cell_type": "code",
   "execution_count": null,
   "id": "6ad344c7",
   "metadata": {},
   "outputs": [],
   "source": []
  },
  {
   "cell_type": "markdown",
   "id": "6a8a1b20",
   "metadata": {},
   "source": [
    "### save \n",
    "\n",
    "no need to save `pooled_results` since it's the same as what I have in `rt.load_results()[\"pooled\"]`"
   ]
  },
  {
   "cell_type": "code",
   "execution_count": 87,
   "id": "a1335e19",
   "metadata": {},
   "outputs": [
    {
     "data": {
      "text/plain": [
       "'/work/lotterhos/brandon/runtime/figures/06_af_ind_performance/af_ind_results.txt'"
      ]
     },
     "execution_count": 87,
     "metadata": {},
     "output_type": "execute_result"
    }
   ],
   "source": [
    "f = f'{fig_dir}/af_ind_results.txt'\n",
    "\n",
    "afind_results.to_csv(f, sep='\\t', index=False)  # index is offset_level column\n",
    "\n",
    "f"
   ]
  },
  {
   "cell_type": "code",
   "execution_count": 107,
   "id": "38ad66e4",
   "metadata": {},
   "outputs": [
    {
     "name": "stdout",
     "output_type": "stream",
     "text": [
      "\u001b[1mSaved to: \u001b[0m /work/lotterhos/brandon/runtime/figures/06_af_ind_performance/af-ind_af-pop_scatter2d.pdf\n"
     ]
    },
    {
     "data": {
      "image/png": "[encoded data removed]",
      "text/plain": [
       "<Figure size 360x288 with 4 Axes>"
      ]
     },
     "metadata": {
      "needs_background": "light"
     },
     "output_type": "display_data"
    }
   ],
   "source": [
    "x = pooled_results\n",
    "y = afind_results\n",
    "\n",
    "ax = mf.scatter2d(\n",
    "    x=x.score,\n",
    "    y=y.score,\n",
    "    cmap='magma',\n",
    "    marginal_kws={'color' : 'slategray'},\n",
    "    vlim=(1, 800)\n",
    ").ax_joint\n",
    "\n",
    "ax.axes.set_xlim((-1, 0.35))\n",
    "\n",
    "mf.draw_xy(ax)\n",
    "\n",
    "ax.invert_yaxis()\n",
    "ax.invert_xaxis()\n",
    "\n",
    "ax.axhline(0, **rt.hline_kwargs)\n",
    "ax.axvline(0, **rt.hline_kwargs)\n",
    "\n",
    "ax.set_ylabel(\n",
    "    f\"%s offset performance\\n{rt.perf_label}\" % \"$\\\\it{GO}_{AF,ind}$\",\n",
    "    fontsize=14\n",
    ")\n",
    "ax.set_xlabel(\n",
    "    f\"{rt.factor_names['pooled']} performance\\n{rt.perf_label}\",\n",
    "    fontsize=14\n",
    ")\n",
    "\n",
    "ax.set_title(None)\n",
    "\n",
    "mf.save_pdf(f'{fig_dir}/af-ind_af-pop_scatter2d.pdf')\n",
    "\n",
    "plt.show()"
   ]
  },
  {
   "cell_type": "markdown",
   "id": "5a6516e4",
   "metadata": {},
   "source": [
    "<a id='sanity'></a>\n",
    "# sanity check\n",
    "\n",
    "make sure my recalculated scores match the ones I already have saved\n",
    "\n",
    "[top](#home)"
   ]
  },
  {
   "cell_type": "code",
   "execution_count": 90,
   "id": "56306980",
   "metadata": {
    "scrolled": true
   },
   "outputs": [
    {
     "name": "stdout",
     "output_type": "stream",
     "text": [
      "\u001b[93mkeeping records for models using 20k loci\u001b[0m\n",
      "pooled shape = (216000, 17)\n",
      "Function `load_results` completed after : 0-00:00:21\n"
     ]
    },
    {
     "data": {
      "text/html": [
       "<div>\n",
       "<style scoped>\n",
       "    .dataframe tbody tr th:only-of-type {\n",
       "        vertical-align: middle;\n",
       "    }\n",
       "\n",
       "    .dataframe tbody tr th {\n",
       "        vertical-align: top;\n",
       "    }\n",
       "\n",
       "    .dataframe thead th {\n",
       "        text-align: right;\n",
       "    }\n",
       "</style>\n",
       "<table border=\"1\" class=\"dataframe\">\n",
       "  <thead>\n",
       "    <tr style=\"text-align: right;\">\n",
       "      <th></th>\n",
       "      <th>garden</th>\n",
       "      <th>score</th>\n",
       "      <th>final_LA</th>\n",
       "      <th>glevel</th>\n",
       "      <th>plevel</th>\n",
       "      <th>pleio</th>\n",
       "      <th>slevel</th>\n",
       "      <th>landscape</th>\n",
       "      <th>popsize</th>\n",
       "      <th>migration</th>\n",
       "      <th>simulation_level</th>\n",
       "      <th>rep</th>\n",
       "      <th>num_loci</th>\n",
       "      <th>seed</th>\n",
       "      <th>demography</th>\n",
       "      <th>source</th>\n",
       "      <th>offset_level</th>\n",
       "      <th>seed_garden</th>\n",
       "      <th>final_la_bin</th>\n",
       "    </tr>\n",
       "  </thead>\n",
       "  <tbody>\n",
       "    <tr>\n",
       "      <th>highly-polygenic_2-trait_no pleiotropy_equal-S_Est-Clines_N-cline-center-to-edge_m-constant_0-225_500_1</th>\n",
       "      <td>1</td>\n",
       "      <td>-0.676768</td>\n",
       "      <td>0.501332</td>\n",
       "      <td>highly-polygenic</td>\n",
       "      <td>2-trait</td>\n",
       "      <td>no pleiotropy</td>\n",
       "      <td>equal-S</td>\n",
       "      <td>Est-Clines</td>\n",
       "      <td>N-cline-center-to-edge</td>\n",
       "      <td>m-constant</td>\n",
       "      <td>highly-polygenic_2-trait_no pleiotropy_equal-S...</td>\n",
       "      <td>0-225</td>\n",
       "      <td>500</td>\n",
       "      <td>1231109</td>\n",
       "      <td>N-cline-center-to-edge_m-constant</td>\n",
       "      <td>pooled</td>\n",
       "      <td>highly-polygenic_2-trait_no pleiotropy_equal-S...</td>\n",
       "      <td>1231109_1</td>\n",
       "      <td>0.42 &lt; LA ≤ 0.58</td>\n",
       "    </tr>\n",
       "    <tr>\n",
       "      <th>highly-polygenic_2-trait_no pleiotropy_equal-S_Est-Clines_N-cline-center-to-edge_m-constant_0-225_500_2</th>\n",
       "      <td>2</td>\n",
       "      <td>-0.735758</td>\n",
       "      <td>0.501332</td>\n",
       "      <td>highly-polygenic</td>\n",
       "      <td>2-trait</td>\n",
       "      <td>no pleiotropy</td>\n",
       "      <td>equal-S</td>\n",
       "      <td>Est-Clines</td>\n",
       "      <td>N-cline-center-to-edge</td>\n",
       "      <td>m-constant</td>\n",
       "      <td>highly-polygenic_2-trait_no pleiotropy_equal-S...</td>\n",
       "      <td>0-225</td>\n",
       "      <td>500</td>\n",
       "      <td>1231109</td>\n",
       "      <td>N-cline-center-to-edge_m-constant</td>\n",
       "      <td>pooled</td>\n",
       "      <td>highly-polygenic_2-trait_no pleiotropy_equal-S...</td>\n",
       "      <td>1231109_2</td>\n",
       "      <td>0.42 &lt; LA ≤ 0.58</td>\n",
       "    </tr>\n",
       "    <tr>\n",
       "      <th>highly-polygenic_2-trait_no pleiotropy_equal-S_Est-Clines_N-cline-center-to-edge_m-constant_0-225_500_3</th>\n",
       "      <td>3</td>\n",
       "      <td>-0.794747</td>\n",
       "      <td>0.501332</td>\n",
       "      <td>highly-polygenic</td>\n",
       "      <td>2-trait</td>\n",
       "      <td>no pleiotropy</td>\n",
       "      <td>equal-S</td>\n",
       "      <td>Est-Clines</td>\n",
       "      <td>N-cline-center-to-edge</td>\n",
       "      <td>m-constant</td>\n",
       "      <td>highly-polygenic_2-trait_no pleiotropy_equal-S...</td>\n",
       "      <td>0-225</td>\n",
       "      <td>500</td>\n",
       "      <td>1231109</td>\n",
       "      <td>N-cline-center-to-edge_m-constant</td>\n",
       "      <td>pooled</td>\n",
       "      <td>highly-polygenic_2-trait_no pleiotropy_equal-S...</td>\n",
       "      <td>1231109_3</td>\n",
       "      <td>0.42 &lt; LA ≤ 0.58</td>\n",
       "    </tr>\n",
       "    <tr>\n",
       "      <th>highly-polygenic_2-trait_no pleiotropy_equal-S_Est-Clines_N-cline-center-to-edge_m-constant_0-225_500_4</th>\n",
       "      <td>4</td>\n",
       "      <td>-0.856566</td>\n",
       "      <td>0.501332</td>\n",
       "      <td>highly-polygenic</td>\n",
       "      <td>2-trait</td>\n",
       "      <td>no pleiotropy</td>\n",
       "      <td>equal-S</td>\n",
       "      <td>Est-Clines</td>\n",
       "      <td>N-cline-center-to-edge</td>\n",
       "      <td>m-constant</td>\n",
       "      <td>highly-polygenic_2-trait_no pleiotropy_equal-S...</td>\n",
       "      <td>0-225</td>\n",
       "      <td>500</td>\n",
       "      <td>1231109</td>\n",
       "      <td>N-cline-center-to-edge_m-constant</td>\n",
       "      <td>pooled</td>\n",
       "      <td>highly-polygenic_2-trait_no pleiotropy_equal-S...</td>\n",
       "      <td>1231109_4</td>\n",
       "      <td>0.42 &lt; LA ≤ 0.58</td>\n",
       "    </tr>\n",
       "    <tr>\n",
       "      <th>highly-polygenic_2-trait_no pleiotropy_equal-S_Est-Clines_N-cline-center-to-edge_m-constant_0-225_500_5</th>\n",
       "      <td>5</td>\n",
       "      <td>-0.906263</td>\n",
       "      <td>0.501332</td>\n",
       "      <td>highly-polygenic</td>\n",
       "      <td>2-trait</td>\n",
       "      <td>no pleiotropy</td>\n",
       "      <td>equal-S</td>\n",
       "      <td>Est-Clines</td>\n",
       "      <td>N-cline-center-to-edge</td>\n",
       "      <td>m-constant</td>\n",
       "      <td>highly-polygenic_2-trait_no pleiotropy_equal-S...</td>\n",
       "      <td>0-225</td>\n",
       "      <td>500</td>\n",
       "      <td>1231109</td>\n",
       "      <td>N-cline-center-to-edge_m-constant</td>\n",
       "      <td>pooled</td>\n",
       "      <td>highly-polygenic_2-trait_no pleiotropy_equal-S...</td>\n",
       "      <td>1231109_5</td>\n",
       "      <td>0.42 &lt; LA ≤ 0.58</td>\n",
       "    </tr>\n",
       "    <tr>\n",
       "      <th>...</th>\n",
       "      <td>...</td>\n",
       "      <td>...</td>\n",
       "      <td>...</td>\n",
       "      <td>...</td>\n",
       "      <td>...</td>\n",
       "      <td>...</td>\n",
       "      <td>...</td>\n",
       "      <td>...</td>\n",
       "      <td>...</td>\n",
       "      <td>...</td>\n",
       "      <td>...</td>\n",
       "      <td>...</td>\n",
       "      <td>...</td>\n",
       "      <td>...</td>\n",
       "      <td>...</td>\n",
       "      <td>...</td>\n",
       "      <td>...</td>\n",
       "      <td>...</td>\n",
       "      <td>...</td>\n",
       "    </tr>\n",
       "    <tr>\n",
       "      <th>oligogenic_2-trait_pleiotropy_unequal-S_SS-Mtn_N-variable_m-variable_450-675_20000_96</th>\n",
       "      <td>96</td>\n",
       "      <td>-0.323659</td>\n",
       "      <td>0.382113</td>\n",
       "      <td>oligogenic</td>\n",
       "      <td>2-trait</td>\n",
       "      <td>pleiotropy</td>\n",
       "      <td>unequal-S</td>\n",
       "      <td>SS-Mtn</td>\n",
       "      <td>N-variable</td>\n",
       "      <td>m-variable</td>\n",
       "      <td>oligogenic_2-trait_pleiotropy_unequal-S_SS-Mtn...</td>\n",
       "      <td>450-675</td>\n",
       "      <td>20000</td>\n",
       "      <td>1231768</td>\n",
       "      <td>N-variable_m-variable</td>\n",
       "      <td>pooled</td>\n",
       "      <td>oligogenic_2-trait_pleiotropy_unequal-S_SS-Mtn...</td>\n",
       "      <td>1231768_96</td>\n",
       "      <td>0.27 &lt; LA ≤ 0.42</td>\n",
       "    </tr>\n",
       "    <tr>\n",
       "      <th>oligogenic_2-trait_pleiotropy_unequal-S_SS-Mtn_N-variable_m-variable_450-675_20000_97</th>\n",
       "      <td>97</td>\n",
       "      <td>-0.311476</td>\n",
       "      <td>0.382113</td>\n",
       "      <td>oligogenic</td>\n",
       "      <td>2-trait</td>\n",
       "      <td>pleiotropy</td>\n",
       "      <td>unequal-S</td>\n",
       "      <td>SS-Mtn</td>\n",
       "      <td>N-variable</td>\n",
       "      <td>m-variable</td>\n",
       "      <td>oligogenic_2-trait_pleiotropy_unequal-S_SS-Mtn...</td>\n",
       "      <td>450-675</td>\n",
       "      <td>20000</td>\n",
       "      <td>1231768</td>\n",
       "      <td>N-variable_m-variable</td>\n",
       "      <td>pooled</td>\n",
       "      <td>oligogenic_2-trait_pleiotropy_unequal-S_SS-Mtn...</td>\n",
       "      <td>1231768_97</td>\n",
       "      <td>0.27 &lt; LA ≤ 0.42</td>\n",
       "    </tr>\n",
       "    <tr>\n",
       "      <th>oligogenic_2-trait_pleiotropy_unequal-S_SS-Mtn_N-variable_m-variable_450-675_20000_98</th>\n",
       "      <td>98</td>\n",
       "      <td>-0.297263</td>\n",
       "      <td>0.382113</td>\n",
       "      <td>oligogenic</td>\n",
       "      <td>2-trait</td>\n",
       "      <td>pleiotropy</td>\n",
       "      <td>unequal-S</td>\n",
       "      <td>SS-Mtn</td>\n",
       "      <td>N-variable</td>\n",
       "      <td>m-variable</td>\n",
       "      <td>oligogenic_2-trait_pleiotropy_unequal-S_SS-Mtn...</td>\n",
       "      <td>450-675</td>\n",
       "      <td>20000</td>\n",
       "      <td>1231768</td>\n",
       "      <td>N-variable_m-variable</td>\n",
       "      <td>pooled</td>\n",
       "      <td>oligogenic_2-trait_pleiotropy_unequal-S_SS-Mtn...</td>\n",
       "      <td>1231768_98</td>\n",
       "      <td>0.27 &lt; LA ≤ 0.42</td>\n",
       "    </tr>\n",
       "    <tr>\n",
       "      <th>oligogenic_2-trait_pleiotropy_unequal-S_SS-Mtn_N-variable_m-variable_450-675_20000_99</th>\n",
       "      <td>99</td>\n",
       "      <td>-0.316349</td>\n",
       "      <td>0.382113</td>\n",
       "      <td>oligogenic</td>\n",
       "      <td>2-trait</td>\n",
       "      <td>pleiotropy</td>\n",
       "      <td>unequal-S</td>\n",
       "      <td>SS-Mtn</td>\n",
       "      <td>N-variable</td>\n",
       "      <td>m-variable</td>\n",
       "      <td>oligogenic_2-trait_pleiotropy_unequal-S_SS-Mtn...</td>\n",
       "      <td>450-675</td>\n",
       "      <td>20000</td>\n",
       "      <td>1231768</td>\n",
       "      <td>N-variable_m-variable</td>\n",
       "      <td>pooled</td>\n",
       "      <td>oligogenic_2-trait_pleiotropy_unequal-S_SS-Mtn...</td>\n",
       "      <td>1231768_99</td>\n",
       "      <td>0.27 &lt; LA ≤ 0.42</td>\n",
       "    </tr>\n",
       "    <tr>\n",
       "      <th>oligogenic_2-trait_pleiotropy_unequal-S_SS-Mtn_N-variable_m-variable_450-675_20000_100</th>\n",
       "      <td>100</td>\n",
       "      <td>-0.293608</td>\n",
       "      <td>0.382113</td>\n",
       "      <td>oligogenic</td>\n",
       "      <td>2-trait</td>\n",
       "      <td>pleiotropy</td>\n",
       "      <td>unequal-S</td>\n",
       "      <td>SS-Mtn</td>\n",
       "      <td>N-variable</td>\n",
       "      <td>m-variable</td>\n",
       "      <td>oligogenic_2-trait_pleiotropy_unequal-S_SS-Mtn...</td>\n",
       "      <td>450-675</td>\n",
       "      <td>20000</td>\n",
       "      <td>1231768</td>\n",
       "      <td>N-variable_m-variable</td>\n",
       "      <td>pooled</td>\n",
       "      <td>oligogenic_2-trait_pleiotropy_unequal-S_SS-Mtn...</td>\n",
       "      <td>1231768_100</td>\n",
       "      <td>0.27 &lt; LA ≤ 0.42</td>\n",
       "    </tr>\n",
       "  </tbody>\n",
       "</table>\n",
       "<p>216000 rows × 19 columns</p>\n",
       "</div>"
      ],
      "text/plain": [
       "                                                    garden     score  \\\n",
       "highly-polygenic_2-trait_no pleiotropy_equal-S_...       1 -0.676768   \n",
       "highly-polygenic_2-trait_no pleiotropy_equal-S_...       2 -0.735758   \n",
       "highly-polygenic_2-trait_no pleiotropy_equal-S_...       3 -0.794747   \n",
       "highly-polygenic_2-trait_no pleiotropy_equal-S_...       4 -0.856566   \n",
       "highly-polygenic_2-trait_no pleiotropy_equal-S_...       5 -0.906263   \n",
       "...                                                    ...       ...   \n",
       "oligogenic_2-trait_pleiotropy_unequal-S_SS-Mtn_...      96 -0.323659   \n",
       "oligogenic_2-trait_pleiotropy_unequal-S_SS-Mtn_...      97 -0.311476   \n",
       "oligogenic_2-trait_pleiotropy_unequal-S_SS-Mtn_...      98 -0.297263   \n",
       "oligogenic_2-trait_pleiotropy_unequal-S_SS-Mtn_...      99 -0.316349   \n",
       "oligogenic_2-trait_pleiotropy_unequal-S_SS-Mtn_...     100 -0.293608   \n",
       "\n",
       "                                                    final_LA  \\\n",
       "highly-polygenic_2-trait_no pleiotropy_equal-S_...  0.501332   \n",
       "highly-polygenic_2-trait_no pleiotropy_equal-S_...  0.501332   \n",
       "highly-polygenic_2-trait_no pleiotropy_equal-S_...  0.501332   \n",
       "highly-polygenic_2-trait_no pleiotropy_equal-S_...  0.501332   \n",
       "highly-polygenic_2-trait_no pleiotropy_equal-S_...  0.501332   \n",
       "...                                                      ...   \n",
       "oligogenic_2-trait_pleiotropy_unequal-S_SS-Mtn_...  0.382113   \n",
       "oligogenic_2-trait_pleiotropy_unequal-S_SS-Mtn_...  0.382113   \n",
       "oligogenic_2-trait_pleiotropy_unequal-S_SS-Mtn_...  0.382113   \n",
       "oligogenic_2-trait_pleiotropy_unequal-S_SS-Mtn_...  0.382113   \n",
       "oligogenic_2-trait_pleiotropy_unequal-S_SS-Mtn_...  0.382113   \n",
       "\n",
       "                                                              glevel   plevel  \\\n",
       "highly-polygenic_2-trait_no pleiotropy_equal-S_...  highly-polygenic  2-trait   \n",
       "highly-polygenic_2-trait_no pleiotropy_equal-S_...  highly-polygenic  2-trait   \n",
       "highly-polygenic_2-trait_no pleiotropy_equal-S_...  highly-polygenic  2-trait   \n",
       "highly-polygenic_2-trait_no pleiotropy_equal-S_...  highly-polygenic  2-trait   \n",
       "highly-polygenic_2-trait_no pleiotropy_equal-S_...  highly-polygenic  2-trait   \n",
       "...                                                              ...      ...   \n",
       "oligogenic_2-trait_pleiotropy_unequal-S_SS-Mtn_...        oligogenic  2-trait   \n",
       "oligogenic_2-trait_pleiotropy_unequal-S_SS-Mtn_...        oligogenic  2-trait   \n",
       "oligogenic_2-trait_pleiotropy_unequal-S_SS-Mtn_...        oligogenic  2-trait   \n",
       "oligogenic_2-trait_pleiotropy_unequal-S_SS-Mtn_...        oligogenic  2-trait   \n",
       "oligogenic_2-trait_pleiotropy_unequal-S_SS-Mtn_...        oligogenic  2-trait   \n",
       "\n",
       "                                                            pleio     slevel  \\\n",
       "highly-polygenic_2-trait_no pleiotropy_equal-S_...  no pleiotropy    equal-S   \n",
       "highly-polygenic_2-trait_no pleiotropy_equal-S_...  no pleiotropy    equal-S   \n",
       "highly-polygenic_2-trait_no pleiotropy_equal-S_...  no pleiotropy    equal-S   \n",
       "highly-polygenic_2-trait_no pleiotropy_equal-S_...  no pleiotropy    equal-S   \n",
       "highly-polygenic_2-trait_no pleiotropy_equal-S_...  no pleiotropy    equal-S   \n",
       "...                                                           ...        ...   \n",
       "oligogenic_2-trait_pleiotropy_unequal-S_SS-Mtn_...     pleiotropy  unequal-S   \n",
       "oligogenic_2-trait_pleiotropy_unequal-S_SS-Mtn_...     pleiotropy  unequal-S   \n",
       "oligogenic_2-trait_pleiotropy_unequal-S_SS-Mtn_...     pleiotropy  unequal-S   \n",
       "oligogenic_2-trait_pleiotropy_unequal-S_SS-Mtn_...     pleiotropy  unequal-S   \n",
       "oligogenic_2-trait_pleiotropy_unequal-S_SS-Mtn_...     pleiotropy  unequal-S   \n",
       "\n",
       "                                                     landscape  \\\n",
       "highly-polygenic_2-trait_no pleiotropy_equal-S_...  Est-Clines   \n",
       "highly-polygenic_2-trait_no pleiotropy_equal-S_...  Est-Clines   \n",
       "highly-polygenic_2-trait_no pleiotropy_equal-S_...  Est-Clines   \n",
       "highly-polygenic_2-trait_no pleiotropy_equal-S_...  Est-Clines   \n",
       "highly-polygenic_2-trait_no pleiotropy_equal-S_...  Est-Clines   \n",
       "...                                                        ...   \n",
       "oligogenic_2-trait_pleiotropy_unequal-S_SS-Mtn_...      SS-Mtn   \n",
       "oligogenic_2-trait_pleiotropy_unequal-S_SS-Mtn_...      SS-Mtn   \n",
       "oligogenic_2-trait_pleiotropy_unequal-S_SS-Mtn_...      SS-Mtn   \n",
       "oligogenic_2-trait_pleiotropy_unequal-S_SS-Mtn_...      SS-Mtn   \n",
       "oligogenic_2-trait_pleiotropy_unequal-S_SS-Mtn_...      SS-Mtn   \n",
       "\n",
       "                                                                   popsize  \\\n",
       "highly-polygenic_2-trait_no pleiotropy_equal-S_...  N-cline-center-to-edge   \n",
       "highly-polygenic_2-trait_no pleiotropy_equal-S_...  N-cline-center-to-edge   \n",
       "highly-polygenic_2-trait_no pleiotropy_equal-S_...  N-cline-center-to-edge   \n",
       "highly-polygenic_2-trait_no pleiotropy_equal-S_...  N-cline-center-to-edge   \n",
       "highly-polygenic_2-trait_no pleiotropy_equal-S_...  N-cline-center-to-edge   \n",
       "...                                                                    ...   \n",
       "oligogenic_2-trait_pleiotropy_unequal-S_SS-Mtn_...              N-variable   \n",
       "oligogenic_2-trait_pleiotropy_unequal-S_SS-Mtn_...              N-variable   \n",
       "oligogenic_2-trait_pleiotropy_unequal-S_SS-Mtn_...              N-variable   \n",
       "oligogenic_2-trait_pleiotropy_unequal-S_SS-Mtn_...              N-variable   \n",
       "oligogenic_2-trait_pleiotropy_unequal-S_SS-Mtn_...              N-variable   \n",
       "\n",
       "                                                     migration  \\\n",
       "highly-polygenic_2-trait_no pleiotropy_equal-S_...  m-constant   \n",
       "highly-polygenic_2-trait_no pleiotropy_equal-S_...  m-constant   \n",
       "highly-polygenic_2-trait_no pleiotropy_equal-S_...  m-constant   \n",
       "highly-polygenic_2-trait_no pleiotropy_equal-S_...  m-constant   \n",
       "highly-polygenic_2-trait_no pleiotropy_equal-S_...  m-constant   \n",
       "...                                                        ...   \n",
       "oligogenic_2-trait_pleiotropy_unequal-S_SS-Mtn_...  m-variable   \n",
       "oligogenic_2-trait_pleiotropy_unequal-S_SS-Mtn_...  m-variable   \n",
       "oligogenic_2-trait_pleiotropy_unequal-S_SS-Mtn_...  m-variable   \n",
       "oligogenic_2-trait_pleiotropy_unequal-S_SS-Mtn_...  m-variable   \n",
       "oligogenic_2-trait_pleiotropy_unequal-S_SS-Mtn_...  m-variable   \n",
       "\n",
       "                                                                                     simulation_level  \\\n",
       "highly-polygenic_2-trait_no pleiotropy_equal-S_...  highly-polygenic_2-trait_no pleiotropy_equal-S...   \n",
       "highly-polygenic_2-trait_no pleiotropy_equal-S_...  highly-polygenic_2-trait_no pleiotropy_equal-S...   \n",
       "highly-polygenic_2-trait_no pleiotropy_equal-S_...  highly-polygenic_2-trait_no pleiotropy_equal-S...   \n",
       "highly-polygenic_2-trait_no pleiotropy_equal-S_...  highly-polygenic_2-trait_no pleiotropy_equal-S...   \n",
       "highly-polygenic_2-trait_no pleiotropy_equal-S_...  highly-polygenic_2-trait_no pleiotropy_equal-S...   \n",
       "...                                                                                               ...   \n",
       "oligogenic_2-trait_pleiotropy_unequal-S_SS-Mtn_...  oligogenic_2-trait_pleiotropy_unequal-S_SS-Mtn...   \n",
       "oligogenic_2-trait_pleiotropy_unequal-S_SS-Mtn_...  oligogenic_2-trait_pleiotropy_unequal-S_SS-Mtn...   \n",
       "oligogenic_2-trait_pleiotropy_unequal-S_SS-Mtn_...  oligogenic_2-trait_pleiotropy_unequal-S_SS-Mtn...   \n",
       "oligogenic_2-trait_pleiotropy_unequal-S_SS-Mtn_...  oligogenic_2-trait_pleiotropy_unequal-S_SS-Mtn...   \n",
       "oligogenic_2-trait_pleiotropy_unequal-S_SS-Mtn_...  oligogenic_2-trait_pleiotropy_unequal-S_SS-Mtn...   \n",
       "\n",
       "                                                        rep num_loci     seed  \\\n",
       "highly-polygenic_2-trait_no pleiotropy_equal-S_...    0-225      500  1231109   \n",
       "highly-polygenic_2-trait_no pleiotropy_equal-S_...    0-225      500  1231109   \n",
       "highly-polygenic_2-trait_no pleiotropy_equal-S_...    0-225      500  1231109   \n",
       "highly-polygenic_2-trait_no pleiotropy_equal-S_...    0-225      500  1231109   \n",
       "highly-polygenic_2-trait_no pleiotropy_equal-S_...    0-225      500  1231109   \n",
       "...                                                     ...      ...      ...   \n",
       "oligogenic_2-trait_pleiotropy_unequal-S_SS-Mtn_...  450-675    20000  1231768   \n",
       "oligogenic_2-trait_pleiotropy_unequal-S_SS-Mtn_...  450-675    20000  1231768   \n",
       "oligogenic_2-trait_pleiotropy_unequal-S_SS-Mtn_...  450-675    20000  1231768   \n",
       "oligogenic_2-trait_pleiotropy_unequal-S_SS-Mtn_...  450-675    20000  1231768   \n",
       "oligogenic_2-trait_pleiotropy_unequal-S_SS-Mtn_...  450-675    20000  1231768   \n",
       "\n",
       "                                                                           demography  \\\n",
       "highly-polygenic_2-trait_no pleiotropy_equal-S_...  N-cline-center-to-edge_m-constant   \n",
       "highly-polygenic_2-trait_no pleiotropy_equal-S_...  N-cline-center-to-edge_m-constant   \n",
       "highly-polygenic_2-trait_no pleiotropy_equal-S_...  N-cline-center-to-edge_m-constant   \n",
       "highly-polygenic_2-trait_no pleiotropy_equal-S_...  N-cline-center-to-edge_m-constant   \n",
       "highly-polygenic_2-trait_no pleiotropy_equal-S_...  N-cline-center-to-edge_m-constant   \n",
       "...                                                                               ...   \n",
       "oligogenic_2-trait_pleiotropy_unequal-S_SS-Mtn_...              N-variable_m-variable   \n",
       "oligogenic_2-trait_pleiotropy_unequal-S_SS-Mtn_...              N-variable_m-variable   \n",
       "oligogenic_2-trait_pleiotropy_unequal-S_SS-Mtn_...              N-variable_m-variable   \n",
       "oligogenic_2-trait_pleiotropy_unequal-S_SS-Mtn_...              N-variable_m-variable   \n",
       "oligogenic_2-trait_pleiotropy_unequal-S_SS-Mtn_...              N-variable_m-variable   \n",
       "\n",
       "                                                    source  \\\n",
       "highly-polygenic_2-trait_no pleiotropy_equal-S_...  pooled   \n",
       "highly-polygenic_2-trait_no pleiotropy_equal-S_...  pooled   \n",
       "highly-polygenic_2-trait_no pleiotropy_equal-S_...  pooled   \n",
       "highly-polygenic_2-trait_no pleiotropy_equal-S_...  pooled   \n",
       "highly-polygenic_2-trait_no pleiotropy_equal-S_...  pooled   \n",
       "...                                                    ...   \n",
       "oligogenic_2-trait_pleiotropy_unequal-S_SS-Mtn_...  pooled   \n",
       "oligogenic_2-trait_pleiotropy_unequal-S_SS-Mtn_...  pooled   \n",
       "oligogenic_2-trait_pleiotropy_unequal-S_SS-Mtn_...  pooled   \n",
       "oligogenic_2-trait_pleiotropy_unequal-S_SS-Mtn_...  pooled   \n",
       "oligogenic_2-trait_pleiotropy_unequal-S_SS-Mtn_...  pooled   \n",
       "\n",
       "                                                                                         offset_level  \\\n",
       "highly-polygenic_2-trait_no pleiotropy_equal-S_...  highly-polygenic_2-trait_no pleiotropy_equal-S...   \n",
       "highly-polygenic_2-trait_no pleiotropy_equal-S_...  highly-polygenic_2-trait_no pleiotropy_equal-S...   \n",
       "highly-polygenic_2-trait_no pleiotropy_equal-S_...  highly-polygenic_2-trait_no pleiotropy_equal-S...   \n",
       "highly-polygenic_2-trait_no pleiotropy_equal-S_...  highly-polygenic_2-trait_no pleiotropy_equal-S...   \n",
       "highly-polygenic_2-trait_no pleiotropy_equal-S_...  highly-polygenic_2-trait_no pleiotropy_equal-S...   \n",
       "...                                                                                               ...   \n",
       "oligogenic_2-trait_pleiotropy_unequal-S_SS-Mtn_...  oligogenic_2-trait_pleiotropy_unequal-S_SS-Mtn...   \n",
       "oligogenic_2-trait_pleiotropy_unequal-S_SS-Mtn_...  oligogenic_2-trait_pleiotropy_unequal-S_SS-Mtn...   \n",
       "oligogenic_2-trait_pleiotropy_unequal-S_SS-Mtn_...  oligogenic_2-trait_pleiotropy_unequal-S_SS-Mtn...   \n",
       "oligogenic_2-trait_pleiotropy_unequal-S_SS-Mtn_...  oligogenic_2-trait_pleiotropy_unequal-S_SS-Mtn...   \n",
       "oligogenic_2-trait_pleiotropy_unequal-S_SS-Mtn_...  oligogenic_2-trait_pleiotropy_unequal-S_SS-Mtn...   \n",
       "\n",
       "                                                    seed_garden  \\\n",
       "highly-polygenic_2-trait_no pleiotropy_equal-S_...    1231109_1   \n",
       "highly-polygenic_2-trait_no pleiotropy_equal-S_...    1231109_2   \n",
       "highly-polygenic_2-trait_no pleiotropy_equal-S_...    1231109_3   \n",
       "highly-polygenic_2-trait_no pleiotropy_equal-S_...    1231109_4   \n",
       "highly-polygenic_2-trait_no pleiotropy_equal-S_...    1231109_5   \n",
       "...                                                         ...   \n",
       "oligogenic_2-trait_pleiotropy_unequal-S_SS-Mtn_...   1231768_96   \n",
       "oligogenic_2-trait_pleiotropy_unequal-S_SS-Mtn_...   1231768_97   \n",
       "oligogenic_2-trait_pleiotropy_unequal-S_SS-Mtn_...   1231768_98   \n",
       "oligogenic_2-trait_pleiotropy_unequal-S_SS-Mtn_...   1231768_99   \n",
       "oligogenic_2-trait_pleiotropy_unequal-S_SS-Mtn_...  1231768_100   \n",
       "\n",
       "                                                        final_la_bin  \n",
       "highly-polygenic_2-trait_no pleiotropy_equal-S_...  0.42 < LA ≤ 0.58  \n",
       "highly-polygenic_2-trait_no pleiotropy_equal-S_...  0.42 < LA ≤ 0.58  \n",
       "highly-polygenic_2-trait_no pleiotropy_equal-S_...  0.42 < LA ≤ 0.58  \n",
       "highly-polygenic_2-trait_no pleiotropy_equal-S_...  0.42 < LA ≤ 0.58  \n",
       "highly-polygenic_2-trait_no pleiotropy_equal-S_...  0.42 < LA ≤ 0.58  \n",
       "...                                                              ...  \n",
       "oligogenic_2-trait_pleiotropy_unequal-S_SS-Mtn_...  0.27 < LA ≤ 0.42  \n",
       "oligogenic_2-trait_pleiotropy_unequal-S_SS-Mtn_...  0.27 < LA ≤ 0.42  \n",
       "oligogenic_2-trait_pleiotropy_unequal-S_SS-Mtn_...  0.27 < LA ≤ 0.42  \n",
       "oligogenic_2-trait_pleiotropy_unequal-S_SS-Mtn_...  0.27 < LA ≤ 0.42  \n",
       "oligogenic_2-trait_pleiotropy_unequal-S_SS-Mtn_...  0.27 < LA ≤ 0.42  \n",
       "\n",
       "[216000 rows x 19 columns]"
      ]
     },
     "execution_count": 90,
     "metadata": {},
     "output_type": "execute_result"
    }
   ],
   "source": [
    "# get previously saved individual-level results\n",
    "\n",
    "# drop pop-level results\n",
    "results = rt.load_results('pooled')  # all_results[all_results.source == 'pooled'].copy()\n",
    "results.index = results.offset_level.tolist()\n",
    "\n",
    "results"
   ]
  },
  {
   "cell_type": "code",
   "execution_count": 102,
   "id": "e98cabcb",
   "metadata": {},
   "outputs": [
    {
     "data": {
      "text/plain": [
       "True"
      ]
     },
     "execution_count": 102,
     "metadata": {},
     "output_type": "execute_result"
    }
   ],
   "source": [
    "all(pooled_results.index.isin(results.index))"
   ]
  },
  {
   "cell_type": "code",
   "execution_count": 104,
   "id": "dd1abdb1",
   "metadata": {},
   "outputs": [
    {
     "data": {
      "text/plain": [
       "True"
      ]
     },
     "execution_count": 104,
     "metadata": {},
     "output_type": "execute_result"
    }
   ],
   "source": [
    "all(results.index.isin(pooled_results.index))"
   ]
  },
  {
   "cell_type": "code",
   "execution_count": 93,
   "id": "9b9eca72",
   "metadata": {},
   "outputs": [
    {
     "name": "stdout",
     "output_type": "stream",
     "text": [
      "pearson 1.0\n",
      "spearman 1.0\n",
      "kendall 1.0\n"
     ]
    }
   ],
   "source": [
    "for method in ['pearson', 'spearman', 'kendall']:\n",
    "    print(method, pooled_results.loc[results.index].score.corr(results.score, method=method))"
   ]
  },
  {
   "cell_type": "code",
   "execution_count": null,
   "id": "d8c550c0",
   "metadata": {},
   "outputs": [],
   "source": []
  },
  {
   "cell_type": "code",
   "execution_count": 95,
   "id": "12806da2",
   "metadata": {},
   "outputs": [
    {
     "name": "stdout",
     "output_type": "stream",
     "text": [
      "0 True\n",
      "1 True\n",
      "2 True\n",
      "3 True\n",
      "4 True\n",
      "5 True\n",
      "6 True\n",
      "7 True\n",
      "8 True\n",
      "9 True\n",
      "10 True\n",
      "11 True\n",
      "12 True\n",
      "13 True\n",
      "14 False\n",
      "15 False\n",
      "16 False\n",
      "17 False\n",
      "18 False\n",
      "19 False\n"
     ]
    }
   ],
   "source": [
    "# how far in do I have to round until I get the same answer? A: 14 decimal places\n",
    "for round_at in range(20):\n",
    "    print(\n",
    "        round_at, \n",
    "        all(pooled_results.loc[results.index].score.round(round_at) == results.score.round(round_at))\n",
    "    )"
   ]
  },
  {
   "cell_type": "code",
   "execution_count": 96,
   "id": "22887870",
   "metadata": {},
   "outputs": [
    {
     "data": {
      "image/png": "[encoded data removed]",
      "text/plain": [
       "<Figure size 432x288 with 1 Axes>"
      ]
     },
     "metadata": {
      "needs_background": "light"
     },
     "output_type": "display_data"
    }
   ],
   "source": [
    "ax = plt.scatter(pooled_results.loc[results.index].score, results.score)\n",
    "\n",
    "mf.draw_xy(ax.axes)"
   ]
  },
  {
   "cell_type": "code",
   "execution_count": null,
   "id": "188966f1",
   "metadata": {},
   "outputs": [],
   "source": []
  },
  {
   "cell_type": "code",
   "execution_count": null,
   "id": "91eb00b1",
   "metadata": {},
   "outputs": [],
   "source": []
  },
  {
   "cell_type": "code",
   "execution_count": 97,
   "id": "edff3de4",
   "metadata": {},
   "outputs": [
    {
     "data": {
      "text/plain": [
       "'0-00:03:22'"
      ]
     },
     "execution_count": 97,
     "metadata": {},
     "output_type": "execute_result"
    }
   ],
   "source": [
    "formatclock(dt.now() - t0)"
   ]
  },
  {
   "cell_type": "code",
   "execution_count": null,
   "id": "c4b05d72",
   "metadata": {},
   "outputs": [],
   "source": []
  },
  {
   "cell_type": "code",
   "execution_count": null,
   "id": "2310c7e3",
   "metadata": {},
   "outputs": [],
   "source": []
  },
  {
   "cell_type": "code",
   "execution_count": null,
   "id": "143b2262",
   "metadata": {},
   "outputs": [],
   "source": []
  }
 ],
 "metadata": {
  "kernelspec": {
   "display_name": "Python 3 (ipykernel)",
   "language": "python",
   "name": "python3"
  },
  "language_info": {
   "codemirror_mode": {
    "name": "ipython",
    "version": 3
   },
   "file_extension": ".py",
   "mimetype": "text/x-python",
   "name": "python",
   "nbconvert_exporter": "python",
   "pygments_lexer": "ipython3",
   "version": "3.8.5"
  }
 },
 "nbformat": 4,
 "nbformat_minor": 5
}
