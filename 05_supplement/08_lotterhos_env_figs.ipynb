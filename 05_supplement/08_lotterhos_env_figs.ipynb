{
 "cells": [
  {
   "cell_type": "markdown",
   "id": "360a2b85",
   "metadata": {},
   "source": [
    "### purpose\n",
    "\n",
    "recreate the environmental figures from Lotterhos 2023\n",
    "\n",
    "### notes\n",
    "\n",
    "code almost identical to notebook 02.10.04 from https://github.com/brandonlind/mvp-offsets - I added a star to a MTN population"
   ]
  },
  {
   "cell_type": "code",
   "execution_count": 1,
   "id": "b00d48fd",
   "metadata": {},
   "outputs": [
    {
     "name": "stdout",
     "output_type": "stream",
     "text": [
      "#########################################################\n",
      "Today:\tAugust 12, 2024 - 16:00:43 EDT\n",
      "python version: 3.8.5\n",
      "conda env: mvp_env\n",
      "\n",
      "Current commit of \u001b[1mpythonimports\u001b[0m:\n",
      "\u001b[33mcommit 6a767410e7b569adbf9df526de108f22ef50aad8\u001b[m  \n",
      "Author: Brandon Lind <lind.brandon.m@gmail.com>  \n",
      "Date:   Wed Mar 6 13:42:13 2024 -0700\n",
      "\n",
      "Current commit of \u001b[94m\u001b[1mMVP_offsets\u001b[0m\u001b[0m:\n",
      "\u001b[33mcommit 5ce82f4d655645237a0f4026fa32e220226dc373\u001b[m  \n",
      "Author: Brandon Lind <lind.brandon.m@gmail.com>  \n",
      "Date:   Thu May 16 13:02:58 2024 -0400\n",
      "\n",
      "Current commit of \u001b[38;2;128;0;128m\u001b[1mMVP_runtime\u001b[0m\u001b[0m:\n",
      "\u001b[33mcommit df87dd2c708ac0fdeebcfaaca239473ca2c487af\u001b[m  \n",
      "Author: Brandon Lind <lind.brandon.m@gmail.com>  \n",
      "Date:   Tue Mar 19 16:17:46 2024 -0400\n",
      "#########################################################\n",
      "\n"
     ]
    },
    {
     "data": {
      "text/html": [
       "<details>\n",
       "<summary>Click to view session information</summary>\n",
       "<pre>\n",
       "-----\n",
       "MVP_06_validate_RONA        NA\n",
       "MVP_summary_functions       NA\n",
       "balance_queue               NA\n",
       "cartopy                     0.20.2\n",
       "ipyparallel                 7.1.0\n",
       "matplotlib                  3.5.2\n",
       "myclasses                   NA\n",
       "myfigs                      NA\n",
       "mymaps                      NA\n",
       "myslurm                     NA\n",
       "numpy                       1.22.1\n",
       "pandas                      1.3.5\n",
       "pythonimports               NA\n",
       "runtime_API                 NA\n",
       "seaborn                     0.11.2\n",
       "session_info                1.0.0\n",
       "tqdm                        4.62.1\n",
       "-----\n",
       "</pre>\n",
       "<details>\n",
       "<summary>Click to view modules imported as dependencies</summary>\n",
       "<pre>\n",
       "MVP_01_train_gradient_forests       NA\n",
       "MVP_03_validate_gradient_forests    NA\n",
       "MVP_10_train_lfmm2_offset           NA\n",
       "MVP_11_validate_lfmm2_offset        NA\n",
       "MVP_13_RDA_validation               NA\n",
       "PIL                                 8.4.0\n",
       "attr                                21.4.0\n",
       "backcall                            0.2.0\n",
       "beta_ufunc                          NA\n",
       "binom_ufunc                         NA\n",
       "bottleneck                          1.3.2\n",
       "certifi                             2023.05.07\n",
       "cffi                                1.15.0\n",
       "cycler                              0.10.0\n",
       "cython_runtime                      NA\n",
       "dateutil                            2.8.2\n",
       "debugpy                             1.5.1\n",
       "decorator                           5.1.1\n",
       "defusedxml                          0.7.1\n",
       "entrypoints                         0.4\n",
       "fiona                               1.9.5\n",
       "fontTools                           4.29.1\n",
       "ipykernel                           6.8.0\n",
       "ipython_genutils                    0.2.0\n",
       "ipywidgets                          7.6.5\n",
       "jedi                                0.18.1\n",
       "kiwisolver                          1.3.2\n",
       "matplotlib_venn                     0.11.6\n",
       "mpl_toolkits                        NA\n",
       "nbinom_ufunc                        NA\n",
       "numexpr                             2.8.1\n",
       "packaging                           21.3\n",
       "parso                               0.8.3\n",
       "patsy                               0.5.2\n",
       "pdf2image                           NA\n",
       "pexpect                             4.8.0\n",
       "pickleshare                         0.7.5\n",
       "pkg_resources                       NA\n",
       "prompt_toolkit                      3.0.26\n",
       "psutil                              5.9.0\n",
       "ptyprocess                          0.7.0\n",
       "pydev_ipython                       NA\n",
       "pydevconsole                        NA\n",
       "pydevd                              2.6.0\n",
       "pydevd_concurrency_analyser         NA\n",
       "pydevd_file_utils                   NA\n",
       "pydevd_plugins                      NA\n",
       "pydevd_tracing                      NA\n",
       "pygments                            2.11.2\n",
       "pyparsing                           3.0.7\n",
       "pyproj                              3.3.0\n",
       "pytz                                2021.3\n",
       "scipy                               1.7.3\n",
       "setuptools                          60.7.1\n",
       "shapefile                           2.2.0\n",
       "shapely                             1.8.0\n",
       "six                                 1.16.0\n",
       "statsmodels                         0.14.0\n",
       "storemagic                          NA\n",
       "tornado                             6.1\n",
       "traitlets                           5.1.1\n",
       "wcwidth                             0.2.5\n",
       "zmq                                 22.3.0\n",
       "</pre>\n",
       "</details> <!-- seems like this ends pre, so might as well be explicit -->\n",
       "<pre>\n",
       "-----\n",
       "IPython             7.31.1\n",
       "jupyter_client      7.1.2\n",
       "jupyter_core        4.9.1\n",
       "notebook            6.4.8\n",
       "-----\n",
       "Python 3.8.5 (default, Sep  4 2020, 07:30:14) [GCC 7.3.0]\n",
       "Linux-3.10.0-1160.25.1.el7.x86_64-x86_64-with-glibc2.10\n",
       "-----\n",
       "Session information updated at 2024-08-12 16:00\n",
       "</pre>\n",
       "</details>"
      ],
      "text/plain": [
       "<IPython.core.display.HTML object>"
      ]
     },
     "execution_count": 1,
     "metadata": {},
     "output_type": "execute_result"
    }
   ],
   "source": [
    "from pythonimports import *\n",
    "from myfigs import save_pdf\n",
    "\n",
    "import runtime_API as rt\n",
    "import MVP_summary_functions as mvp\n",
    "import MVP_06_validate_RONA as mvp06\n",
    "\n",
    "import seaborn as sns\n",
    "import matplotlib as mpl\n",
    "from matplotlib.lines import Line2D\n",
    "\n",
    "fig_dir = makedir(f'{rt.resdir}/figures/05_supplemental/08_lotterhos_env_figs')\n",
    "\n",
    "t0 = dt.now()\n",
    "\n",
    "rt.latest_commit()\n",
    "session_info.show()"
   ]
  },
  {
   "cell_type": "markdown",
   "id": "933abfe0",
   "metadata": {},
   "source": [
    "# map seed to landscape "
   ]
  },
  {
   "cell_type": "code",
   "execution_count": 2,
   "id": "63e16f5d",
   "metadata": {},
   "outputs": [
    {
     "name": "stderr",
     "output_type": "stream",
     "text": [
      "100%|███████████████| 2250/2250 [00:02<00:00, 861.04it/s]"
     ]
    },
    {
     "name": "stdout",
     "output_type": "stream",
     "text": [
      "Est-Clines [1231094, 1231095, 1231096, 1231097, 1231098]\n",
      "SS-Clines [1231099, 1231100, 1231101, 1231102, 1231103]\n",
      "SS-Mtn [1231104, 1231105, 1231106, 1231107, 1231108]\n"
     ]
    },
    {
     "name": "stderr",
     "output_type": "stream",
     "text": [
      "\n"
     ]
    }
   ],
   "source": [
    "params = mvp.read_params_file()\n",
    "\n",
    "seed_groups = params.groupby('landscape')['seed'].apply(list).to_dict()\n",
    "\n",
    "for landscape, lseeds in seed_groups.items():\n",
    "    print(landscape, lseeds[:5])"
   ]
  },
  {
   "cell_type": "markdown",
   "id": "663cd02d",
   "metadata": {},
   "source": [
    "# functions for figures"
   ]
  },
  {
   "cell_type": "code",
   "execution_count": 19,
   "id": "36cd3895",
   "metadata": {},
   "outputs": [],
   "source": [
    "# functions for plotting the conceptual landscape map\n",
    "# modified from 06_run_time_project/05_supplement/03_all_compare_workflows.ipynb\n",
    "def add_env2_legend(fig_object, fontsize=11, loc='center left', bbox_to_anchor=None, ncol=1, title=None,\n",
    "                    size_mult=2):\n",
    "    \"\"\"Add pretty legend to figure, `fig_object`.\n",
    "    \n",
    "    Parameters\n",
    "    ----------\n",
    "    fig_object : [matplotlib.figure.Figure or matplotlib.axes._subplots.AxesSubplot]\n",
    "        which object of the figure to add the legend\n",
    "    fontsize : int\n",
    "        the fontsize of the legend title and elements\n",
    "    loc : str\n",
    "        location of legend with respect to bbox_to_anchor location\n",
    "    bbox_to_anchor : tuple\n",
    "        Box that is used to position the legend in conjunction with *loc*.\n",
    "    ncol : int\n",
    "        the number of columns in the legend\n",
    "    title : str\n",
    "        legend title\n",
    "    size_mult : float\n",
    "        size multiplier\n",
    "    \"\"\"\n",
    "    legend_kws = dict(title=f'$\\it{title}$', fancybox=True, shadow=False,\n",
    "                      facecolor='whitesmoke', loc=loc, bbox_to_anchor=bbox_to_anchor,\n",
    "                      prop=dict(family='serif', size=fontsize))\n",
    "    \n",
    "    # get the things that go into the legend\n",
    "    handles = []\n",
    "    for size in sizes:\n",
    "        handles.append(\n",
    "            Line2D([0], [0], marker='o', color='none', markerfacecolor='k',\n",
    "                   markeredgecolor='k',\n",
    "                   label=Env2[size],\n",
    "                   markersize=size_mult*size if size != 0 else 1)\n",
    "        )\n",
    "\n",
    "    # create a legend\n",
    "    leg1 = fig_object.legend(handles=handles, ncol=ncol, **legend_kws)\n",
    "    fig_object.add_artist(leg1)\n",
    "    plt.setp(leg1.get_title(), family='serif', fontsize=fontsize+1)\n",
    "    leg1.get_title().set_multialignment('center')\n",
    "\n",
    "    return leg1\n",
    "\n",
    "def plot_pnas(fig, ax, landscape='SS-Mtn'):\n",
    "    \"\"\"Plot a PNAS-style map for each landscape.\"\"\"\n",
    "    seed = seed_groups[landscape][0]; print(f'{seed = }')\n",
    "    subset, locations, envdata = mvp06.get_pop_data(mvp.slimdir, seed)\n",
    "    \n",
    "    for pop, (lon, lat) in locations.iterrows():\n",
    "        e, t = envdata.loc[pop, ['sal_opt', 'temp_opt']]\n",
    "        # add garden location - newly added to original script\n",
    "        if pop == 1 and landscape=='SS-Mtn':\n",
    "            ax.scatter(\n",
    "                lon,\n",
    "                lat,\n",
    "                s=400,\n",
    "                marker='*',\n",
    "                color='none',\n",
    "                edgecolor='k',\n",
    "            )\n",
    "        # add black dot\n",
    "        ax.scatter(\n",
    "            lon,\n",
    "            lat,\n",
    "            s=50 * (sizes[Env2.index(e)] if landscape=='SS-Mtn' else \n",
    "                    temp_sizes[temp.index(e)]),\n",
    "            color='k'\n",
    "        )\n",
    "        # add colored dot on top\n",
    "        ax.scatter(\n",
    "            lon,\n",
    "            lat,\n",
    "            s=30,\n",
    "            color=coolwarm[temp.index(t)]\n",
    "        )\n",
    "\n",
    "    \n",
    "    ax.set_title(mvp.factor_names[landscape],\n",
    "                 fontdict={'fontsize' : 16, 'family' : 'serif'})\n",
    "\n",
    "    if landscape == 'Est-Clines':\n",
    "        # add temp color bar\n",
    "        norm = mpl.colors.Normalize(vmin=-1, vmax=1)\n",
    "        cb = fig.colorbar(mpl.cm.ScalarMappable(norm=norm, cmap='coolwarm'), \n",
    "                          aspect=3,\n",
    "                          ax=ax,\n",
    "                          fraction=0.08,\n",
    "                          anchor=(0, 1)\n",
    "                         )\n",
    "        cb.set_label(label='Temperature', size=12)\n",
    "\n",
    "        # add env legend\n",
    "        add_env2_legend(fig, title='Env2', loc='center left',\n",
    "                        bbox_to_anchor=(0.92, 0.30), size_mult=1.5)\n",
    "\n",
    "    ax.tick_params(\n",
    "        axis='both',\n",
    "        which='both',\n",
    "        bottom=False,\n",
    "        left=False,\n",
    "        labelbottom=False,\n",
    "        labelleft=False\n",
    "    )\n",
    "    \n",
    "    return fig"
   ]
  },
  {
   "cell_type": "code",
   "execution_count": 9,
   "id": "af109c5b",
   "metadata": {},
   "outputs": [
    {
     "name": "stdout",
     "output_type": "stream",
     "text": [
      "\u001b[38;2;255;215;0m\u001b[1m\n",
      "Reading in info for subsampled individuals ...\u001b[0m\u001b[0m\n"
     ]
    },
    {
     "data": {
      "text/html": [
       "<svg  width=\"550\" height=\"55\"><rect x=\"0\" y=\"0\" width=\"55\" height=\"55\" style=\"fill:#5673e0;stroke-width:2;stroke:rgb(255,255,255)\"/><rect x=\"55\" y=\"0\" width=\"55\" height=\"55\" style=\"fill:#7597f6;stroke-width:2;stroke:rgb(255,255,255)\"/><rect x=\"110\" y=\"0\" width=\"55\" height=\"55\" style=\"fill:#94b6ff;stroke-width:2;stroke:rgb(255,255,255)\"/><rect x=\"165\" y=\"0\" width=\"55\" height=\"55\" style=\"fill:#b5cdfa;stroke-width:2;stroke:rgb(255,255,255)\"/><rect x=\"220\" y=\"0\" width=\"55\" height=\"55\" style=\"fill:#d1dae9;stroke-width:2;stroke:rgb(255,255,255)\"/><rect x=\"275\" y=\"0\" width=\"55\" height=\"55\" style=\"fill:#e8d6cc;stroke-width:2;stroke:rgb(255,255,255)\"/><rect x=\"330\" y=\"0\" width=\"55\" height=\"55\" style=\"fill:#f5c1a9;stroke-width:2;stroke:rgb(255,255,255)\"/><rect x=\"385\" y=\"0\" width=\"55\" height=\"55\" style=\"fill:#f6a283;stroke-width:2;stroke:rgb(255,255,255)\"/><rect x=\"440\" y=\"0\" width=\"55\" height=\"55\" style=\"fill:#ea7b60;stroke-width:2;stroke:rgb(255,255,255)\"/><rect x=\"495\" y=\"0\" width=\"55\" height=\"55\" style=\"fill:#d44e41;stroke-width:2;stroke:rgb(255,255,255)\"/></svg>"
      ],
      "text/plain": [
       "[(0.3383765114431373, 0.45281860883137254, 0.8793170768784313),\n",
       " (0.4570464785254902, 0.5940055499294118, 0.963029229690196),\n",
       " (0.5814861481882353, 0.7134505955294117, 0.9983143529411764),\n",
       " (0.7087196897176471, 0.8057213889294117, 0.9811168090470588),\n",
       " (0.8180564934117647, 0.8555896775450981, 0.9146376165490196),\n",
       " (0.9094595977529412, 0.8393864797647058, 0.8003313524235294),\n",
       " (0.9616447383764706, 0.7580291825411765, 0.6617823791647058),\n",
       " (0.963806056435294, 0.6341884145294118, 0.5137208491529413),\n",
       " (0.9182816725843137, 0.48417347218039214, 0.37779392507058823),\n",
       " (0.8301865219490197, 0.30473276355294115, 0.25489142806666665)]"
      ]
     },
     "execution_count": 9,
     "metadata": {},
     "output_type": "execute_result"
    }
   ],
   "source": [
    "# get data needed for all landscapes\n",
    "subset, locations, envdata = mvp06.get_pop_data(mvp.slimdir, '1231104')\n",
    "\n",
    "# other info for figs\n",
    "sizes = [0, 1, 2, 3, 4]\n",
    "Env2 = sorted(uni(envdata['sal_opt']))  # values of Env2 for Mtn\n",
    "\n",
    "temp_sizes = [0, 0.5, 1, 1.5, 2, 2.5, 3, 3.5, 4, 4.5]\n",
    "temp = envdata.temp_opt.sort_values().unique().tolist()\n",
    "\n",
    "# create temp color map\n",
    "coolwarm = sns.color_palette(\"coolwarm\", n_colors=10)  # for pnas map colorbar\n",
    "\n",
    "pop_coolwarm = []  # plotting populations as in pnas\n",
    "for pop, temp_opt in envdata['temp_opt'].items():\n",
    "    pop_coolwarm.append(\n",
    "        coolwarm[temp.index(temp_opt)]\n",
    "    )\n",
    "    \n",
    "coolwarm"
   ]
  },
  {
   "cell_type": "markdown",
   "id": "9fc31700",
   "metadata": {},
   "source": [
    "# create figure"
   ]
  },
  {
   "cell_type": "code",
   "execution_count": 20,
   "id": "d4570013",
   "metadata": {},
   "outputs": [
    {
     "name": "stdout",
     "output_type": "stream",
     "text": [
      "seed = 1231099\n",
      "\u001b[38;2;255;215;0m\u001b[1m\n",
      "Reading in info for subsampled individuals ...\u001b[0m\u001b[0m\n",
      "seed = 1231104\n",
      "\u001b[38;2;255;215;0m\u001b[1m\n",
      "Reading in info for subsampled individuals ...\u001b[0m\u001b[0m\n",
      "seed = 1231094\n",
      "\u001b[38;2;255;215;0m\u001b[1m\n",
      "Reading in info for subsampled individuals ...\u001b[0m\u001b[0m\n",
      "\u001b[1mSaved to: \u001b[0m /work/lotterhos/brandon/runtime/figures/05_supplemental/08_lotterhos_env_figs/landscape_layout.pdf\n"
     ]
    },
    {
     "data": {
      "image/png": "[encoded data removed]",
      "text/plain": [
       "<Figure size 1008x252 with 4 Axes>"
      ]
     },
     "metadata": {
      "needs_background": "light"
     },
     "output_type": "display_data"
    }
   ],
   "source": [
    "fig, axes = plt.subplots(ncols=3, figsize=(14, 3.5))\n",
    "\n",
    "for ax, landscape in zip(axes.flat, mvp.hue_order['landscape']):\n",
    "\n",
    "    fig = plot_pnas(fig, ax, landscape)\n",
    "\n",
    "# draw gray lines for SS-Mtn and SS-Clines\n",
    "for ax in axes.flat[:2]:\n",
    "    for i in range(1, 11, 1):\n",
    "        x1 = (i, i)\n",
    "        y1 = (1, 10)\n",
    "        ax.plot(x1, y1, c='gray', zorder=0)\n",
    "        \n",
    "        x1 = (1, 10)\n",
    "        y1 = (i, i)\n",
    "        ax.plot(x1, y1, c='gray', zorder=0)\n",
    "        \n",
    "# draw gray lines for SS-Clines\n",
    "ax = axes[-1]\n",
    "ax.plot((10, 10), (1, 10), c='gray', zorder=0)\n",
    "for i in range(1, 11, 1):\n",
    "    ax.plot((1, 10), (i, i), c='gray', zorder=0, linewidth=5)\n",
    "\n",
    "plt.tight_layout()\n",
    "\n",
    "save_pdf(f'{fig_dir}/landscape_layout.pdf')"
   ]
  },
  {
   "cell_type": "code",
   "execution_count": null,
   "id": "0c1f5126",
   "metadata": {},
   "outputs": [],
   "source": []
  },
  {
   "cell_type": "code",
   "execution_count": 6,
   "id": "d27b1803",
   "metadata": {},
   "outputs": [
    {
     "data": {
      "text/plain": [
       "'0-00:00:12'"
      ]
     },
     "execution_count": 6,
     "metadata": {},
     "output_type": "execute_result"
    }
   ],
   "source": [
    "formatclock(dt.now() - t0)"
   ]
  },
  {
   "cell_type": "code",
   "execution_count": null,
   "id": "3a450a7a",
   "metadata": {},
   "outputs": [],
   "source": []
  },
  {
   "cell_type": "code",
   "execution_count": null,
   "id": "040913d1",
   "metadata": {},
   "outputs": [],
   "source": []
  },
  {
   "cell_type": "code",
   "execution_count": null,
   "id": "2d97554c",
   "metadata": {},
   "outputs": [],
   "source": []
  },
  {
   "cell_type": "code",
   "execution_count": null,
   "id": "eeaed6ea",
   "metadata": {},
   "outputs": [],
   "source": []
  },
  {
   "cell_type": "code",
   "execution_count": null,
   "id": "ea245d5d",
   "metadata": {},
   "outputs": [],
   "source": []
  },
  {
   "cell_type": "code",
   "execution_count": null,
   "id": "26f3c482",
   "metadata": {},
   "outputs": [],
   "source": []
  },
  {
   "cell_type": "code",
   "execution_count": null,
   "id": "4ab98724",
   "metadata": {},
   "outputs": [],
   "source": []
  },
  {
   "cell_type": "code",
   "execution_count": null,
   "id": "d527a6d7",
   "metadata": {},
   "outputs": [],
   "source": []
  },
  {
   "cell_type": "code",
   "execution_count": null,
   "id": "aa590004",
   "metadata": {},
   "outputs": [],
   "source": []
  },
  {
   "cell_type": "code",
   "execution_count": null,
   "id": "f0bff0f4",
   "metadata": {},
   "outputs": [],
   "source": []
  },
  {
   "cell_type": "code",
   "execution_count": null,
   "id": "e884d3ba",
   "metadata": {},
   "outputs": [],
   "source": []
  },
  {
   "cell_type": "code",
   "execution_count": 7,
   "id": "fe4a0737",
   "metadata": {},
   "outputs": [
    {
     "data": {
      "text/plain": [
       "'0-00:00:12'"
      ]
     },
     "execution_count": 7,
     "metadata": {},
     "output_type": "execute_result"
    }
   ],
   "source": [
    "formatclock(dt.now() - t0)"
   ]
  },
  {
   "cell_type": "code",
   "execution_count": null,
   "id": "5f03b33d",
   "metadata": {},
   "outputs": [],
   "source": []
  },
  {
   "cell_type": "code",
   "execution_count": null,
   "id": "58fd17e9",
   "metadata": {},
   "outputs": [],
   "source": []
  },
  {
   "cell_type": "code",
   "execution_count": null,
   "id": "60434c70",
   "metadata": {},
   "outputs": [],
   "source": []
  },
  {
   "cell_type": "code",
   "execution_count": null,
   "id": "aebef5a5",
   "metadata": {},
   "outputs": [],
   "source": []
  },
  {
   "cell_type": "code",
   "execution_count": null,
   "id": "4ed4705d",
   "metadata": {},
   "outputs": [],
   "source": []
  },
  {
   "cell_type": "code",
   "execution_count": null,
   "id": "a47b1a72",
   "metadata": {},
   "outputs": [],
   "source": []
  },
  {
   "cell_type": "code",
   "execution_count": null,
   "id": "cc1b0680",
   "metadata": {},
   "outputs": [],
   "source": []
  },
  {
   "cell_type": "code",
   "execution_count": null,
   "id": "d0a7ccc8",
   "metadata": {},
   "outputs": [],
   "source": []
  },
  {
   "cell_type": "code",
   "execution_count": null,
   "id": "f079b2a2",
   "metadata": {},
   "outputs": [],
   "source": []
  },
  {
   "cell_type": "code",
   "execution_count": null,
   "id": "19a29891",
   "metadata": {},
   "outputs": [],
   "source": []
  },
  {
   "cell_type": "code",
   "execution_count": null,
   "id": "e48e926b",
   "metadata": {},
   "outputs": [],
   "source": []
  },
  {
   "cell_type": "code",
   "execution_count": null,
   "id": "d65be99b",
   "metadata": {},
   "outputs": [],
   "source": []
  }
 ],
 "metadata": {
  "kernelspec": {
   "display_name": "Python 3 (ipykernel)",
   "language": "python",
   "name": "python3"
  },
  "language_info": {
   "codemirror_mode": {
    "name": "ipython",
    "version": 3
   },
   "file_extension": ".py",
   "mimetype": "text/x-python",
   "name": "python",
   "nbconvert_exporter": "python",
   "pygments_lexer": "ipython3",
   "version": "3.8.5"
  }
 },
 "nbformat": 4,
 "nbformat_minor": 5
}
