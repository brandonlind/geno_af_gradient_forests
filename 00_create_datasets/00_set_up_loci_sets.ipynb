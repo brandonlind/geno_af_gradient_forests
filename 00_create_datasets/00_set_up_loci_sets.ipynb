{
 "cells": [
  {
   "cell_type": "markdown",
   "id": "7d22829a",
   "metadata": {},
   "source": [
    "### purpose\n",
    "\n",
    "create random sets of SNP files for 3 reps from each of 225 simulation seeds\n",
    "\n",
    "### outline\n",
    "\n",
    "1. [get simulation seeds](#seeds)\n",
    "\n",
    "get a list of replicate IDs, to create subsets of the data (N = 500 loci, 5 000, 10 000, 20 000)\n",
    "\n",
    "1. [select random sets of loci from each seed](#random)\n",
    "\n",
    "randomly select N loci"
   ]
  },
  {
   "cell_type": "code",
   "execution_count": 1,
   "id": "341ca9e2",
   "metadata": {},
   "outputs": [
    {
     "name": "stdout",
     "output_type": "stream",
     "text": [
      "36 36\n",
      "#########################################################\n",
      "Today:\tJanuary 22, 2024 - 16:09:32 EST\n",
      "python version: 3.8.5\n",
      "conda env: mvp_env\n",
      "\n",
      "Current commit of \u001b[1mpythonimports\u001b[0m:\n",
      "\u001b[33mcommit 419895d157c97717f835390196c13cf973d25eba\u001b[m  \n",
      "Merge: e20434f 1e09b6c  \n",
      "Author: Brandon Lind <lind.brandon.m@gmail.com>\n",
      "\n",
      "Current commit of \u001b[94m\u001b[1mMVP_offsets\u001b[0m\u001b[0m:\n",
      "\u001b[33mcommit c5bc403582e5bafc1036be8cd2a4bb0b4d154623\u001b[m  \n",
      "Author: Brandon Lind <lind.brandon.m@gmail.com>  \n",
      "Date:   Mon Dec 18 14:38:19 2023 -0500\n",
      "#########################################################\n",
      "\n"
     ]
    },
    {
     "data": {
      "text/html": [
       "<details>\n",
       "<summary>Click to view session information</summary>\n",
       "<pre>\n",
       "-----\n",
       "MVP_summary_functions       NA\n",
       "balance_queue               NA\n",
       "cartopy                     0.20.2\n",
       "ipyparallel                 7.1.0\n",
       "matplotlib                  3.5.2\n",
       "myclasses                   NA\n",
       "myfigs                      NA\n",
       "mymaps                      NA\n",
       "myslurm                     NA\n",
       "numpy                       1.22.1\n",
       "pandas                      1.3.5\n",
       "pythonimports               NA\n",
       "session_info                1.0.0\n",
       "tqdm                        4.62.1\n",
       "-----\n",
       "</pre>\n",
       "<details>\n",
       "<summary>Click to view modules imported as dependencies</summary>\n",
       "<pre>\n",
       "MVP_01_train_gradient_forests       NA\n",
       "MVP_10_train_lfmm2_offset           NA\n",
       "PIL                                 8.4.0\n",
       "attr                                21.4.0\n",
       "backcall                            0.2.0\n",
       "beta_ufunc                          NA\n",
       "binom_ufunc                         NA\n",
       "bottleneck                          1.3.2\n",
       "certifi                             2023.05.07\n",
       "cffi                                1.15.0\n",
       "cycler                              0.10.0\n",
       "cython_runtime                      NA\n",
       "dateutil                            2.8.2\n",
       "debugpy                             1.5.1\n",
       "decorator                           5.1.1\n",
       "defusedxml                          0.7.1\n",
       "entrypoints                         0.4\n",
       "fiona                               1.9.5\n",
       "fontTools                           4.29.1\n",
       "ipykernel                           6.8.0\n",
       "ipython_genutils                    0.2.0\n",
       "ipywidgets                          7.6.5\n",
       "jedi                                0.18.1\n",
       "kiwisolver                          1.3.2\n",
       "matplotlib_venn                     0.11.6\n",
       "mpl_toolkits                        NA\n",
       "nbinom_ufunc                        NA\n",
       "numexpr                             2.8.1\n",
       "packaging                           21.3\n",
       "parso                               0.8.3\n",
       "patsy                               0.5.2\n",
       "pdf2image                           NA\n",
       "pexpect                             4.8.0\n",
       "pickleshare                         0.7.5\n",
       "pkg_resources                       NA\n",
       "prompt_toolkit                      3.0.26\n",
       "psutil                              5.9.0\n",
       "ptyprocess                          0.7.0\n",
       "pydev_ipython                       NA\n",
       "pydevconsole                        NA\n",
       "pydevd                              2.6.0\n",
       "pydevd_concurrency_analyser         NA\n",
       "pydevd_file_utils                   NA\n",
       "pydevd_plugins                      NA\n",
       "pydevd_tracing                      NA\n",
       "pygments                            2.11.2\n",
       "pyparsing                           3.0.7\n",
       "pyproj                              3.3.0\n",
       "pytz                                2021.3\n",
       "scipy                               1.7.3\n",
       "seaborn                             0.11.2\n",
       "setuptools                          60.7.1\n",
       "shapefile                           2.2.0\n",
       "shapely                             1.8.0\n",
       "six                                 1.16.0\n",
       "statsmodels                         0.14.0\n",
       "storemagic                          NA\n",
       "tornado                             6.1\n",
       "traitlets                           5.1.1\n",
       "wcwidth                             0.2.5\n",
       "zmq                                 22.3.0\n",
       "</pre>\n",
       "</details> <!-- seems like this ends pre, so might as well be explicit -->\n",
       "<pre>\n",
       "-----\n",
       "IPython             7.31.1\n",
       "jupyter_client      7.1.2\n",
       "jupyter_core        4.9.1\n",
       "notebook            6.4.8\n",
       "-----\n",
       "Python 3.8.5 (default, Sep  4 2020, 07:30:14) [GCC 7.3.0]\n",
       "Linux-3.10.0-1160.25.1.el7.x86_64-x86_64-with-glibc2.10\n",
       "-----\n",
       "Session information updated at 2024-01-22 16:09\n",
       "</pre>\n",
       "</details>"
      ],
      "text/plain": [
       "<IPython.core.display.HTML object>"
      ]
     },
     "execution_count": 1,
     "metadata": {},
     "output_type": "execute_result"
    }
   ],
   "source": [
    "from pythonimports import *\n",
    "\n",
    "import MVP_summary_functions as mvp\n",
    "\n",
    "t0 = dt.now()  # notebook timer\n",
    "\n",
    "lview, dview = get_client(cluster_id='1705931649-lrg1', profile='lotterhos')\n",
    "\n",
    "mvp.latest_commit()\n",
    "session_info.show()"
   ]
  },
  {
   "cell_type": "markdown",
   "id": "3f17b76f",
   "metadata": {},
   "source": [
    "<a id ='seeds'></a>\n",
    "# get seeds\n",
    "\n",
    "get a list of SNP files representing 3 reps of each simulation level (225 simulation levels total)\n",
    "\n",
    "[top](#home)"
   ]
  },
  {
   "cell_type": "code",
   "execution_count": 2,
   "id": "82835889",
   "metadata": {},
   "outputs": [],
   "source": [
    "src_dirs = [\n",
    "    '/work/lotterhos/MVP-Offsets/run_20220919_0-225/gradient_forests/training/training_files',\n",
    "    '/work/lotterhos/MVP-Offsets/run_20220919_225-450/gradient_forests/training/training_files',\n",
    "    '/work/lotterhos/MVP-Offsets/run_20220919_450-675/gradient_forests/training/training_files'\n",
    "]"
   ]
  },
  {
   "cell_type": "code",
   "execution_count": 3,
   "id": "8b51b32c",
   "metadata": {},
   "outputs": [
    {
     "name": "stdout",
     "output_type": "stream",
     "text": [
      "run_20220919_0-225 225\n",
      "run_20220919_225-450 225\n",
      "run_20220919_450-675 225\n"
     ]
    }
   ],
   "source": [
    "src_files = defaultdict(list)\n",
    "for d in src_dirs:\n",
    "    rep = op.basename(d.split('/gradient_fore')[0])\n",
    "    src_files[rep] = fs(d, endswith='ind_all.txt')\n",
    "    print(rep, len(src_files[rep]))"
   ]
  },
  {
   "cell_type": "markdown",
   "id": "608e3edb",
   "metadata": {},
   "source": [
    "<a id='random'></a>\n",
    "# select random sets of loci from each seed\n",
    "\n",
    "[top](#home)"
   ]
  },
  {
   "cell_type": "code",
   "execution_count": 4,
   "id": "3493ee03",
   "metadata": {},
   "outputs": [],
   "source": [
    "# create directories\n",
    "\n",
    "outerdir = makedir('/work/lotterhos/brandon/ind_runtimes')"
   ]
  },
  {
   "cell_type": "code",
   "execution_count": 5,
   "id": "c01c553b",
   "metadata": {},
   "outputs": [],
   "source": [
    "def subset_SNPs(rep, f):\n",
    "    \"\"\"From a file containing all loci, subset loci and create new file.\n",
    "    \n",
    "    Parameters\n",
    "    ----------\n",
    "    rep : str\n",
    "        - the name for the set of replicates - eg run_20220919_0-225 or run_20220919_225-450\n",
    "    f : file path\n",
    "        - path to the GF-ready input file for MVP_gf_training_script.R containing all loci\n",
    "        \n",
    "    Returns\n",
    "    -------\n",
    "    rep : str\n",
    "        same as input argument\n",
    "    dsts : collections.defaultdict(list)\n",
    "        key = set_num (number of random loci), value = list (of length 1) of file paths to new SNP file\n",
    "    \"\"\"\n",
    "    from pythonimports import makedir\n",
    "    from collections import defaultdict\n",
    "    from os import path as op\n",
    "    import pandas as pd\n",
    "    import random\n",
    "    \n",
    "    df = pd.read_table(f, index_col='index')\n",
    "    \n",
    "    loci = df.columns.tolist()\n",
    "    \n",
    "    set_nums = ['00500', '05000', '10000', '20000']\n",
    "    \n",
    "    dsts = defaultdict(list)\n",
    "    for set_num in set_nums:\n",
    "        random.shuffle(loci)\n",
    "        \n",
    "        loci_df = df[\n",
    "            loci[:int(set_num)]\n",
    "        ].copy()\n",
    "        \n",
    "        loci_df['index'] = loci_df.index.tolist()\n",
    "        \n",
    "        dst_dir = makedir(\n",
    "            f'/work/lotterhos/brandon/ind_runtimes/{rep}/{set_num}/gradient_forests/training/training_files'\n",
    "        )\n",
    "        \n",
    "        basename = op.basename(f)\n",
    "        dst = f'{dst_dir}/{basename}'\n",
    "        \n",
    "        loci_df.to_csv(dst, index=False, header=True, sep='\\t')\n",
    "        \n",
    "        dsts[set_num].append(dst)\n",
    "        \n",
    "    return rep, dsts"
   ]
  },
  {
   "cell_type": "code",
   "execution_count": 6,
   "id": "717212c7",
   "metadata": {
    "scrolled": true
   },
   "outputs": [
    {
     "name": "stdout",
     "output_type": "stream",
     "text": [
      "\u001b[1m\n",
      "Watching 675 jobs ...\u001b[0m\n"
     ]
    },
    {
     "name": "stderr",
     "output_type": "stream",
     "text": [
      "100%|███████████████| 675/675 [07:30<00:00,  1.50it/s]\n"
     ]
    }
   ],
   "source": [
    "jobs = []\n",
    "for rep, files in src_files.items():\n",
    "    for i, f in enumerate(files):\n",
    "        jobs.append(\n",
    "            lview.apply_async(\n",
    "                subset_SNPs, *(rep, f)\n",
    "            )\n",
    "        )\n",
    "        \n",
    "watch_async(jobs)"
   ]
  },
  {
   "cell_type": "code",
   "execution_count": 7,
   "id": "fd246f0a",
   "metadata": {},
   "outputs": [
    {
     "name": "stderr",
     "output_type": "stream",
     "text": [
      "100%|███████████████| 675/675 [00:00<00:00, 46855.59it/s]\n"
     ]
    }
   ],
   "source": [
    "dsts = wrap_defaultdict(list, 2)\n",
    "for j in pbar(jobs):\n",
    "    rep, dst_files = j.r\n",
    "    for set_num, files in dst_files.items():\n",
    "        dsts[rep][set_num].extend(files)"
   ]
  },
  {
   "cell_type": "code",
   "execution_count": 8,
   "id": "859a32e6",
   "metadata": {},
   "outputs": [
    {
     "name": "stdout",
     "output_type": "stream",
     "text": [
      "run_20220919_0-225 00500 225\n",
      "run_20220919_0-225 05000 225\n",
      "run_20220919_0-225 10000 225\n",
      "run_20220919_0-225 20000 225\n",
      "run_20220919_225-450 00500 225\n",
      "run_20220919_225-450 05000 225\n",
      "run_20220919_225-450 10000 225\n",
      "run_20220919_225-450 20000 225\n",
      "run_20220919_450-675 00500 225\n",
      "run_20220919_450-675 05000 225\n",
      "run_20220919_450-675 10000 225\n",
      "run_20220919_450-675 20000 225\n"
     ]
    }
   ],
   "source": [
    "for rep in dsts:\n",
    "    for set_num in dsts[rep]:\n",
    "        print(rep, set_num, len(dsts[rep][set_num]))"
   ]
  },
  {
   "cell_type": "code",
   "execution_count": null,
   "id": "7a791028",
   "metadata": {},
   "outputs": [],
   "source": []
  },
  {
   "cell_type": "code",
   "execution_count": 9,
   "id": "11c63da3",
   "metadata": {},
   "outputs": [
    {
     "data": {
      "text/plain": [
       "'0-00:07:32'"
      ]
     },
     "execution_count": 9,
     "metadata": {},
     "output_type": "execute_result"
    }
   ],
   "source": [
    "formatclock(dt.now() - t0)"
   ]
  },
  {
   "cell_type": "code",
   "execution_count": null,
   "id": "88f968b5",
   "metadata": {},
   "outputs": [],
   "source": []
  },
  {
   "cell_type": "code",
   "execution_count": 10,
   "id": "c3f7a56a",
   "metadata": {},
   "outputs": [
    {
     "name": "stderr",
     "output_type": "stream",
     "text": [
      "100%|███████████████| 225/225 [00:00<00:00, 1160.21it/s]\n",
      "100%|███████████████| 225/225 [00:00<00:00, 1046.78it/s]\n",
      "100%|███████████████| 225/225 [00:00<00:00, 955.15it/s] \n",
      "100%|███████████████| 225/225 [00:00<00:00, 789.08it/s]\n",
      "100%|███████████████| 225/225 [00:00<00:00, 887.07it/s]\n",
      "100%|███████████████| 225/225 [00:00<00:00, 906.58it/s]\n",
      "100%|███████████████| 225/225 [00:00<00:00, 865.13it/s]\n",
      "100%|███████████████| 225/225 [00:00<00:00, 1075.84it/s]\n",
      "100%|███████████████| 225/225 [00:00<00:00, 1416.64it/s]\n",
      "100%|███████████████| 225/225 [00:00<00:00, 1282.78it/s]\n",
      "100%|███████████████| 225/225 [00:00<00:00, 1533.16it/s]\n",
      "100%|███████████████| 225/225 [00:00<00:00, 1307.89it/s]\n"
     ]
    },
    {
     "data": {
      "text/plain": [
       "'/work/lotterhos/brandon/ind_runtimes/run_20220919_450-675/20000/gradient_forests/training/training_files/1231768_Rout_Gmat_sample_maf-gt-p01_GFready_ind_all.txt'"
      ]
     },
     "execution_count": 10,
     "metadata": {},
     "output_type": "execute_result"
    }
   ],
   "source": [
    "for (rep, set_num), files in unwrap_dictionary(dsts):\n",
    "    for f in pbar(files):\n",
    "        assert op.exists(f)\n",
    "    \n",
    "f"
   ]
  },
  {
   "cell_type": "code",
   "execution_count": null,
   "id": "e52abb49",
   "metadata": {},
   "outputs": [],
   "source": []
  }
 ],
 "metadata": {
  "kernelspec": {
   "display_name": "Python 3 (ipykernel)",
   "language": "python",
   "name": "python3"
  },
  "language_info": {
   "codemirror_mode": {
    "name": "ipython",
    "version": 3
   },
   "file_extension": ".py",
   "mimetype": "text/x-python",
   "name": "python",
   "nbconvert_exporter": "python",
   "pygments_lexer": "ipython3",
   "version": "3.8.5"
  }
 },
 "nbformat": 4,
 "nbformat_minor": 5
}
